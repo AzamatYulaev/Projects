{
 "cells": [
  {
   "cell_type": "markdown",
   "id": "7494d338",
   "metadata": {
    "toc": true
   },
   "source": [
    "<h1>Содержание<span class=\"tocSkip\"></span></h1>\n",
    "<div class=\"toc\"><ul class=\"toc-item\"><li><span><a href=\"#Цель-работы\" data-toc-modified-id=\"Цель-работы-1\">Цель работы</a></span></li><li><span><a href=\"#Исследование-таблиц.\" data-toc-modified-id=\"Исследование-таблиц.-2\">Исследование таблиц.</a></span><ul class=\"toc-item\"><li><span><a href=\"#books\" data-toc-modified-id=\"books-2.1\">books</a></span></li><li><span><a href=\"#authors\" data-toc-modified-id=\"authors-2.2\">authors</a></span></li><li><span><a href=\"#publishers\" data-toc-modified-id=\"publishers-2.3\">publishers</a></span></li><li><span><a href=\"#ratings\" data-toc-modified-id=\"ratings-2.4\">ratings</a></span></li><li><span><a href=\"#reviews\" data-toc-modified-id=\"reviews-2.5\">reviews</a></span></li></ul></li><li><span><a href=\"#Задания\" data-toc-modified-id=\"Задания-3\">Задания</a></span><ul class=\"toc-item\"><li><span><a href=\"#Посчитайте,-сколько-книг-вышло-после-1-января-2000-года.\" data-toc-modified-id=\"Посчитайте,-сколько-книг-вышло-после-1-января-2000-года.-3.1\">Посчитайте, сколько книг вышло после 1 января 2000 года.</a></span></li><li><span><a href=\"#Для-каждой-книги-посчитайте-количество-обзоров-и-среднюю-оценку.\" data-toc-modified-id=\"Для-каждой-книги-посчитайте-количество-обзоров-и-среднюю-оценку.-3.2\">Для каждой книги посчитайте количество обзоров и среднюю оценку.</a></span></li><li><span><a href=\"#Определите-издательство,-которое-выпустило-наибольшее-число-книг-толще-50-страниц-—-так-вы-исключите-из-анализа-брошюры.\" data-toc-modified-id=\"Определите-издательство,-которое-выпустило-наибольшее-число-книг-толще-50-страниц-—-так-вы-исключите-из-анализа-брошюры.-3.3\">Определите издательство, которое выпустило наибольшее число книг толще 50 страниц — так вы исключите из анализа брошюры.</a></span></li><li><span><a href=\"#Определите-автора-с-самой-высокой-средней-оценкой-книг-—-учитывайте-только-книги-с-50-и-более-оценками.\" data-toc-modified-id=\"Определите-автора-с-самой-высокой-средней-оценкой-книг-—-учитывайте-только-книги-с-50-и-более-оценками.-3.4\">Определите автора с самой высокой средней оценкой книг — учитывайте только книги с 50 и более оценками.</a></span></li><li><span><a href=\"#Посчитайте-среднее-количество-обзоров-от-пользователей,-которые-поставили-больше-50-оценок.\" data-toc-modified-id=\"Посчитайте-среднее-количество-обзоров-от-пользователей,-которые-поставили-больше-50-оценок.-3.5\">Посчитайте среднее количество обзоров от пользователей, которые поставили больше 50 оценок.</a></span></li></ul></li></ul></div>"
   ]
  },
  {
   "cell_type": "markdown",
   "id": "01a442ef",
   "metadata": {},
   "source": [
    "# Цель работы"
   ]
  },
  {
   "cell_type": "markdown",
   "id": "2b40a6dd",
   "metadata": {},
   "source": [
    "Составить запросы SQL для данных, следуя заданиям."
   ]
  },
  {
   "cell_type": "markdown",
   "id": "3879a1a6",
   "metadata": {},
   "source": [
    "# Исследование таблиц."
   ]
  },
  {
   "cell_type": "code",
   "execution_count": 1,
   "id": "939d849d",
   "metadata": {},
   "outputs": [],
   "source": [
    "# импортируем библиотеки\n",
    "import pandas as pd \n",
    "from sqlalchemy import create_engine \n",
    "# устанавливаем параметры\n",
    "db_config = {'user': 'xxx', # имя пользователя\n",
    "'pwd': 'xxx', # пароль\n",
    "'host': 'xxx.net', \n",
    "'port': xxx, # порт подключения\n",
    "'db': 'xxx'} # название базы данных\n",
    "\n",
    "# Формируем строку соединения с БД.\n",
    "connection_string = 'postgresql://{}:{}@{}:{}/{}'.format(db_config['user'], \n",
    " db_config['pwd'], \n",
    " db_config['host'], \n",
    " db_config['port'], \n",
    " db_config['db']) \n",
    "# сохраняем коннектор\n",
    "engine = create_engine(connection_string, connect_args={'sslmode':'require'})"
   ]
  },
  {
   "cell_type": "markdown",
   "id": "b8ac1a9a",
   "metadata": {},
   "source": [
    "## books"
   ]
  },
  {
   "cell_type": "code",
   "execution_count": 2,
   "id": "23ab33ab",
   "metadata": {},
   "outputs": [
    {
     "data": {
      "text/html": [
       "<div>\n",
       "<style scoped>\n",
       "    .dataframe tbody tr th:only-of-type {\n",
       "        vertical-align: middle;\n",
       "    }\n",
       "\n",
       "    .dataframe tbody tr th {\n",
       "        vertical-align: top;\n",
       "    }\n",
       "\n",
       "    .dataframe thead th {\n",
       "        text-align: right;\n",
       "    }\n",
       "</style>\n",
       "<table border=\"1\" class=\"dataframe\">\n",
       "  <thead>\n",
       "    <tr style=\"text-align: right;\">\n",
       "      <th></th>\n",
       "      <th>book_id</th>\n",
       "      <th>author_id</th>\n",
       "      <th>title</th>\n",
       "      <th>num_pages</th>\n",
       "      <th>publication_date</th>\n",
       "      <th>publisher_id</th>\n",
       "    </tr>\n",
       "  </thead>\n",
       "  <tbody>\n",
       "    <tr>\n",
       "      <th>0</th>\n",
       "      <td>1</td>\n",
       "      <td>546</td>\n",
       "      <td>'Salem's Lot</td>\n",
       "      <td>594</td>\n",
       "      <td>2005-11-01</td>\n",
       "      <td>93</td>\n",
       "    </tr>\n",
       "    <tr>\n",
       "      <th>1</th>\n",
       "      <td>2</td>\n",
       "      <td>465</td>\n",
       "      <td>1 000 Places to See Before You Die</td>\n",
       "      <td>992</td>\n",
       "      <td>2003-05-22</td>\n",
       "      <td>336</td>\n",
       "    </tr>\n",
       "    <tr>\n",
       "      <th>2</th>\n",
       "      <td>3</td>\n",
       "      <td>407</td>\n",
       "      <td>13 Little Blue Envelopes (Little Blue Envelope...</td>\n",
       "      <td>322</td>\n",
       "      <td>2010-12-21</td>\n",
       "      <td>135</td>\n",
       "    </tr>\n",
       "    <tr>\n",
       "      <th>3</th>\n",
       "      <td>4</td>\n",
       "      <td>82</td>\n",
       "      <td>1491: New Revelations of the Americas Before C...</td>\n",
       "      <td>541</td>\n",
       "      <td>2006-10-10</td>\n",
       "      <td>309</td>\n",
       "    </tr>\n",
       "    <tr>\n",
       "      <th>4</th>\n",
       "      <td>5</td>\n",
       "      <td>125</td>\n",
       "      <td>1776</td>\n",
       "      <td>386</td>\n",
       "      <td>2006-07-04</td>\n",
       "      <td>268</td>\n",
       "    </tr>\n",
       "  </tbody>\n",
       "</table>\n",
       "</div>"
      ],
      "text/plain": [
       "   book_id  author_id                                              title  \\\n",
       "0        1        546                                       'Salem's Lot   \n",
       "1        2        465                 1 000 Places to See Before You Die   \n",
       "2        3        407  13 Little Blue Envelopes (Little Blue Envelope...   \n",
       "3        4         82  1491: New Revelations of the Americas Before C...   \n",
       "4        5        125                                               1776   \n",
       "\n",
       "   num_pages publication_date  publisher_id  \n",
       "0        594       2005-11-01            93  \n",
       "1        992       2003-05-22           336  \n",
       "2        322       2010-12-21           135  \n",
       "3        541       2006-10-10           309  \n",
       "4        386       2006-07-04           268  "
      ]
     },
     "execution_count": 2,
     "metadata": {},
     "output_type": "execute_result"
    }
   ],
   "source": [
    "# Формируем sql-запрос.\n",
    "query = ''' SELECT *\n",
    "            FROM books\n",
    "            LIMIT 5;\n",
    "        '''\n",
    "pd.io.sql.read_sql(query, con = engine)"
   ]
  },
  {
   "cell_type": "markdown",
   "id": "44527d0a",
   "metadata": {},
   "source": [
    "**Таблица `books`**\n",
    "\n",
    "Содержит данные о книгах:\n",
    "\n",
    "- `book_id` — идентификатор книги;\n",
    "- `author_id` — идентификатор автора;\n",
    "- `title` — название книги;\n",
    "- `num_pages` — количество страниц;\n",
    "- `publication_date` — дата публикации книги;\n",
    "- `publisher_id` — идентификатор издателя."
   ]
  },
  {
   "cell_type": "markdown",
   "id": "74f94b7f",
   "metadata": {},
   "source": [
    "## authors"
   ]
  },
  {
   "cell_type": "code",
   "execution_count": 3,
   "id": "194b589b",
   "metadata": {},
   "outputs": [
    {
     "data": {
      "text/html": [
       "<div>\n",
       "<style scoped>\n",
       "    .dataframe tbody tr th:only-of-type {\n",
       "        vertical-align: middle;\n",
       "    }\n",
       "\n",
       "    .dataframe tbody tr th {\n",
       "        vertical-align: top;\n",
       "    }\n",
       "\n",
       "    .dataframe thead th {\n",
       "        text-align: right;\n",
       "    }\n",
       "</style>\n",
       "<table border=\"1\" class=\"dataframe\">\n",
       "  <thead>\n",
       "    <tr style=\"text-align: right;\">\n",
       "      <th></th>\n",
       "      <th>author_id</th>\n",
       "      <th>author</th>\n",
       "    </tr>\n",
       "  </thead>\n",
       "  <tbody>\n",
       "    <tr>\n",
       "      <th>0</th>\n",
       "      <td>1</td>\n",
       "      <td>A.S. Byatt</td>\n",
       "    </tr>\n",
       "    <tr>\n",
       "      <th>1</th>\n",
       "      <td>2</td>\n",
       "      <td>Aesop/Laura Harris/Laura Gibbs</td>\n",
       "    </tr>\n",
       "    <tr>\n",
       "      <th>2</th>\n",
       "      <td>3</td>\n",
       "      <td>Agatha Christie</td>\n",
       "    </tr>\n",
       "    <tr>\n",
       "      <th>3</th>\n",
       "      <td>4</td>\n",
       "      <td>Alan Brennert</td>\n",
       "    </tr>\n",
       "    <tr>\n",
       "      <th>4</th>\n",
       "      <td>5</td>\n",
       "      <td>Alan Moore/David   Lloyd</td>\n",
       "    </tr>\n",
       "  </tbody>\n",
       "</table>\n",
       "</div>"
      ],
      "text/plain": [
       "   author_id                          author\n",
       "0          1                      A.S. Byatt\n",
       "1          2  Aesop/Laura Harris/Laura Gibbs\n",
       "2          3                 Agatha Christie\n",
       "3          4                   Alan Brennert\n",
       "4          5        Alan Moore/David   Lloyd"
      ]
     },
     "execution_count": 3,
     "metadata": {},
     "output_type": "execute_result"
    }
   ],
   "source": [
    "query = ''' SELECT *\n",
    "            FROM authors\n",
    "            LIMIT 5;\n",
    "        '''\n",
    "pd.io.sql.read_sql(query, con = engine)"
   ]
  },
  {
   "cell_type": "markdown",
   "id": "caf9909d",
   "metadata": {},
   "source": [
    "**Таблица `authors`**\n",
    "\n",
    "Содержит данные об авторах:\n",
    "\n",
    "- `author_id` — идентификатор автора;\n",
    "- `author` — имя автора."
   ]
  },
  {
   "cell_type": "markdown",
   "id": "d8668b5b",
   "metadata": {},
   "source": [
    "## publishers"
   ]
  },
  {
   "cell_type": "code",
   "execution_count": 4,
   "id": "3ff9726f",
   "metadata": {},
   "outputs": [
    {
     "data": {
      "text/html": [
       "<div>\n",
       "<style scoped>\n",
       "    .dataframe tbody tr th:only-of-type {\n",
       "        vertical-align: middle;\n",
       "    }\n",
       "\n",
       "    .dataframe tbody tr th {\n",
       "        vertical-align: top;\n",
       "    }\n",
       "\n",
       "    .dataframe thead th {\n",
       "        text-align: right;\n",
       "    }\n",
       "</style>\n",
       "<table border=\"1\" class=\"dataframe\">\n",
       "  <thead>\n",
       "    <tr style=\"text-align: right;\">\n",
       "      <th></th>\n",
       "      <th>publisher_id</th>\n",
       "      <th>publisher</th>\n",
       "    </tr>\n",
       "  </thead>\n",
       "  <tbody>\n",
       "    <tr>\n",
       "      <th>0</th>\n",
       "      <td>1</td>\n",
       "      <td>Ace</td>\n",
       "    </tr>\n",
       "    <tr>\n",
       "      <th>1</th>\n",
       "      <td>2</td>\n",
       "      <td>Ace Book</td>\n",
       "    </tr>\n",
       "    <tr>\n",
       "      <th>2</th>\n",
       "      <td>3</td>\n",
       "      <td>Ace Books</td>\n",
       "    </tr>\n",
       "    <tr>\n",
       "      <th>3</th>\n",
       "      <td>4</td>\n",
       "      <td>Ace Hardcover</td>\n",
       "    </tr>\n",
       "    <tr>\n",
       "      <th>4</th>\n",
       "      <td>5</td>\n",
       "      <td>Addison Wesley Publishing Company</td>\n",
       "    </tr>\n",
       "  </tbody>\n",
       "</table>\n",
       "</div>"
      ],
      "text/plain": [
       "   publisher_id                          publisher\n",
       "0             1                                Ace\n",
       "1             2                           Ace Book\n",
       "2             3                          Ace Books\n",
       "3             4                      Ace Hardcover\n",
       "4             5  Addison Wesley Publishing Company"
      ]
     },
     "execution_count": 4,
     "metadata": {},
     "output_type": "execute_result"
    }
   ],
   "source": [
    "query = ''' SELECT *\n",
    "            FROM publishers\n",
    "            LIMIT 5;\n",
    "        '''\n",
    "pd.io.sql.read_sql(query, con = engine)"
   ]
  },
  {
   "cell_type": "markdown",
   "id": "4f4e4b4e",
   "metadata": {},
   "source": [
    "**Таблица `publishers`**\n",
    "\n",
    "Содержит данные об издательствах:\n",
    "\n",
    "- `publisher_id` — идентификатор издательства;\n",
    "- `publisher` — название издательства;"
   ]
  },
  {
   "cell_type": "markdown",
   "id": "627af743",
   "metadata": {},
   "source": [
    "## ratings"
   ]
  },
  {
   "cell_type": "code",
   "execution_count": 5,
   "id": "7ed0c92a",
   "metadata": {},
   "outputs": [
    {
     "data": {
      "text/html": [
       "<div>\n",
       "<style scoped>\n",
       "    .dataframe tbody tr th:only-of-type {\n",
       "        vertical-align: middle;\n",
       "    }\n",
       "\n",
       "    .dataframe tbody tr th {\n",
       "        vertical-align: top;\n",
       "    }\n",
       "\n",
       "    .dataframe thead th {\n",
       "        text-align: right;\n",
       "    }\n",
       "</style>\n",
       "<table border=\"1\" class=\"dataframe\">\n",
       "  <thead>\n",
       "    <tr style=\"text-align: right;\">\n",
       "      <th></th>\n",
       "      <th>rating_id</th>\n",
       "      <th>book_id</th>\n",
       "      <th>username</th>\n",
       "      <th>rating</th>\n",
       "    </tr>\n",
       "  </thead>\n",
       "  <tbody>\n",
       "    <tr>\n",
       "      <th>0</th>\n",
       "      <td>1</td>\n",
       "      <td>1</td>\n",
       "      <td>ryanfranco</td>\n",
       "      <td>4</td>\n",
       "    </tr>\n",
       "    <tr>\n",
       "      <th>1</th>\n",
       "      <td>2</td>\n",
       "      <td>1</td>\n",
       "      <td>grantpatricia</td>\n",
       "      <td>2</td>\n",
       "    </tr>\n",
       "    <tr>\n",
       "      <th>2</th>\n",
       "      <td>3</td>\n",
       "      <td>1</td>\n",
       "      <td>brandtandrea</td>\n",
       "      <td>5</td>\n",
       "    </tr>\n",
       "    <tr>\n",
       "      <th>3</th>\n",
       "      <td>4</td>\n",
       "      <td>2</td>\n",
       "      <td>lorichen</td>\n",
       "      <td>3</td>\n",
       "    </tr>\n",
       "    <tr>\n",
       "      <th>4</th>\n",
       "      <td>5</td>\n",
       "      <td>2</td>\n",
       "      <td>mariokeller</td>\n",
       "      <td>2</td>\n",
       "    </tr>\n",
       "  </tbody>\n",
       "</table>\n",
       "</div>"
      ],
      "text/plain": [
       "   rating_id  book_id       username  rating\n",
       "0          1        1     ryanfranco       4\n",
       "1          2        1  grantpatricia       2\n",
       "2          3        1   brandtandrea       5\n",
       "3          4        2       lorichen       3\n",
       "4          5        2    mariokeller       2"
      ]
     },
     "execution_count": 5,
     "metadata": {},
     "output_type": "execute_result"
    }
   ],
   "source": [
    "query = ''' SELECT *\n",
    "            FROM ratings\n",
    "            LIMIT 5;\n",
    "        '''\n",
    "pd.io.sql.read_sql(query, con = engine)"
   ]
  },
  {
   "cell_type": "markdown",
   "id": "508a5fea",
   "metadata": {},
   "source": [
    "**Таблица `ratings`**\n",
    "\n",
    "Содержит данные о пользовательских оценках книг:\n",
    "\n",
    "- `rating_id` — идентификатор оценки;\n",
    "- `book_id` — идентификатор книги;\n",
    "- `username` — имя пользователя, оставившего оценку;\n",
    "- `rating` — оценка книги."
   ]
  },
  {
   "cell_type": "markdown",
   "id": "46a5a118",
   "metadata": {},
   "source": [
    "## reviews"
   ]
  },
  {
   "cell_type": "code",
   "execution_count": 6,
   "id": "87af266a",
   "metadata": {},
   "outputs": [
    {
     "data": {
      "text/html": [
       "<div>\n",
       "<style scoped>\n",
       "    .dataframe tbody tr th:only-of-type {\n",
       "        vertical-align: middle;\n",
       "    }\n",
       "\n",
       "    .dataframe tbody tr th {\n",
       "        vertical-align: top;\n",
       "    }\n",
       "\n",
       "    .dataframe thead th {\n",
       "        text-align: right;\n",
       "    }\n",
       "</style>\n",
       "<table border=\"1\" class=\"dataframe\">\n",
       "  <thead>\n",
       "    <tr style=\"text-align: right;\">\n",
       "      <th></th>\n",
       "      <th>review_id</th>\n",
       "      <th>book_id</th>\n",
       "      <th>username</th>\n",
       "      <th>text</th>\n",
       "    </tr>\n",
       "  </thead>\n",
       "  <tbody>\n",
       "    <tr>\n",
       "      <th>0</th>\n",
       "      <td>1</td>\n",
       "      <td>1</td>\n",
       "      <td>brandtandrea</td>\n",
       "      <td>Mention society tell send professor analysis. ...</td>\n",
       "    </tr>\n",
       "    <tr>\n",
       "      <th>1</th>\n",
       "      <td>2</td>\n",
       "      <td>1</td>\n",
       "      <td>ryanfranco</td>\n",
       "      <td>Foot glass pretty audience hit themselves. Amo...</td>\n",
       "    </tr>\n",
       "    <tr>\n",
       "      <th>2</th>\n",
       "      <td>3</td>\n",
       "      <td>2</td>\n",
       "      <td>lorichen</td>\n",
       "      <td>Listen treat keep worry. Miss husband tax but ...</td>\n",
       "    </tr>\n",
       "    <tr>\n",
       "      <th>3</th>\n",
       "      <td>4</td>\n",
       "      <td>3</td>\n",
       "      <td>johnsonamanda</td>\n",
       "      <td>Finally month interesting blue could nature cu...</td>\n",
       "    </tr>\n",
       "    <tr>\n",
       "      <th>4</th>\n",
       "      <td>5</td>\n",
       "      <td>3</td>\n",
       "      <td>scotttamara</td>\n",
       "      <td>Nation purpose heavy give wait song will. List...</td>\n",
       "    </tr>\n",
       "  </tbody>\n",
       "</table>\n",
       "</div>"
      ],
      "text/plain": [
       "   review_id  book_id       username  \\\n",
       "0          1        1   brandtandrea   \n",
       "1          2        1     ryanfranco   \n",
       "2          3        2       lorichen   \n",
       "3          4        3  johnsonamanda   \n",
       "4          5        3    scotttamara   \n",
       "\n",
       "                                                text  \n",
       "0  Mention society tell send professor analysis. ...  \n",
       "1  Foot glass pretty audience hit themselves. Amo...  \n",
       "2  Listen treat keep worry. Miss husband tax but ...  \n",
       "3  Finally month interesting blue could nature cu...  \n",
       "4  Nation purpose heavy give wait song will. List...  "
      ]
     },
     "execution_count": 6,
     "metadata": {},
     "output_type": "execute_result"
    }
   ],
   "source": [
    "query = ''' SELECT *\n",
    "            FROM reviews\n",
    "            LIMIT 5;\n",
    "        '''\n",
    "pd.io.sql.read_sql(query, con = engine)"
   ]
  },
  {
   "cell_type": "markdown",
   "id": "78ef4a86",
   "metadata": {},
   "source": [
    "**Таблица `reviews`**\n",
    "\n",
    "Содержит данные о пользовательских обзорах на книги:\n",
    "\n",
    "- `review_id` — идентификатор обзора;\n",
    "- `book_id` — идентификатор книги;\n",
    "- `username` — имя пользователя, написавшего обзор;\n",
    "- `text` — текст обзора."
   ]
  },
  {
   "cell_type": "markdown",
   "id": "7bacd69e",
   "metadata": {},
   "source": [
    "# Задания"
   ]
  },
  {
   "cell_type": "markdown",
   "id": "3c308b3f",
   "metadata": {},
   "source": [
    "## Посчитайте, сколько книг вышло после 1 января 2000 года."
   ]
  },
  {
   "cell_type": "code",
   "execution_count": 7,
   "id": "3ce5187b",
   "metadata": {},
   "outputs": [
    {
     "data": {
      "text/html": [
       "<div>\n",
       "<style scoped>\n",
       "    .dataframe tbody tr th:only-of-type {\n",
       "        vertical-align: middle;\n",
       "    }\n",
       "\n",
       "    .dataframe tbody tr th {\n",
       "        vertical-align: top;\n",
       "    }\n",
       "\n",
       "    .dataframe thead th {\n",
       "        text-align: right;\n",
       "    }\n",
       "</style>\n",
       "<table border=\"1\" class=\"dataframe\">\n",
       "  <thead>\n",
       "    <tr style=\"text-align: right;\">\n",
       "      <th></th>\n",
       "      <th>count</th>\n",
       "    </tr>\n",
       "  </thead>\n",
       "  <tbody>\n",
       "    <tr>\n",
       "      <th>0</th>\n",
       "      <td>821</td>\n",
       "    </tr>\n",
       "  </tbody>\n",
       "</table>\n",
       "</div>"
      ],
      "text/plain": [
       "   count\n",
       "0    821"
      ]
     },
     "execution_count": 7,
     "metadata": {},
     "output_type": "execute_result"
    }
   ],
   "source": [
    "query = ''' SELECT COUNT(book_id)\n",
    "            FROM books\n",
    "            WHERE EXTRACT(YEAR FROM CAST(publication_date AS timestamp)) >= 2000;\n",
    "        '''\n",
    "pd.io.sql.read_sql(query, con = engine)"
   ]
  },
  {
   "cell_type": "markdown",
   "id": "465a1f98",
   "metadata": {},
   "source": [
    "Из 1000 книг в данных  после 1 января 2000 года вышла 821 книга."
   ]
  },
  {
   "cell_type": "markdown",
   "id": "4efe5015",
   "metadata": {},
   "source": [
    "## Для каждой книги посчитайте количество обзоров и среднюю оценку."
   ]
  },
  {
   "cell_type": "code",
   "execution_count": 8,
   "id": "e7c3ef7e",
   "metadata": {},
   "outputs": [
    {
     "data": {
      "text/html": [
       "<div>\n",
       "<style scoped>\n",
       "    .dataframe tbody tr th:only-of-type {\n",
       "        vertical-align: middle;\n",
       "    }\n",
       "\n",
       "    .dataframe tbody tr th {\n",
       "        vertical-align: top;\n",
       "    }\n",
       "\n",
       "    .dataframe thead th {\n",
       "        text-align: right;\n",
       "    }\n",
       "</style>\n",
       "<table border=\"1\" class=\"dataframe\">\n",
       "  <thead>\n",
       "    <tr style=\"text-align: right;\">\n",
       "      <th></th>\n",
       "      <th>book_id</th>\n",
       "      <th>author_id</th>\n",
       "      <th>title</th>\n",
       "      <th>reviews</th>\n",
       "      <th>avg_rating</th>\n",
       "    </tr>\n",
       "  </thead>\n",
       "  <tbody>\n",
       "    <tr>\n",
       "      <th>0</th>\n",
       "      <td>387</td>\n",
       "      <td>365</td>\n",
       "      <td>Leonardo's Notebooks</td>\n",
       "      <td>NaN</td>\n",
       "      <td>NaN</td>\n",
       "    </tr>\n",
       "    <tr>\n",
       "      <th>1</th>\n",
       "      <td>221</td>\n",
       "      <td>151</td>\n",
       "      <td>Essential Tales and Poems</td>\n",
       "      <td>NaN</td>\n",
       "      <td>NaN</td>\n",
       "    </tr>\n",
       "    <tr>\n",
       "      <th>2</th>\n",
       "      <td>672</td>\n",
       "      <td>144</td>\n",
       "      <td>The Cat in the Hat and Other Dr. Seuss Favorites</td>\n",
       "      <td>NaN</td>\n",
       "      <td>NaN</td>\n",
       "    </tr>\n",
       "    <tr>\n",
       "      <th>3</th>\n",
       "      <td>191</td>\n",
       "      <td>568</td>\n",
       "      <td>Disney's Beauty and the Beast (A Little Golden...</td>\n",
       "      <td>NaN</td>\n",
       "      <td>NaN</td>\n",
       "    </tr>\n",
       "    <tr>\n",
       "      <th>4</th>\n",
       "      <td>83</td>\n",
       "      <td>174</td>\n",
       "      <td>Anne Rice's The Vampire Lestat: A Graphic Novel</td>\n",
       "      <td>NaN</td>\n",
       "      <td>NaN</td>\n",
       "    </tr>\n",
       "    <tr>\n",
       "      <th>5</th>\n",
       "      <td>808</td>\n",
       "      <td>350</td>\n",
       "      <td>The Natural Way to Draw</td>\n",
       "      <td>NaN</td>\n",
       "      <td>NaN</td>\n",
       "    </tr>\n",
       "    <tr>\n",
       "      <th>6</th>\n",
       "      <td>948</td>\n",
       "      <td>554</td>\n",
       "      <td>Twilight (Twilight  #1)</td>\n",
       "      <td>7.0</td>\n",
       "      <td>3.662500</td>\n",
       "    </tr>\n",
       "    <tr>\n",
       "      <th>7</th>\n",
       "      <td>695</td>\n",
       "      <td>395</td>\n",
       "      <td>The Curious Incident of the Dog in the Night-Time</td>\n",
       "      <td>6.0</td>\n",
       "      <td>4.081081</td>\n",
       "    </tr>\n",
       "    <tr>\n",
       "      <th>8</th>\n",
       "      <td>673</td>\n",
       "      <td>235</td>\n",
       "      <td>The Catcher in the Rye</td>\n",
       "      <td>6.0</td>\n",
       "      <td>3.825581</td>\n",
       "    </tr>\n",
       "    <tr>\n",
       "      <th>9</th>\n",
       "      <td>696</td>\n",
       "      <td>106</td>\n",
       "      <td>The Da Vinci Code (Robert Langdon  #2)</td>\n",
       "      <td>6.0</td>\n",
       "      <td>3.830508</td>\n",
       "    </tr>\n",
       "  </tbody>\n",
       "</table>\n",
       "</div>"
      ],
      "text/plain": [
       "   book_id  author_id                                              title  \\\n",
       "0      387        365                               Leonardo's Notebooks   \n",
       "1      221        151                          Essential Tales and Poems   \n",
       "2      672        144   The Cat in the Hat and Other Dr. Seuss Favorites   \n",
       "3      191        568  Disney's Beauty and the Beast (A Little Golden...   \n",
       "4       83        174    Anne Rice's The Vampire Lestat: A Graphic Novel   \n",
       "5      808        350                            The Natural Way to Draw   \n",
       "6      948        554                            Twilight (Twilight  #1)   \n",
       "7      695        395  The Curious Incident of the Dog in the Night-Time   \n",
       "8      673        235                             The Catcher in the Rye   \n",
       "9      696        106             The Da Vinci Code (Robert Langdon  #2)   \n",
       "\n",
       "   reviews  avg_rating  \n",
       "0      NaN         NaN  \n",
       "1      NaN         NaN  \n",
       "2      NaN         NaN  \n",
       "3      NaN         NaN  \n",
       "4      NaN         NaN  \n",
       "5      NaN         NaN  \n",
       "6      7.0    3.662500  \n",
       "7      6.0    4.081081  \n",
       "8      6.0    3.825581  \n",
       "9      6.0    3.830508  "
      ]
     },
     "execution_count": 8,
     "metadata": {},
     "output_type": "execute_result"
    }
   ],
   "source": [
    "query = ''' WITH\n",
    "            rev AS (SELECT book_id,\n",
    "                           COUNT(review_id) AS reviews    \n",
    "\n",
    "                    FROM reviews\n",
    "                    GROUP BY book_id),\n",
    "            rat AS (SELECT book_id,\n",
    "                           AVG(rating) AS avg_rating\n",
    "                    FROM ratings\n",
    "                    GROUP BY book_id)\n",
    "                    \n",
    "            SELECT b.book_id,\n",
    "                   b.author_id,\n",
    "                   b.title,\n",
    "                   rev.reviews,\n",
    "                   rat.avg_rating\n",
    "            FROM books AS b\n",
    "            LEFT JOIN rev ON b.book_id = rev.book_id\n",
    "            LEFT JOIN rat ON rev.book_id = rat.book_id\n",
    "            ORDER BY rev.reviews DESC\n",
    "            LIMIT 10\n",
    "                   \n",
    "            \n",
    "            \n",
    "                        \n",
    "        '''\n",
    "pd.io.sql.read_sql(query, con = engine)"
   ]
  },
  {
   "cell_type": "markdown",
   "id": "dc8641dc",
   "metadata": {},
   "source": [
    "Неожиданно: \"Сумерки\" на первом месте по количеству обзоров - оценка правда всего 3.66."
   ]
  },
  {
   "cell_type": "markdown",
   "id": "a83d26d3",
   "metadata": {},
   "source": [
    "## Определите издательство, которое выпустило наибольшее число книг толще 50 страниц — так вы исключите из анализа брошюры."
   ]
  },
  {
   "cell_type": "code",
   "execution_count": 9,
   "id": "b181ff25",
   "metadata": {},
   "outputs": [
    {
     "data": {
      "text/html": [
       "<div>\n",
       "<style scoped>\n",
       "    .dataframe tbody tr th:only-of-type {\n",
       "        vertical-align: middle;\n",
       "    }\n",
       "\n",
       "    .dataframe tbody tr th {\n",
       "        vertical-align: top;\n",
       "    }\n",
       "\n",
       "    .dataframe thead th {\n",
       "        text-align: right;\n",
       "    }\n",
       "</style>\n",
       "<table border=\"1\" class=\"dataframe\">\n",
       "  <thead>\n",
       "    <tr style=\"text-align: right;\">\n",
       "      <th></th>\n",
       "      <th>publisher</th>\n",
       "    </tr>\n",
       "  </thead>\n",
       "  <tbody>\n",
       "    <tr>\n",
       "      <th>0</th>\n",
       "      <td>Penguin Books</td>\n",
       "    </tr>\n",
       "  </tbody>\n",
       "</table>\n",
       "</div>"
      ],
      "text/plain": [
       "       publisher\n",
       "0  Penguin Books"
      ]
     },
     "execution_count": 9,
     "metadata": {},
     "output_type": "execute_result"
    }
   ],
   "source": [
    "query = ''' \n",
    "            WITH \n",
    "            book_filtered AS (SELECT *\n",
    "                              FROM books\n",
    "                              WHERE num_pages > 50)\n",
    "            \n",
    "            SELECT pub.publisher\n",
    "            FROM (SELECT publisher,\n",
    "                  COUNT(book_id) AS total_books\n",
    "                  FROM book_filtered AS bf\n",
    "                  LEFT JOIN publishers AS p ON bf.publisher_id = p.publisher_id\n",
    "                  GROUP BY p.publisher\n",
    "                  ORDER BY total_books DESC\n",
    "                  LIMIT 1) AS pub;\n",
    "                   \n",
    "        '''\n",
    "pd.io.sql.read_sql(query, con = engine)"
   ]
  },
  {
   "cell_type": "markdown",
   "id": "67e7c9ea",
   "metadata": {},
   "source": [
    "Penguin Books - Британское издательство основанное в 1935 году. C этим издательством стоит сотрудничать."
   ]
  },
  {
   "cell_type": "markdown",
   "id": "e301082e",
   "metadata": {},
   "source": [
    "## Определите автора с самой высокой средней оценкой книг — учитывайте только книги с 50 и более оценками."
   ]
  },
  {
   "cell_type": "code",
   "execution_count": 10,
   "id": "dad885cd",
   "metadata": {},
   "outputs": [
    {
     "data": {
      "text/html": [
       "<div>\n",
       "<style scoped>\n",
       "    .dataframe tbody tr th:only-of-type {\n",
       "        vertical-align: middle;\n",
       "    }\n",
       "\n",
       "    .dataframe tbody tr th {\n",
       "        vertical-align: top;\n",
       "    }\n",
       "\n",
       "    .dataframe thead th {\n",
       "        text-align: right;\n",
       "    }\n",
       "</style>\n",
       "<table border=\"1\" class=\"dataframe\">\n",
       "  <thead>\n",
       "    <tr style=\"text-align: right;\">\n",
       "      <th></th>\n",
       "      <th>author</th>\n",
       "      <th>avg</th>\n",
       "    </tr>\n",
       "  </thead>\n",
       "  <tbody>\n",
       "    <tr>\n",
       "      <th>0</th>\n",
       "      <td>J.K. Rowling/Mary GrandPré</td>\n",
       "      <td>4.283844</td>\n",
       "    </tr>\n",
       "    <tr>\n",
       "      <th>1</th>\n",
       "      <td>Markus Zusak/Cao Xuân Việt Khương</td>\n",
       "      <td>4.264151</td>\n",
       "    </tr>\n",
       "    <tr>\n",
       "      <th>2</th>\n",
       "      <td>J.R.R. Tolkien</td>\n",
       "      <td>4.258446</td>\n",
       "    </tr>\n",
       "    <tr>\n",
       "      <th>3</th>\n",
       "      <td>Louisa May Alcott</td>\n",
       "      <td>4.192308</td>\n",
       "    </tr>\n",
       "    <tr>\n",
       "      <th>4</th>\n",
       "      <td>Rick Riordan</td>\n",
       "      <td>4.080645</td>\n",
       "    </tr>\n",
       "    <tr>\n",
       "      <th>5</th>\n",
       "      <td>William Golding</td>\n",
       "      <td>3.901408</td>\n",
       "    </tr>\n",
       "    <tr>\n",
       "      <th>6</th>\n",
       "      <td>J.D. Salinger</td>\n",
       "      <td>3.825581</td>\n",
       "    </tr>\n",
       "    <tr>\n",
       "      <th>7</th>\n",
       "      <td>Paulo Coelho/Alan R. Clarke/Özdemir İnce</td>\n",
       "      <td>3.789474</td>\n",
       "    </tr>\n",
       "    <tr>\n",
       "      <th>8</th>\n",
       "      <td>William Shakespeare/Paul Werstine/Barbara A. M...</td>\n",
       "      <td>3.787879</td>\n",
       "    </tr>\n",
       "    <tr>\n",
       "      <th>9</th>\n",
       "      <td>Dan Brown</td>\n",
       "      <td>3.754540</td>\n",
       "    </tr>\n",
       "    <tr>\n",
       "      <th>10</th>\n",
       "      <td>Lois Lowry</td>\n",
       "      <td>3.750000</td>\n",
       "    </tr>\n",
       "    <tr>\n",
       "      <th>11</th>\n",
       "      <td>George Orwell/Boris Grabnar/Peter Škerl</td>\n",
       "      <td>3.729730</td>\n",
       "    </tr>\n",
       "    <tr>\n",
       "      <th>12</th>\n",
       "      <td>Stephenie Meyer</td>\n",
       "      <td>3.662500</td>\n",
       "    </tr>\n",
       "    <tr>\n",
       "      <th>13</th>\n",
       "      <td>John Steinbeck</td>\n",
       "      <td>3.622951</td>\n",
       "    </tr>\n",
       "  </tbody>\n",
       "</table>\n",
       "</div>"
      ],
      "text/plain": [
       "                                               author       avg\n",
       "0                          J.K. Rowling/Mary GrandPré  4.283844\n",
       "1                   Markus Zusak/Cao Xuân Việt Khương  4.264151\n",
       "2                                      J.R.R. Tolkien  4.258446\n",
       "3                                   Louisa May Alcott  4.192308\n",
       "4                                        Rick Riordan  4.080645\n",
       "5                                     William Golding  3.901408\n",
       "6                                       J.D. Salinger  3.825581\n",
       "7            Paulo Coelho/Alan R. Clarke/Özdemir İnce  3.789474\n",
       "8   William Shakespeare/Paul Werstine/Barbara A. M...  3.787879\n",
       "9                                           Dan Brown  3.754540\n",
       "10                                         Lois Lowry  3.750000\n",
       "11            George Orwell/Boris Grabnar/Peter Škerl  3.729730\n",
       "12                                    Stephenie Meyer  3.662500\n",
       "13                                     John Steinbeck  3.622951"
      ]
     },
     "execution_count": 10,
     "metadata": {},
     "output_type": "execute_result"
    }
   ],
   "source": [
    "query = ''' WITH \n",
    "            br AS (SELECT book_id,\n",
    "                          COUNT(rating) AS count,\n",
    "                          AVG(rating) AS rating\n",
    "                   FROM ratings\n",
    "                   GROUP BY book_id\n",
    "                   HAVING COUNT(rating)>50)\n",
    "            SELECT a.author,\n",
    "                   AVG(br.rating)\n",
    "            FROM br\n",
    "            LEFT JOIN books AS b ON br.book_id = b.book_id\n",
    "            LEFT JOIN authors AS a ON b.author_id = a.author_id\n",
    "            GROUP BY a.author_id\n",
    "            ORDER BY AVG(br.rating) DESC\n",
    "        '''\n",
    "pd.io.sql.read_sql(query, con = engine)"
   ]
  },
  {
   "cell_type": "markdown",
   "id": "d572a048",
   "metadata": {},
   "source": [
    "Тут без сомнений - последние 20 лет только и слышно о Гарри Поттере."
   ]
  },
  {
   "cell_type": "markdown",
   "id": "1b5a092e",
   "metadata": {},
   "source": [
    "## Посчитайте среднее количество обзоров от пользователей, которые поставили больше 50 оценок."
   ]
  },
  {
   "cell_type": "code",
   "execution_count": 11,
   "id": "e518066a",
   "metadata": {},
   "outputs": [
    {
     "data": {
      "text/html": [
       "<div>\n",
       "<style scoped>\n",
       "    .dataframe tbody tr th:only-of-type {\n",
       "        vertical-align: middle;\n",
       "    }\n",
       "\n",
       "    .dataframe tbody tr th {\n",
       "        vertical-align: top;\n",
       "    }\n",
       "\n",
       "    .dataframe thead th {\n",
       "        text-align: right;\n",
       "    }\n",
       "</style>\n",
       "<table border=\"1\" class=\"dataframe\">\n",
       "  <thead>\n",
       "    <tr style=\"text-align: right;\">\n",
       "      <th></th>\n",
       "      <th>avg</th>\n",
       "    </tr>\n",
       "  </thead>\n",
       "  <tbody>\n",
       "    <tr>\n",
       "      <th>0</th>\n",
       "      <td>24.333333</td>\n",
       "    </tr>\n",
       "  </tbody>\n",
       "</table>\n",
       "</div>"
      ],
      "text/plain": [
       "         avg\n",
       "0  24.333333"
      ]
     },
     "execution_count": 11,
     "metadata": {},
     "output_type": "execute_result"
    }
   ],
   "source": [
    "query = ''' WITH\n",
    "            users AS (SELECT username,\n",
    "                             COUNT(rating_id) AS total_ratings\n",
    "                      FROM ratings\n",
    "                      GROUP BY username\n",
    "                      HAVING COUNT(rating_id) > 50)\n",
    "            SELECT AVG(final.total_reviews)\n",
    "            FROM (SELECT u.username,\n",
    "                         COUNT(r.review_id) AS total_reviews\n",
    "                  FROM users AS u\n",
    "                  LEFT JOIN reviews AS r ON u.username = r.username \n",
    "                  GROUP BY u.username) AS final;\n",
    "            \n",
    "            \n",
    "        '''\n",
    "pd.io.sql.read_sql(query, con = engine)"
   ]
  },
  {
   "cell_type": "markdown",
   "id": "2a5ff0d7",
   "metadata": {},
   "source": [
    "Пользователи, которые поставили больше 50 оценок, в среднем написали 24 обзора(и их всего 6)."
   ]
  }
 ],
 "metadata": {
  "ExecuteTimeLog": [
   {
    "duration": 550,
    "start_time": "2022-06-03T15:20:02.340Z"
   },
   {
    "duration": 247,
    "start_time": "2022-06-03T15:20:02.892Z"
   },
   {
    "duration": 72,
    "start_time": "2022-06-03T15:20:03.140Z"
   },
   {
    "duration": 71,
    "start_time": "2022-06-03T15:20:03.214Z"
   },
   {
    "duration": 72,
    "start_time": "2022-06-03T15:20:03.286Z"
   },
   {
    "duration": 71,
    "start_time": "2022-06-03T15:20:03.360Z"
   },
   {
    "duration": 71,
    "start_time": "2022-06-03T15:20:03.432Z"
   },
   {
    "duration": 107,
    "start_time": "2022-06-03T15:20:03.505Z"
   },
   {
    "duration": 72,
    "start_time": "2022-06-03T15:20:03.614Z"
   },
   {
    "duration": 74,
    "start_time": "2022-06-03T15:20:03.689Z"
   },
   {
    "duration": 71,
    "start_time": "2022-06-03T15:20:03.764Z"
   },
   {
    "duration": 74,
    "start_time": "2022-06-03T15:20:53.633Z"
   }
  ],
  "kernelspec": {
   "display_name": "Python 3 (ipykernel)",
   "language": "python",
   "name": "python3"
  },
  "language_info": {
   "codemirror_mode": {
    "name": "ipython",
    "version": 3
   },
   "file_extension": ".py",
   "mimetype": "text/x-python",
   "name": "python",
   "nbconvert_exporter": "python",
   "pygments_lexer": "ipython3",
   "version": "3.9.12"
  },
  "toc": {
   "base_numbering": 1,
   "nav_menu": {},
   "number_sections": false,
   "sideBar": true,
   "skip_h1_title": false,
   "title_cell": "Содержание",
   "title_sidebar": "Contents",
   "toc_cell": true,
   "toc_position": {
    "height": "calc(100% - 180px)",
    "left": "10px",
    "top": "150px",
    "width": "273.188px"
   },
   "toc_section_display": true,
   "toc_window_display": true
  }
 },
 "nbformat": 4,
 "nbformat_minor": 5
}
