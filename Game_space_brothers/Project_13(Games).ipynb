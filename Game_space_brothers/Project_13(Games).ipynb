{
 "cells": [
  {
   "cell_type": "markdown",
   "id": "e1c7b899",
   "metadata": {
    "toc": true
   },
   "source": [
    "<h1>Содержание<span class=\"tocSkip\"></span></h1>\n",
    "<div class=\"toc\"><ul class=\"toc-item\"><li><span><a href=\"#Загрузка-и-предобработка-данных.\" data-toc-modified-id=\"Загрузка-и-предобработка-данных.-1\"><span class=\"toc-item-num\">1&nbsp;&nbsp;</span>Загрузка и предобработка данных.</a></span><ul class=\"toc-item\"><li><span><a href=\"#Costs\" data-toc-modified-id=\"Costs-1.1\"><span class=\"toc-item-num\">1.1&nbsp;&nbsp;</span>Costs</a></span></li><li><span><a href=\"#Actions\" data-toc-modified-id=\"Actions-1.2\"><span class=\"toc-item-num\">1.2&nbsp;&nbsp;</span>Actions</a></span></li><li><span><a href=\"#Users\" data-toc-modified-id=\"Users-1.3\"><span class=\"toc-item-num\">1.3&nbsp;&nbsp;</span>Users</a></span></li></ul></li><li><span><a href=\"#Подготовка-данных\" data-toc-modified-id=\"Подготовка-данных-2\"><span class=\"toc-item-num\">2&nbsp;&nbsp;</span>Подготовка данных</a></span><ul class=\"toc-item\"><li><span><a href=\"#Создание-общей-таблицы,-добавление-столбцов.\" data-toc-modified-id=\"Создание-общей-таблицы,-добавление-столбцов.-2.1\"><span class=\"toc-item-num\">2.1&nbsp;&nbsp;</span>Создание общей таблицы, добавление столбцов.</a></span></li></ul></li><li><span><a href=\"#Исследовательский-анализ\" data-toc-modified-id=\"Исследовательский-анализ-3\"><span class=\"toc-item-num\">3&nbsp;&nbsp;</span>Исследовательский анализ</a></span><ul class=\"toc-item\"><li><span><a href=\"#Количество-пришедших-игроков-с-разных-источников\" data-toc-modified-id=\"Количество-пришедших-игроков-с-разных-источников-3.1\"><span class=\"toc-item-num\">3.1&nbsp;&nbsp;</span>Количество пришедших игроков с разных источников</a></span></li><li><span><a href=\"#Сколько-зданий-строят-игроки-в-зависимости-от-источника-перехода,-способа-прохождения-игры\" data-toc-modified-id=\"Сколько-зданий-строят-игроки-в-зависимости-от-источника-перехода,-способа-прохождения-игры-3.2\"><span class=\"toc-item-num\">3.2&nbsp;&nbsp;</span>Сколько зданий строят игроки в зависимости от источника перехода, способа прохождения игры</a></span></li><li><span><a href=\"#Круговые-диаграммы-долей-типов-построенных-зданий-в-зависимости-от-источника-и-типа-победы\" data-toc-modified-id=\"Круговые-диаграммы-долей-типов-построенных-зданий-в-зависимости-от-источника-и-типа-победы-3.3\"><span class=\"toc-item-num\">3.3&nbsp;&nbsp;</span>Круговые диаграммы долей типов построенных зданий в зависимости от источника и типа победы</a></span></li><li><span><a href=\"#Какое-время-занимает-у-игроков-прохождение-первого-уровня-в-зависимости-от-источника-перехода,-и-способа-прохождения\" data-toc-modified-id=\"Какое-время-занимает-у-игроков-прохождение-первого-уровня-в-зависимости-от-источника-перехода,-и-способа-прохождения-3.4\"><span class=\"toc-item-num\">3.4&nbsp;&nbsp;</span>Какое время занимает у игроков прохождение первого уровня в зависимости от источника перехода, и способа прохождения</a></span></li><li><span><a href=\"#Какая-доля-игроков-перестает-играть-в-зависимости-от-истоника-перехода\" data-toc-modified-id=\"Какая-доля-игроков-перестает-играть-в-зависимости-от-истоника-перехода-3.5\"><span class=\"toc-item-num\">3.5&nbsp;&nbsp;</span>Какая доля игроков перестает играть в зависимости от истоника перехода</a></span></li><li><span><a href=\"#Стоимость-привлечения-одного-игрока-из-каждого-источника\" data-toc-modified-id=\"Стоимость-привлечения-одного-игрока-из-каждого-источника-3.6\"><span class=\"toc-item-num\">3.6&nbsp;&nbsp;</span>Стоимость привлечения одного игрока из каждого источника</a></span></li><li><span><a href=\"#Разница-в-выборе-стратегии-в-зависимости-от-источника\" data-toc-modified-id=\"Разница-в-выборе-стратегии-в-зависимости-от-источника-3.7\"><span class=\"toc-item-num\">3.7&nbsp;&nbsp;</span>Разница в выборе стратегии в зависимости от источника</a></span></li></ul></li><li><span><a href=\"#Проверка-гипотез\" data-toc-modified-id=\"Проверка-гипотез-4\"><span class=\"toc-item-num\">4&nbsp;&nbsp;</span>Проверка гипотез</a></span><ul class=\"toc-item\"><li><span><a href=\"#Гипотеза:-время-завершения-уровня-различается-в-зависимости-от-способа-прохождения:через-реализацию-проекта,-через-победу-над-первым-игроком.\" data-toc-modified-id=\"Гипотеза:-время-завершения-уровня-различается-в-зависимости-от-способа-прохождения:через-реализацию-проекта,-через-победу-над-первым-игроком.-4.1\"><span class=\"toc-item-num\">4.1&nbsp;&nbsp;</span>Гипотеза: время завершения уровня различается в зависимости от способа прохождения:через реализацию проекта, через победу над первым игроком.</a></span></li><li><span><a href=\"#Среднее-количество-построенных-зданий-различается-в-зависимости-от-источника-перехода-(facebook_ads-и-yandex_direct)\" data-toc-modified-id=\"Среднее-количество-построенных-зданий-различается-в-зависимости-от-источника-перехода-(facebook_ads-и-yandex_direct)-4.2\"><span class=\"toc-item-num\">4.2&nbsp;&nbsp;</span>Среднее количество построенных зданий различается в зависимости от источника перехода (facebook_ads и yandex_direct)</a></span></li></ul></li><li><span><a href=\"#Выгрузка-файла-для-дашборда\" data-toc-modified-id=\"Выгрузка-файла-для-дашборда-5\"><span class=\"toc-item-num\">5&nbsp;&nbsp;</span>Выгрузка файла для дашборда</a></span></li><li><span><a href=\"#Выводы,-рекомендации\" data-toc-modified-id=\"Выводы,-рекомендации-6\"><span class=\"toc-item-num\">6&nbsp;&nbsp;</span>Выводы, рекомендации</a></span></li></ul></div>"
   ]
  },
  {
   "cell_type": "markdown",
   "id": "82b93a23",
   "metadata": {},
   "source": [
    "# Материалы"
   ]
  },
  {
   "cell_type": "markdown",
   "id": "262e50d2",
   "metadata": {},
   "source": [
    "  \n",
    "[Дашборд](https://public.tableau.com/app/profile/azamat6848/viz/Dashboard_13_16533860877800/Dashboard1?publish=yes)"
   ]
  },
  {
   "cell_type": "markdown",
   "id": "b748c1d7",
   "metadata": {},
   "source": [
    "[Презентация](https://disk.yandex.ru/i/73QbTJWAgykP2g)"
   ]
  },
  {
   "cell_type": "markdown",
   "id": "d3202dc2",
   "metadata": {},
   "source": [
    "# Основная задача проекта проекта"
   ]
  },
  {
   "cell_type": "markdown",
   "id": "1d953b1c",
   "metadata": {},
   "source": [
    "Пользуясь данными из игры \"Космические братья\". Определить есть ли различие в поведении игроков в зависимости от источника перехода: facebook ads, youtube channel, yandex direct, instagram new adverts."
   ]
  },
  {
   "cell_type": "markdown",
   "id": "016a63d4",
   "metadata": {},
   "source": [
    "## Загрузка и предобработка данных."
   ]
  },
  {
   "cell_type": "code",
   "execution_count": 1,
   "id": "6923d61b",
   "metadata": {},
   "outputs": [],
   "source": [
    "# Загружаем библиотеки\n",
    "import pandas as pd\n",
    "import matplotlib.pyplot as plt\n",
    "import seaborn as sns\n",
    "from datetime import timedelta, datetime\n",
    "from scipy import stats as st"
   ]
  },
  {
   "cell_type": "code",
   "execution_count": 2,
   "id": "f2585bd0",
   "metadata": {},
   "outputs": [
    {
     "name": "stdout",
     "output_type": "stream",
     "text": [
      "FileNotFoundError(2, 'No such file or directory')\n"
     ]
    }
   ],
   "source": [
    "# Загружаем данные\n",
    "try:\n",
    "    costs = pd.read_csv('/datasets/ad_costs.csv')\n",
    "    actions = pd.read_csv('/datasets/game_actions.csv')\n",
    "    users = pd.read_csv('/datasets/user_source.csv')\n",
    "except FileNotFoundError as e:\n",
    "    print(repr(e))\n",
    "    costs = pd.read_csv('C:/Users/oilca/Documents/study/datasets/ad_costs.csv')\n",
    "    actions = pd.read_csv('C:/Users/oilca/Documents/study/datasets/game_actions.csv')\n",
    "    users = pd.read_csv('C:/Users/oilca/Documents/study/datasets/user_source.csv')   \n"
   ]
  },
  {
   "cell_type": "code",
   "execution_count": 3,
   "id": "f70ebbbd",
   "metadata": {},
   "outputs": [],
   "source": [
    "# Создадим функцию для стандартного обзора данных\n",
    "def review(dataset):\n",
    "    display(dataset.head())\n",
    "    print()\n",
    "    dataset.info()\n",
    "    print()\n",
    "    display(dataset.describe())\n",
    "    print()\n",
    "    for col in dataset.columns:\n",
    "        print(dataset[col].unique())\n",
    "    print()\n",
    "    print('Количество найденных дубликатов:',dataset.duplicated().sum())\n",
    "    try:\n",
    "        dataset.hist()\n",
    "    except ValueError:\n",
    "        print('Нет данных для построения гистограмм')"
   ]
  },
  {
   "cell_type": "markdown",
   "id": "15271774",
   "metadata": {},
   "source": [
    "### Costs"
   ]
  },
  {
   "cell_type": "code",
   "execution_count": 4,
   "id": "eade915f",
   "metadata": {
    "scrolled": false
   },
   "outputs": [
    {
     "data": {
      "text/html": [
       "<div>\n",
       "<style scoped>\n",
       "    .dataframe tbody tr th:only-of-type {\n",
       "        vertical-align: middle;\n",
       "    }\n",
       "\n",
       "    .dataframe tbody tr th {\n",
       "        vertical-align: top;\n",
       "    }\n",
       "\n",
       "    .dataframe thead th {\n",
       "        text-align: right;\n",
       "    }\n",
       "</style>\n",
       "<table border=\"1\" class=\"dataframe\">\n",
       "  <thead>\n",
       "    <tr style=\"text-align: right;\">\n",
       "      <th></th>\n",
       "      <th>source</th>\n",
       "      <th>day</th>\n",
       "      <th>cost</th>\n",
       "    </tr>\n",
       "  </thead>\n",
       "  <tbody>\n",
       "    <tr>\n",
       "      <th>0</th>\n",
       "      <td>facebook_ads</td>\n",
       "      <td>2020-05-03</td>\n",
       "      <td>935.882786</td>\n",
       "    </tr>\n",
       "    <tr>\n",
       "      <th>1</th>\n",
       "      <td>facebook_ads</td>\n",
       "      <td>2020-05-04</td>\n",
       "      <td>548.354480</td>\n",
       "    </tr>\n",
       "    <tr>\n",
       "      <th>2</th>\n",
       "      <td>facebook_ads</td>\n",
       "      <td>2020-05-05</td>\n",
       "      <td>260.185754</td>\n",
       "    </tr>\n",
       "    <tr>\n",
       "      <th>3</th>\n",
       "      <td>facebook_ads</td>\n",
       "      <td>2020-05-06</td>\n",
       "      <td>177.982200</td>\n",
       "    </tr>\n",
       "    <tr>\n",
       "      <th>4</th>\n",
       "      <td>facebook_ads</td>\n",
       "      <td>2020-05-07</td>\n",
       "      <td>111.766796</td>\n",
       "    </tr>\n",
       "  </tbody>\n",
       "</table>\n",
       "</div>"
      ],
      "text/plain": [
       "         source         day        cost\n",
       "0  facebook_ads  2020-05-03  935.882786\n",
       "1  facebook_ads  2020-05-04  548.354480\n",
       "2  facebook_ads  2020-05-05  260.185754\n",
       "3  facebook_ads  2020-05-06  177.982200\n",
       "4  facebook_ads  2020-05-07  111.766796"
      ]
     },
     "metadata": {},
     "output_type": "display_data"
    },
    {
     "name": "stdout",
     "output_type": "stream",
     "text": [
      "\n",
      "<class 'pandas.core.frame.DataFrame'>\n",
      "RangeIndex: 28 entries, 0 to 27\n",
      "Data columns (total 3 columns):\n",
      " #   Column  Non-Null Count  Dtype  \n",
      "---  ------  --------------  -----  \n",
      " 0   source  28 non-null     object \n",
      " 1   day     28 non-null     object \n",
      " 2   cost    28 non-null     float64\n",
      "dtypes: float64(1), object(2)\n",
      "memory usage: 800.0+ bytes\n",
      "\n"
     ]
    },
    {
     "data": {
      "text/html": [
       "<div>\n",
       "<style scoped>\n",
       "    .dataframe tbody tr th:only-of-type {\n",
       "        vertical-align: middle;\n",
       "    }\n",
       "\n",
       "    .dataframe tbody tr th {\n",
       "        vertical-align: top;\n",
       "    }\n",
       "\n",
       "    .dataframe thead th {\n",
       "        text-align: right;\n",
       "    }\n",
       "</style>\n",
       "<table border=\"1\" class=\"dataframe\">\n",
       "  <thead>\n",
       "    <tr style=\"text-align: right;\">\n",
       "      <th></th>\n",
       "      <th>cost</th>\n",
       "    </tr>\n",
       "  </thead>\n",
       "  <tbody>\n",
       "    <tr>\n",
       "      <th>count</th>\n",
       "      <td>28.000000</td>\n",
       "    </tr>\n",
       "    <tr>\n",
       "      <th>mean</th>\n",
       "      <td>271.556321</td>\n",
       "    </tr>\n",
       "    <tr>\n",
       "      <th>std</th>\n",
       "      <td>286.867650</td>\n",
       "    </tr>\n",
       "    <tr>\n",
       "      <th>min</th>\n",
       "      <td>23.314669</td>\n",
       "    </tr>\n",
       "    <tr>\n",
       "      <th>25%</th>\n",
       "      <td>66.747365</td>\n",
       "    </tr>\n",
       "    <tr>\n",
       "      <th>50%</th>\n",
       "      <td>160.056443</td>\n",
       "    </tr>\n",
       "    <tr>\n",
       "      <th>75%</th>\n",
       "      <td>349.034473</td>\n",
       "    </tr>\n",
       "    <tr>\n",
       "      <th>max</th>\n",
       "      <td>969.139394</td>\n",
       "    </tr>\n",
       "  </tbody>\n",
       "</table>\n",
       "</div>"
      ],
      "text/plain": [
       "             cost\n",
       "count   28.000000\n",
       "mean   271.556321\n",
       "std    286.867650\n",
       "min     23.314669\n",
       "25%     66.747365\n",
       "50%    160.056443\n",
       "75%    349.034473\n",
       "max    969.139394"
      ]
     },
     "metadata": {},
     "output_type": "display_data"
    },
    {
     "name": "stdout",
     "output_type": "stream",
     "text": [
      "\n",
      "['facebook_ads' 'instagram_new_adverts' 'yandex_direct'\n",
      " 'youtube_channel_reklama']\n",
      "['2020-05-03' '2020-05-04' '2020-05-05' '2020-05-06' '2020-05-07'\n",
      " '2020-05-08' '2020-05-09']\n",
      "[935.88278612 548.35447985 260.18575416 177.98220002 111.76679631\n",
      "  68.00927645  38.72335021 943.2047174  502.92545098 313.97098369\n",
      " 173.07114531 109.91525421  71.57873946  46.7753997  969.13939394\n",
      " 554.65149408 308.23298964 180.91709941 114.42933758  62.96162991\n",
      "  42.77950457 454.22494283 259.07322428 147.0417414   88.50607423\n",
      "  55.74064467  40.21790712  23.31466927]\n",
      "\n",
      "Количество найденных дубликатов: 0\n"
     ]
    },
    {
     "data": {
      "image/png": "[encoded data removed]",
      "text/plain": [
       "<Figure size 432x288 with 1 Axes>"
      ]
     },
     "metadata": {
      "needs_background": "light"
     },
     "output_type": "display_data"
    }
   ],
   "source": [
    "review(costs)"
   ]
  },
  {
   "cell_type": "markdown",
   "id": "8c26bb0d",
   "metadata": {},
   "source": [
    "Всего 28 строк, пропусков нет, данные чистые."
   ]
  },
  {
   "cell_type": "markdown",
   "id": "2a0a6096",
   "metadata": {},
   "source": [
    "### Actions"
   ]
  },
  {
   "cell_type": "code",
   "execution_count": 5,
   "id": "1b54502b",
   "metadata": {
    "scrolled": false
   },
   "outputs": [
    {
     "data": {
      "text/html": [
       "<div>\n",
       "<style scoped>\n",
       "    .dataframe tbody tr th:only-of-type {\n",
       "        vertical-align: middle;\n",
       "    }\n",
       "\n",
       "    .dataframe tbody tr th {\n",
       "        vertical-align: top;\n",
       "    }\n",
       "\n",
       "    .dataframe thead th {\n",
       "        text-align: right;\n",
       "    }\n",
       "</style>\n",
       "<table border=\"1\" class=\"dataframe\">\n",
       "  <thead>\n",
       "    <tr style=\"text-align: right;\">\n",
       "      <th></th>\n",
       "      <th>event_datetime</th>\n",
       "      <th>event</th>\n",
       "      <th>building_type</th>\n",
       "      <th>user_id</th>\n",
       "      <th>project_type</th>\n",
       "    </tr>\n",
       "  </thead>\n",
       "  <tbody>\n",
       "    <tr>\n",
       "      <th>0</th>\n",
       "      <td>2020-05-04 00:00:01</td>\n",
       "      <td>building</td>\n",
       "      <td>assembly_shop</td>\n",
       "      <td>55e92310-cb8e-4754-b622-597e124b03de</td>\n",
       "      <td>NaN</td>\n",
       "    </tr>\n",
       "    <tr>\n",
       "      <th>1</th>\n",
       "      <td>2020-05-04 00:00:03</td>\n",
       "      <td>building</td>\n",
       "      <td>assembly_shop</td>\n",
       "      <td>c07b1c10-f477-44dc-81dc-ec82254b1347</td>\n",
       "      <td>NaN</td>\n",
       "    </tr>\n",
       "    <tr>\n",
       "      <th>2</th>\n",
       "      <td>2020-05-04 00:00:16</td>\n",
       "      <td>building</td>\n",
       "      <td>assembly_shop</td>\n",
       "      <td>6edd42cc-e753-4ff6-a947-2107cd560710</td>\n",
       "      <td>NaN</td>\n",
       "    </tr>\n",
       "    <tr>\n",
       "      <th>3</th>\n",
       "      <td>2020-05-04 00:00:16</td>\n",
       "      <td>building</td>\n",
       "      <td>assembly_shop</td>\n",
       "      <td>92c69003-d60a-444a-827f-8cc51bf6bf4c</td>\n",
       "      <td>NaN</td>\n",
       "    </tr>\n",
       "    <tr>\n",
       "      <th>4</th>\n",
       "      <td>2020-05-04 00:00:35</td>\n",
       "      <td>building</td>\n",
       "      <td>assembly_shop</td>\n",
       "      <td>cdc6bb92-0ccb-4490-9866-ef142f09139d</td>\n",
       "      <td>NaN</td>\n",
       "    </tr>\n",
       "  </tbody>\n",
       "</table>\n",
       "</div>"
      ],
      "text/plain": [
       "        event_datetime     event  building_type  \\\n",
       "0  2020-05-04 00:00:01  building  assembly_shop   \n",
       "1  2020-05-04 00:00:03  building  assembly_shop   \n",
       "2  2020-05-04 00:00:16  building  assembly_shop   \n",
       "3  2020-05-04 00:00:16  building  assembly_shop   \n",
       "4  2020-05-04 00:00:35  building  assembly_shop   \n",
       "\n",
       "                                user_id project_type  \n",
       "0  55e92310-cb8e-4754-b622-597e124b03de          NaN  \n",
       "1  c07b1c10-f477-44dc-81dc-ec82254b1347          NaN  \n",
       "2  6edd42cc-e753-4ff6-a947-2107cd560710          NaN  \n",
       "3  92c69003-d60a-444a-827f-8cc51bf6bf4c          NaN  \n",
       "4  cdc6bb92-0ccb-4490-9866-ef142f09139d          NaN  "
      ]
     },
     "metadata": {},
     "output_type": "display_data"
    },
    {
     "name": "stdout",
     "output_type": "stream",
     "text": [
      "\n",
      "<class 'pandas.core.frame.DataFrame'>\n",
      "RangeIndex: 135640 entries, 0 to 135639\n",
      "Data columns (total 5 columns):\n",
      " #   Column          Non-Null Count   Dtype \n",
      "---  ------          --------------   ----- \n",
      " 0   event_datetime  135640 non-null  object\n",
      " 1   event           135640 non-null  object\n",
      " 2   building_type   127957 non-null  object\n",
      " 3   user_id         135640 non-null  object\n",
      " 4   project_type    1866 non-null    object\n",
      "dtypes: object(5)\n",
      "memory usage: 5.2+ MB\n",
      "\n"
     ]
    },
    {
     "data": {
      "text/html": [
       "<div>\n",
       "<style scoped>\n",
       "    .dataframe tbody tr th:only-of-type {\n",
       "        vertical-align: middle;\n",
       "    }\n",
       "\n",
       "    .dataframe tbody tr th {\n",
       "        vertical-align: top;\n",
       "    }\n",
       "\n",
       "    .dataframe thead th {\n",
       "        text-align: right;\n",
       "    }\n",
       "</style>\n",
       "<table border=\"1\" class=\"dataframe\">\n",
       "  <thead>\n",
       "    <tr style=\"text-align: right;\">\n",
       "      <th></th>\n",
       "      <th>event_datetime</th>\n",
       "      <th>event</th>\n",
       "      <th>building_type</th>\n",
       "      <th>user_id</th>\n",
       "      <th>project_type</th>\n",
       "    </tr>\n",
       "  </thead>\n",
       "  <tbody>\n",
       "    <tr>\n",
       "      <th>count</th>\n",
       "      <td>135640</td>\n",
       "      <td>135640</td>\n",
       "      <td>127957</td>\n",
       "      <td>135640</td>\n",
       "      <td>1866</td>\n",
       "    </tr>\n",
       "    <tr>\n",
       "      <th>unique</th>\n",
       "      <td>128790</td>\n",
       "      <td>3</td>\n",
       "      <td>3</td>\n",
       "      <td>13576</td>\n",
       "      <td>1</td>\n",
       "    </tr>\n",
       "    <tr>\n",
       "      <th>top</th>\n",
       "      <td>2020-05-08 22:30:04</td>\n",
       "      <td>building</td>\n",
       "      <td>spaceport</td>\n",
       "      <td>d6aca06a-cd75-4cd8-b8cd-240a3c163884</td>\n",
       "      <td>satellite_orbital_assembly</td>\n",
       "    </tr>\n",
       "    <tr>\n",
       "      <th>freq</th>\n",
       "      <td>4</td>\n",
       "      <td>127957</td>\n",
       "      <td>59325</td>\n",
       "      <td>22</td>\n",
       "      <td>1866</td>\n",
       "    </tr>\n",
       "  </tbody>\n",
       "</table>\n",
       "</div>"
      ],
      "text/plain": [
       "             event_datetime     event building_type  \\\n",
       "count                135640    135640        127957   \n",
       "unique               128790         3             3   \n",
       "top     2020-05-08 22:30:04  building     spaceport   \n",
       "freq                      4    127957         59325   \n",
       "\n",
       "                                     user_id                project_type  \n",
       "count                                 135640                        1866  \n",
       "unique                                 13576                           1  \n",
       "top     d6aca06a-cd75-4cd8-b8cd-240a3c163884  satellite_orbital_assembly  \n",
       "freq                                      22                        1866  "
      ]
     },
     "metadata": {},
     "output_type": "display_data"
    },
    {
     "name": "stdout",
     "output_type": "stream",
     "text": [
      "\n",
      "['2020-05-04 00:00:01' '2020-05-04 00:00:03' '2020-05-04 00:00:16' ...\n",
      " '2020-06-05 08:57:52' '2020-06-05 12:12:27' '2020-06-05 12:32:49']\n",
      "['building' 'finished_stage_1' 'project']\n",
      "['assembly_shop' 'spaceport' nan 'research_center']\n",
      "['55e92310-cb8e-4754-b622-597e124b03de'\n",
      " 'c07b1c10-f477-44dc-81dc-ec82254b1347'\n",
      " '6edd42cc-e753-4ff6-a947-2107cd560710' ...\n",
      " '7b225969-375a-455e-a14a-ed1ab373fb65'\n",
      " 'cafd1b8b-507b-49ae-abf0-89fe863a8b03'\n",
      " 'bdc53e19-462a-4dc3-8b55-b4a34278af6a']\n",
      "[nan 'satellite_orbital_assembly']\n",
      "\n",
      "Количество найденных дубликатов: 1\n",
      "Нет данных для построения гистограмм\n"
     ]
    }
   ],
   "source": [
    "review(actions)"
   ]
  },
  {
   "cell_type": "markdown",
   "id": "08d34790",
   "metadata": {},
   "source": [
    "Есть пропуски, но они появляются в зависимости от события. Например, если в колонке `event` событие`finished_stage_1`, то в колонках `building_type` и `project_type` будут пропуски. \n",
    "\n",
    "Обнаружен один явный дубликат  - его можно удалить."
   ]
  },
  {
   "cell_type": "markdown",
   "id": "ca740ddd",
   "metadata": {},
   "source": [
    "### Users"
   ]
  },
  {
   "cell_type": "code",
   "execution_count": 6,
   "id": "aa31eb93",
   "metadata": {
    "scrolled": false
   },
   "outputs": [
    {
     "data": {
      "text/html": [
       "<div>\n",
       "<style scoped>\n",
       "    .dataframe tbody tr th:only-of-type {\n",
       "        vertical-align: middle;\n",
       "    }\n",
       "\n",
       "    .dataframe tbody tr th {\n",
       "        vertical-align: top;\n",
       "    }\n",
       "\n",
       "    .dataframe thead th {\n",
       "        text-align: right;\n",
       "    }\n",
       "</style>\n",
       "<table border=\"1\" class=\"dataframe\">\n",
       "  <thead>\n",
       "    <tr style=\"text-align: right;\">\n",
       "      <th></th>\n",
       "      <th>user_id</th>\n",
       "      <th>source</th>\n",
       "    </tr>\n",
       "  </thead>\n",
       "  <tbody>\n",
       "    <tr>\n",
       "      <th>0</th>\n",
       "      <td>0001f83c-c6ac-4621-b7f0-8a28b283ac30</td>\n",
       "      <td>facebook_ads</td>\n",
       "    </tr>\n",
       "    <tr>\n",
       "      <th>1</th>\n",
       "      <td>00151b4f-ba38-44a8-a650-d7cf130a0105</td>\n",
       "      <td>yandex_direct</td>\n",
       "    </tr>\n",
       "    <tr>\n",
       "      <th>2</th>\n",
       "      <td>001aaea6-3d14-43f1-8ca8-7f48820f17aa</td>\n",
       "      <td>youtube_channel_reklama</td>\n",
       "    </tr>\n",
       "    <tr>\n",
       "      <th>3</th>\n",
       "      <td>001d39dc-366c-4021-9604-6a3b9ff01e25</td>\n",
       "      <td>instagram_new_adverts</td>\n",
       "    </tr>\n",
       "    <tr>\n",
       "      <th>4</th>\n",
       "      <td>002f508f-67b6-479f-814b-b05f00d4e995</td>\n",
       "      <td>facebook_ads</td>\n",
       "    </tr>\n",
       "  </tbody>\n",
       "</table>\n",
       "</div>"
      ],
      "text/plain": [
       "                                user_id                   source\n",
       "0  0001f83c-c6ac-4621-b7f0-8a28b283ac30             facebook_ads\n",
       "1  00151b4f-ba38-44a8-a650-d7cf130a0105            yandex_direct\n",
       "2  001aaea6-3d14-43f1-8ca8-7f48820f17aa  youtube_channel_reklama\n",
       "3  001d39dc-366c-4021-9604-6a3b9ff01e25    instagram_new_adverts\n",
       "4  002f508f-67b6-479f-814b-b05f00d4e995             facebook_ads"
      ]
     },
     "metadata": {},
     "output_type": "display_data"
    },
    {
     "name": "stdout",
     "output_type": "stream",
     "text": [
      "\n",
      "<class 'pandas.core.frame.DataFrame'>\n",
      "RangeIndex: 13576 entries, 0 to 13575\n",
      "Data columns (total 2 columns):\n",
      " #   Column   Non-Null Count  Dtype \n",
      "---  ------   --------------  ----- \n",
      " 0   user_id  13576 non-null  object\n",
      " 1   source   13576 non-null  object\n",
      "dtypes: object(2)\n",
      "memory usage: 212.2+ KB\n",
      "\n"
     ]
    },
    {
     "data": {
      "text/html": [
       "<div>\n",
       "<style scoped>\n",
       "    .dataframe tbody tr th:only-of-type {\n",
       "        vertical-align: middle;\n",
       "    }\n",
       "\n",
       "    .dataframe tbody tr th {\n",
       "        vertical-align: top;\n",
       "    }\n",
       "\n",
       "    .dataframe thead th {\n",
       "        text-align: right;\n",
       "    }\n",
       "</style>\n",
       "<table border=\"1\" class=\"dataframe\">\n",
       "  <thead>\n",
       "    <tr style=\"text-align: right;\">\n",
       "      <th></th>\n",
       "      <th>user_id</th>\n",
       "      <th>source</th>\n",
       "    </tr>\n",
       "  </thead>\n",
       "  <tbody>\n",
       "    <tr>\n",
       "      <th>count</th>\n",
       "      <td>13576</td>\n",
       "      <td>13576</td>\n",
       "    </tr>\n",
       "    <tr>\n",
       "      <th>unique</th>\n",
       "      <td>13576</td>\n",
       "      <td>4</td>\n",
       "    </tr>\n",
       "    <tr>\n",
       "      <th>top</th>\n",
       "      <td>36d8a44d-e586-43fc-9565-a1ccf482da08</td>\n",
       "      <td>yandex_direct</td>\n",
       "    </tr>\n",
       "    <tr>\n",
       "      <th>freq</th>\n",
       "      <td>1</td>\n",
       "      <td>4817</td>\n",
       "    </tr>\n",
       "  </tbody>\n",
       "</table>\n",
       "</div>"
      ],
      "text/plain": [
       "                                     user_id         source\n",
       "count                                  13576          13576\n",
       "unique                                 13576              4\n",
       "top     36d8a44d-e586-43fc-9565-a1ccf482da08  yandex_direct\n",
       "freq                                       1           4817"
      ]
     },
     "metadata": {},
     "output_type": "display_data"
    },
    {
     "name": "stdout",
     "output_type": "stream",
     "text": [
      "\n",
      "['0001f83c-c6ac-4621-b7f0-8a28b283ac30'\n",
      " '00151b4f-ba38-44a8-a650-d7cf130a0105'\n",
      " '001aaea6-3d14-43f1-8ca8-7f48820f17aa' ...\n",
      " 'fffb626c-5ab6-47c9-8113-2062a2f18494'\n",
      " 'ffff194a-56b7-4c12-860d-3485242ae7f5'\n",
      " 'ffff69cc-fec1-4fd3-9f98-93be1112a6b8']\n",
      "['facebook_ads' 'yandex_direct' 'youtube_channel_reklama'\n",
      " 'instagram_new_adverts']\n",
      "\n",
      "Количество найденных дубликатов: 0\n",
      "Нет данных для построения гистограмм\n"
     ]
    }
   ],
   "source": [
    "review(users)"
   ]
  },
  {
   "cell_type": "markdown",
   "id": "731b597a",
   "metadata": {},
   "source": [
    "Идеальные данные"
   ]
  },
  {
   "cell_type": "markdown",
   "id": "56cb6601",
   "metadata": {},
   "source": [
    "## Подготовка данных"
   ]
  },
  {
   "cell_type": "markdown",
   "id": "d9f4c329",
   "metadata": {},
   "source": [
    "Удалим один янвый дубликат"
   ]
  },
  {
   "cell_type": "code",
   "execution_count": 7,
   "id": "c3323a86",
   "metadata": {},
   "outputs": [],
   "source": [
    "actions = actions.drop_duplicates()"
   ]
  },
  {
   "cell_type": "markdown",
   "id": "e633e22d",
   "metadata": {},
   "source": [
    "Приведем даты в нужный формат"
   ]
  },
  {
   "cell_type": "code",
   "execution_count": 8,
   "id": "2c91e194",
   "metadata": {},
   "outputs": [],
   "source": [
    "actions['event_datetime'] = pd.to_datetime(actions['event_datetime'])\n",
    "costs['day'] = pd.to_datetime(costs['day']).dt.date"
   ]
  },
  {
   "cell_type": "markdown",
   "id": "eacb5662",
   "metadata": {},
   "source": [
    "### Создание общей таблицы, добавление столбцов."
   ]
  },
  {
   "cell_type": "markdown",
   "id": "6d8b337c",
   "metadata": {},
   "source": [
    "Для того, чтобы было удобно провести исследовательский анализ, преобразуем категориальные данные из колонок `'event','building_type','project_type'` таблицы actions в несколько колонок со значения 0 или 1 с помощью `get_dummies`, где каждая колонка будет иметь имя категории. В итоге таблица немного увеличится -  её запишем в новую переменную `df`, с которой будем дальше работать."
   ]
  },
  {
   "cell_type": "code",
   "execution_count": 9,
   "id": "a54dfc34",
   "metadata": {},
   "outputs": [
    {
     "name": "stdout",
     "output_type": "stream",
     "text": [
      "<class 'pandas.core.frame.DataFrame'>\n",
      "Int64Index: 135639 entries, 0 to 135639\n",
      "Data columns (total 9 columns):\n",
      " #   Column                                   Non-Null Count   Dtype         \n",
      "---  ------                                   --------------   -----         \n",
      " 0   event_datetime                           135639 non-null  datetime64[ns]\n",
      " 1   user_id                                  135639 non-null  object        \n",
      " 2   event_building                           135639 non-null  uint8         \n",
      " 3   event_finished_stage_1                   135639 non-null  uint8         \n",
      " 4   event_project                            135639 non-null  uint8         \n",
      " 5   building_type_assembly_shop              135639 non-null  uint8         \n",
      " 6   building_type_research_center            135639 non-null  uint8         \n",
      " 7   building_type_spaceport                  135639 non-null  uint8         \n",
      " 8   project_type_satellite_orbital_assembly  135639 non-null  uint8         \n",
      "dtypes: datetime64[ns](1), object(1), uint8(7)\n",
      "memory usage: 4.0+ MB\n"
     ]
    }
   ],
   "source": [
    "df = pd.get_dummies(actions,columns = ['event','building_type','project_type'])\n",
    "df.info()"
   ]
  },
  {
   "cell_type": "markdown",
   "id": "ec2b6a7c",
   "metadata": {},
   "source": [
    "Теперь можно сгруппировать данные по user_id и получить все необходимые данные игроков для анализа: \n",
    "    \n",
    "    первую и последнюю даты игры;\n",
    "    закончил ли, первый уровень;\n",
    "    сколько зданий всего построил;\n",
    "    сколько магазинов построил;\n",
    "    сколько лабораторий построил;\n",
    "    сколько косммическизх портов построил;\n",
    "    сделал ли, проект."
   ]
  },
  {
   "cell_type": "code",
   "execution_count": 10,
   "id": "f2212474",
   "metadata": {},
   "outputs": [],
   "source": [
    "df = (\n",
    "        df.sort_values(by=['user_id', 'event_datetime'])\n",
    "        .groupby('user_id')\n",
    "        .agg(\n",
    "            {\n",
    "                'event_datetime': ['first','last'],\n",
    "                'event_finished_stage_1': 'sum',\n",
    "                'event_building': 'sum',\n",
    "                'building_type_assembly_shop' : 'sum',\n",
    "                'building_type_research_center' : 'sum',\n",
    "                'building_type_spaceport' : 'sum',\n",
    "                'project_type_satellite_orbital_assembly': 'sum',\n",
    "                \n",
    "            }\n",
    "        )\n",
    "        \n",
    "        .reset_index()\n",
    "    )\n",
    "# Переименуем столбцы для удобства\n",
    "df.columns=['user_id',\n",
    "            'first_ta',\n",
    "            'last_ta',\n",
    "            'finish_st',\n",
    "            'b_sum',\n",
    "            'b_shop',\n",
    "            'b_research',\n",
    "            'b_spaceport',\n",
    "            'project']"
   ]
  },
  {
   "cell_type": "markdown",
   "id": "baf32e49",
   "metadata": {},
   "source": [
    "    Из таблицы `users` добавим данные об истонике данных. \n",
    "    Так же преобразум колонки `first_ta` и `last_ta` в даты без времени. \n",
    "    Так как данные в таблице `cost` \"отстают\" на один день, чтобы правильно ее подсоединить к текущей таблице - создадим колонку `day` с минус одним днем. \n",
    "    Добавим колонку о длительности игры путем разности последней и первой даты\n",
    "    "
   ]
  },
  {
   "cell_type": "code",
   "execution_count": 11,
   "id": "41a6af21",
   "metadata": {
    "scrolled": false
   },
   "outputs": [
    {
     "data": {
      "text/html": [
       "<div>\n",
       "<style scoped>\n",
       "    .dataframe tbody tr th:only-of-type {\n",
       "        vertical-align: middle;\n",
       "    }\n",
       "\n",
       "    .dataframe tbody tr th {\n",
       "        vertical-align: top;\n",
       "    }\n",
       "\n",
       "    .dataframe thead th {\n",
       "        text-align: right;\n",
       "    }\n",
       "</style>\n",
       "<table border=\"1\" class=\"dataframe\">\n",
       "  <thead>\n",
       "    <tr style=\"text-align: right;\">\n",
       "      <th></th>\n",
       "      <th>user_id</th>\n",
       "      <th>first_ta</th>\n",
       "      <th>last_ta</th>\n",
       "      <th>finish_st</th>\n",
       "      <th>b_sum</th>\n",
       "      <th>b_shop</th>\n",
       "      <th>b_research</th>\n",
       "      <th>b_spaceport</th>\n",
       "      <th>project</th>\n",
       "      <th>source</th>\n",
       "      <th>day</th>\n",
       "      <th>time</th>\n",
       "    </tr>\n",
       "  </thead>\n",
       "  <tbody>\n",
       "    <tr>\n",
       "      <th>0</th>\n",
       "      <td>0001f83c-c6ac-4621-b7f0-8a28b283ac30</td>\n",
       "      <td>2020-05-06</td>\n",
       "      <td>2020-05-20</td>\n",
       "      <td>0</td>\n",
       "      <td>13</td>\n",
       "      <td>6</td>\n",
       "      <td>1</td>\n",
       "      <td>6</td>\n",
       "      <td>0</td>\n",
       "      <td>facebook_ads</td>\n",
       "      <td>2020-05-05</td>\n",
       "      <td>14</td>\n",
       "    </tr>\n",
       "    <tr>\n",
       "      <th>1</th>\n",
       "      <td>00151b4f-ba38-44a8-a650-d7cf130a0105</td>\n",
       "      <td>2020-05-06</td>\n",
       "      <td>2020-05-18</td>\n",
       "      <td>0</td>\n",
       "      <td>9</td>\n",
       "      <td>4</td>\n",
       "      <td>0</td>\n",
       "      <td>5</td>\n",
       "      <td>0</td>\n",
       "      <td>yandex_direct</td>\n",
       "      <td>2020-05-05</td>\n",
       "      <td>12</td>\n",
       "    </tr>\n",
       "    <tr>\n",
       "      <th>2</th>\n",
       "      <td>001aaea6-3d14-43f1-8ca8-7f48820f17aa</td>\n",
       "      <td>2020-05-05</td>\n",
       "      <td>2020-05-14</td>\n",
       "      <td>0</td>\n",
       "      <td>4</td>\n",
       "      <td>2</td>\n",
       "      <td>0</td>\n",
       "      <td>2</td>\n",
       "      <td>0</td>\n",
       "      <td>youtube_channel_reklama</td>\n",
       "      <td>2020-05-04</td>\n",
       "      <td>9</td>\n",
       "    </tr>\n",
       "    <tr>\n",
       "      <th>3</th>\n",
       "      <td>001d39dc-366c-4021-9604-6a3b9ff01e25</td>\n",
       "      <td>2020-05-05</td>\n",
       "      <td>2020-05-12</td>\n",
       "      <td>1</td>\n",
       "      <td>8</td>\n",
       "      <td>4</td>\n",
       "      <td>0</td>\n",
       "      <td>4</td>\n",
       "      <td>0</td>\n",
       "      <td>instagram_new_adverts</td>\n",
       "      <td>2020-05-04</td>\n",
       "      <td>7</td>\n",
       "    </tr>\n",
       "    <tr>\n",
       "      <th>4</th>\n",
       "      <td>002f508f-67b6-479f-814b-b05f00d4e995</td>\n",
       "      <td>2020-05-05</td>\n",
       "      <td>2020-05-22</td>\n",
       "      <td>0</td>\n",
       "      <td>12</td>\n",
       "      <td>3</td>\n",
       "      <td>1</td>\n",
       "      <td>8</td>\n",
       "      <td>0</td>\n",
       "      <td>facebook_ads</td>\n",
       "      <td>2020-05-04</td>\n",
       "      <td>17</td>\n",
       "    </tr>\n",
       "  </tbody>\n",
       "</table>\n",
       "</div>"
      ],
      "text/plain": [
       "                                user_id    first_ta     last_ta  finish_st  \\\n",
       "0  0001f83c-c6ac-4621-b7f0-8a28b283ac30  2020-05-06  2020-05-20          0   \n",
       "1  00151b4f-ba38-44a8-a650-d7cf130a0105  2020-05-06  2020-05-18          0   \n",
       "2  001aaea6-3d14-43f1-8ca8-7f48820f17aa  2020-05-05  2020-05-14          0   \n",
       "3  001d39dc-366c-4021-9604-6a3b9ff01e25  2020-05-05  2020-05-12          1   \n",
       "4  002f508f-67b6-479f-814b-b05f00d4e995  2020-05-05  2020-05-22          0   \n",
       "\n",
       "   b_sum  b_shop  b_research  b_spaceport  project                   source  \\\n",
       "0     13       6           1            6        0             facebook_ads   \n",
       "1      9       4           0            5        0            yandex_direct   \n",
       "2      4       2           0            2        0  youtube_channel_reklama   \n",
       "3      8       4           0            4        0    instagram_new_adverts   \n",
       "4     12       3           1            8        0             facebook_ads   \n",
       "\n",
       "          day  time  \n",
       "0  2020-05-05    14  \n",
       "1  2020-05-05    12  \n",
       "2  2020-05-04     9  \n",
       "3  2020-05-04     7  \n",
       "4  2020-05-04    17  "
      ]
     },
     "execution_count": 11,
     "metadata": {},
     "output_type": "execute_result"
    }
   ],
   "source": [
    "df = df.merge(users, on = 'user_id', how = 'left')\n",
    "df['first_ta'] = df['first_ta'].dt.date\n",
    "df['last_ta'] = df['last_ta'].dt.date\n",
    "df['day'] = df['first_ta']-timedelta(1)\n",
    "df['time'] = (df['last_ta'] - df['first_ta']).dt.days\n",
    "df.head()"
   ]
  },
  {
   "cell_type": "markdown",
   "id": "b42e52db",
   "metadata": {},
   "source": [
    "## Исследовательский анализ"
   ]
  },
  {
   "cell_type": "markdown",
   "id": "f5c5f52d",
   "metadata": {},
   "source": [
    "### Количество пришедших игроков с разных источников"
   ]
  },
  {
   "cell_type": "markdown",
   "id": "d854f2f6",
   "metadata": {},
   "source": [
    "Ддя того, чтобы строить в дальнейшем столбчатые диаграммы создадим функцию `seabar`. На вход функции будет заходить таблица, столбцы по которым нужно будет построить график, название графика, названия осей x,y,и угол наклона надписей оси y по умолчанию поставим 30 градусов, и ограничения по оси x - по умолчанию None. На выходе будет график из четырех баров, разделенные по источникам."
   ]
  },
  {
   "cell_type": "code",
   "execution_count": 12,
   "id": "2dcdcbeb",
   "metadata": {},
   "outputs": [],
   "source": [
    "def seabar(data,x,y,title,xlabel,ylabel,rotation = 30, a= None, b=None):\n",
    "    plt.show()\n",
    "    plt.figure(figsize = (10,6))\n",
    "    bar = sns.barplot(\n",
    "        x = x,\n",
    "        y = y,\n",
    "        data = data,\n",
    "        # Здесь пречисляем источники, чтобы они не изменяли свое место на графике и имели один и тот же цвет соотвественно\n",
    "        order=[\"facebook_ads\", \"yandex_direct\", \"youtube_channel_reklama\", \"instagram_new_adverts\"])\n",
    "    bar.set_title(title, fontdict={'fontsize':18}, y = 1.04)\n",
    "    bar.set_xlabel(xlabel, fontdict={'fontsize':16})\n",
    "    bar.set_ylabel(ylabel, fontdict={'fontsize':16})\n",
    "    bar.set_ylim(a,b)\n",
    "    #Поворачиваем надписи на оси х\n",
    "    plt.xticks(rotation=rotation)\n",
    "    "
   ]
  },
  {
   "cell_type": "markdown",
   "id": "00a29832",
   "metadata": {},
   "source": [
    "С помощью сводной таблицы посчитаем количество игроков из разных источников:"
   ]
  },
  {
   "cell_type": "code",
   "execution_count": 13,
   "id": "32bd1ecc",
   "metadata": {},
   "outputs": [],
   "source": [
    "user_bar = (\n",
    "    df.pivot_table(index = 'source', values = 'user_id', aggfunc = 'count')\n",
    "    .reset_index()\n",
    ")"
   ]
  },
  {
   "cell_type": "markdown",
   "id": "7f68e05a",
   "metadata": {},
   "source": [
    "Применяем для user_bar функцию `seabar`."
   ]
  },
  {
   "cell_type": "code",
   "execution_count": 14,
   "id": "97d78244",
   "metadata": {},
   "outputs": [
    {
     "data": {
      "image/png": "[encoded data removed]",
      "text/plain": [
       "<Figure size 720x432 with 1 Axes>"
      ]
     },
     "metadata": {
      "needs_background": "light"
     },
     "output_type": "display_data"
    }
   ],
   "source": [
    "seabar(data = user_bar,\n",
    "       x = 'source',\n",
    "       y = 'user_id',\n",
    "       title = 'Количество пришедших игроков с разных источников',\n",
    "       xlabel = '',\n",
    "       ylabel = 'Количество игроков',\n",
    "       rotation = -30)"
   ]
  },
  {
   "cell_type": "markdown",
   "id": "c1f67221",
   "metadata": {},
   "source": [
    "Yandex_direct привлек почти 5000 игроков, близкое по количеству игроков привлекли facebook и youtube."
   ]
  },
  {
   "cell_type": "markdown",
   "id": "490adb4e",
   "metadata": {},
   "source": [
    "Посмотрим как приходили игроки по времени."
   ]
  },
  {
   "cell_type": "code",
   "execution_count": 15,
   "id": "7ada49a6",
   "metadata": {},
   "outputs": [
    {
     "data": {
      "image/png": "[encoded data removed]",
      "text/plain": [
       "<Figure size 720x432 with 1 Axes>"
      ]
     },
     "metadata": {
      "needs_background": "light"
     },
     "output_type": "display_data"
    }
   ],
   "source": [
    "(\n",
    "    df.pivot_table(index='day', columns = 'source', values='user_id', aggfunc='count')\n",
    "    .plot(grid=True, figsize=(10, 6))\n",
    ")\n",
    "plt.xlabel('Дата', size = 16)\n",
    "plt.ylabel('Количество игроков', size = 16)\n",
    "plt.title('Количество пришедших игроков с разных источников по времени', pad = 25,fontdict = {'fontsize':18})\n",
    "plt.show()"
   ]
  },
  {
   "cell_type": "markdown",
   "id": "d11bae15",
   "metadata": {},
   "source": [
    "Все достаточно ровно."
   ]
  },
  {
   "cell_type": "markdown",
   "id": "e22f3431",
   "metadata": {},
   "source": [
    "### Сколько зданий строят игроки в зависимости от источника перехода, способа прохождения игры"
   ]
  },
  {
   "cell_type": "markdown",
   "id": "bd8525fc",
   "metadata": {},
   "source": [
    "Для начала расчитаем среднюю количества построенных зданий, игроками из разных истоников."
   ]
  },
  {
   "cell_type": "code",
   "execution_count": 16,
   "id": "3e5f6731",
   "metadata": {},
   "outputs": [
    {
     "data": {
      "text/html": [
       "<div>\n",
       "<style scoped>\n",
       "    .dataframe tbody tr th:only-of-type {\n",
       "        vertical-align: middle;\n",
       "    }\n",
       "\n",
       "    .dataframe tbody tr th {\n",
       "        vertical-align: top;\n",
       "    }\n",
       "\n",
       "    .dataframe thead th {\n",
       "        text-align: right;\n",
       "    }\n",
       "</style>\n",
       "<table border=\"1\" class=\"dataframe\">\n",
       "  <thead>\n",
       "    <tr style=\"text-align: right;\">\n",
       "      <th></th>\n",
       "      <th>b_sum</th>\n",
       "    </tr>\n",
       "    <tr>\n",
       "      <th>source</th>\n",
       "      <th></th>\n",
       "    </tr>\n",
       "  </thead>\n",
       "  <tbody>\n",
       "    <tr>\n",
       "      <th>facebook_ads</th>\n",
       "      <td>9.585840</td>\n",
       "    </tr>\n",
       "    <tr>\n",
       "      <th>instagram_new_adverts</th>\n",
       "      <td>9.505527</td>\n",
       "    </tr>\n",
       "    <tr>\n",
       "      <th>yandex_direct</th>\n",
       "      <td>9.348557</td>\n",
       "    </tr>\n",
       "    <tr>\n",
       "      <th>youtube_channel_reklama</th>\n",
       "      <td>9.299330</td>\n",
       "    </tr>\n",
       "  </tbody>\n",
       "</table>\n",
       "</div>"
      ],
      "text/plain": [
       "                            b_sum\n",
       "source                           \n",
       "facebook_ads             9.585840\n",
       "instagram_new_adverts    9.505527\n",
       "yandex_direct            9.348557\n",
       "youtube_channel_reklama  9.299330"
      ]
     },
     "execution_count": 16,
     "metadata": {},
     "output_type": "execute_result"
    }
   ],
   "source": [
    "df.pivot_table(index = 'source', values = 'b_sum', aggfunc = 'mean')"
   ]
  },
  {
   "cell_type": "markdown",
   "id": "515019bc",
   "metadata": {},
   "source": [
    "Видим, что в facebook строят в среднем чуть больше зданий, чем в остальных источниках. Меньше всего youtube"
   ]
  },
  {
   "cell_type": "markdown",
   "id": "1be2bb90",
   "metadata": {},
   "source": [
    "Создадим функцию `seabox()` для боксплотов, так как их будет много. На вход функции будет заходить таблица, столбцы по которым нужно будет построить график, название графика, названия осей x,y,и угол наклона надписей оси x по умолчанию 30 градусов. На выходе будет 2 графика из четырех боксплотов.\n",
    "\n",
    "В функции будет расчет именно для игроков прошедших уровень: разделенных \"на победу над врагом\" и \"завершение проекта\""
   ]
  },
  {
   "cell_type": "code",
   "execution_count": 17,
   "id": "db686908",
   "metadata": {},
   "outputs": [],
   "source": [
    "def seabox(data,x,y,title,xlabel,ylabel,rotation = 30):\n",
    "    for p in [0,1]:\n",
    "        data = df.query('finish_st == 1 and project == @p')\n",
    "        plt.figure(figsize = (10,6))\n",
    "        #colors = ['#78C850', '#F08030', '#6890F0','#F8D030']\n",
    "        box = sns.boxplot(\n",
    "            x = x,\n",
    "            y = y,\n",
    "            data = data,\n",
    "            # Здесь пречисляем источники, чтобы они не изменяли свое место на графике и имели один и тот же цвет соотвественно\n",
    "            order=[\"facebook_ads\", \"yandex_direct\", \"youtube_channel_reklama\", \"instagram_new_adverts\"])\n",
    "        if p == 0:\n",
    "            box.set_title(f'{title} \\n при победе над врагом', fontdict={'fontsize':18})\n",
    "        else:\n",
    "            box.set_title(f'{title} \\n при завершении проекта', fontdict={'fontsize':18})\n",
    "        box.set_xlabel(xlabel, fontdict={'fontsize':14})\n",
    "        box.set_ylabel(ylabel, fontdict={'fontsize':14})\n",
    "        plt.xticks(rotation=rotation)\n",
    "        plt.show()"
   ]
  },
  {
   "cell_type": "markdown",
   "id": "5d90fbc5",
   "metadata": {},
   "source": [
    "Применим функцию `seabox` для данных из таблицы df. Берем источники и количество построенных зданий."
   ]
  },
  {
   "cell_type": "code",
   "execution_count": 18,
   "id": "31641ff1",
   "metadata": {},
   "outputs": [
    {
     "data": {
      "image/png": "[encoded data removed]",
      "text/plain": [
       "<Figure size 720x432 with 1 Axes>"
      ]
     },
     "metadata": {
      "needs_background": "light"
     },
     "output_type": "display_data"
    },
    {
     "data": {
      "image/png": "[encoded data removed]",
      "text/plain": [
       "<Figure size 720x432 with 1 Axes>"
      ]
     },
     "metadata": {
      "needs_background": "light"
     },
     "output_type": "display_data"
    }
   ],
   "source": [
    "seabox(data = df,\n",
    "       x = 'source',\n",
    "       y = 'b_sum',\n",
    "       title = 'Распределение количества построенных зданий в зависимости от источника',\n",
    "       xlabel = '',\n",
    "       ylabel = 'Количество зданий')"
   ]
  },
  {
   "cell_type": "markdown",
   "id": "6e2524d3",
   "metadata": {},
   "source": [
    "По графикам видно:\n",
    "- При победе над врагом:\n",
    "Медианное значение построенных зданий равно 10. В `facebook_ads, instagram_new_adverts` 50% данных находится в диапазоне 8-11 построенных зданий. В `yandex_direct, youtube_channel_reklama` 50% данных находится в чуть пошире диапазоне 8-12 зданий.\n",
    "- При завершении проекта:\n",
    "Игроки строят в среднем больше зданий и медианное значение равно 12. При этом принципиальных различий в постройке зданий в зависимости от истоника данных практически нет."
   ]
  },
  {
   "cell_type": "markdown",
   "id": "1935f215",
   "metadata": {},
   "source": [
    "### Круговые диаграммы долей типов построенных зданий в зависимости от источника и типа победы"
   ]
  },
  {
   "cell_type": "markdown",
   "id": "ee2f88f0",
   "metadata": {},
   "source": [
    "С помощью цикла построим 8 круговых диарамм и 2 таблицы. Важно: учитываются только те игроки, которые завершили уровень."
   ]
  },
  {
   "cell_type": "code",
   "execution_count": 19,
   "id": "22da4236",
   "metadata": {
    "scrolled": false
   },
   "outputs": [
    {
     "name": "stdout",
     "output_type": "stream",
     "text": [
      "Таблица и круговые диаграммы построенных зданий в зависимости от источника при победе над врагом\n"
     ]
    },
    {
     "data": {
      "text/html": [
       "<div>\n",
       "<style scoped>\n",
       "    .dataframe tbody tr th:only-of-type {\n",
       "        vertical-align: middle;\n",
       "    }\n",
       "\n",
       "    .dataframe tbody tr th {\n",
       "        vertical-align: top;\n",
       "    }\n",
       "\n",
       "    .dataframe thead th {\n",
       "        text-align: right;\n",
       "    }\n",
       "</style>\n",
       "<table border=\"1\" class=\"dataframe\">\n",
       "  <thead>\n",
       "    <tr style=\"text-align: right;\">\n",
       "      <th></th>\n",
       "      <th>b_research</th>\n",
       "      <th>b_shop</th>\n",
       "      <th>b_spaceport</th>\n",
       "    </tr>\n",
       "    <tr>\n",
       "      <th>source</th>\n",
       "      <th></th>\n",
       "      <th></th>\n",
       "      <th></th>\n",
       "    </tr>\n",
       "  </thead>\n",
       "  <tbody>\n",
       "    <tr>\n",
       "      <th>facebook_ads</th>\n",
       "      <td>747.0</td>\n",
       "      <td>3172.0</td>\n",
       "      <td>3238.0</td>\n",
       "    </tr>\n",
       "    <tr>\n",
       "      <th>instagram_new_adverts</th>\n",
       "      <td>929.0</td>\n",
       "      <td>4030.0</td>\n",
       "      <td>4347.0</td>\n",
       "    </tr>\n",
       "    <tr>\n",
       "      <th>yandex_direct</th>\n",
       "      <td>1334.0</td>\n",
       "      <td>5881.0</td>\n",
       "      <td>6117.0</td>\n",
       "    </tr>\n",
       "    <tr>\n",
       "      <th>youtube_channel_reklama</th>\n",
       "      <td>745.0</td>\n",
       "      <td>3215.0</td>\n",
       "      <td>3430.0</td>\n",
       "    </tr>\n",
       "  </tbody>\n",
       "</table>\n",
       "</div>"
      ],
      "text/plain": [
       "                         b_research  b_shop  b_spaceport\n",
       "source                                                  \n",
       "facebook_ads                  747.0  3172.0       3238.0\n",
       "instagram_new_adverts         929.0  4030.0       4347.0\n",
       "yandex_direct                1334.0  5881.0       6117.0\n",
       "youtube_channel_reklama       745.0  3215.0       3430.0"
      ]
     },
     "metadata": {},
     "output_type": "display_data"
    },
    {
     "data": {
      "image/png": "[encoded data removed]",
      "text/plain": [
       "<Figure size 288x288 with 1 Axes>"
      ]
     },
     "metadata": {},
     "output_type": "display_data"
    },
    {
     "data": {
      "image/png": "[encoded data removed]",
      "text/plain": [
       "<Figure size 288x288 with 1 Axes>"
      ]
     },
     "metadata": {},
     "output_type": "display_data"
    },
    {
     "data": {
      "image/png": "[encoded data removed]",
      "text/plain": [
       "<Figure size 288x288 with 1 Axes>"
      ]
     },
     "metadata": {},
     "output_type": "display_data"
    },
    {
     "data": {
      "image/png": "[encoded data removed]",
      "text/plain": [
       "<Figure size 288x288 with 1 Axes>"
      ]
     },
     "metadata": {},
     "output_type": "display_data"
    },
    {
     "name": "stdout",
     "output_type": "stream",
     "text": [
      "Таблица и круговые диаграммы построенных зданий в зависимости от источника при завершении проекта\n"
     ]
    },
    {
     "data": {
      "text/html": [
       "<div>\n",
       "<style scoped>\n",
       "    .dataframe tbody tr th:only-of-type {\n",
       "        vertical-align: middle;\n",
       "    }\n",
       "\n",
       "    .dataframe tbody tr th {\n",
       "        vertical-align: top;\n",
       "    }\n",
       "\n",
       "    .dataframe thead th {\n",
       "        text-align: right;\n",
       "    }\n",
       "</style>\n",
       "<table border=\"1\" class=\"dataframe\">\n",
       "  <thead>\n",
       "    <tr style=\"text-align: right;\">\n",
       "      <th></th>\n",
       "      <th>b_research</th>\n",
       "      <th>b_shop</th>\n",
       "      <th>b_spaceport</th>\n",
       "    </tr>\n",
       "    <tr>\n",
       "      <th>source</th>\n",
       "      <th></th>\n",
       "      <th></th>\n",
       "      <th></th>\n",
       "    </tr>\n",
       "  </thead>\n",
       "  <tbody>\n",
       "    <tr>\n",
       "      <th>facebook_ads</th>\n",
       "      <td>786.0</td>\n",
       "      <td>1918.0</td>\n",
       "      <td>2242.0</td>\n",
       "    </tr>\n",
       "    <tr>\n",
       "      <th>instagram_new_adverts</th>\n",
       "      <td>948.0</td>\n",
       "      <td>2340.0</td>\n",
       "      <td>2784.0</td>\n",
       "    </tr>\n",
       "    <tr>\n",
       "      <th>yandex_direct</th>\n",
       "      <td>1224.0</td>\n",
       "      <td>3034.0</td>\n",
       "      <td>3551.0</td>\n",
       "    </tr>\n",
       "    <tr>\n",
       "      <th>youtube_channel_reklama</th>\n",
       "      <td>739.0</td>\n",
       "      <td>1824.0</td>\n",
       "      <td>2211.0</td>\n",
       "    </tr>\n",
       "  </tbody>\n",
       "</table>\n",
       "</div>"
      ],
      "text/plain": [
       "                         b_research  b_shop  b_spaceport\n",
       "source                                                  \n",
       "facebook_ads                  786.0  1918.0       2242.0\n",
       "instagram_new_adverts         948.0  2340.0       2784.0\n",
       "yandex_direct                1224.0  3034.0       3551.0\n",
       "youtube_channel_reklama       739.0  1824.0       2211.0"
      ]
     },
     "metadata": {},
     "output_type": "display_data"
    },
    {
     "data": {
      "image/png": "[encoded data removed]",
      "text/plain": [
       "<Figure size 288x288 with 1 Axes>"
      ]
     },
     "metadata": {},
     "output_type": "display_data"
    },
    {
     "data": {
      "image/png": "[encoded data removed]",
      "text/plain": [
       "<Figure size 288x288 with 1 Axes>"
      ]
     },
     "metadata": {},
     "output_type": "display_data"
    },
    {
     "data": {
      "image/png": "[encoded data removed]",
      "text/plain": [
       "<Figure size 288x288 with 1 Axes>"
      ]
     },
     "metadata": {},
     "output_type": "display_data"
    },
    {
     "data": {
      "image/png": "[encoded data removed]",
      "text/plain": [
       "<Figure size 288x288 with 1 Axes>"
      ]
     },
     "metadata": {},
     "output_type": "display_data"
    }
   ],
   "source": [
    "for p in [0,1]:\n",
    "    \n",
    "    report = (\n",
    "        df.query('finish_st == 1 and project == @p')\n",
    "        .pivot_table(index = 'source', values = ['b_research', 'b_shop', 'b_spaceport'], aggfunc = 'sum')\n",
    "    )\n",
    "    \n",
    "    if p == 0:\n",
    "        print('Таблица и круговые диаграммы построенных зданий в зависимости от источника при победе над врагом')\n",
    "    else:\n",
    "        print('Таблица и круговые диаграммы построенных зданий в зависимости от источника при завершении проекта')\n",
    "    display(report)\n",
    "    # Переворачиваем таблицу для того, чтобы строить графики по истоникам данных, а не по зданиям.\n",
    "    for col in report.T.columns:\n",
    "        \n",
    "        report.T.plot(y = col, kind = 'pie', figsize = (4,4),autopct='%1.1f%%')\n",
    "        plt.title(f'{col}', size = 18, pad = 25,fontdict = {'fontweight' : 'bold'})\n",
    "        plt.ylabel('')\n",
    "    plt.show()"
   ]
  },
  {
   "cell_type": "markdown",
   "id": "793c7350",
   "metadata": {},
   "source": [
    "Сильных различий в зависимости от источника данных не наблюдается. А вот в зависимости от победы, видно что лабораторий строят больше чем магазинов, если нужна победа с помощью завершения проекта.(в данном случае скорее всего выполняется одно из условий игры)"
   ]
  },
  {
   "cell_type": "markdown",
   "id": "0692e6f6",
   "metadata": {},
   "source": [
    "### Какое время занимает у игроков прохождение первого уровня в зависимости от источника перехода, и способа прохождения"
   ]
  },
  {
   "cell_type": "markdown",
   "id": "d1c4d3c9",
   "metadata": {},
   "source": [
    "Для начала посчитаем средние значения."
   ]
  },
  {
   "cell_type": "code",
   "execution_count": 20,
   "id": "d6e6b1e0",
   "metadata": {},
   "outputs": [
    {
     "data": {
      "text/html": [
       "<div>\n",
       "<style scoped>\n",
       "    .dataframe tbody tr th:only-of-type {\n",
       "        vertical-align: middle;\n",
       "    }\n",
       "\n",
       "    .dataframe tbody tr th {\n",
       "        vertical-align: top;\n",
       "    }\n",
       "\n",
       "    .dataframe thead th {\n",
       "        text-align: right;\n",
       "    }\n",
       "</style>\n",
       "<table border=\"1\" class=\"dataframe\">\n",
       "  <thead>\n",
       "    <tr style=\"text-align: right;\">\n",
       "      <th></th>\n",
       "      <th>time</th>\n",
       "    </tr>\n",
       "    <tr>\n",
       "      <th>source</th>\n",
       "      <th></th>\n",
       "    </tr>\n",
       "  </thead>\n",
       "  <tbody>\n",
       "    <tr>\n",
       "      <th>facebook_ads</th>\n",
       "      <td>10.676449</td>\n",
       "    </tr>\n",
       "    <tr>\n",
       "      <th>instagram_new_adverts</th>\n",
       "      <td>10.745145</td>\n",
       "    </tr>\n",
       "    <tr>\n",
       "      <th>yandex_direct</th>\n",
       "      <td>10.565497</td>\n",
       "    </tr>\n",
       "    <tr>\n",
       "      <th>youtube_channel_reklama</th>\n",
       "      <td>10.554356</td>\n",
       "    </tr>\n",
       "  </tbody>\n",
       "</table>\n",
       "</div>"
      ],
      "text/plain": [
       "                              time\n",
       "source                            \n",
       "facebook_ads             10.676449\n",
       "instagram_new_adverts    10.745145\n",
       "yandex_direct            10.565497\n",
       "youtube_channel_reklama  10.554356"
      ]
     },
     "execution_count": 20,
     "metadata": {},
     "output_type": "execute_result"
    }
   ],
   "source": [
    "df.pivot_table(index = 'source', values = 'time', aggfunc = 'mean')"
   ]
  },
  {
   "cell_type": "markdown",
   "id": "fdc5aa15",
   "metadata": {},
   "source": [
    "Дольше всего проходят игру в среднем игроки из Инстаграмма"
   ]
  },
  {
   "cell_type": "markdown",
   "id": "e08a9051",
   "metadata": {},
   "source": [
    "Испоьзуем функцию `seabox` для построения распределений. Важно: в данных графиках распределения для игроков прошедних первый уровень в зависимости от способа."
   ]
  },
  {
   "cell_type": "code",
   "execution_count": 21,
   "id": "c5da6b15",
   "metadata": {},
   "outputs": [
    {
     "data": {
      "image/png": "[encoded data removed]",
      "text/plain": [
       "<Figure size 720x432 with 1 Axes>"
      ]
     },
     "metadata": {
      "needs_background": "light"
     },
     "output_type": "display_data"
    },
    {
     "data": {
      "image/png": "[encoded data removed]",
      "text/plain": [
       "<Figure size 720x432 with 1 Axes>"
      ]
     },
     "metadata": {
      "needs_background": "light"
     },
     "output_type": "display_data"
    }
   ],
   "source": [
    "seabox(data = df,\n",
    "       x = 'source',\n",
    "       y = 'time',\n",
    "       title = 'Распределение количества дней для прохождения первого уровня в зависимости от источника',\n",
    "       xlabel = '',\n",
    "       ylabel = 'Количество дней')"
   ]
  },
  {
   "cell_type": "markdown",
   "id": "528e1e1d",
   "metadata": {},
   "source": [
    "- При побде над врагом:\n",
    "По медиане требуется 11 дней на прохождение уровня\n",
    "- При победе с помощью завершения проекта:\n",
    "По медиане требуется 13 дней. \n",
    "\n",
    "В зависимости от источника принципиальных различий не видно."
   ]
  },
  {
   "cell_type": "markdown",
   "id": "d03aa6cb",
   "metadata": {},
   "source": [
    "### Какая доля игроков перестает играть в зависимости от истоника перехода"
   ]
  },
  {
   "cell_type": "markdown",
   "id": "8f0518d4",
   "metadata": {},
   "source": [
    "Построим таблицу, где будет видно сколько ушло, осталось играть, и процент ушедших от общего числа игроков в зависимости от истоника."
   ]
  },
  {
   "cell_type": "code",
   "execution_count": 22,
   "id": "9c294daf",
   "metadata": {},
   "outputs": [
    {
     "data": {
      "text/html": [
       "<div>\n",
       "<style scoped>\n",
       "    .dataframe tbody tr th:only-of-type {\n",
       "        vertical-align: middle;\n",
       "    }\n",
       "\n",
       "    .dataframe tbody tr th {\n",
       "        vertical-align: top;\n",
       "    }\n",
       "\n",
       "    .dataframe thead th {\n",
       "        text-align: right;\n",
       "    }\n",
       "</style>\n",
       "<table border=\"1\" class=\"dataframe\">\n",
       "  <thead>\n",
       "    <tr style=\"text-align: right;\">\n",
       "      <th></th>\n",
       "      <th>источник</th>\n",
       "      <th>ушедшие</th>\n",
       "      <th>оставшиеся</th>\n",
       "      <th>доля ушедших, %</th>\n",
       "    </tr>\n",
       "  </thead>\n",
       "  <tbody>\n",
       "    <tr>\n",
       "      <th>1</th>\n",
       "      <td>instagram_new_adverts</td>\n",
       "      <td>1881</td>\n",
       "      <td>1466</td>\n",
       "      <td>56.20</td>\n",
       "    </tr>\n",
       "    <tr>\n",
       "      <th>3</th>\n",
       "      <td>youtube_channel_reklama</td>\n",
       "      <td>1527</td>\n",
       "      <td>1159</td>\n",
       "      <td>56.85</td>\n",
       "    </tr>\n",
       "    <tr>\n",
       "      <th>2</th>\n",
       "      <td>yandex_direct</td>\n",
       "      <td>2775</td>\n",
       "      <td>2042</td>\n",
       "      <td>57.61</td>\n",
       "    </tr>\n",
       "    <tr>\n",
       "      <th>0</th>\n",
       "      <td>facebook_ads</td>\n",
       "      <td>1576</td>\n",
       "      <td>1150</td>\n",
       "      <td>57.81</td>\n",
       "    </tr>\n",
       "  </tbody>\n",
       "</table>\n",
       "</div>"
      ],
      "text/plain": [
       "                  источник  ушедшие  оставшиеся  доля ушедших, %\n",
       "1    instagram_new_adverts     1881        1466            56.20\n",
       "3  youtube_channel_reklama     1527        1159            56.85\n",
       "2            yandex_direct     2775        2042            57.61\n",
       "0             facebook_ads     1576        1150            57.81"
      ]
     },
     "execution_count": 22,
     "metadata": {},
     "output_type": "execute_result"
    }
   ],
   "source": [
    "report = (\n",
    "    \n",
    "    df.query('finish_st == 0')\n",
    "    .pivot_table(index = 'source', values = 'user_id', aggfunc = 'count')\n",
    "    .reset_index()\n",
    "    .merge(\n",
    "        df.query('finish_st == 1')\n",
    "        .pivot_table(index = 'source', values = 'user_id', aggfunc = 'count')\n",
    "        .reset_index(),\n",
    "        on = 'source', how = 'left')\n",
    ")\n",
    "report.columns = ['источник','ушедшие','оставшиеся']\n",
    "report['доля ушедших, %'] = (report['ушедшие']*100/(report['ушедшие']+report['оставшиеся'])).round(2)\n",
    "report.sort_values('доля ушедших, %')"
   ]
  },
  {
   "cell_type": "markdown",
   "id": "64ef8ad3",
   "metadata": {},
   "source": [
    "Для наглядности построим barplot заготовленной функцией `seabar`"
   ]
  },
  {
   "cell_type": "code",
   "execution_count": 23,
   "id": "5eaf3ce3",
   "metadata": {},
   "outputs": [
    {
     "data": {
      "image/png": "[encoded data removed]",
      "text/plain": [
       "<Figure size 720x432 with 1 Axes>"
      ]
     },
     "metadata": {
      "needs_background": "light"
     },
     "output_type": "display_data"
    }
   ],
   "source": [
    "seabar(data = report,\n",
    "       x = 'источник',\n",
    "       y = 'доля ушедших, %',\n",
    "       title = 'Доля ушедших игроков из каждого источника',\n",
    "       xlabel = '',\n",
    "       ylabel = 'Доля,%',\n",
    "       rotation = -30,\n",
    "       a = 55,\n",
    "       b = 58)\n",
    "\n"
   ]
  },
  {
   "cell_type": "markdown",
   "id": "95f70fde",
   "metadata": {},
   "source": [
    "Из `facebook_ads` уходит больше всего игроков 57,61%. Меньше всего из `instagram_new_adverts` - 56,2%"
   ]
  },
  {
   "cell_type": "markdown",
   "id": "59b06190",
   "metadata": {},
   "source": [
    "### Стоимость привлечения одного игрока из каждого источника"
   ]
  },
  {
   "cell_type": "markdown",
   "id": "65e0300f",
   "metadata": {},
   "source": [
    "Для того чтобы посчитать данный показатель: сначала построим таблицу, обьединив сгруппированные данные по  дню и истонику из df и costs. "
   ]
  },
  {
   "cell_type": "code",
   "execution_count": 24,
   "id": "79b316eb",
   "metadata": {},
   "outputs": [],
   "source": [
    "new_users = (\n",
    "        df.groupby(['day', 'source'])\n",
    "        .agg({'user_id': 'nunique'})\n",
    "        .rename(columns={'user_id': 'unique_users'})\n",
    "        .reset_index()\n",
    "    )\n",
    "costs = costs.merge(new_users, on = ['day','source'], how = 'left')"
   ]
  },
  {
   "cell_type": "markdown",
   "id": "d269142a",
   "metadata": {},
   "source": [
    "Теперь можно посчитать цену на каждого игрока. разделив общую потраченную сумму в этот день на определенный истоник на количество уникальных пользователей, окторые пришли из этого истоника в этот день."
   ]
  },
  {
   "cell_type": "code",
   "execution_count": 25,
   "id": "e704ed6a",
   "metadata": {},
   "outputs": [],
   "source": [
    "costs['acquisition_cost'] = costs['cost'] / costs['unique_users']"
   ]
  },
  {
   "cell_type": "markdown",
   "id": "64735d05",
   "metadata": {},
   "source": [
    "Ну а теперь, можно обьединить данные по источнику, и узнать среднюю цену привлечения игрока,сколько всего потрачено, и количество привлеченных игроков зависимости от источника."
   ]
  },
  {
   "cell_type": "code",
   "execution_count": 26,
   "id": "7391e6e4",
   "metadata": {},
   "outputs": [
    {
     "data": {
      "text/html": [
       "<div>\n",
       "<style scoped>\n",
       "    .dataframe tbody tr th:only-of-type {\n",
       "        vertical-align: middle;\n",
       "    }\n",
       "\n",
       "    .dataframe tbody tr th {\n",
       "        vertical-align: top;\n",
       "    }\n",
       "\n",
       "    .dataframe thead th {\n",
       "        text-align: right;\n",
       "    }\n",
       "</style>\n",
       "<table border=\"1\" class=\"dataframe\">\n",
       "  <thead>\n",
       "    <tr style=\"text-align: right;\">\n",
       "      <th></th>\n",
       "      <th>source</th>\n",
       "      <th>acquisition_cost</th>\n",
       "      <th>cost</th>\n",
       "      <th>unique_users</th>\n",
       "    </tr>\n",
       "  </thead>\n",
       "  <tbody>\n",
       "    <tr>\n",
       "      <th>0</th>\n",
       "      <td>youtube_channel_reklama</td>\n",
       "      <td>0.403225</td>\n",
       "      <td>1068.119204</td>\n",
       "      <td>2686</td>\n",
       "    </tr>\n",
       "    <tr>\n",
       "      <th>1</th>\n",
       "      <td>yandex_direct</td>\n",
       "      <td>0.463491</td>\n",
       "      <td>2233.111449</td>\n",
       "      <td>4817</td>\n",
       "    </tr>\n",
       "    <tr>\n",
       "      <th>2</th>\n",
       "      <td>instagram_new_adverts</td>\n",
       "      <td>0.646144</td>\n",
       "      <td>2161.441691</td>\n",
       "      <td>3347</td>\n",
       "    </tr>\n",
       "    <tr>\n",
       "      <th>3</th>\n",
       "      <td>facebook_ads</td>\n",
       "      <td>0.776358</td>\n",
       "      <td>2140.904643</td>\n",
       "      <td>2726</td>\n",
       "    </tr>\n",
       "  </tbody>\n",
       "</table>\n",
       "</div>"
      ],
      "text/plain": [
       "                    source  acquisition_cost         cost  unique_users\n",
       "0  youtube_channel_reklama          0.403225  1068.119204          2686\n",
       "1            yandex_direct          0.463491  2233.111449          4817\n",
       "2    instagram_new_adverts          0.646144  2161.441691          3347\n",
       "3             facebook_ads          0.776358  2140.904643          2726"
      ]
     },
     "execution_count": 26,
     "metadata": {},
     "output_type": "execute_result"
    }
   ],
   "source": [
    "report = (\n",
    "    costs\n",
    "    .pivot_table(index = 'source',\n",
    "                 values = ['acquisition_cost','cost','unique_users'],\n",
    "                 aggfunc = {'acquisition_cost':'mean','cost':'sum', 'unique_users':'sum'})\n",
    "    .sort_values(by = 'acquisition_cost')\n",
    "    .reset_index()\n",
    ")\n",
    "report"
   ]
  },
  {
   "cell_type": "markdown",
   "id": "eeb23d0e",
   "metadata": {},
   "source": [
    "Ну и конечно построим барплот для наглядности:"
   ]
  },
  {
   "cell_type": "code",
   "execution_count": 27,
   "id": "f08c386c",
   "metadata": {},
   "outputs": [
    {
     "data": {
      "image/png": "[encoded data removed]",
      "text/plain": [
       "<Figure size 720x432 with 1 Axes>"
      ]
     },
     "metadata": {
      "needs_background": "light"
     },
     "output_type": "display_data"
    }
   ],
   "source": [
    "seabar(data = report,\n",
    "       x = 'source',\n",
    "       y = 'acquisition_cost',\n",
    "       title = 'Стоимость привлечения одного игрока из каждого источника',\n",
    "       xlabel = '',\n",
    "       ylabel = 'Стоимость'\n",
    "       )"
   ]
  },
  {
   "cell_type": "markdown",
   "id": "12e99ca8",
   "metadata": {},
   "source": [
    "Стоймости привлечения игроков сильно разнятся: в `facebook_ads` и `instagram_new_advert` самые дорогие игроки, в `yandex_direct` и `youtube_channel_reklama` дешевле. При этом на `youtube_channel_reklama` потрачено меньше всего средств в общем - 1068. На остальные источники чуть большее 2100."
   ]
  },
  {
   "cell_type": "markdown",
   "id": "d688c325",
   "metadata": {},
   "source": [
    "`facebook_ads`, `yandex_direct`, `youtube_channel_reklama`, `instagram_new_advert`"
   ]
  },
  {
   "cell_type": "markdown",
   "id": "f13a691a",
   "metadata": {},
   "source": [
    "<a id='punkt3.7'></a>\n",
    "### Разница в выборе стратегии в зависимости от источника"
   ]
  },
  {
   "cell_type": "markdown",
   "id": "d5bdea9e",
   "metadata": {},
   "source": [
    "Делаем два среза: кто прошел уровень при победе над врагом, кто прошел уровень при завершении проекта; соединяем их и считаем доли."
   ]
  },
  {
   "cell_type": "code",
   "execution_count": 28,
   "id": "069a2d6c",
   "metadata": {},
   "outputs": [
    {
     "data": {
      "text/html": [
       "<div>\n",
       "<style scoped>\n",
       "    .dataframe tbody tr th:only-of-type {\n",
       "        vertical-align: middle;\n",
       "    }\n",
       "\n",
       "    .dataframe tbody tr th {\n",
       "        vertical-align: top;\n",
       "    }\n",
       "\n",
       "    .dataframe thead th {\n",
       "        text-align: right;\n",
       "    }\n",
       "</style>\n",
       "<table border=\"1\" class=\"dataframe\">\n",
       "  <thead>\n",
       "    <tr style=\"text-align: right;\">\n",
       "      <th></th>\n",
       "      <th>источник</th>\n",
       "      <th>победа над врагом</th>\n",
       "      <th>проект</th>\n",
       "      <th>победа над врагом, %</th>\n",
       "      <th>проект, %</th>\n",
       "    </tr>\n",
       "  </thead>\n",
       "  <tbody>\n",
       "    <tr>\n",
       "      <th>2</th>\n",
       "      <td>yandex_direct</td>\n",
       "      <td>1422</td>\n",
       "      <td>620</td>\n",
       "      <td>69.64</td>\n",
       "      <td>30.36</td>\n",
       "    </tr>\n",
       "    <tr>\n",
       "      <th>1</th>\n",
       "      <td>instagram_new_adverts</td>\n",
       "      <td>990</td>\n",
       "      <td>476</td>\n",
       "      <td>67.53</td>\n",
       "      <td>32.47</td>\n",
       "    </tr>\n",
       "    <tr>\n",
       "      <th>3</th>\n",
       "      <td>youtube_channel_reklama</td>\n",
       "      <td>780</td>\n",
       "      <td>379</td>\n",
       "      <td>67.30</td>\n",
       "      <td>32.70</td>\n",
       "    </tr>\n",
       "    <tr>\n",
       "      <th>0</th>\n",
       "      <td>facebook_ads</td>\n",
       "      <td>759</td>\n",
       "      <td>391</td>\n",
       "      <td>66.00</td>\n",
       "      <td>34.00</td>\n",
       "    </tr>\n",
       "  </tbody>\n",
       "</table>\n",
       "</div>"
      ],
      "text/plain": [
       "                  источник  победа над врагом  проект  победа над врагом, %  \\\n",
       "2            yandex_direct               1422     620                 69.64   \n",
       "1    instagram_new_adverts                990     476                 67.53   \n",
       "3  youtube_channel_reklama                780     379                 67.30   \n",
       "0             facebook_ads                759     391                 66.00   \n",
       "\n",
       "   проект, %  \n",
       "2      30.36  \n",
       "1      32.47  \n",
       "3      32.70  \n",
       "0      34.00  "
      ]
     },
     "execution_count": 28,
     "metadata": {},
     "output_type": "execute_result"
    }
   ],
   "source": [
    "report = (\n",
    "    df.query('finish_st == 1 and project == 0')\n",
    "    .pivot_table(index = 'source', values = 'user_id', aggfunc = 'count')\n",
    "    .reset_index()\n",
    "    .merge(\n",
    "        df.query('finish_st == 1 and project == 1')\n",
    "        .pivot_table(index = 'source', values = 'user_id', aggfunc = 'count')\n",
    "        .reset_index(),\n",
    "        on = 'source', how = 'left')\n",
    ")\n",
    "report.columns = ['источник','победа над врагом', 'проект']\n",
    "report['победа над врагом, %'] = (report['победа над врагом']*100/(report['победа над врагом']+report['проект'])).round(2)\n",
    "report['проект, %'] = (report['проект']*100/(report['победа над врагом']+report['проект'])).round(2)\n",
    "report.sort_values(by = 'проект, %')"
   ]
  },
  {
   "cell_type": "markdown",
   "id": "540d9f30",
   "metadata": {},
   "source": [
    "- В yandex_direct\t69.64% игроков прошли уровень войной, а 30.36% ударились в науку.\n",
    "- В facebook_ads военных уже меньше 66%, ученных - 34%. \n"
   ]
  },
  {
   "cell_type": "markdown",
   "id": "86fb47cf",
   "metadata": {},
   "source": [
    "## Проверка гипотез"
   ]
  },
  {
   "cell_type": "markdown",
   "id": "62a5bddc",
   "metadata": {},
   "source": [
    "Проведем t-тест -  создадим функцию расчета p-значения и сравнения его с критическим уровнем статистической значимости."
   ]
  },
  {
   "cell_type": "code",
   "execution_count": 29,
   "id": "1fcb0d6e",
   "metadata": {},
   "outputs": [],
   "source": [
    "def hypothesis(x,y):\n",
    "    \n",
    "    # критический уровень статистической значимости\n",
    "    alpha = 0.01\n",
    "    \n",
    "    # Проводим тест и считаем p-значение, параметру equal_var присваиваем False\n",
    "    # т.к. выборки в обоих случаях разные\n",
    "    results = st.ttest_ind(x, y, equal_var = False)\n",
    "    print('p-значение:', results.pvalue)\n",
    "    \n",
    "    # Сравнениваем p-значения с заданным критическим уровнем стат. значимости\n",
    "    if results.pvalue < alpha:\n",
    "        return 'Отвергаем нулевую гипотезу'\n",
    "    else:\n",
    "        return 'Не получилось отвергнуть нулевую гипотезу'"
   ]
  },
  {
   "cell_type": "markdown",
   "id": "22a76038",
   "metadata": {},
   "source": [
    "### Гипотеза: время завершения уровня различается в зависимости от способа прохождения:через реализацию проекта, через победу над первым игроком."
   ]
  },
  {
   "cell_type": "markdown",
   "id": "949465c9",
   "metadata": {},
   "source": [
    "- Нулевая гипотеза H0: среднее количество дней для завершения уровня через победу над первым игроком и через реализацию проекта равны.\n",
    "- Альтернативная гипотеза H1: среднее количество дней для завершения уровня через победу над первым игроком и через реализацию проекта различается."
   ]
  },
  {
   "cell_type": "code",
   "execution_count": 30,
   "id": "e3910cf7",
   "metadata": {},
   "outputs": [
    {
     "name": "stdout",
     "output_type": "stream",
     "text": [
      "среднее количество дней для завершения уровня через победу над первым игроком:  11.0584662110858\n",
      "среднее количество дней для завершения уровня через реализацию проекта 13.396570203644158\n",
      "p-значение: 6.5704667556436364e-105\n"
     ]
    },
    {
     "data": {
      "text/plain": [
       "'Отвергаем нулевую гипотезу'"
      ]
     },
     "execution_count": 30,
     "metadata": {},
     "output_type": "execute_result"
    }
   ],
   "source": [
    "x = df.query('finish_st == 1 and project == 0')['time']\n",
    "y = df.query('finish_st == 1 and project == 1')['time']\n",
    "print('среднее количество дней для завершения уровня через победу над первым игроком: ',x.mean())\n",
    "print('среднее количество дней для завершения уровня через реализацию проекта',y.mean())\n",
    "hypothesis(x,y)"
   ]
  },
  {
   "cell_type": "markdown",
   "id": "5ca61309",
   "metadata": {},
   "source": [
    "Построим диаграммы распределений для визуализации."
   ]
  },
  {
   "cell_type": "code",
   "execution_count": 31,
   "id": "279f4681",
   "metadata": {},
   "outputs": [
    {
     "data": {
      "image/png": "[encoded data removed]",
      "text/plain": [
       "<Figure size 504x360 with 1 Axes>"
      ]
     },
     "metadata": {
      "needs_background": "light"
     },
     "output_type": "display_data"
    }
   ],
   "source": [
    "x.plot(kind = 'hist', bins = 20, grid=True, figsize=(7, 5), legend = True, label = 'Победа над врагом')\n",
    "y.plot(kind = 'hist', bins = 20, grid=True, figsize=(7, 5), legend = True, label = 'Проект')\n",
    "plt.xlabel('Количество дней', size = 10)\n",
    "plt.title('Распределение времени завершения уровня по стратегиям', size = 14, pad = 20)\n",
    "plt.show()"
   ]
  },
  {
   "cell_type": "markdown",
   "id": "b14ac975",
   "metadata": {},
   "source": [
    "Можно предположить, что вероятность получить одинаковое количество дней для завершения уровня разными способами равна 0%. Различия есть."
   ]
  },
  {
   "cell_type": "markdown",
   "id": "a1efe23c",
   "metadata": {},
   "source": [
    "### Среднее количество построенных зданий различается в зависимости от источника перехода (facebook_ads и yandex_direct)"
   ]
  },
  {
   "cell_type": "markdown",
   "id": "d41503a5",
   "metadata": {},
   "source": [
    "- Нулевая гипотеза H0: среднее количество построенных зданий игроками из facebook_ads и yandex_direct равны.\n",
    "- Альтернативная гипотеза H1: среднее количество построенных зданий игроками из facebook_ads и yandex_direct различается."
   ]
  },
  {
   "cell_type": "code",
   "execution_count": 32,
   "id": "8b87709b",
   "metadata": {},
   "outputs": [
    {
     "name": "stdout",
     "output_type": "stream",
     "text": [
      "среднее количество потроенных зданий игроками из facebook_ads:  9.585840058694057\n",
      "среднее количество потроенных зданий игроками из yandex_direct 9.348557193273821\n",
      "p-значение: 0.01046819661854786\n"
     ]
    },
    {
     "data": {
      "text/plain": [
       "'Не получилось отвергнуть нулевую гипотезу'"
      ]
     },
     "execution_count": 32,
     "metadata": {},
     "output_type": "execute_result"
    }
   ],
   "source": [
    "x = df.query('source == \"facebook_ads\"')['b_sum']\n",
    "y = df.query('source == \"yandex_direct\"')['b_sum']\n",
    "\n",
    "print('среднее количество потроенных зданий игроками из facebook_ads: ',x.mean())\n",
    "print('среднее количество потроенных зданий игроками из yandex_direct',y.mean())\n",
    "hypothesis(x,y)"
   ]
  },
  {
   "cell_type": "markdown",
   "id": "cbde75cb",
   "metadata": {},
   "source": [
    "Построим диаграммы распределений построенных зданийи."
   ]
  },
  {
   "cell_type": "code",
   "execution_count": 33,
   "id": "5c41fea9",
   "metadata": {},
   "outputs": [
    {
     "data": {
      "image/png": "[encoded data removed]",
      "text/plain": [
       "<Figure size 504x360 with 1 Axes>"
      ]
     },
     "metadata": {
      "needs_background": "light"
     },
     "output_type": "display_data"
    }
   ],
   "source": [
    "y.plot(kind = 'hist', bins = 20, grid=True, figsize=(7, 5), legend = True, label = 'yandex_direct')\n",
    "x.plot(kind = 'hist', bins = 20, grid=True, figsize=(7, 5), legend = True, label = 'facebook_ads')\n",
    "plt.xlabel('Количество зданий', size = 10)\n",
    "plt.title('Распределение построенных зданий игроками вв зависимости от канала', size = 14, pad = 20)\n",
    "plt.show()"
   ]
  },
  {
   "cell_type": "markdown",
   "id": "c15d2c57",
   "metadata": {},
   "source": [
    "Всего лишь в 1% случаев количество дней может совпадать. Различии все же больше.(???)"
   ]
  },
  {
   "cell_type": "markdown",
   "id": "0288b44e",
   "metadata": {},
   "source": [
    "## Выгрузка файла для дашборда\n",
    "Выбрал Набор №2:\n",
    "\n",
    "    1. Постройте диаграмму, отображающую количество событий по дням\n",
    "    2. Постройте гистограмму, отображающую количество пользователей, пришедших из разных источников\n",
    "    3. Добавьте фильтр дашборда по типу события\n",
    "    \n",
    "Выгрузим обработанные данные `actions` в csv - файл, добавим источник перехода"
   ]
  },
  {
   "cell_type": "code",
   "execution_count": 34,
   "id": "560f8bc8",
   "metadata": {},
   "outputs": [],
   "source": [
    "dashboard = actions.merge(users, on = 'user_id', how = 'left')"
   ]
  },
  {
   "cell_type": "code",
   "execution_count": 35,
   "id": "f7edb24c",
   "metadata": {},
   "outputs": [],
   "source": [
    "#dashboard.to_csv('C:/Users/oilca/Documents/study/datasets/dashboard_13.csv', index=False)"
   ]
  },
  {
   "cell_type": "markdown",
   "id": "5e7f21f6",
   "metadata": {},
   "source": [
    "[Дашборд здесь.](https://public.tableau.com/app/profile/azamat6848/viz/Dashboard_13_16533860877800/Dashboard1?publish=yes)"
   ]
  },
  {
   "cell_type": "markdown",
   "id": "0277333d",
   "metadata": {},
   "source": [
    "## Выводы, рекомендации"
   ]
  },
  {
   "cell_type": "markdown",
   "id": "ddc311b5",
   "metadata": {},
   "source": [
    "В данном проекте искали различие в поведении игроков в зависимости от источника перехода. В итоге:\n",
    "- из `yandex_direct` пришло больше всего игроков - 4817, из `facebook_ads` и `youtube_channel_reklama` меньше примерно по 2700 игроков;\n",
    "- в `youtube_channel_reklama` самая низкая цена привлечения игрока - 0.40, в фэйсбуке самая высокая - 0.78;\n",
    "- принципиальных различий в количестве построенных зданий, количестве дней игры, количестве построенных типов зданий в зависимости от источника данных не найдено;\n",
    "- есть различия при способе завершения первого уровня:\n",
    "    - 1) При победе над врагом: медианное количество дней игры - 11 дней, медианное количество зданий 10, 10% - лабораторий, 44% - магазинов, 46% - космопортов.\n",
    "    - 2) При завершении проекта: медианное количество дней игры - 13 дней, медианное количество зданий 12, 16% - лабораторий, 39% - магазинов, 46% - космопортов.\n",
    "    \n",
    "Рекомендации:\n",
    "- Сбалансировать рекламный бюджет по источникам. Например, можно увеличить бюджет в `youtube_channel_reklama ` за счет `facebook_ads`.\n",
    "- Поощрять завершение проекта - раздавать плюшки игрокам. Т.к. количество дней проведенных в игре и построенных зданий выше, а значит больше возможностей для монетизации.\n",
    "- Рекламу при постройке зданий - разделять в зависимости от типа постройки."
   ]
  }
 ],
 "metadata": {
  "ExecuteTimeLog": [
   {
    "duration": 1748,
    "start_time": "2022-05-25T04:54:07.976Z"
   },
   {
    "duration": 1233,
    "start_time": "2022-05-25T04:54:09.726Z"
   },
   {
    "duration": 5,
    "start_time": "2022-05-25T04:54:10.961Z"
   },
   {
    "duration": 192,
    "start_time": "2022-05-25T04:54:10.969Z"
   },
   {
    "duration": 385,
    "start_time": "2022-05-25T04:54:11.162Z"
   },
   {
    "duration": 72,
    "start_time": "2022-05-25T04:54:11.549Z"
   },
   {
    "duration": 115,
    "start_time": "2022-05-25T04:54:11.623Z"
   },
   {
    "duration": 46,
    "start_time": "2022-05-25T04:54:11.740Z"
   },
   {
    "duration": 198,
    "start_time": "2022-05-25T04:54:11.788Z"
   },
   {
    "duration": 260,
    "start_time": "2022-05-25T04:54:11.990Z"
   },
   {
    "duration": 133,
    "start_time": "2022-05-25T04:54:12.252Z"
   },
   {
    "duration": 10,
    "start_time": "2022-05-25T04:54:12.389Z"
   },
   {
    "duration": 26,
    "start_time": "2022-05-25T04:54:12.404Z"
   },
   {
    "duration": 167,
    "start_time": "2022-05-25T04:54:12.432Z"
   },
   {
    "duration": 428,
    "start_time": "2022-05-25T04:54:12.602Z"
   },
   {
    "duration": 24,
    "start_time": "2022-05-25T04:54:13.033Z"
   },
   {
    "duration": 25,
    "start_time": "2022-05-25T04:54:13.059Z"
   },
   {
    "duration": 431,
    "start_time": "2022-05-25T04:54:13.086Z"
   },
   {
    "duration": 1307,
    "start_time": "2022-05-25T04:54:13.518Z"
   },
   {
    "duration": 15,
    "start_time": "2022-05-25T04:54:14.828Z"
   },
   {
    "duration": 453,
    "start_time": "2022-05-25T04:54:14.845Z"
   },
   {
    "duration": 36,
    "start_time": "2022-05-25T04:54:15.300Z"
   },
   {
    "duration": 318,
    "start_time": "2022-05-25T04:54:15.338Z"
   },
   {
    "duration": 36,
    "start_time": "2022-05-25T04:54:15.658Z"
   },
   {
    "duration": 6,
    "start_time": "2022-05-25T04:54:15.697Z"
   },
   {
    "duration": 60,
    "start_time": "2022-05-25T04:54:15.705Z"
   },
   {
    "duration": 200,
    "start_time": "2022-05-25T04:54:15.767Z"
   },
   {
    "duration": 12,
    "start_time": "2022-05-25T04:54:15.972Z"
   },
   {
    "duration": 47,
    "start_time": "2022-05-25T04:54:15.986Z"
   },
   {
    "duration": 44,
    "start_time": "2022-05-25T04:54:16.034Z"
   },
   {
    "duration": 63,
    "start_time": "2022-05-25T04:54:16.080Z"
   },
   {
    "duration": 133,
    "start_time": "2022-05-25T04:54:16.145Z"
   },
   {
    "duration": 0,
    "start_time": "2022-05-25T04:54:16.280Z"
   },
   {
    "duration": 23,
    "start_time": "2022-05-25T04:54:24.896Z"
   },
   {
    "duration": 4,
    "start_time": "2022-05-25T07:04:01.119Z"
   }
  ],
  "kernelspec": {
   "display_name": "Python 3 (ipykernel)",
   "language": "python",
   "name": "python3"
  },
  "language_info": {
   "codemirror_mode": {
    "name": "ipython",
    "version": 3
   },
   "file_extension": ".py",
   "mimetype": "text/x-python",
   "name": "python",
   "nbconvert_exporter": "python",
   "pygments_lexer": "ipython3",
   "version": "3.9.12"
  },
  "toc": {
   "base_numbering": 1,
   "nav_menu": {},
   "number_sections": true,
   "sideBar": true,
   "skip_h1_title": true,
   "title_cell": "Содержание",
   "title_sidebar": "Contents",
   "toc_cell": true,
   "toc_position": {
    "height": "calc(100% - 180px)",
    "left": "10px",
    "top": "150px",
    "width": "275.188px"
   },
   "toc_section_display": true,
   "toc_window_display": true
  }
 },
 "nbformat": 4,
 "nbformat_minor": 5
}
