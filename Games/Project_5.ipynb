{
 "cells": [
  {
   "cell_type": "markdown",
   "metadata": {
    "toc": true
   },
   "source": [
    "<h1>Содержание<span class=\"tocSkip\"></span></h1>\n",
    "<div class=\"toc\"><ul class=\"toc-item\"><li><span><a href=\"#Изучение-общей-информации\" data-toc-modified-id=\"Изучение-общей-информации-1\"><span class=\"toc-item-num\">1&nbsp;&nbsp;</span>Изучение общей информации</a></span><ul class=\"toc-item\"><li><span><a href=\"#Вывод\" data-toc-modified-id=\"Вывод-1.1\"><span class=\"toc-item-num\">1.1&nbsp;&nbsp;</span>Вывод</a></span></li></ul></li><li><span><a href=\"#Подготовка-данных\" data-toc-modified-id=\"Подготовка-данных-2\"><span class=\"toc-item-num\">2&nbsp;&nbsp;</span>Подготовка данных</a></span><ul class=\"toc-item\"><li><span><a href=\"#Приведем-к-нижнему-регистру-названия-столбцов\" data-toc-modified-id=\"Приведем-к-нижнему-регистру-названия-столбцов-2.1\"><span class=\"toc-item-num\">2.1&nbsp;&nbsp;</span>Приведем к нижнему регистру названия столбцов</a></span></li><li><span><a href=\"#Преобразование-данных-в-нужные-типы.\" data-toc-modified-id=\"Преобразование-данных-в-нужные-типы.-2.2\"><span class=\"toc-item-num\">2.2&nbsp;&nbsp;</span>Преобразование данных в нужные типы.</a></span></li><li><span><a href=\"#Обработка-пропусков\" data-toc-modified-id=\"Обработка-пропусков-2.3\"><span class=\"toc-item-num\">2.3&nbsp;&nbsp;</span>Обработка пропусков</a></span></li><li><span><a href=\"#Суммарные-продажи\" data-toc-modified-id=\"Суммарные-продажи-2.4\"><span class=\"toc-item-num\">2.4&nbsp;&nbsp;</span>Суммарные продажи</a></span></li></ul></li><li><span><a href=\"#Исследовательский-анализ-данных\" data-toc-modified-id=\"Исследовательский-анализ-данных-3\"><span class=\"toc-item-num\">3&nbsp;&nbsp;</span>Исследовательский анализ данных</a></span><ul class=\"toc-item\"><li><span><a href=\"#Cколько-игр-выпускалось-в-разные-годы\" data-toc-modified-id=\"Cколько-игр-выпускалось-в-разные-годы-3.1\"><span class=\"toc-item-num\">3.1&nbsp;&nbsp;</span>Cколько игр выпускалось в разные годы</a></span></li><li><span><a href=\"#Продажи-по-платформам\" data-toc-modified-id=\"Продажи-по-платформам-3.2\"><span class=\"toc-item-num\">3.2&nbsp;&nbsp;</span>Продажи по платформам</a></span></li><li><span><a href=\"#Актуальный-период\" data-toc-modified-id=\"Актуальный-период-3.3\"><span class=\"toc-item-num\">3.3&nbsp;&nbsp;</span>Актуальный период</a></span></li><li><span><a href=\"#Потенциально-прибыльные-платформы\" data-toc-modified-id=\"Потенциально-прибыльные-платформы-3.4\"><span class=\"toc-item-num\">3.4&nbsp;&nbsp;</span>Потенциально прибыльные платформы</a></span></li><li><span><a href=\"#График-&quot;ящик-с-усами&quot;-по-глобальным-продажам-игр-в-разбивке-по-платформам\" data-toc-modified-id=\"График-&quot;ящик-с-усами&quot;-по-глобальным-продажам-игр-в-разбивке-по-платформам-3.5\"><span class=\"toc-item-num\">3.5&nbsp;&nbsp;</span>График \"ящик с усами\" по глобальным продажам игр в разбивке по платформам</a></span></li><li><span><a href=\"#Диаграмма-рассеяния-и-подсчет-корреляции-между-отзывами-и-продажами-PS4\" data-toc-modified-id=\"Диаграмма-рассеяния-и-подсчет-корреляции-между-отзывами-и-продажами-PS4-3.6\"><span class=\"toc-item-num\">3.6&nbsp;&nbsp;</span>Диаграмма рассеяния и подсчет корреляции между отзывами и продажами PS4</a></span></li><li><span><a href=\"#Cоотнести-выводы-с-продажами-игра-на-других-платформах\" data-toc-modified-id=\"Cоотнести-выводы-с-продажами-игра-на-других-платформах-3.7\"><span class=\"toc-item-num\">3.7&nbsp;&nbsp;</span>Cоотнести выводы с продажами игра на других платформах</a></span></li><li><span><a href=\"#Распределение-продаж-по-жанрам\" data-toc-modified-id=\"Распределение-продаж-по-жанрам-3.8\"><span class=\"toc-item-num\">3.8&nbsp;&nbsp;</span>Распределение продаж по жанрам</a></span></li></ul></li><li><span><a href=\"#Портрет-пользователя-каждого-региона-(NA,-EU,-JP):\" data-toc-modified-id=\"Портрет-пользователя-каждого-региона-(NA,-EU,-JP):-4\"><span class=\"toc-item-num\">4&nbsp;&nbsp;</span>Портрет пользователя каждого региона (NA, EU, JP):</a></span><ul class=\"toc-item\"><li><span><a href=\"#Самые-популярные-платформы-(топ-5).\" data-toc-modified-id=\"Самые-популярные-платформы-(топ-5).-4.1\"><span class=\"toc-item-num\">4.1&nbsp;&nbsp;</span>Самые популярные платформы (топ-5).</a></span></li><li><span><a href=\"#Самые-популярные-жанры-(топ-5)\" data-toc-modified-id=\"Самые-популярные-жанры-(топ-5)-4.2\"><span class=\"toc-item-num\">4.2&nbsp;&nbsp;</span>Самые популярные жанры (топ-5)</a></span></li><li><span><a href=\"#Влияет-ли-рейтинг-ESRB-на-продажи-в-отдельном-регионе\" data-toc-modified-id=\"Влияет-ли-рейтинг-ESRB-на-продажи-в-отдельном-регионе-4.3\"><span class=\"toc-item-num\">4.3&nbsp;&nbsp;</span>Влияет ли рейтинг ESRB на продажи в отдельном регионе</a></span></li></ul></li><li><span><a href=\"#Проверка-гипотез\" data-toc-modified-id=\"Проверка-гипотез-5\"><span class=\"toc-item-num\">5&nbsp;&nbsp;</span>Проверка гипотез</a></span><ul class=\"toc-item\"><li><span><a href=\"#Средние-пользовательские-рейтинги-платформ-Xbox-One-и-PC-одинаковые\" data-toc-modified-id=\"Средние-пользовательские-рейтинги-платформ-Xbox-One-и-PC-одинаковые-5.1\"><span class=\"toc-item-num\">5.1&nbsp;&nbsp;</span>Средние пользовательские рейтинги платформ Xbox One и PC одинаковые</a></span></li><li><span><a href=\"#Средние-пользовательские-рейтинги-жанров-Action--и-Sports-разные\" data-toc-modified-id=\"Средние-пользовательские-рейтинги-жанров-Action--и-Sports-разные-5.2\"><span class=\"toc-item-num\">5.2&nbsp;&nbsp;</span>Средние пользовательские рейтинги жанров Action  и Sports разные</a></span></li></ul></li><li><span><a href=\"#Общий-вывод\" data-toc-modified-id=\"Общий-вывод-6\"><span class=\"toc-item-num\">6&nbsp;&nbsp;</span>Общий вывод</a></span></li></ul></div>"
   ]
  },
  {
   "cell_type": "markdown",
   "metadata": {},
   "source": [
    "# Задача\n",
    "\n",
    "Используя исторические данные о продажах компьютерных игр, выявить закономерности, определяющие успешность игры"
   ]
  },
  {
   "cell_type": "markdown",
   "metadata": {},
   "source": [
    "## Изучение общей информации"
   ]
  },
  {
   "cell_type": "code",
   "execution_count": 1,
   "metadata": {},
   "outputs": [],
   "source": [
    "# Импортируем библиотеки\n",
    "import pandas as pd\n",
    "import numpy as np\n",
    "import matplotlib.pyplot as plt\n",
    "from scipy import stats as st\n",
    "import warnings"
   ]
  },
  {
   "cell_type": "code",
   "execution_count": 5,
   "metadata": {},
   "outputs": [
    {
     "name": "stdout",
     "output_type": "stream",
     "text": [
      "FileNotFoundError(2, 'No such file or directory')\n"
     ]
    },
    {
     "data": {
      "text/html": [
       "<div>\n",
       "<style scoped>\n",
       "    .dataframe tbody tr th:only-of-type {\n",
       "        vertical-align: middle;\n",
       "    }\n",
       "\n",
       "    .dataframe tbody tr th {\n",
       "        vertical-align: top;\n",
       "    }\n",
       "\n",
       "    .dataframe thead th {\n",
       "        text-align: right;\n",
       "    }\n",
       "</style>\n",
       "<table border=\"1\" class=\"dataframe\">\n",
       "  <thead>\n",
       "    <tr style=\"text-align: right;\">\n",
       "      <th></th>\n",
       "      <th>Name</th>\n",
       "      <th>Platform</th>\n",
       "      <th>Year_of_Release</th>\n",
       "      <th>Genre</th>\n",
       "      <th>NA_sales</th>\n",
       "      <th>EU_sales</th>\n",
       "      <th>JP_sales</th>\n",
       "      <th>Other_sales</th>\n",
       "      <th>Critic_Score</th>\n",
       "      <th>User_Score</th>\n",
       "      <th>Rating</th>\n",
       "    </tr>\n",
       "  </thead>\n",
       "  <tbody>\n",
       "    <tr>\n",
       "      <th>0</th>\n",
       "      <td>Wii Sports</td>\n",
       "      <td>Wii</td>\n",
       "      <td>2006.0</td>\n",
       "      <td>Sports</td>\n",
       "      <td>41.36</td>\n",
       "      <td>28.96</td>\n",
       "      <td>3.77</td>\n",
       "      <td>8.45</td>\n",
       "      <td>76.0</td>\n",
       "      <td>8</td>\n",
       "      <td>E</td>\n",
       "    </tr>\n",
       "    <tr>\n",
       "      <th>1</th>\n",
       "      <td>Super Mario Bros.</td>\n",
       "      <td>NES</td>\n",
       "      <td>1985.0</td>\n",
       "      <td>Platform</td>\n",
       "      <td>29.08</td>\n",
       "      <td>3.58</td>\n",
       "      <td>6.81</td>\n",
       "      <td>0.77</td>\n",
       "      <td>NaN</td>\n",
       "      <td>NaN</td>\n",
       "      <td>NaN</td>\n",
       "    </tr>\n",
       "    <tr>\n",
       "      <th>2</th>\n",
       "      <td>Mario Kart Wii</td>\n",
       "      <td>Wii</td>\n",
       "      <td>2008.0</td>\n",
       "      <td>Racing</td>\n",
       "      <td>15.68</td>\n",
       "      <td>12.76</td>\n",
       "      <td>3.79</td>\n",
       "      <td>3.29</td>\n",
       "      <td>82.0</td>\n",
       "      <td>8.3</td>\n",
       "      <td>E</td>\n",
       "    </tr>\n",
       "    <tr>\n",
       "      <th>3</th>\n",
       "      <td>Wii Sports Resort</td>\n",
       "      <td>Wii</td>\n",
       "      <td>2009.0</td>\n",
       "      <td>Sports</td>\n",
       "      <td>15.61</td>\n",
       "      <td>10.93</td>\n",
       "      <td>3.28</td>\n",
       "      <td>2.95</td>\n",
       "      <td>80.0</td>\n",
       "      <td>8</td>\n",
       "      <td>E</td>\n",
       "    </tr>\n",
       "    <tr>\n",
       "      <th>4</th>\n",
       "      <td>Pokemon Red/Pokemon Blue</td>\n",
       "      <td>GB</td>\n",
       "      <td>1996.0</td>\n",
       "      <td>Role-Playing</td>\n",
       "      <td>11.27</td>\n",
       "      <td>8.89</td>\n",
       "      <td>10.22</td>\n",
       "      <td>1.00</td>\n",
       "      <td>NaN</td>\n",
       "      <td>NaN</td>\n",
       "      <td>NaN</td>\n",
       "    </tr>\n",
       "  </tbody>\n",
       "</table>\n",
       "</div>"
      ],
      "text/plain": [
       "                       Name Platform  Year_of_Release         Genre  NA_sales  \\\n",
       "0                Wii Sports      Wii           2006.0        Sports     41.36   \n",
       "1         Super Mario Bros.      NES           1985.0      Platform     29.08   \n",
       "2            Mario Kart Wii      Wii           2008.0        Racing     15.68   \n",
       "3         Wii Sports Resort      Wii           2009.0        Sports     15.61   \n",
       "4  Pokemon Red/Pokemon Blue       GB           1996.0  Role-Playing     11.27   \n",
       "\n",
       "   EU_sales  JP_sales  Other_sales  Critic_Score User_Score Rating  \n",
       "0     28.96      3.77         8.45          76.0          8      E  \n",
       "1      3.58      6.81         0.77           NaN        NaN    NaN  \n",
       "2     12.76      3.79         3.29          82.0        8.3      E  \n",
       "3     10.93      3.28         2.95          80.0          8      E  \n",
       "4      8.89     10.22         1.00           NaN        NaN    NaN  "
      ]
     },
     "execution_count": 5,
     "metadata": {},
     "output_type": "execute_result"
    }
   ],
   "source": [
    "# Чтение файла\n",
    "try:\n",
    "    data = pd.read_csv('/datasets/games.csv')\n",
    "except FileNotFoundError as e:\n",
    "    print(repr(e))\n",
    "    data = pd.read_csv('C:/Users/oilca/Documents/study/datasets/games.csv')\n",
    "data.head()"
   ]
  },
  {
   "cell_type": "code",
   "execution_count": 6,
   "metadata": {},
   "outputs": [
    {
     "name": "stdout",
     "output_type": "stream",
     "text": [
      "<class 'pandas.core.frame.DataFrame'>\n",
      "RangeIndex: 16715 entries, 0 to 16714\n",
      "Data columns (total 11 columns):\n",
      " #   Column           Non-Null Count  Dtype  \n",
      "---  ------           --------------  -----  \n",
      " 0   Name             16713 non-null  object \n",
      " 1   Platform         16715 non-null  object \n",
      " 2   Year_of_Release  16446 non-null  float64\n",
      " 3   Genre            16713 non-null  object \n",
      " 4   NA_sales         16715 non-null  float64\n",
      " 5   EU_sales         16715 non-null  float64\n",
      " 6   JP_sales         16715 non-null  float64\n",
      " 7   Other_sales      16715 non-null  float64\n",
      " 8   Critic_Score     8137 non-null   float64\n",
      " 9   User_Score       10014 non-null  object \n",
      " 10  Rating           9949 non-null   object \n",
      "dtypes: float64(6), object(5)\n",
      "memory usage: 1.4+ MB\n"
     ]
    }
   ],
   "source": [
    "data.info()"
   ]
  },
  {
   "cell_type": "code",
   "execution_count": 7,
   "metadata": {},
   "outputs": [
    {
     "name": "stdout",
     "output_type": "stream",
     "text": [
      "Уникальные значения в колонке: Name\n",
      "['Wii Sports' 'Super Mario Bros.' 'Mario Kart Wii' ...\n",
      " 'Woody Woodpecker in Crazy Castle 5' 'LMA Manager 2007'\n",
      " 'Haitaka no Psychedelica']\n",
      "\n",
      "Уникальные значения в колонке: Platform\n",
      "['Wii' 'NES' 'GB' 'DS' 'X360' 'PS3' 'PS2' 'SNES' 'GBA' 'PS4' '3DS' 'N64'\n",
      " 'PS' 'XB' 'PC' '2600' 'PSP' 'XOne' 'WiiU' 'GC' 'GEN' 'DC' 'PSV' 'SAT'\n",
      " 'SCD' 'WS' 'NG' 'TG16' '3DO' 'GG' 'PCFX']\n",
      "\n",
      "Уникальные значения в колонке: Year_of_Release\n",
      "[2006. 1985. 2008. 2009. 1996. 1989. 1984. 2005. 1999. 2007. 2010. 2013.\n",
      " 2004. 1990. 1988. 2002. 2001. 2011. 1998. 2015. 2012. 2014. 1992. 1997.\n",
      " 1993. 1994. 1982. 2016. 2003. 1986. 2000.   nan 1995. 1991. 1981. 1987.\n",
      " 1980. 1983.]\n",
      "\n",
      "Уникальные значения в колонке: Genre\n",
      "['Sports' 'Platform' 'Racing' 'Role-Playing' 'Puzzle' 'Misc' 'Shooter'\n",
      " 'Simulation' 'Action' 'Fighting' 'Adventure' 'Strategy' nan]\n",
      "\n",
      "Уникальные значения в колонке: Critic_Score\n",
      "[76. nan 82. 80. 89. 58. 87. 91. 61. 97. 95. 77. 88. 83. 94. 93. 85. 86.\n",
      " 98. 96. 90. 84. 73. 74. 78. 92. 71. 72. 68. 62. 49. 67. 81. 66. 56. 79.\n",
      " 70. 59. 64. 75. 60. 63. 69. 50. 25. 42. 44. 55. 48. 57. 29. 47. 65. 54.\n",
      " 20. 53. 37. 38. 33. 52. 30. 32. 43. 45. 51. 40. 46. 39. 34. 35. 41. 36.\n",
      " 28. 31. 27. 26. 19. 23. 24. 21. 17. 22. 13.]\n",
      "\n",
      "Уникальные значения в колонке: User_Score\n",
      "['8' nan '8.3' '8.5' '6.6' '8.4' '8.6' '7.7' '6.3' '7.4' '8.2' '9' '7.9'\n",
      " '8.1' '8.7' '7.1' '3.4' '5.3' '4.8' '3.2' '8.9' '6.4' '7.8' '7.5' '2.6'\n",
      " '7.2' '9.2' '7' '7.3' '4.3' '7.6' '5.7' '5' '9.1' '6.5' 'tbd' '8.8' '6.9'\n",
      " '9.4' '6.8' '6.1' '6.7' '5.4' '4' '4.9' '4.5' '9.3' '6.2' '4.2' '6' '3.7'\n",
      " '4.1' '5.8' '5.6' '5.5' '4.4' '4.6' '5.9' '3.9' '3.1' '2.9' '5.2' '3.3'\n",
      " '4.7' '5.1' '3.5' '2.5' '1.9' '3' '2.7' '2.2' '2' '9.5' '2.1' '3.6' '2.8'\n",
      " '1.8' '3.8' '0' '1.6' '9.6' '2.4' '1.7' '1.1' '0.3' '1.5' '0.7' '1.2'\n",
      " '2.3' '0.5' '1.3' '0.2' '0.6' '1.4' '0.9' '1' '9.7']\n",
      "\n",
      "Уникальные значения в колонке: Rating\n",
      "['E' nan 'M' 'T' 'E10+' 'K-A' 'AO' 'EC' 'RP']\n",
      "\n"
     ]
    }
   ],
   "source": [
    "columns = ['Name', 'Platform', 'Year_of_Release', 'Genre', 'Critic_Score', 'User_Score', 'Rating']\n",
    "for column in columns:\n",
    "    print('Уникальные значения в колонке:',column)\n",
    "    print(data[column].unique())\n",
    "    print()"
   ]
  },
  {
   "cell_type": "markdown",
   "metadata": {},
   "source": [
    "### Вывод"
   ]
  },
  {
   "cell_type": "markdown",
   "metadata": {},
   "source": [
    "Согласно документации\n",
    "- Name — название игры\n",
    "- Platform — платформа\n",
    "- Year_of_Release — год выпуска\n",
    "- Genre — жанр игры\n",
    "- NA_sales — продажи в Северной Америке (миллионы проданных копий)\n",
    "- EU_sales — продажи в Европе (миллионы проданных копий)\n",
    "- JP_sales — продажи в Японии (миллионы проданных копий)\n",
    "- Other_sales — продажи в других странах (миллионы проданных копий)\n",
    "- Critic_Score — оценка критиков (максимум 100)\n",
    "- User_Score — оценка пользователей (максимум 10)\n",
    "- Rating — рейтинг от организации ESRB (англ. Entertainment Software Rating Board). Эта ассоциация определяет рейтинг компьютерных игр и присваивает им подходящую возрастную категорию.\n",
    "\n",
    "\n",
    "Выявленные ошибки в данных:\n",
    "- Необходимо привести названия колонок к нижнему регистру;\n",
    "- Есть пропуски в колонках `Name, Year_of_Release, Genre, Critic_Score, User_Score, Rating`;\n",
    "- `Year_of_Release` имеет тип данных `float64`, хотя логичнее  `int64`; \n",
    "- `User_score` имеет тип данных object, из-за оценки `tbd`."
   ]
  },
  {
   "cell_type": "markdown",
   "metadata": {},
   "source": [
    "## Подготовка данных"
   ]
  },
  {
   "cell_type": "markdown",
   "metadata": {},
   "source": [
    "###  Приведем к нижнему регистру названия столбцов"
   ]
  },
  {
   "cell_type": "code",
   "execution_count": 8,
   "metadata": {},
   "outputs": [
    {
     "data": {
      "text/plain": [
       "Index(['Name', 'Platform', 'Year_of_Release', 'Genre', 'NA_sales', 'EU_sales',\n",
       "       'JP_sales', 'Other_sales', 'Critic_Score', 'User_Score', 'Rating'],\n",
       "      dtype='object')"
      ]
     },
     "execution_count": 8,
     "metadata": {},
     "output_type": "execute_result"
    }
   ],
   "source": [
    "# Изучим названия столбцов\n",
    "data.columns"
   ]
  },
  {
   "cell_type": "code",
   "execution_count": 9,
   "metadata": {},
   "outputs": [
    {
     "data": {
      "text/plain": [
       "Index(['name', 'platform', 'year_of_release', 'genre', 'na_sales', 'eu_sales',\n",
       "       'jp_sales', 'other_sales', 'critic_score', 'user_score', 'rating'],\n",
       "      dtype='object')"
      ]
     },
     "execution_count": 9,
     "metadata": {},
     "output_type": "execute_result"
    }
   ],
   "source": [
    "# переименование столбцов\n",
    "data = data.rename(columns = {\n",
    "    'Name':'name',\n",
    "    'Platform':'platform',\n",
    "    'Year_of_Release':'year_of_release',\n",
    "    'Genre':'genre',\n",
    "    'NA_sales':'na_sales',\n",
    "    'EU_sales':'eu_sales',\n",
    "    'JP_sales':'jp_sales',\n",
    "    'Other_sales':'other_sales',\n",
    "    'Critic_Score':'critic_score',\n",
    "    'User_Score':'user_score',\n",
    "    'Rating':'rating'\n",
    "})\n",
    "data.columns"
   ]
  },
  {
   "cell_type": "markdown",
   "metadata": {},
   "source": [
    "### Преобразование данных в нужные типы."
   ]
  },
  {
   "cell_type": "markdown",
   "metadata": {},
   "source": [
    "В колонке `year_of_release` есть пропуски их немного 269. Поэтому удалим строки там, где есть пропуски по годам. После чего изменим тип `float64` на `int64`. \n",
    "\n",
    "Возможно пропуски в данной колонке есть из-за того, что неизвестно , когда вышла игра. Или человеческий фактор привел к незаполнению данных."
   ]
  },
  {
   "cell_type": "code",
   "execution_count": 10,
   "metadata": {},
   "outputs": [
    {
     "name": "stdout",
     "output_type": "stream",
     "text": [
      "<class 'pandas.core.frame.DataFrame'>\n",
      "Int64Index: 16446 entries, 0 to 16714\n",
      "Data columns (total 11 columns):\n",
      " #   Column           Non-Null Count  Dtype  \n",
      "---  ------           --------------  -----  \n",
      " 0   name             16444 non-null  object \n",
      " 1   platform         16446 non-null  object \n",
      " 2   year_of_release  16446 non-null  int32  \n",
      " 3   genre            16444 non-null  object \n",
      " 4   na_sales         16446 non-null  float64\n",
      " 5   eu_sales         16446 non-null  float64\n",
      " 6   jp_sales         16446 non-null  float64\n",
      " 7   other_sales      16446 non-null  float64\n",
      " 8   critic_score     7983 non-null   float64\n",
      " 9   user_score       9839 non-null   object \n",
      " 10  rating           9768 non-null   object \n",
      "dtypes: float64(5), int32(1), object(5)\n",
      "memory usage: 1.4+ MB\n"
     ]
    }
   ],
   "source": [
    "# Удаление пропусков \n",
    "data = data.dropna(subset = ['year_of_release'])\n",
    "# Изменение типа данных\n",
    "data['year_of_release'] = data['year_of_release'].astype(int)\n",
    "data.info()"
   ]
  },
  {
   "cell_type": "markdown",
   "metadata": {},
   "source": [
    "Разберемся с `user_score`:\n",
    "- Что такое tbd?\n",
    "Поискав в интеренете: `tbd` (c англ. \"To Be Determined\"  - \"Будет определено\"), т.е. оценка еще не определена.\n",
    "- Заменим абревиатуру `tbd` на пропуски `NaN`, после чего сможем изменить тип данных c `object` на `float64`."
   ]
  },
  {
   "cell_type": "code",
   "execution_count": 11,
   "metadata": {},
   "outputs": [
    {
     "name": "stdout",
     "output_type": "stream",
     "text": [
      "<class 'pandas.core.frame.DataFrame'>\n",
      "Int64Index: 16446 entries, 0 to 16714\n",
      "Data columns (total 11 columns):\n",
      " #   Column           Non-Null Count  Dtype  \n",
      "---  ------           --------------  -----  \n",
      " 0   name             16444 non-null  object \n",
      " 1   platform         16446 non-null  object \n",
      " 2   year_of_release  16446 non-null  int32  \n",
      " 3   genre            16444 non-null  object \n",
      " 4   na_sales         16446 non-null  float64\n",
      " 5   eu_sales         16446 non-null  float64\n",
      " 6   jp_sales         16446 non-null  float64\n",
      " 7   other_sales      16446 non-null  float64\n",
      " 8   critic_score     7983 non-null   float64\n",
      " 9   user_score       7463 non-null   float64\n",
      " 10  rating           9768 non-null   object \n",
      "dtypes: float64(6), int32(1), object(4)\n",
      "memory usage: 1.4+ MB\n"
     ]
    }
   ],
   "source": [
    "# Замена tbd на NaN\n",
    "data['user_score'] = data['user_score'].replace('tbd', np.nan)\n",
    "# Изменение типа данных\n",
    "data['user_score'] = data['user_score'].astype(float)\n",
    "data.info()"
   ]
  },
  {
   "cell_type": "markdown",
   "metadata": {},
   "source": [
    "### Обработка пропусков"
   ]
  },
  {
   "cell_type": "markdown",
   "metadata": {},
   "source": [
    "Пропуски в колонках `critic_score, user_score, rating` лучше оставить как есть, так как пропусков очень много и удалить такое количество данных было бы некорректно. В оценках критиков и пользователей изменение пропусков на нули может привести к искажению дальнейшего анализа.\n",
    "\n",
    "Откуда так много пропусков в этих колонках? Возможно многим играм не ставили оценки вообще, где-то оценки еще не сформировались.\n",
    "\n",
    "А вот в колонках `name, genre` всего по 2 пропуска - их можно удалить. Здесь наличие пропусков вероятнее всего - человеческий фактор."
   ]
  },
  {
   "cell_type": "code",
   "execution_count": 12,
   "metadata": {},
   "outputs": [
    {
     "name": "stdout",
     "output_type": "stream",
     "text": [
      "<class 'pandas.core.frame.DataFrame'>\n",
      "Int64Index: 16444 entries, 0 to 16714\n",
      "Data columns (total 11 columns):\n",
      " #   Column           Non-Null Count  Dtype  \n",
      "---  ------           --------------  -----  \n",
      " 0   name             16444 non-null  object \n",
      " 1   platform         16444 non-null  object \n",
      " 2   year_of_release  16444 non-null  int32  \n",
      " 3   genre            16444 non-null  object \n",
      " 4   na_sales         16444 non-null  float64\n",
      " 5   eu_sales         16444 non-null  float64\n",
      " 6   jp_sales         16444 non-null  float64\n",
      " 7   other_sales      16444 non-null  float64\n",
      " 8   critic_score     7983 non-null   float64\n",
      " 9   user_score       7463 non-null   float64\n",
      " 10  rating           9768 non-null   object \n",
      "dtypes: float64(6), int32(1), object(4)\n",
      "memory usage: 1.4+ MB\n"
     ]
    }
   ],
   "source": [
    "data = data.dropna(subset = ['genre'])\n",
    "data.info()"
   ]
  },
  {
   "cell_type": "markdown",
   "metadata": {},
   "source": [
    "Удаление пропусков в колонке `genre` привело к удалению пропусков в `name`, т.е. строки совпадали. "
   ]
  },
  {
   "cell_type": "markdown",
   "metadata": {},
   "source": [
    "### Суммарные продажи"
   ]
  },
  {
   "cell_type": "markdown",
   "metadata": {},
   "source": [
    "Посчитаем суммарные продажи  и добавим новый столбец в данные."
   ]
  },
  {
   "cell_type": "code",
   "execution_count": 13,
   "metadata": {},
   "outputs": [
    {
     "data": {
      "text/html": [
       "<div>\n",
       "<style scoped>\n",
       "    .dataframe tbody tr th:only-of-type {\n",
       "        vertical-align: middle;\n",
       "    }\n",
       "\n",
       "    .dataframe tbody tr th {\n",
       "        vertical-align: top;\n",
       "    }\n",
       "\n",
       "    .dataframe thead th {\n",
       "        text-align: right;\n",
       "    }\n",
       "</style>\n",
       "<table border=\"1\" class=\"dataframe\">\n",
       "  <thead>\n",
       "    <tr style=\"text-align: right;\">\n",
       "      <th></th>\n",
       "      <th>name</th>\n",
       "      <th>platform</th>\n",
       "      <th>year_of_release</th>\n",
       "      <th>genre</th>\n",
       "      <th>na_sales</th>\n",
       "      <th>eu_sales</th>\n",
       "      <th>jp_sales</th>\n",
       "      <th>other_sales</th>\n",
       "      <th>critic_score</th>\n",
       "      <th>user_score</th>\n",
       "      <th>rating</th>\n",
       "      <th>total_sales</th>\n",
       "    </tr>\n",
       "  </thead>\n",
       "  <tbody>\n",
       "    <tr>\n",
       "      <th>0</th>\n",
       "      <td>Wii Sports</td>\n",
       "      <td>Wii</td>\n",
       "      <td>2006</td>\n",
       "      <td>Sports</td>\n",
       "      <td>41.36</td>\n",
       "      <td>28.96</td>\n",
       "      <td>3.77</td>\n",
       "      <td>8.45</td>\n",
       "      <td>76.0</td>\n",
       "      <td>8.0</td>\n",
       "      <td>E</td>\n",
       "      <td>82.54</td>\n",
       "    </tr>\n",
       "    <tr>\n",
       "      <th>1</th>\n",
       "      <td>Super Mario Bros.</td>\n",
       "      <td>NES</td>\n",
       "      <td>1985</td>\n",
       "      <td>Platform</td>\n",
       "      <td>29.08</td>\n",
       "      <td>3.58</td>\n",
       "      <td>6.81</td>\n",
       "      <td>0.77</td>\n",
       "      <td>NaN</td>\n",
       "      <td>NaN</td>\n",
       "      <td>NaN</td>\n",
       "      <td>40.24</td>\n",
       "    </tr>\n",
       "    <tr>\n",
       "      <th>2</th>\n",
       "      <td>Mario Kart Wii</td>\n",
       "      <td>Wii</td>\n",
       "      <td>2008</td>\n",
       "      <td>Racing</td>\n",
       "      <td>15.68</td>\n",
       "      <td>12.76</td>\n",
       "      <td>3.79</td>\n",
       "      <td>3.29</td>\n",
       "      <td>82.0</td>\n",
       "      <td>8.3</td>\n",
       "      <td>E</td>\n",
       "      <td>35.52</td>\n",
       "    </tr>\n",
       "    <tr>\n",
       "      <th>3</th>\n",
       "      <td>Wii Sports Resort</td>\n",
       "      <td>Wii</td>\n",
       "      <td>2009</td>\n",
       "      <td>Sports</td>\n",
       "      <td>15.61</td>\n",
       "      <td>10.93</td>\n",
       "      <td>3.28</td>\n",
       "      <td>2.95</td>\n",
       "      <td>80.0</td>\n",
       "      <td>8.0</td>\n",
       "      <td>E</td>\n",
       "      <td>32.77</td>\n",
       "    </tr>\n",
       "    <tr>\n",
       "      <th>4</th>\n",
       "      <td>Pokemon Red/Pokemon Blue</td>\n",
       "      <td>GB</td>\n",
       "      <td>1996</td>\n",
       "      <td>Role-Playing</td>\n",
       "      <td>11.27</td>\n",
       "      <td>8.89</td>\n",
       "      <td>10.22</td>\n",
       "      <td>1.00</td>\n",
       "      <td>NaN</td>\n",
       "      <td>NaN</td>\n",
       "      <td>NaN</td>\n",
       "      <td>31.38</td>\n",
       "    </tr>\n",
       "    <tr>\n",
       "      <th>...</th>\n",
       "      <td>...</td>\n",
       "      <td>...</td>\n",
       "      <td>...</td>\n",
       "      <td>...</td>\n",
       "      <td>...</td>\n",
       "      <td>...</td>\n",
       "      <td>...</td>\n",
       "      <td>...</td>\n",
       "      <td>...</td>\n",
       "      <td>...</td>\n",
       "      <td>...</td>\n",
       "      <td>...</td>\n",
       "    </tr>\n",
       "    <tr>\n",
       "      <th>16710</th>\n",
       "      <td>Samurai Warriors: Sanada Maru</td>\n",
       "      <td>PS3</td>\n",
       "      <td>2016</td>\n",
       "      <td>Action</td>\n",
       "      <td>0.00</td>\n",
       "      <td>0.00</td>\n",
       "      <td>0.01</td>\n",
       "      <td>0.00</td>\n",
       "      <td>NaN</td>\n",
       "      <td>NaN</td>\n",
       "      <td>NaN</td>\n",
       "      <td>0.01</td>\n",
       "    </tr>\n",
       "    <tr>\n",
       "      <th>16711</th>\n",
       "      <td>LMA Manager 2007</td>\n",
       "      <td>X360</td>\n",
       "      <td>2006</td>\n",
       "      <td>Sports</td>\n",
       "      <td>0.00</td>\n",
       "      <td>0.01</td>\n",
       "      <td>0.00</td>\n",
       "      <td>0.00</td>\n",
       "      <td>NaN</td>\n",
       "      <td>NaN</td>\n",
       "      <td>NaN</td>\n",
       "      <td>0.01</td>\n",
       "    </tr>\n",
       "    <tr>\n",
       "      <th>16712</th>\n",
       "      <td>Haitaka no Psychedelica</td>\n",
       "      <td>PSV</td>\n",
       "      <td>2016</td>\n",
       "      <td>Adventure</td>\n",
       "      <td>0.00</td>\n",
       "      <td>0.00</td>\n",
       "      <td>0.01</td>\n",
       "      <td>0.00</td>\n",
       "      <td>NaN</td>\n",
       "      <td>NaN</td>\n",
       "      <td>NaN</td>\n",
       "      <td>0.01</td>\n",
       "    </tr>\n",
       "    <tr>\n",
       "      <th>16713</th>\n",
       "      <td>Spirits &amp; Spells</td>\n",
       "      <td>GBA</td>\n",
       "      <td>2003</td>\n",
       "      <td>Platform</td>\n",
       "      <td>0.01</td>\n",
       "      <td>0.00</td>\n",
       "      <td>0.00</td>\n",
       "      <td>0.00</td>\n",
       "      <td>NaN</td>\n",
       "      <td>NaN</td>\n",
       "      <td>NaN</td>\n",
       "      <td>0.01</td>\n",
       "    </tr>\n",
       "    <tr>\n",
       "      <th>16714</th>\n",
       "      <td>Winning Post 8 2016</td>\n",
       "      <td>PSV</td>\n",
       "      <td>2016</td>\n",
       "      <td>Simulation</td>\n",
       "      <td>0.00</td>\n",
       "      <td>0.00</td>\n",
       "      <td>0.01</td>\n",
       "      <td>0.00</td>\n",
       "      <td>NaN</td>\n",
       "      <td>NaN</td>\n",
       "      <td>NaN</td>\n",
       "      <td>0.01</td>\n",
       "    </tr>\n",
       "  </tbody>\n",
       "</table>\n",
       "<p>16444 rows × 12 columns</p>\n",
       "</div>"
      ],
      "text/plain": [
       "                                name platform  year_of_release         genre  \\\n",
       "0                         Wii Sports      Wii             2006        Sports   \n",
       "1                  Super Mario Bros.      NES             1985      Platform   \n",
       "2                     Mario Kart Wii      Wii             2008        Racing   \n",
       "3                  Wii Sports Resort      Wii             2009        Sports   \n",
       "4           Pokemon Red/Pokemon Blue       GB             1996  Role-Playing   \n",
       "...                              ...      ...              ...           ...   \n",
       "16710  Samurai Warriors: Sanada Maru      PS3             2016        Action   \n",
       "16711               LMA Manager 2007     X360             2006        Sports   \n",
       "16712        Haitaka no Psychedelica      PSV             2016     Adventure   \n",
       "16713               Spirits & Spells      GBA             2003      Platform   \n",
       "16714            Winning Post 8 2016      PSV             2016    Simulation   \n",
       "\n",
       "       na_sales  eu_sales  jp_sales  other_sales  critic_score  user_score  \\\n",
       "0         41.36     28.96      3.77         8.45          76.0         8.0   \n",
       "1         29.08      3.58      6.81         0.77           NaN         NaN   \n",
       "2         15.68     12.76      3.79         3.29          82.0         8.3   \n",
       "3         15.61     10.93      3.28         2.95          80.0         8.0   \n",
       "4         11.27      8.89     10.22         1.00           NaN         NaN   \n",
       "...         ...       ...       ...          ...           ...         ...   \n",
       "16710      0.00      0.00      0.01         0.00           NaN         NaN   \n",
       "16711      0.00      0.01      0.00         0.00           NaN         NaN   \n",
       "16712      0.00      0.00      0.01         0.00           NaN         NaN   \n",
       "16713      0.01      0.00      0.00         0.00           NaN         NaN   \n",
       "16714      0.00      0.00      0.01         0.00           NaN         NaN   \n",
       "\n",
       "      rating  total_sales  \n",
       "0          E        82.54  \n",
       "1        NaN        40.24  \n",
       "2          E        35.52  \n",
       "3          E        32.77  \n",
       "4        NaN        31.38  \n",
       "...      ...          ...  \n",
       "16710    NaN         0.01  \n",
       "16711    NaN         0.01  \n",
       "16712    NaN         0.01  \n",
       "16713    NaN         0.01  \n",
       "16714    NaN         0.01  \n",
       "\n",
       "[16444 rows x 12 columns]"
      ]
     },
     "execution_count": 13,
     "metadata": {},
     "output_type": "execute_result"
    }
   ],
   "source": [
    "data['total_sales'] = data['na_sales'] + data['eu_sales'] + data['jp_sales'] + data['other_sales']\n",
    "data"
   ]
  },
  {
   "cell_type": "markdown",
   "metadata": {},
   "source": [
    "## Исследовательский анализ данных"
   ]
  },
  {
   "cell_type": "markdown",
   "metadata": {},
   "source": [
    "### Cколько игр выпускалось в разные годы"
   ]
  },
  {
   "cell_type": "markdown",
   "metadata": {},
   "source": [
    "Построим график для наглядности."
   ]
  },
  {
   "cell_type": "code",
   "execution_count": 14,
   "metadata": {},
   "outputs": [
    {
     "data": {
      "image/png": "[encoded data removed]",
      "text/plain": [
       "<Figure size 432x288 with 1 Axes>"
      ]
     },
     "metadata": {
      "needs_background": "light"
     },
     "output_type": "display_data"
    }
   ],
   "source": [
    "# Сгруппируем данные по году выпуска и подсчитаем количество в каждом году.\n",
    "games_year = data.pivot_table(index = 'year_of_release', values = 'name', aggfunc = 'count')\n",
    "games_year.columns = ['games']\n",
    "# Строим график\n",
    "games_year.plot(style = 'o-', grid = True)\n",
    "plt.xlabel('Год', size = 16)\n",
    "plt.ylabel('Количество игр, шт', size = 16)\n",
    "plt.title('График выпускаемых игр 1980-2016', size = 18, pad = 25,fontdict = {'fontweight' : 'bold'})\n",
    "\n",
    "plt.show()"
   ]
  },
  {
   "cell_type": "markdown",
   "metadata": {},
   "source": [
    "До 1993 года игр выпускалось сравнительно мало - конечно, тогда только все зарождалось. После чего начался игровой бум. Переломный момент наступил в  2008-2009 году, кстати, тогда был ипотечный кризис. Количество выпускаемых игр к 2015 году уменьшилось более чем на 50% по сравнению 2009.\n",
    "\n",
    "Данные до 1993 не очень важны для выводов в следующем веке, т.к. их крайне мало."
   ]
  },
  {
   "cell_type": "markdown",
   "metadata": {},
   "source": [
    "### Продажи по платформам"
   ]
  },
  {
   "cell_type": "markdown",
   "metadata": {},
   "source": [
    "Найдем топ-10 платформ по продажам с помощью сводных таблиц."
   ]
  },
  {
   "cell_type": "code",
   "execution_count": 15,
   "metadata": {},
   "outputs": [
    {
     "data": {
      "text/html": [
       "<div>\n",
       "<style scoped>\n",
       "    .dataframe tbody tr th:only-of-type {\n",
       "        vertical-align: middle;\n",
       "    }\n",
       "\n",
       "    .dataframe tbody tr th {\n",
       "        vertical-align: top;\n",
       "    }\n",
       "\n",
       "    .dataframe thead th {\n",
       "        text-align: right;\n",
       "    }\n",
       "</style>\n",
       "<table border=\"1\" class=\"dataframe\">\n",
       "  <thead>\n",
       "    <tr style=\"text-align: right;\">\n",
       "      <th></th>\n",
       "      <th>total_sales</th>\n",
       "    </tr>\n",
       "    <tr>\n",
       "      <th>platform</th>\n",
       "      <th></th>\n",
       "    </tr>\n",
       "  </thead>\n",
       "  <tbody>\n",
       "    <tr>\n",
       "      <th>PS2</th>\n",
       "      <td>1233.56</td>\n",
       "    </tr>\n",
       "    <tr>\n",
       "      <th>X360</th>\n",
       "      <td>961.24</td>\n",
       "    </tr>\n",
       "    <tr>\n",
       "      <th>PS3</th>\n",
       "      <td>931.34</td>\n",
       "    </tr>\n",
       "    <tr>\n",
       "      <th>Wii</th>\n",
       "      <td>891.18</td>\n",
       "    </tr>\n",
       "    <tr>\n",
       "      <th>DS</th>\n",
       "      <td>802.78</td>\n",
       "    </tr>\n",
       "    <tr>\n",
       "      <th>PS</th>\n",
       "      <td>727.58</td>\n",
       "    </tr>\n",
       "    <tr>\n",
       "      <th>PS4</th>\n",
       "      <td>314.14</td>\n",
       "    </tr>\n",
       "    <tr>\n",
       "      <th>GBA</th>\n",
       "      <td>312.88</td>\n",
       "    </tr>\n",
       "    <tr>\n",
       "      <th>PSP</th>\n",
       "      <td>289.53</td>\n",
       "    </tr>\n",
       "    <tr>\n",
       "      <th>3DS</th>\n",
       "      <td>257.81</td>\n",
       "    </tr>\n",
       "  </tbody>\n",
       "</table>\n",
       "</div>"
      ],
      "text/plain": [
       "          total_sales\n",
       "platform             \n",
       "PS2           1233.56\n",
       "X360           961.24\n",
       "PS3            931.34\n",
       "Wii            891.18\n",
       "DS             802.78\n",
       "PS             727.58\n",
       "PS4            314.14\n",
       "GBA            312.88\n",
       "PSP            289.53\n",
       "3DS            257.81"
      ]
     },
     "execution_count": 15,
     "metadata": {},
     "output_type": "execute_result"
    }
   ],
   "source": [
    "platform = (\n",
    "    # Группируем данные по платформам, считаем общие продажи для них\n",
    "    data.pivot_table(index  = 'platform', values = 'total_sales', aggfunc = 'sum')\n",
    "    # Сортируем по убыванию общих продаж\n",
    "    .sort_values(by= 'total_sales', ascending = False)\n",
    ")\n",
    "platform.head(10)"
   ]
  },
  {
   "cell_type": "markdown",
   "metadata": {},
   "source": [
    "Для наглядности построим круговую диаграмму топ-10 платформ"
   ]
  },
  {
   "cell_type": "code",
   "execution_count": 16,
   "metadata": {},
   "outputs": [
    {
     "data": {
      "image/png": "[encoded data removed]",
      "text/plain": [
       "<Figure size 720x720 with 1 Axes>"
      ]
     },
     "metadata": {},
     "output_type": "display_data"
    }
   ],
   "source": [
    "# Оставляем в данных только 10 платформ с помощью метода query()\n",
    "# Строим круговую диаграмму\n",
    "platform.query('total_sales > 256').plot(y = 'total_sales', kind = 'pie', figsize = (10,10))\n",
    "plt.title('Топ-10 платформ', size = 18, pad = 25,fontdict = {'fontweight' : 'bold'})\n",
    "plt.show()"
   ]
  },
  {
   "cell_type": "markdown",
   "metadata": {},
   "source": [
    "Топ-10 платформ выяснили, теперь построим график динамики продаж этих платформ по годам.\n",
    "<a id='1'></a>"
   ]
  },
  {
   "cell_type": "code",
   "execution_count": 17,
   "metadata": {},
   "outputs": [
    {
     "data": {
      "image/png": "[encoded data removed]",
      "text/plain": [
       "<Figure size 864x360 with 1 Axes>"
      ]
     },
     "metadata": {
      "needs_background": "light"
     },
     "output_type": "display_data"
    }
   ],
   "source": [
    "(\n",
    "    # Берем из общей таблицы данные только по этим 10 платформам\n",
    "    data.query('platform in [\"PS2\", \"X360\", \"PS3\", \"Wii\", \"DS\", \"PS\", \"PS4\",\"GBA\", \"PSP\"]')\n",
    "    # Строим сводную таблицу сгруппированную по годам и считающую сумму продаж в определенном году\n",
    "    .pivot_table(index='year_of_release', columns = 'platform', values='total_sales', aggfunc='sum')\n",
    "    # Строим график по сводной таблице\n",
    "    .plot(grid=True, figsize=(12, 5))\n",
    ")\n",
    "# Даем названия оси x,y и наименование графика\n",
    "plt.xlabel('Год', size = 16)\n",
    "plt.ylabel('Продажи, млн', size = 16)\n",
    "plt.title('Динамика продаж топ-10 платформ', size = 18, pad = 25,fontdict = {'fontweight' : 'bold'})\n",
    "\n",
    "plt.show()"
   ]
  },
  {
   "cell_type": "markdown",
   "metadata": {},
   "source": [
    "Выясним сколько  в среднем лет существует платформа. Предположим, что существенными продажами считаются продажи свыше 5 млн долларов."
   ]
  },
  {
   "cell_type": "code",
   "execution_count": 18,
   "metadata": {},
   "outputs": [
    {
     "data": {
      "text/plain": [
       "6.333333333333333"
      ]
     },
     "execution_count": 18,
     "metadata": {},
     "output_type": "execute_result"
    }
   ],
   "source": [
    "#суммарные продажи в год выше 5 миллионов\n",
    "games_sales = (\n",
    "    # Строим сводную таблицу games_sales по категориям: платформы, год. Считаем к ним сумму продаж.\n",
    "    data.pivot_table(index = ['platform','year_of_release'], values = 'total_sales', aggfunc = 'sum')\n",
    "    # Отсекаем продажи меньше 5 млн\n",
    "    .query('total_sales > 5')\n",
    ")\n",
    "# среднее количество лет  продаж выше 5 миллионов\n",
    "\n",
    "years = (\n",
    "    games_sales.reset_index()\n",
    "    # теперь строим сводную таблицу из games_sales по категориям платформы,\n",
    "    # и находим минимальный и максимальный год\n",
    "    .pivot_table(index = 'platform', values = 'year_of_release', aggfunc = ['max', 'min'])\n",
    ")\n",
    "# переименовываем столбцы\n",
    "years.columns = ['max', 'min']\n",
    "# Считаем разницу лет и среднее.\n",
    "(years['max'] - years['min']).mean()\n"
   ]
  },
  {
   "cell_type": "markdown",
   "metadata": {},
   "source": [
    "В среднем платформы \"существуют\" 6 лет и 4 месяца. На графике [`\"Динамика продаж топ-10 платформ\"`](#1) хорошо видно как `'Play Station'`-ы взаимозаменяют друг друга."
   ]
  },
  {
   "cell_type": "markdown",
   "metadata": {},
   "source": [
    "### Актуальный период"
   ]
  },
  {
   "cell_type": "markdown",
   "metadata": {},
   "source": [
    "Актуальный период возьмем, исходя из средней продолжительности продаж выше 5 миллионов, то есть примерно 7 лет. С 2010 по 2016."
   ]
  },
  {
   "cell_type": "code",
   "execution_count": 19,
   "metadata": {},
   "outputs": [
    {
     "data": {
      "text/html": [
       "<div>\n",
       "<style scoped>\n",
       "    .dataframe tbody tr th:only-of-type {\n",
       "        vertical-align: middle;\n",
       "    }\n",
       "\n",
       "    .dataframe tbody tr th {\n",
       "        vertical-align: top;\n",
       "    }\n",
       "\n",
       "    .dataframe thead th {\n",
       "        text-align: right;\n",
       "    }\n",
       "</style>\n",
       "<table border=\"1\" class=\"dataframe\">\n",
       "  <thead>\n",
       "    <tr style=\"text-align: right;\">\n",
       "      <th></th>\n",
       "      <th>name</th>\n",
       "      <th>platform</th>\n",
       "      <th>year_of_release</th>\n",
       "      <th>genre</th>\n",
       "      <th>na_sales</th>\n",
       "      <th>eu_sales</th>\n",
       "      <th>jp_sales</th>\n",
       "      <th>other_sales</th>\n",
       "      <th>critic_score</th>\n",
       "      <th>user_score</th>\n",
       "      <th>rating</th>\n",
       "      <th>total_sales</th>\n",
       "    </tr>\n",
       "  </thead>\n",
       "  <tbody>\n",
       "    <tr>\n",
       "      <th>14</th>\n",
       "      <td>Kinect Adventures!</td>\n",
       "      <td>X360</td>\n",
       "      <td>2010</td>\n",
       "      <td>Misc</td>\n",
       "      <td>15.00</td>\n",
       "      <td>4.89</td>\n",
       "      <td>0.24</td>\n",
       "      <td>1.69</td>\n",
       "      <td>61.0</td>\n",
       "      <td>6.3</td>\n",
       "      <td>E</td>\n",
       "      <td>21.82</td>\n",
       "    </tr>\n",
       "    <tr>\n",
       "      <th>16</th>\n",
       "      <td>Grand Theft Auto V</td>\n",
       "      <td>PS3</td>\n",
       "      <td>2013</td>\n",
       "      <td>Action</td>\n",
       "      <td>7.02</td>\n",
       "      <td>9.09</td>\n",
       "      <td>0.98</td>\n",
       "      <td>3.96</td>\n",
       "      <td>97.0</td>\n",
       "      <td>8.2</td>\n",
       "      <td>M</td>\n",
       "      <td>21.05</td>\n",
       "    </tr>\n",
       "    <tr>\n",
       "      <th>23</th>\n",
       "      <td>Grand Theft Auto V</td>\n",
       "      <td>X360</td>\n",
       "      <td>2013</td>\n",
       "      <td>Action</td>\n",
       "      <td>9.66</td>\n",
       "      <td>5.14</td>\n",
       "      <td>0.06</td>\n",
       "      <td>1.41</td>\n",
       "      <td>97.0</td>\n",
       "      <td>8.1</td>\n",
       "      <td>M</td>\n",
       "      <td>16.27</td>\n",
       "    </tr>\n",
       "    <tr>\n",
       "      <th>27</th>\n",
       "      <td>Pokemon Black/Pokemon White</td>\n",
       "      <td>DS</td>\n",
       "      <td>2010</td>\n",
       "      <td>Role-Playing</td>\n",
       "      <td>5.51</td>\n",
       "      <td>3.17</td>\n",
       "      <td>5.65</td>\n",
       "      <td>0.80</td>\n",
       "      <td>NaN</td>\n",
       "      <td>NaN</td>\n",
       "      <td>NaN</td>\n",
       "      <td>15.13</td>\n",
       "    </tr>\n",
       "    <tr>\n",
       "      <th>29</th>\n",
       "      <td>Call of Duty: Modern Warfare 3</td>\n",
       "      <td>X360</td>\n",
       "      <td>2011</td>\n",
       "      <td>Shooter</td>\n",
       "      <td>9.04</td>\n",
       "      <td>4.24</td>\n",
       "      <td>0.13</td>\n",
       "      <td>1.32</td>\n",
       "      <td>88.0</td>\n",
       "      <td>3.4</td>\n",
       "      <td>M</td>\n",
       "      <td>14.73</td>\n",
       "    </tr>\n",
       "    <tr>\n",
       "      <th>...</th>\n",
       "      <td>...</td>\n",
       "      <td>...</td>\n",
       "      <td>...</td>\n",
       "      <td>...</td>\n",
       "      <td>...</td>\n",
       "      <td>...</td>\n",
       "      <td>...</td>\n",
       "      <td>...</td>\n",
       "      <td>...</td>\n",
       "      <td>...</td>\n",
       "      <td>...</td>\n",
       "      <td>...</td>\n",
       "    </tr>\n",
       "    <tr>\n",
       "      <th>16703</th>\n",
       "      <td>Strawberry Nauts</td>\n",
       "      <td>PSV</td>\n",
       "      <td>2016</td>\n",
       "      <td>Adventure</td>\n",
       "      <td>0.00</td>\n",
       "      <td>0.00</td>\n",
       "      <td>0.01</td>\n",
       "      <td>0.00</td>\n",
       "      <td>NaN</td>\n",
       "      <td>NaN</td>\n",
       "      <td>NaN</td>\n",
       "      <td>0.01</td>\n",
       "    </tr>\n",
       "    <tr>\n",
       "      <th>16707</th>\n",
       "      <td>Aiyoku no Eustia</td>\n",
       "      <td>PSV</td>\n",
       "      <td>2014</td>\n",
       "      <td>Misc</td>\n",
       "      <td>0.00</td>\n",
       "      <td>0.00</td>\n",
       "      <td>0.01</td>\n",
       "      <td>0.00</td>\n",
       "      <td>NaN</td>\n",
       "      <td>NaN</td>\n",
       "      <td>NaN</td>\n",
       "      <td>0.01</td>\n",
       "    </tr>\n",
       "    <tr>\n",
       "      <th>16710</th>\n",
       "      <td>Samurai Warriors: Sanada Maru</td>\n",
       "      <td>PS3</td>\n",
       "      <td>2016</td>\n",
       "      <td>Action</td>\n",
       "      <td>0.00</td>\n",
       "      <td>0.00</td>\n",
       "      <td>0.01</td>\n",
       "      <td>0.00</td>\n",
       "      <td>NaN</td>\n",
       "      <td>NaN</td>\n",
       "      <td>NaN</td>\n",
       "      <td>0.01</td>\n",
       "    </tr>\n",
       "    <tr>\n",
       "      <th>16712</th>\n",
       "      <td>Haitaka no Psychedelica</td>\n",
       "      <td>PSV</td>\n",
       "      <td>2016</td>\n",
       "      <td>Adventure</td>\n",
       "      <td>0.00</td>\n",
       "      <td>0.00</td>\n",
       "      <td>0.01</td>\n",
       "      <td>0.00</td>\n",
       "      <td>NaN</td>\n",
       "      <td>NaN</td>\n",
       "      <td>NaN</td>\n",
       "      <td>0.01</td>\n",
       "    </tr>\n",
       "    <tr>\n",
       "      <th>16714</th>\n",
       "      <td>Winning Post 8 2016</td>\n",
       "      <td>PSV</td>\n",
       "      <td>2016</td>\n",
       "      <td>Simulation</td>\n",
       "      <td>0.00</td>\n",
       "      <td>0.00</td>\n",
       "      <td>0.01</td>\n",
       "      <td>0.00</td>\n",
       "      <td>NaN</td>\n",
       "      <td>NaN</td>\n",
       "      <td>NaN</td>\n",
       "      <td>0.01</td>\n",
       "    </tr>\n",
       "  </tbody>\n",
       "</table>\n",
       "<p>5277 rows × 12 columns</p>\n",
       "</div>"
      ],
      "text/plain": [
       "                                 name platform  year_of_release         genre  \\\n",
       "14                 Kinect Adventures!     X360             2010          Misc   \n",
       "16                 Grand Theft Auto V      PS3             2013        Action   \n",
       "23                 Grand Theft Auto V     X360             2013        Action   \n",
       "27        Pokemon Black/Pokemon White       DS             2010  Role-Playing   \n",
       "29     Call of Duty: Modern Warfare 3     X360             2011       Shooter   \n",
       "...                               ...      ...              ...           ...   \n",
       "16703                Strawberry Nauts      PSV             2016     Adventure   \n",
       "16707                Aiyoku no Eustia      PSV             2014          Misc   \n",
       "16710   Samurai Warriors: Sanada Maru      PS3             2016        Action   \n",
       "16712         Haitaka no Psychedelica      PSV             2016     Adventure   \n",
       "16714             Winning Post 8 2016      PSV             2016    Simulation   \n",
       "\n",
       "       na_sales  eu_sales  jp_sales  other_sales  critic_score  user_score  \\\n",
       "14        15.00      4.89      0.24         1.69          61.0         6.3   \n",
       "16         7.02      9.09      0.98         3.96          97.0         8.2   \n",
       "23         9.66      5.14      0.06         1.41          97.0         8.1   \n",
       "27         5.51      3.17      5.65         0.80           NaN         NaN   \n",
       "29         9.04      4.24      0.13         1.32          88.0         3.4   \n",
       "...         ...       ...       ...          ...           ...         ...   \n",
       "16703      0.00      0.00      0.01         0.00           NaN         NaN   \n",
       "16707      0.00      0.00      0.01         0.00           NaN         NaN   \n",
       "16710      0.00      0.00      0.01         0.00           NaN         NaN   \n",
       "16712      0.00      0.00      0.01         0.00           NaN         NaN   \n",
       "16714      0.00      0.00      0.01         0.00           NaN         NaN   \n",
       "\n",
       "      rating  total_sales  \n",
       "14         E        21.82  \n",
       "16         M        21.05  \n",
       "23         M        16.27  \n",
       "27       NaN        15.13  \n",
       "29         M        14.73  \n",
       "...      ...          ...  \n",
       "16703    NaN         0.01  \n",
       "16707    NaN         0.01  \n",
       "16710    NaN         0.01  \n",
       "16712    NaN         0.01  \n",
       "16714    NaN         0.01  \n",
       "\n",
       "[5277 rows x 12 columns]"
      ]
     },
     "execution_count": 19,
     "metadata": {},
     "output_type": "execute_result"
    }
   ],
   "source": [
    "# исключаем данные до 2009 года и записывем их в переменную actual_data\n",
    "actual_data = data.query('year_of_release > 2009')\n",
    "actual_data"
   ]
  },
  {
   "cell_type": "code",
   "execution_count": 20,
   "metadata": {},
   "outputs": [
    {
     "name": "stdout",
     "output_type": "stream",
     "text": [
      "<class 'pandas.core.frame.DataFrame'>\n",
      "Int64Index: 5277 entries, 14 to 16714\n",
      "Data columns (total 12 columns):\n",
      " #   Column           Non-Null Count  Dtype  \n",
      "---  ------           --------------  -----  \n",
      " 0   name             5277 non-null   object \n",
      " 1   platform         5277 non-null   object \n",
      " 2   year_of_release  5277 non-null   int32  \n",
      " 3   genre            5277 non-null   object \n",
      " 4   na_sales         5277 non-null   float64\n",
      " 5   eu_sales         5277 non-null   float64\n",
      " 6   jp_sales         5277 non-null   float64\n",
      " 7   other_sales      5277 non-null   float64\n",
      " 8   critic_score     2312 non-null   float64\n",
      " 9   user_score       2499 non-null   float64\n",
      " 10  rating           3113 non-null   object \n",
      " 11  total_sales      5277 non-null   float64\n",
      "dtypes: float64(7), int32(1), object(4)\n",
      "memory usage: 515.3+ KB\n"
     ]
    }
   ],
   "source": [
    "actual_data.info()"
   ]
  },
  {
   "cell_type": "markdown",
   "metadata": {},
   "source": [
    "Данные сократились на треть. Теперь можно строить прогнозы на 2017."
   ]
  },
  {
   "cell_type": "markdown",
   "metadata": {},
   "source": [
    "### Потенциально прибыльные платформы"
   ]
  },
  {
   "cell_type": "markdown",
   "metadata": {},
   "source": [
    "Чтобы определить потенциально прибыльные платформы построим график динамики продаж всех платформ в актуальном периоде."
   ]
  },
  {
   "cell_type": "code",
   "execution_count": 21,
   "metadata": {},
   "outputs": [
    {
     "data": {
      "text/html": [
       "<div>\n",
       "<style scoped>\n",
       "    .dataframe tbody tr th:only-of-type {\n",
       "        vertical-align: middle;\n",
       "    }\n",
       "\n",
       "    .dataframe tbody tr th {\n",
       "        vertical-align: top;\n",
       "    }\n",
       "\n",
       "    .dataframe thead th {\n",
       "        text-align: right;\n",
       "    }\n",
       "</style>\n",
       "<table border=\"1\" class=\"dataframe\">\n",
       "  <thead>\n",
       "    <tr style=\"text-align: right;\">\n",
       "      <th>platform</th>\n",
       "      <th>3DS</th>\n",
       "      <th>DS</th>\n",
       "      <th>PC</th>\n",
       "      <th>PS2</th>\n",
       "      <th>PS3</th>\n",
       "      <th>PS4</th>\n",
       "      <th>PSP</th>\n",
       "      <th>PSV</th>\n",
       "      <th>Wii</th>\n",
       "      <th>WiiU</th>\n",
       "      <th>X360</th>\n",
       "      <th>XOne</th>\n",
       "    </tr>\n",
       "    <tr>\n",
       "      <th>year_of_release</th>\n",
       "      <th></th>\n",
       "      <th></th>\n",
       "      <th></th>\n",
       "      <th></th>\n",
       "      <th></th>\n",
       "      <th></th>\n",
       "      <th></th>\n",
       "      <th></th>\n",
       "      <th></th>\n",
       "      <th></th>\n",
       "      <th></th>\n",
       "      <th></th>\n",
       "    </tr>\n",
       "  </thead>\n",
       "  <tbody>\n",
       "    <tr>\n",
       "      <th>2010</th>\n",
       "      <td>NaN</td>\n",
       "      <td>85.02</td>\n",
       "      <td>24.28</td>\n",
       "      <td>5.64</td>\n",
       "      <td>142.17</td>\n",
       "      <td>NaN</td>\n",
       "      <td>35.04</td>\n",
       "      <td>NaN</td>\n",
       "      <td>127.95</td>\n",
       "      <td>NaN</td>\n",
       "      <td>170.03</td>\n",
       "      <td>NaN</td>\n",
       "    </tr>\n",
       "    <tr>\n",
       "      <th>2011</th>\n",
       "      <td>63.20</td>\n",
       "      <td>26.18</td>\n",
       "      <td>35.03</td>\n",
       "      <td>0.45</td>\n",
       "      <td>156.78</td>\n",
       "      <td>NaN</td>\n",
       "      <td>17.82</td>\n",
       "      <td>4.63</td>\n",
       "      <td>59.65</td>\n",
       "      <td>NaN</td>\n",
       "      <td>143.84</td>\n",
       "      <td>NaN</td>\n",
       "    </tr>\n",
       "    <tr>\n",
       "      <th>2012</th>\n",
       "      <td>51.36</td>\n",
       "      <td>11.01</td>\n",
       "      <td>23.22</td>\n",
       "      <td>NaN</td>\n",
       "      <td>107.36</td>\n",
       "      <td>NaN</td>\n",
       "      <td>7.69</td>\n",
       "      <td>16.19</td>\n",
       "      <td>21.71</td>\n",
       "      <td>17.56</td>\n",
       "      <td>99.74</td>\n",
       "      <td>NaN</td>\n",
       "    </tr>\n",
       "    <tr>\n",
       "      <th>2013</th>\n",
       "      <td>56.57</td>\n",
       "      <td>1.54</td>\n",
       "      <td>12.38</td>\n",
       "      <td>NaN</td>\n",
       "      <td>113.25</td>\n",
       "      <td>25.99</td>\n",
       "      <td>3.14</td>\n",
       "      <td>10.59</td>\n",
       "      <td>8.59</td>\n",
       "      <td>21.65</td>\n",
       "      <td>88.58</td>\n",
       "      <td>18.96</td>\n",
       "    </tr>\n",
       "    <tr>\n",
       "      <th>2014</th>\n",
       "      <td>43.76</td>\n",
       "      <td>NaN</td>\n",
       "      <td>13.28</td>\n",
       "      <td>NaN</td>\n",
       "      <td>47.76</td>\n",
       "      <td>100.00</td>\n",
       "      <td>0.24</td>\n",
       "      <td>11.90</td>\n",
       "      <td>3.75</td>\n",
       "      <td>22.03</td>\n",
       "      <td>34.74</td>\n",
       "      <td>54.07</td>\n",
       "    </tr>\n",
       "    <tr>\n",
       "      <th>2015</th>\n",
       "      <td>27.78</td>\n",
       "      <td>NaN</td>\n",
       "      <td>8.52</td>\n",
       "      <td>NaN</td>\n",
       "      <td>16.82</td>\n",
       "      <td>118.90</td>\n",
       "      <td>0.12</td>\n",
       "      <td>6.25</td>\n",
       "      <td>1.14</td>\n",
       "      <td>16.35</td>\n",
       "      <td>11.96</td>\n",
       "      <td>60.14</td>\n",
       "    </tr>\n",
       "    <tr>\n",
       "      <th>2016</th>\n",
       "      <td>15.14</td>\n",
       "      <td>NaN</td>\n",
       "      <td>5.25</td>\n",
       "      <td>NaN</td>\n",
       "      <td>3.60</td>\n",
       "      <td>69.25</td>\n",
       "      <td>NaN</td>\n",
       "      <td>4.25</td>\n",
       "      <td>0.18</td>\n",
       "      <td>4.60</td>\n",
       "      <td>1.52</td>\n",
       "      <td>26.15</td>\n",
       "    </tr>\n",
       "  </tbody>\n",
       "</table>\n",
       "</div>"
      ],
      "text/plain": [
       "platform           3DS     DS     PC   PS2     PS3     PS4    PSP    PSV  \\\n",
       "year_of_release                                                            \n",
       "2010               NaN  85.02  24.28  5.64  142.17     NaN  35.04    NaN   \n",
       "2011             63.20  26.18  35.03  0.45  156.78     NaN  17.82   4.63   \n",
       "2012             51.36  11.01  23.22   NaN  107.36     NaN   7.69  16.19   \n",
       "2013             56.57   1.54  12.38   NaN  113.25   25.99   3.14  10.59   \n",
       "2014             43.76    NaN  13.28   NaN   47.76  100.00   0.24  11.90   \n",
       "2015             27.78    NaN   8.52   NaN   16.82  118.90   0.12   6.25   \n",
       "2016             15.14    NaN   5.25   NaN    3.60   69.25    NaN   4.25   \n",
       "\n",
       "platform            Wii   WiiU    X360   XOne  \n",
       "year_of_release                                \n",
       "2010             127.95    NaN  170.03    NaN  \n",
       "2011              59.65    NaN  143.84    NaN  \n",
       "2012              21.71  17.56   99.74    NaN  \n",
       "2013               8.59  21.65   88.58  18.96  \n",
       "2014               3.75  22.03   34.74  54.07  \n",
       "2015               1.14  16.35   11.96  60.14  \n",
       "2016               0.18   4.60    1.52  26.15  "
      ]
     },
     "execution_count": 21,
     "metadata": {},
     "output_type": "execute_result"
    }
   ],
   "source": [
    "# Cводная таблица по категории \"год\"  в строках,\n",
    "# по категории \"платформa\" в колонках, считаем суммарные продажи\n",
    "# Таблица для наглядности - никуда ее не присваиваем\n",
    "actual_data.pivot_table(index='year_of_release', columns = 'platform', values='total_sales', aggfunc='sum')"
   ]
  },
  {
   "cell_type": "code",
   "execution_count": 22,
   "metadata": {},
   "outputs": [
    {
     "data": {
      "image/png": "[encoded data removed]",
      "text/plain": [
       "<Figure size 864x360 with 1 Axes>"
      ]
     },
     "metadata": {
      "needs_background": "light"
     },
     "output_type": "display_data"
    }
   ],
   "source": [
    "(\n",
    "actual_data\n",
    "    # Та же таблица, что и выше\n",
    "    .pivot_table(index='year_of_release', columns = 'platform', values='total_sales', aggfunc='sum')\n",
    "    # Строим график по таблице\n",
    "    .plot(grid=True, figsize=(12, 5))\n",
    ")\n",
    "plt.xlabel('Год', size = 16)\n",
    "plt.ylabel('Продажи, млн', size = 16)\n",
    "plt.title('Динамика продаж платформ c 2010 по 2016 год', size = 18, pad = 25,fontdict = {'fontweight' : 'bold'})\n",
    "\n",
    "plt.show()"
   ]
  },
  {
   "cell_type": "markdown",
   "metadata": {},
   "source": [
    "У большинства платформ (а это 9 штук) продажи летят в пол. Но есть тройка на которую стоит взгянуть.\n",
    "\n",
    "Так как данные за 2016 год не полные - падение продаж на графике 2015-2016 не совсем информативно и линии к концу года могут выправиться вверх. \n",
    "\n",
    "Исходя из \"средней продолжительности жизни\" платформ и графика можно выделить PS4 и XOne, WiiU. Им еще \"жить\" в среднем до 2020 года. Это и есть наши потенциально прибыльные платформы\n",
    "\n",
    "P.S.: кстати, у меня у самого есть приставка XOneS, и  в прошлом году я даже покупал для нее подписку!) Правда сейчас мы ее используем больше для просмотра видео."
   ]
  },
  {
   "cell_type": "markdown",
   "metadata": {},
   "source": [
    "### График \"ящик с усами\" по глобальным продажам игр в разбивке по платформам"
   ]
  },
  {
   "cell_type": "code",
   "execution_count": 23,
   "metadata": {},
   "outputs": [
    {
     "data": {
      "image/png": "[encoded data removed]",
      "text/plain": [
       "<Figure size 864x432 with 1 Axes>"
      ]
     },
     "metadata": {
      "needs_background": "light"
     },
     "output_type": "display_data"
    }
   ],
   "source": [
    "# Убираем предупреждения Python\n",
    "warnings.filterwarnings(\"ignore\")\n",
    "# Строим диаграмму размаха для всех 12 платформ в актуальных данных\n",
    "actual_data.boxplot(column = 'total_sales', by = 'platform', figsize=(12,6))\n",
    "plt.ylim(0,2)\n",
    "plt.xlabel('Платформы', size = 20)\n",
    "plt.ylabel('Продажи, млн', size = 20)\n",
    "\n",
    "\n",
    "plt.show()\n"
   ]
  },
  {
   "cell_type": "markdown",
   "metadata": {},
   "source": [
    "По диаграмме размаха видно самые большие медианные продажи в платформах: PS3, PS4, Wii, WiiU, X360, XOne.\n",
    "\n",
    "Так как PS3, Wii, X360 практически \"отшумели\". Остаются PS4, WiiU, XOne у которых в запасе есть еще 3-4 года, чтобы показать еще большие показатели продаж.\n"
   ]
  },
  {
   "cell_type": "markdown",
   "metadata": {},
   "source": [
    "### Диаграмма рассеяния и подсчет корреляции между отзывами и продажами PS4"
   ]
  },
  {
   "cell_type": "markdown",
   "metadata": {},
   "source": [
    "Для того, чтобы построить диаграмму рассеяния и подсчитать коэффиценты корреляции для PS4, создадим функцию."
   ]
  },
  {
   "cell_type": "code",
   "execution_count": 24,
   "metadata": {},
   "outputs": [],
   "source": [
    "def correlation(pf):\n",
    "    \n",
    "    actual_data_platform = actual_data.query('platform == @pf')\n",
    "    actual_data_platform.info()\n",
    "    (\n",
    "        actual_data_platform\n",
    "        # чистим пропуски в оценках критиков\n",
    "        .dropna(subset = ['critic_score'])\n",
    "        # строим диаграмму рассеяния\n",
    "        .plot(x = 'critic_score', y = 'total_sales', kind='scatter', grid = True, alpha = 0.45)\n",
    "    )\n",
    "    plt.xlabel('Оценки критиков от 0 до 100', size = 16)\n",
    "    plt.ylabel('Продажи, млн', size = 16)\n",
    "    plt.title(f'Диаграмма рассеяния между отзывами критиков и продажами для {pf}', size = 18, pad = 25,fontdict = {'fontweight' : 'bold'})\n",
    "    plt.show()\n",
    "    (\n",
    "        actual_data_platform\n",
    "        # чистим пропуски в оценках пользователей\n",
    "        .dropna(subset = ['user_score'])\n",
    "        # строим диаграмму\n",
    "        .plot(x = 'user_score', y = 'total_sales', kind='scatter', grid = True, alpha = 0.45)\n",
    "    )\n",
    "    plt.xlabel('Оценки пользователей от 0 до 10', size = 16)\n",
    "    plt.ylabel('Продажи, млн', size = 16)\n",
    "    plt.title(f'Диаграмма рассеяния между отзывами пользователей и продажами для {pf}', size = 18, pad = 25,fontdict = {'fontweight' : 'bold'})\n",
    "    plt.show()\n",
    "    print(\n",
    "        f'Корреляция продаж с оценками критиков для {pf}:',\n",
    "        actual_data_platform['total_sales'].corr(actual_data_platform['critic_score']))\n",
    "    print(\n",
    "        f'Корреляция продаж с оценками пользователей для {pf}:',\n",
    "        actual_data_platform['total_sales'].corr(actual_data_platform['user_score']))\n",
    "    return"
   ]
  },
  {
   "cell_type": "code",
   "execution_count": 25,
   "metadata": {},
   "outputs": [
    {
     "name": "stdout",
     "output_type": "stream",
     "text": [
      "<class 'pandas.core.frame.DataFrame'>\n",
      "Int64Index: 392 entries, 31 to 16585\n",
      "Data columns (total 12 columns):\n",
      " #   Column           Non-Null Count  Dtype  \n",
      "---  ------           --------------  -----  \n",
      " 0   name             392 non-null    object \n",
      " 1   platform         392 non-null    object \n",
      " 2   year_of_release  392 non-null    int32  \n",
      " 3   genre            392 non-null    object \n",
      " 4   na_sales         392 non-null    float64\n",
      " 5   eu_sales         392 non-null    float64\n",
      " 6   jp_sales         392 non-null    float64\n",
      " 7   other_sales      392 non-null    float64\n",
      " 8   critic_score     252 non-null    float64\n",
      " 9   user_score       257 non-null    float64\n",
      " 10  rating           255 non-null    object \n",
      " 11  total_sales      392 non-null    float64\n",
      "dtypes: float64(7), int32(1), object(4)\n",
      "memory usage: 38.3+ KB\n"
     ]
    },
    {
     "data": {
      "image/png": "[encoded data removed]",
      "text/plain": [
       "<Figure size 432x288 with 1 Axes>"
      ]
     },
     "metadata": {
      "needs_background": "light"
     },
     "output_type": "display_data"
    },
    {
     "data": {
      "image/png": "[encoded data removed]",
      "text/plain": [
       "<Figure size 432x288 with 1 Axes>"
      ]
     },
     "metadata": {
      "needs_background": "light"
     },
     "output_type": "display_data"
    },
    {
     "name": "stdout",
     "output_type": "stream",
     "text": [
      "Корреляция продаж с оценками критиков для PS4: 0.406567902061781\n",
      "Корреляция продаж с оценками пользователей для PS4: -0.03195711020455645\n"
     ]
    }
   ],
   "source": [
    "correlation(\"PS4\")"
   ]
  },
  {
   "cell_type": "markdown",
   "metadata": {},
   "source": [
    "По графикам и коэффициенту корреляции видно, что оценки критиков так или иначе влияют на продажи PS4 в целом.(Вот он инсайт) А вот пользовательские оценки носят сумбурный характер."
   ]
  },
  {
   "cell_type": "markdown",
   "metadata": {},
   "source": [
    "### Cоотнести выводы с продажами игра на других платформах"
   ]
  },
  {
   "cell_type": "markdown",
   "metadata": {},
   "source": [
    "Проведем то же исследование для XOne и WiiU"
   ]
  },
  {
   "cell_type": "code",
   "execution_count": 26,
   "metadata": {},
   "outputs": [
    {
     "name": "stdout",
     "output_type": "stream",
     "text": [
      "<class 'pandas.core.frame.DataFrame'>\n",
      "Int64Index: 247 entries, 99 to 16672\n",
      "Data columns (total 12 columns):\n",
      " #   Column           Non-Null Count  Dtype  \n",
      "---  ------           --------------  -----  \n",
      " 0   name             247 non-null    object \n",
      " 1   platform         247 non-null    object \n",
      " 2   year_of_release  247 non-null    int32  \n",
      " 3   genre            247 non-null    object \n",
      " 4   na_sales         247 non-null    float64\n",
      " 5   eu_sales         247 non-null    float64\n",
      " 6   jp_sales         247 non-null    float64\n",
      " 7   other_sales      247 non-null    float64\n",
      " 8   critic_score     169 non-null    float64\n",
      " 9   user_score       182 non-null    float64\n",
      " 10  rating           186 non-null    object \n",
      " 11  total_sales      247 non-null    float64\n",
      "dtypes: float64(7), int32(1), object(4)\n",
      "memory usage: 24.1+ KB\n"
     ]
    },
    {
     "data": {
      "image/png": "[encoded data removed]",
      "text/plain": [
       "<Figure size 432x288 with 1 Axes>"
      ]
     },
     "metadata": {
      "needs_background": "light"
     },
     "output_type": "display_data"
    },
    {
     "data": {
      "image/png": "[encoded data removed]",
      "text/plain": [
       "<Figure size 432x288 with 1 Axes>"
      ]
     },
     "metadata": {
      "needs_background": "light"
     },
     "output_type": "display_data"
    },
    {
     "name": "stdout",
     "output_type": "stream",
     "text": [
      "Корреляция продаж с оценками критиков для XOne: 0.41699832800840186\n",
      "Корреляция продаж с оценками пользователей для XOne: -0.06892505328279412\n"
     ]
    }
   ],
   "source": [
    "correlation(\"XOne\")"
   ]
  },
  {
   "cell_type": "markdown",
   "metadata": {},
   "source": [
    "В XOne оценки критиков анлогично(как и у PS4) влияют на продажи, а оценки пользователей нет."
   ]
  },
  {
   "cell_type": "code",
   "execution_count": 27,
   "metadata": {},
   "outputs": [
    {
     "name": "stdout",
     "output_type": "stream",
     "text": [
      "<class 'pandas.core.frame.DataFrame'>\n",
      "Int64Index: 147 entries, 110 to 16652\n",
      "Data columns (total 12 columns):\n",
      " #   Column           Non-Null Count  Dtype  \n",
      "---  ------           --------------  -----  \n",
      " 0   name             147 non-null    object \n",
      " 1   platform         147 non-null    object \n",
      " 2   year_of_release  147 non-null    int32  \n",
      " 3   genre            147 non-null    object \n",
      " 4   na_sales         147 non-null    float64\n",
      " 5   eu_sales         147 non-null    float64\n",
      " 6   jp_sales         147 non-null    float64\n",
      " 7   other_sales      147 non-null    float64\n",
      " 8   critic_score     90 non-null     float64\n",
      " 9   user_score       100 non-null    float64\n",
      " 10  rating           105 non-null    object \n",
      " 11  total_sales      147 non-null    float64\n",
      "dtypes: float64(7), int32(1), object(4)\n",
      "memory usage: 14.4+ KB\n"
     ]
    },
    {
     "data": {
      "image/png": "[encoded data removed]",
      "text/plain": [
       "<Figure size 432x288 with 1 Axes>"
      ]
     },
     "metadata": {
      "needs_background": "light"
     },
     "output_type": "display_data"
    },
    {
     "data": {
      "image/png": "[encoded data removed]",
      "text/plain": [
       "<Figure size 432x288 with 1 Axes>"
      ]
     },
     "metadata": {
      "needs_background": "light"
     },
     "output_type": "display_data"
    },
    {
     "name": "stdout",
     "output_type": "stream",
     "text": [
      "Корреляция продаж с оценками критиков для WiiU: 0.3483797601201749\n",
      "Корреляция продаж с оценками пользователей для WiiU: 0.4002190202148617\n"
     ]
    }
   ],
   "source": [
    "correlation('WiiU')"
   ]
  },
  {
   "cell_type": "markdown",
   "metadata": {},
   "source": [
    "В WiiU оценки критиков, судя по коэффициенту корреляции, чуть меньше влияют на продажи, но все же имеют вес. Однако, в отличие от рассмотренных раннее платформ, здесь оценки пользователей имеют такое же влияние на продажи."
   ]
  },
  {
   "cell_type": "markdown",
   "metadata": {},
   "source": [
    "У нас есть три потенциально прибыльные платформы PS4, XOne и WiiU. Т.к. оценки критиков все же влияют на продажи, нужно обращать на них большое внимание при выборе игр для интернет-магазина \"Стримчик.\""
   ]
  },
  {
   "cell_type": "markdown",
   "metadata": {},
   "source": [
    "### Распределение продаж по жанрам"
   ]
  },
  {
   "cell_type": "markdown",
   "metadata": {},
   "source": [
    "Построим наглядный столбчатый график распределения продаж по жанрам."
   ]
  },
  {
   "cell_type": "code",
   "execution_count": 28,
   "metadata": {},
   "outputs": [
    {
     "data": {
      "image/png": "[encoded data removed]",
      "text/plain": [
       "<Figure size 864x360 with 1 Axes>"
      ]
     },
     "metadata": {
      "needs_background": "light"
     },
     "output_type": "display_data"
    }
   ],
   "source": [
    "(\n",
    "    # Группируем данные по жанрам , считаем общие продажи\n",
    "    actual_data.pivot_table(index = 'genre', values = 'total_sales',  aggfunc = 'sum')\n",
    "    # Сортируем по убыванию продаж\n",
    "    .sort_values(by= 'total_sales', ascending = False)\n",
    "    # Рисуем столбчатый график\n",
    "    .plot(kind = 'bar', grid=True, figsize=(12, 5))\n",
    "    \n",
    ")\n",
    "plt.xlabel('Жанры', size = 16)\n",
    "plt.ylabel('Продажи, млн', size = 16)\n",
    "plt.title('Распределение продаж по жанрам', size = 18, pad = 25,fontdict = {'fontweight' : 'bold'})\n",
    "plt.show()"
   ]
  },
  {
   "cell_type": "markdown",
   "metadata": {},
   "source": [
    "Вот они самые популярные жанры в мире: Action, Shooter, Sports, Role-Playing, Misc.\n",
    "\n",
    "P.S.: а мои любимые это стратегии - и они почти в конце по популярности. Их, \"Стримчику\", точно не стоит покупать в больших количествах:D"
   ]
  },
  {
   "cell_type": "markdown",
   "metadata": {},
   "source": [
    "## Портрет пользователя каждого региона (NA, EU, JP):"
   ]
  },
  {
   "cell_type": "markdown",
   "metadata": {},
   "source": [
    "Создадим функцию, которая будет принимать на входе: \n",
    "- x - platform, genre, rating; \n",
    "- name - название графика.\n",
    "\n",
    "На выходе функция построит сводную таблицу и столбчатый график пяти параметров с наибольшими продажами."
   ]
  },
  {
   "cell_type": "code",
   "execution_count": 29,
   "metadata": {},
   "outputs": [],
   "source": [
    "def region_sales(x,name):\n",
    "    # Создаем список из продаж по регионам для цикла\n",
    "    columns = ['na_sales','eu_sales','jp_sales']\n",
    "    # Цикл\n",
    "    for column in columns:\n",
    "        top = (\n",
    "            # Создание сводной таблицы\n",
    "            actual_data.pivot_table(index = x, values= column, aggfunc='sum')\n",
    "            # Сортировка по убыванию\n",
    "            .sort_values(by = column, ascending = False)\n",
    "            # Обнуление индексов\n",
    "            .reset_index()\n",
    "            # фильтруем данные, оставляем только первые 5 строчек\n",
    "            .query('index < 5')\n",
    "        )\n",
    "        # вывод на экран\n",
    "        display(top)\n",
    "        # строим столбчатый график\n",
    "        top.plot(kind = 'bar', x = x, grid=True, figsize=(7, 5))\n",
    "        plt.xlabel(x, size = 20)\n",
    "        plt.ylabel('Продажи, млн', size = 20)\n",
    "        # Определяем титульник для графика\n",
    "        if column == 'na_sales':\n",
    "            plt.title(f'{name} в Северной Америке', size = 18, pad = 25,fontdict = {'fontweight' : 'bold'})\n",
    "        elif column == 'eu_sales':\n",
    "            plt.title(f'{name} в Европе', size = 18, pad = 25,fontdict = {'fontweight' : 'bold'})\n",
    "        else:\n",
    "            plt.title(f'{name} в Японии', size = 18, pad = 25,fontdict = {'fontweight' : 'bold'})\n",
    "        plt.show()\n",
    "    return"
   ]
  },
  {
   "cell_type": "markdown",
   "metadata": {},
   "source": [
    "### Самые популярные платформы (топ-5). "
   ]
  },
  {
   "cell_type": "markdown",
   "metadata": {},
   "source": [
    "Используем функцию для определения топ-5 платформ в Северной Америке, Европе и Японии."
   ]
  },
  {
   "cell_type": "code",
   "execution_count": 30,
   "metadata": {},
   "outputs": [
    {
     "data": {
      "text/html": [
       "<div>\n",
       "<style scoped>\n",
       "    .dataframe tbody tr th:only-of-type {\n",
       "        vertical-align: middle;\n",
       "    }\n",
       "\n",
       "    .dataframe tbody tr th {\n",
       "        vertical-align: top;\n",
       "    }\n",
       "\n",
       "    .dataframe thead th {\n",
       "        text-align: right;\n",
       "    }\n",
       "</style>\n",
       "<table border=\"1\" class=\"dataframe\">\n",
       "  <thead>\n",
       "    <tr style=\"text-align: right;\">\n",
       "      <th></th>\n",
       "      <th>platform</th>\n",
       "      <th>na_sales</th>\n",
       "    </tr>\n",
       "  </thead>\n",
       "  <tbody>\n",
       "    <tr>\n",
       "      <th>0</th>\n",
       "      <td>X360</td>\n",
       "      <td>334.18</td>\n",
       "    </tr>\n",
       "    <tr>\n",
       "      <th>1</th>\n",
       "      <td>PS3</td>\n",
       "      <td>229.25</td>\n",
       "    </tr>\n",
       "    <tr>\n",
       "      <th>2</th>\n",
       "      <td>Wii</td>\n",
       "      <td>121.20</td>\n",
       "    </tr>\n",
       "    <tr>\n",
       "      <th>3</th>\n",
       "      <td>PS4</td>\n",
       "      <td>108.74</td>\n",
       "    </tr>\n",
       "    <tr>\n",
       "      <th>4</th>\n",
       "      <td>XOne</td>\n",
       "      <td>93.12</td>\n",
       "    </tr>\n",
       "  </tbody>\n",
       "</table>\n",
       "</div>"
      ],
      "text/plain": [
       "  platform  na_sales\n",
       "0     X360    334.18\n",
       "1      PS3    229.25\n",
       "2      Wii    121.20\n",
       "3      PS4    108.74\n",
       "4     XOne     93.12"
      ]
     },
     "metadata": {},
     "output_type": "display_data"
    },
    {
     "data": {
      "image/png": "[encoded data removed]",
      "text/plain": [
       "<Figure size 504x360 with 1 Axes>"
      ]
     },
     "metadata": {
      "needs_background": "light"
     },
     "output_type": "display_data"
    },
    {
     "data": {
      "text/html": [
       "<div>\n",
       "<style scoped>\n",
       "    .dataframe tbody tr th:only-of-type {\n",
       "        vertical-align: middle;\n",
       "    }\n",
       "\n",
       "    .dataframe tbody tr th {\n",
       "        vertical-align: top;\n",
       "    }\n",
       "\n",
       "    .dataframe thead th {\n",
       "        text-align: right;\n",
       "    }\n",
       "</style>\n",
       "<table border=\"1\" class=\"dataframe\">\n",
       "  <thead>\n",
       "    <tr style=\"text-align: right;\">\n",
       "      <th></th>\n",
       "      <th>platform</th>\n",
       "      <th>eu_sales</th>\n",
       "    </tr>\n",
       "  </thead>\n",
       "  <tbody>\n",
       "    <tr>\n",
       "      <th>0</th>\n",
       "      <td>PS3</td>\n",
       "      <td>213.60</td>\n",
       "    </tr>\n",
       "    <tr>\n",
       "      <th>1</th>\n",
       "      <td>X360</td>\n",
       "      <td>163.41</td>\n",
       "    </tr>\n",
       "    <tr>\n",
       "      <th>2</th>\n",
       "      <td>PS4</td>\n",
       "      <td>141.09</td>\n",
       "    </tr>\n",
       "    <tr>\n",
       "      <th>3</th>\n",
       "      <td>PC</td>\n",
       "      <td>68.82</td>\n",
       "    </tr>\n",
       "    <tr>\n",
       "      <th>4</th>\n",
       "      <td>Wii</td>\n",
       "      <td>65.91</td>\n",
       "    </tr>\n",
       "  </tbody>\n",
       "</table>\n",
       "</div>"
      ],
      "text/plain": [
       "  platform  eu_sales\n",
       "0      PS3    213.60\n",
       "1     X360    163.41\n",
       "2      PS4    141.09\n",
       "3       PC     68.82\n",
       "4      Wii     65.91"
      ]
     },
     "metadata": {},
     "output_type": "display_data"
    },
    {
     "data": {
      "image/png": "[encoded data removed]",
      "text/plain": [
       "<Figure size 504x360 with 1 Axes>"
      ]
     },
     "metadata": {
      "needs_background": "light"
     },
     "output_type": "display_data"
    },
    {
     "data": {
      "text/html": [
       "<div>\n",
       "<style scoped>\n",
       "    .dataframe tbody tr th:only-of-type {\n",
       "        vertical-align: middle;\n",
       "    }\n",
       "\n",
       "    .dataframe tbody tr th {\n",
       "        vertical-align: top;\n",
       "    }\n",
       "\n",
       "    .dataframe thead th {\n",
       "        text-align: right;\n",
       "    }\n",
       "</style>\n",
       "<table border=\"1\" class=\"dataframe\">\n",
       "  <thead>\n",
       "    <tr style=\"text-align: right;\">\n",
       "      <th></th>\n",
       "      <th>platform</th>\n",
       "      <th>jp_sales</th>\n",
       "    </tr>\n",
       "  </thead>\n",
       "  <tbody>\n",
       "    <tr>\n",
       "      <th>0</th>\n",
       "      <td>3DS</td>\n",
       "      <td>100.62</td>\n",
       "    </tr>\n",
       "    <tr>\n",
       "      <th>1</th>\n",
       "      <td>PS3</td>\n",
       "      <td>59.26</td>\n",
       "    </tr>\n",
       "    <tr>\n",
       "      <th>2</th>\n",
       "      <td>PSP</td>\n",
       "      <td>42.20</td>\n",
       "    </tr>\n",
       "    <tr>\n",
       "      <th>3</th>\n",
       "      <td>DS</td>\n",
       "      <td>27.90</td>\n",
       "    </tr>\n",
       "    <tr>\n",
       "      <th>4</th>\n",
       "      <td>PSV</td>\n",
       "      <td>21.84</td>\n",
       "    </tr>\n",
       "  </tbody>\n",
       "</table>\n",
       "</div>"
      ],
      "text/plain": [
       "  platform  jp_sales\n",
       "0      3DS    100.62\n",
       "1      PS3     59.26\n",
       "2      PSP     42.20\n",
       "3       DS     27.90\n",
       "4      PSV     21.84"
      ]
     },
     "metadata": {},
     "output_type": "display_data"
    },
    {
     "data": {
      "image/png": "[encoded data removed]",
      "text/plain": [
       "<Figure size 504x360 with 1 Axes>"
      ]
     },
     "metadata": {
      "needs_background": "light"
     },
     "output_type": "display_data"
    }
   ],
   "source": [
    "region_sales('platform', 'Топ-5 платформ')"
   ]
  },
  {
   "cell_type": "markdown",
   "metadata": {},
   "source": [
    "В Северной Америке и Европе предпочтения к платформам схожие, разве что некоторые меняются местами - PS3, X360, PS4, Wii. Однако есть небольшое различие в Америке в топ-5 входит XOne, а в Европе PC - настольные компьютеры.\n",
    "\n",
    "Япония же кардинально отличается о Америки и Европы. Здесь любят портативные консоли 3DS, PSP, DS, PSV.  И лишь одна игровая приставка PS3."
   ]
  },
  {
   "cell_type": "markdown",
   "metadata": {},
   "source": [
    "### Самые популярные жанры (топ-5)"
   ]
  },
  {
   "cell_type": "code",
   "execution_count": 31,
   "metadata": {
    "scrolled": false
   },
   "outputs": [
    {
     "data": {
      "text/html": [
       "<div>\n",
       "<style scoped>\n",
       "    .dataframe tbody tr th:only-of-type {\n",
       "        vertical-align: middle;\n",
       "    }\n",
       "\n",
       "    .dataframe tbody tr th {\n",
       "        vertical-align: top;\n",
       "    }\n",
       "\n",
       "    .dataframe thead th {\n",
       "        text-align: right;\n",
       "    }\n",
       "</style>\n",
       "<table border=\"1\" class=\"dataframe\">\n",
       "  <thead>\n",
       "    <tr style=\"text-align: right;\">\n",
       "      <th></th>\n",
       "      <th>genre</th>\n",
       "      <th>na_sales</th>\n",
       "    </tr>\n",
       "  </thead>\n",
       "  <tbody>\n",
       "    <tr>\n",
       "      <th>0</th>\n",
       "      <td>Action</td>\n",
       "      <td>290.64</td>\n",
       "    </tr>\n",
       "    <tr>\n",
       "      <th>1</th>\n",
       "      <td>Shooter</td>\n",
       "      <td>237.47</td>\n",
       "    </tr>\n",
       "    <tr>\n",
       "      <th>2</th>\n",
       "      <td>Sports</td>\n",
       "      <td>156.81</td>\n",
       "    </tr>\n",
       "    <tr>\n",
       "      <th>3</th>\n",
       "      <td>Misc</td>\n",
       "      <td>123.80</td>\n",
       "    </tr>\n",
       "    <tr>\n",
       "      <th>4</th>\n",
       "      <td>Role-Playing</td>\n",
       "      <td>112.05</td>\n",
       "    </tr>\n",
       "  </tbody>\n",
       "</table>\n",
       "</div>"
      ],
      "text/plain": [
       "          genre  na_sales\n",
       "0        Action    290.64\n",
       "1       Shooter    237.47\n",
       "2        Sports    156.81\n",
       "3          Misc    123.80\n",
       "4  Role-Playing    112.05"
      ]
     },
     "metadata": {},
     "output_type": "display_data"
    },
    {
     "data": {
      "image/png": "[encoded data removed]",
      "text/plain": [
       "<Figure size 504x360 with 1 Axes>"
      ]
     },
     "metadata": {
      "needs_background": "light"
     },
     "output_type": "display_data"
    },
    {
     "data": {
      "text/html": [
       "<div>\n",
       "<style scoped>\n",
       "    .dataframe tbody tr th:only-of-type {\n",
       "        vertical-align: middle;\n",
       "    }\n",
       "\n",
       "    .dataframe tbody tr th {\n",
       "        vertical-align: top;\n",
       "    }\n",
       "\n",
       "    .dataframe thead th {\n",
       "        text-align: right;\n",
       "    }\n",
       "</style>\n",
       "<table border=\"1\" class=\"dataframe\">\n",
       "  <thead>\n",
       "    <tr style=\"text-align: right;\">\n",
       "      <th></th>\n",
       "      <th>genre</th>\n",
       "      <th>eu_sales</th>\n",
       "    </tr>\n",
       "  </thead>\n",
       "  <tbody>\n",
       "    <tr>\n",
       "      <th>0</th>\n",
       "      <td>Action</td>\n",
       "      <td>233.63</td>\n",
       "    </tr>\n",
       "    <tr>\n",
       "      <th>1</th>\n",
       "      <td>Shooter</td>\n",
       "      <td>171.45</td>\n",
       "    </tr>\n",
       "    <tr>\n",
       "      <th>2</th>\n",
       "      <td>Sports</td>\n",
       "      <td>116.84</td>\n",
       "    </tr>\n",
       "    <tr>\n",
       "      <th>3</th>\n",
       "      <td>Role-Playing</td>\n",
       "      <td>75.48</td>\n",
       "    </tr>\n",
       "    <tr>\n",
       "      <th>4</th>\n",
       "      <td>Misc</td>\n",
       "      <td>66.09</td>\n",
       "    </tr>\n",
       "  </tbody>\n",
       "</table>\n",
       "</div>"
      ],
      "text/plain": [
       "          genre  eu_sales\n",
       "0        Action    233.63\n",
       "1       Shooter    171.45\n",
       "2        Sports    116.84\n",
       "3  Role-Playing     75.48\n",
       "4          Misc     66.09"
      ]
     },
     "metadata": {},
     "output_type": "display_data"
    },
    {
     "data": {
      "image/png": "[encoded data removed]",
      "text/plain": [
       "<Figure size 504x360 with 1 Axes>"
      ]
     },
     "metadata": {
      "needs_background": "light"
     },
     "output_type": "display_data"
    },
    {
     "data": {
      "text/html": [
       "<div>\n",
       "<style scoped>\n",
       "    .dataframe tbody tr th:only-of-type {\n",
       "        vertical-align: middle;\n",
       "    }\n",
       "\n",
       "    .dataframe tbody tr th {\n",
       "        vertical-align: top;\n",
       "    }\n",
       "\n",
       "    .dataframe thead th {\n",
       "        text-align: right;\n",
       "    }\n",
       "</style>\n",
       "<table border=\"1\" class=\"dataframe\">\n",
       "  <thead>\n",
       "    <tr style=\"text-align: right;\">\n",
       "      <th></th>\n",
       "      <th>genre</th>\n",
       "      <th>jp_sales</th>\n",
       "    </tr>\n",
       "  </thead>\n",
       "  <tbody>\n",
       "    <tr>\n",
       "      <th>0</th>\n",
       "      <td>Role-Playing</td>\n",
       "      <td>103.54</td>\n",
       "    </tr>\n",
       "    <tr>\n",
       "      <th>1</th>\n",
       "      <td>Action</td>\n",
       "      <td>72.20</td>\n",
       "    </tr>\n",
       "    <tr>\n",
       "      <th>2</th>\n",
       "      <td>Misc</td>\n",
       "      <td>24.29</td>\n",
       "    </tr>\n",
       "    <tr>\n",
       "      <th>3</th>\n",
       "      <td>Platform</td>\n",
       "      <td>15.81</td>\n",
       "    </tr>\n",
       "    <tr>\n",
       "      <th>4</th>\n",
       "      <td>Adventure</td>\n",
       "      <td>15.67</td>\n",
       "    </tr>\n",
       "  </tbody>\n",
       "</table>\n",
       "</div>"
      ],
      "text/plain": [
       "          genre  jp_sales\n",
       "0  Role-Playing    103.54\n",
       "1        Action     72.20\n",
       "2          Misc     24.29\n",
       "3      Platform     15.81\n",
       "4     Adventure     15.67"
      ]
     },
     "metadata": {},
     "output_type": "display_data"
    },
    {
     "data": {
      "image/png": "[encoded data removed]",
      "text/plain": [
       "<Figure size 504x360 with 1 Axes>"
      ]
     },
     "metadata": {
      "needs_background": "light"
     },
     "output_type": "display_data"
    }
   ],
   "source": [
    "# Используем функцию region_sales для жанров\n",
    "region_sales('genre', 'Топ-5 жанров')"
   ]
  },
  {
   "cell_type": "markdown",
   "metadata": {},
   "source": [
    "По жанрам Европа и Северная Америка сильно схожи. Здесь любят экшены, шутеры, спорт, РПГ, Misc(от англ. \"Miscellaneous game\"- \"Разная игра\").\n",
    "\n",
    "Своеобразаня Япония и тут отличается. На первом месте РПГ. Далее экшены, Misc, платформеры, приключения."
   ]
  },
  {
   "cell_type": "markdown",
   "metadata": {},
   "source": [
    "### Влияет ли рейтинг ESRB на продажи в отдельном регионе"
   ]
  },
  {
   "cell_type": "markdown",
   "metadata": {},
   "source": [
    "Пропуски в рейтинге заменим на символ \"N\"."
   ]
  },
  {
   "cell_type": "code",
   "execution_count": 32,
   "metadata": {},
   "outputs": [],
   "source": [
    "# Отключаем предупреждения Python\n",
    "warnings.filterwarnings(\"ignore\")\n",
    "# Замена пропусков на символ \"N\"\n",
    "actual_data['rating'] = actual_data['rating'].fillna('N')"
   ]
  },
  {
   "cell_type": "code",
   "execution_count": 33,
   "metadata": {
    "scrolled": false
   },
   "outputs": [
    {
     "data": {
      "text/html": [
       "<div>\n",
       "<style scoped>\n",
       "    .dataframe tbody tr th:only-of-type {\n",
       "        vertical-align: middle;\n",
       "    }\n",
       "\n",
       "    .dataframe tbody tr th {\n",
       "        vertical-align: top;\n",
       "    }\n",
       "\n",
       "    .dataframe thead th {\n",
       "        text-align: right;\n",
       "    }\n",
       "</style>\n",
       "<table border=\"1\" class=\"dataframe\">\n",
       "  <thead>\n",
       "    <tr style=\"text-align: right;\">\n",
       "      <th></th>\n",
       "      <th>rating</th>\n",
       "      <th>na_sales</th>\n",
       "    </tr>\n",
       "  </thead>\n",
       "  <tbody>\n",
       "    <tr>\n",
       "      <th>0</th>\n",
       "      <td>M</td>\n",
       "      <td>382.22</td>\n",
       "    </tr>\n",
       "    <tr>\n",
       "      <th>1</th>\n",
       "      <td>E</td>\n",
       "      <td>271.15</td>\n",
       "    </tr>\n",
       "    <tr>\n",
       "      <th>2</th>\n",
       "      <td>T</td>\n",
       "      <td>160.81</td>\n",
       "    </tr>\n",
       "    <tr>\n",
       "      <th>3</th>\n",
       "      <td>E10+</td>\n",
       "      <td>159.38</td>\n",
       "    </tr>\n",
       "    <tr>\n",
       "      <th>4</th>\n",
       "      <td>N</td>\n",
       "      <td>155.72</td>\n",
       "    </tr>\n",
       "  </tbody>\n",
       "</table>\n",
       "</div>"
      ],
      "text/plain": [
       "  rating  na_sales\n",
       "0      M    382.22\n",
       "1      E    271.15\n",
       "2      T    160.81\n",
       "3   E10+    159.38\n",
       "4      N    155.72"
      ]
     },
     "metadata": {},
     "output_type": "display_data"
    },
    {
     "data": {
      "image/png": "[encoded data removed]",
      "text/plain": [
       "<Figure size 504x360 with 1 Axes>"
      ]
     },
     "metadata": {
      "needs_background": "light"
     },
     "output_type": "display_data"
    },
    {
     "data": {
      "text/html": [
       "<div>\n",
       "<style scoped>\n",
       "    .dataframe tbody tr th:only-of-type {\n",
       "        vertical-align: middle;\n",
       "    }\n",
       "\n",
       "    .dataframe tbody tr th {\n",
       "        vertical-align: top;\n",
       "    }\n",
       "\n",
       "    .dataframe thead th {\n",
       "        text-align: right;\n",
       "    }\n",
       "</style>\n",
       "<table border=\"1\" class=\"dataframe\">\n",
       "  <thead>\n",
       "    <tr style=\"text-align: right;\">\n",
       "      <th></th>\n",
       "      <th>rating</th>\n",
       "      <th>eu_sales</th>\n",
       "    </tr>\n",
       "  </thead>\n",
       "  <tbody>\n",
       "    <tr>\n",
       "      <th>0</th>\n",
       "      <td>M</td>\n",
       "      <td>292.04</td>\n",
       "    </tr>\n",
       "    <tr>\n",
       "      <th>1</th>\n",
       "      <td>E</td>\n",
       "      <td>197.34</td>\n",
       "    </tr>\n",
       "    <tr>\n",
       "      <th>2</th>\n",
       "      <td>N</td>\n",
       "      <td>139.44</td>\n",
       "    </tr>\n",
       "    <tr>\n",
       "      <th>3</th>\n",
       "      <td>T</td>\n",
       "      <td>113.08</td>\n",
       "    </tr>\n",
       "    <tr>\n",
       "      <th>4</th>\n",
       "      <td>E10+</td>\n",
       "      <td>99.28</td>\n",
       "    </tr>\n",
       "  </tbody>\n",
       "</table>\n",
       "</div>"
      ],
      "text/plain": [
       "  rating  eu_sales\n",
       "0      M    292.04\n",
       "1      E    197.34\n",
       "2      N    139.44\n",
       "3      T    113.08\n",
       "4   E10+     99.28"
      ]
     },
     "metadata": {},
     "output_type": "display_data"
    },
    {
     "data": {
      "image/png": "[encoded data removed]",
      "text/plain": [
       "<Figure size 504x360 with 1 Axes>"
      ]
     },
     "metadata": {
      "needs_background": "light"
     },
     "output_type": "display_data"
    },
    {
     "data": {
      "text/html": [
       "<div>\n",
       "<style scoped>\n",
       "    .dataframe tbody tr th:only-of-type {\n",
       "        vertical-align: middle;\n",
       "    }\n",
       "\n",
       "    .dataframe tbody tr th {\n",
       "        vertical-align: top;\n",
       "    }\n",
       "\n",
       "    .dataframe thead th {\n",
       "        text-align: right;\n",
       "    }\n",
       "</style>\n",
       "<table border=\"1\" class=\"dataframe\">\n",
       "  <thead>\n",
       "    <tr style=\"text-align: right;\">\n",
       "      <th></th>\n",
       "      <th>rating</th>\n",
       "      <th>jp_sales</th>\n",
       "    </tr>\n",
       "  </thead>\n",
       "  <tbody>\n",
       "    <tr>\n",
       "      <th>0</th>\n",
       "      <td>N</td>\n",
       "      <td>171.49</td>\n",
       "    </tr>\n",
       "    <tr>\n",
       "      <th>1</th>\n",
       "      <td>E</td>\n",
       "      <td>47.87</td>\n",
       "    </tr>\n",
       "    <tr>\n",
       "      <th>2</th>\n",
       "      <td>T</td>\n",
       "      <td>42.11</td>\n",
       "    </tr>\n",
       "    <tr>\n",
       "      <th>3</th>\n",
       "      <td>M</td>\n",
       "      <td>30.45</td>\n",
       "    </tr>\n",
       "    <tr>\n",
       "      <th>4</th>\n",
       "      <td>E10+</td>\n",
       "      <td>13.22</td>\n",
       "    </tr>\n",
       "  </tbody>\n",
       "</table>\n",
       "</div>"
      ],
      "text/plain": [
       "  rating  jp_sales\n",
       "0      N    171.49\n",
       "1      E     47.87\n",
       "2      T     42.11\n",
       "3      M     30.45\n",
       "4   E10+     13.22"
      ]
     },
     "metadata": {},
     "output_type": "display_data"
    },
    {
     "data": {
      "image/png": "[encoded data removed]",
      "text/plain": [
       "<Figure size 504x360 with 1 Axes>"
      ]
     },
     "metadata": {
      "needs_background": "light"
     },
     "output_type": "display_data"
    }
   ],
   "source": [
    "# Снова используем функцию region_sales\n",
    "region_sales('rating', 'Влияние ESRB на продажи')"
   ]
  },
  {
   "cell_type": "markdown",
   "metadata": {},
   "source": [
    "Снова Северная Америка и Европа схожи.\n",
    "1. \"M\" - для всзрослых старше 16 лет, содержат жестокое насилие, кровь;\n",
    "2. \"E\" - для всех старше 6 лет, мультяшки , минимум насилия;\n",
    "3. \"T\" - для подростков старше 13 лет. Проекты из данной категории могут содержать насилие, непристойные сцены, грубый юмор;\n",
    "4. \"E10+\" - Для всех от 10 лет и старше»: Проекты с данным рейтингом могут содержать или немного больше мультипликационного или мягкого насилия.\n",
    " \n",
    "В Японии практически тоже самое, только на первом месте стоит категория \"E\", нежели \"M\". Так же в Японии данные с пропусками занимают огромную часть продаж, из-за чего данное исследование для этого региона, возможно, сильно искажено.\n"
   ]
  },
  {
   "cell_type": "markdown",
   "metadata": {},
   "source": [
    "## Проверка гипотез"
   ]
  },
  {
   "cell_type": "code",
   "execution_count": 34,
   "metadata": {},
   "outputs": [],
   "source": [
    "# Для проверки гипотез удалим пропуски в пользовательских оценках\n",
    "# и сохраним в переменной actual_data_fus (filtered user score)\n",
    "actual_data_fus = actual_data.dropna(subset = ['user_score'])"
   ]
  },
  {
   "cell_type": "markdown",
   "metadata": {},
   "source": [
    "Для проведения t-теста создадим функцию расчета p-значения и сравнения его с критическим уровнем статистической значимости."
   ]
  },
  {
   "cell_type": "code",
   "execution_count": 35,
   "metadata": {},
   "outputs": [],
   "source": [
    "def hypothesis(x,y):\n",
    "    \n",
    "    # критический уровень статистической значимости\n",
    "    alpha = 0.01\n",
    "    \n",
    "    # Проводим тест и считаем p-значение, параметру equal_var присваиваем False\n",
    "    # т.к. выборки в обоих случаях разные\n",
    "    results = st.ttest_ind(x, y, equal_var = False)\n",
    "    print('p-значение:', results.pvalue)\n",
    "    \n",
    "    # Сравнениваем p-значения с заданным критическим уровнем стат. значимости\n",
    "    if results.pvalue < alpha:\n",
    "        return 'Отвергаем нулевую гипотезу'\n",
    "    else:\n",
    "        return 'Не получилось отвергнуть нулевую гипотезу'"
   ]
  },
  {
   "cell_type": "markdown",
   "metadata": {},
   "source": [
    "### Средние пользовательские рейтинги платформ Xbox One и PC одинаковые"
   ]
  },
  {
   "cell_type": "code",
   "execution_count": 36,
   "metadata": {},
   "outputs": [],
   "source": [
    "# Создаем два отдельных датасета по Xbox и PC, заодно почистим от пропусков в столбце user_score\n",
    "data_xone = actual_data_fus.query('platform == \"XOne\"')\n",
    "data_pc = actual_data_fus.query('platform == \"PC\"')"
   ]
  },
  {
   "cell_type": "markdown",
   "metadata": {},
   "source": [
    " - Нулевая гипотеза H0: Средние пользовательские рейтинги платформ Xbox и PC одинаковые.\n",
    " - Альтернативная гипотеза H1: Средние пользовательские рейтинги платформ Xbox и PC различаются."
   ]
  },
  {
   "cell_type": "code",
   "execution_count": 37,
   "metadata": {},
   "outputs": [
    {
     "name": "stdout",
     "output_type": "stream",
     "text": [
      "cредний пользовательский рейтинг XOne:  6.521428571428572\n",
      "cредний пользовательский рейтинг PC:  6.5181818181818185\n",
      "p-значение: 0.9801634129117883\n"
     ]
    },
    {
     "data": {
      "text/plain": [
       "'Не получилось отвергнуть нулевую гипотезу'"
      ]
     },
     "execution_count": 37,
     "metadata": {},
     "output_type": "execute_result"
    }
   ],
   "source": [
    "# Расчитаем средние значения\n",
    "print('cредний пользовательский рейтинг XOne: ',data_xone['user_score'].mean())\n",
    "print('cредний пользовательский рейтинг PC: ',data_pc['user_score'].mean())\n",
    "\n",
    "# Применяем функцию по расчету p-значения\n",
    "hypothesis(data_xone['user_score'],data_pc['user_score'])"
   ]
  },
  {
   "cell_type": "markdown",
   "metadata": {},
   "source": [
    "Полученное значение p-value говорит о том, что вероятность получить такое или большее различие случайно почти 98%. Это большая вероятность, чтобы предполагать что средние пользовательские рейтинги платформ Xbox One и PC одинаковы."
   ]
  },
  {
   "cell_type": "markdown",
   "metadata": {},
   "source": [
    "### Средние пользовательские рейтинги жанров Action  и Sports разные"
   ]
  },
  {
   "cell_type": "code",
   "execution_count": 38,
   "metadata": {},
   "outputs": [],
   "source": [
    "# Создаем два отдельных датасета по Xbox и PC\n",
    "data_action = actual_data_fus.query('genre == \"Action\"')\n",
    "data_sports = actual_data_fus.query('genre == \"Sports\"')"
   ]
  },
  {
   "cell_type": "markdown",
   "metadata": {},
   "source": [
    " - Нулевая гипотеза H0: Средние пользовательские рейтинги жанров Action и Sports одинаковые.\n",
    " - Альтернативная гипотеза H1: Средние пользовательские рейтинги жанров Action и Sports разные."
   ]
  },
  {
   "cell_type": "code",
   "execution_count": 39,
   "metadata": {},
   "outputs": [
    {
     "name": "stdout",
     "output_type": "stream",
     "text": [
      "cредний пользовательский рейтинг Action:  6.781899871630296\n",
      "cредний пользовательский рейтинг Sports:  5.901587301587302\n",
      "p-значение: 1.4516152467844418e-15\n"
     ]
    },
    {
     "data": {
      "text/plain": [
       "'Отвергаем нулевую гипотезу'"
      ]
     },
     "execution_count": 39,
     "metadata": {},
     "output_type": "execute_result"
    }
   ],
   "source": [
    "# Расчитаем средние значения\n",
    "print('cредний пользовательский рейтинг Action: ',data_action['user_score'].mean())\n",
    "print('cредний пользовательский рейтинг Sports: ',data_sports['user_score'].mean())\n",
    "\n",
    "# Применяем функцию по расчету p-значения\n",
    "hypothesis(data_action['user_score'],data_sports['user_score'])"
   ]
  },
  {
   "cell_type": "markdown",
   "metadata": {},
   "source": [
    "p-значение стремится  к нулю. Значит есть основание предполагать, что рейтинги жанров Action и Sports разные."
   ]
  },
  {
   "cell_type": "markdown",
   "metadata": {},
   "source": [
    "## Общий вывод"
   ]
  },
  {
   "cell_type": "markdown",
   "metadata": {},
   "source": [
    "При проведении исследования выяснили:\n",
    "\n",
    "- PS4 и XOne, WiiU - потенциально прибыльные платформы;\n",
    "- Оценки критиков влияют на продажи - коэффициент корреляции = 0.4;\n",
    "- Лучшие жанры по миру экшены, шутеры, спорт, РПГ;\n",
    "- В Японии свои предпочтения по платформам - в основном там любят портативные консоли, по жанрам тоже есть отличия;\n",
    "- Рейтинг ESRB влияет на продажи. На первом месте игры для \"взрослых\" страше 16 лет. На втором для \"всех\" старше 6 лет, на третьем для \"подростков\" старше 13 лет, на четвертом для \"всех\" старше 10 лет.\n",
    "\n",
    "На все эти пункты стоит обратить внимание при выборе потенциально прибыльного продукта."
   ]
  }
 ],
 "metadata": {
  "ExecuteTimeLog": [
   {
    "duration": 853,
    "start_time": "2022-01-25T07:25:23.682Z"
   },
   {
    "duration": 1955,
    "start_time": "2022-01-25T07:25:46.304Z"
   },
   {
    "duration": 2025,
    "start_time": "2022-01-25T07:26:24.604Z"
   },
   {
    "duration": 58,
    "start_time": "2022-01-25T07:26:41.292Z"
   },
   {
    "duration": 12,
    "start_time": "2022-01-25T07:27:16.631Z"
   },
   {
    "duration": 17,
    "start_time": "2022-01-25T07:27:40.529Z"
   },
   {
    "duration": 5,
    "start_time": "2022-01-25T07:28:43.549Z"
   },
   {
    "duration": 10,
    "start_time": "2022-01-25T07:29:02.359Z"
   },
   {
    "duration": 17,
    "start_time": "2022-01-25T07:29:38.739Z"
   },
   {
    "duration": 19,
    "start_time": "2022-01-25T07:29:52.162Z"
   },
   {
    "duration": 23,
    "start_time": "2022-01-25T07:30:23.206Z"
   },
   {
    "duration": 30,
    "start_time": "2022-01-25T07:30:49.763Z"
   },
   {
    "duration": 236,
    "start_time": "2022-01-25T07:31:23.462Z"
   },
   {
    "duration": 18,
    "start_time": "2022-01-25T07:31:42.288Z"
   },
   {
    "duration": 241,
    "start_time": "2022-01-25T07:31:51.552Z"
   },
   {
    "duration": 512,
    "start_time": "2022-01-25T07:32:09.442Z"
   },
   {
    "duration": 80,
    "start_time": "2022-01-25T07:32:18.979Z"
   },
   {
    "duration": 23,
    "start_time": "2022-01-25T07:32:46.152Z"
   },
   {
    "duration": 25,
    "start_time": "2022-01-25T07:33:15.868Z"
   },
   {
    "duration": 360,
    "start_time": "2022-01-25T07:33:28.914Z"
   },
   {
    "duration": 589,
    "start_time": "2022-01-25T07:33:53.016Z"
   },
   {
    "duration": 18,
    "start_time": "2022-01-25T07:34:30.567Z"
   },
   {
    "duration": 531,
    "start_time": "2022-01-25T07:35:10.559Z"
   },
   {
    "duration": 6,
    "start_time": "2022-01-25T07:35:22.958Z"
   },
   {
    "duration": 289,
    "start_time": "2022-01-25T07:36:00.886Z"
   },
   {
    "duration": 14,
    "start_time": "2022-01-25T07:36:27.674Z"
   },
   {
    "duration": 10,
    "start_time": "2022-01-25T07:36:33.591Z"
   },
   {
    "duration": 13,
    "start_time": "2022-01-25T10:39:56.560Z"
   },
   {
    "duration": 15,
    "start_time": "2022-01-25T10:40:40.747Z"
   },
   {
    "duration": 7,
    "start_time": "2022-01-25T10:40:46.620Z"
   },
   {
    "duration": 51,
    "start_time": "2022-01-25T10:44:47.461Z"
   },
   {
    "duration": 4,
    "start_time": "2022-01-25T11:20:28.484Z"
   },
   {
    "duration": 50,
    "start_time": "2022-01-25T11:22:30.302Z"
   },
   {
    "duration": 48,
    "start_time": "2022-01-25T11:22:41.861Z"
   },
   {
    "duration": 4,
    "start_time": "2022-01-25T11:24:39.455Z"
   },
   {
    "duration": 61,
    "start_time": "2022-01-25T11:24:46.360Z"
   },
   {
    "duration": 51,
    "start_time": "2022-01-25T11:25:00.178Z"
   },
   {
    "duration": 10,
    "start_time": "2022-01-25T11:26:50.573Z"
   },
   {
    "duration": 61,
    "start_time": "2022-01-25T11:27:20.164Z"
   },
   {
    "duration": 4,
    "start_time": "2022-01-25T11:29:07.586Z"
   },
   {
    "duration": 9,
    "start_time": "2022-01-25T11:48:07.848Z"
   },
   {
    "duration": 14,
    "start_time": "2022-01-25T11:48:18.831Z"
   },
   {
    "duration": 31,
    "start_time": "2022-01-25T11:48:45.965Z"
   },
   {
    "duration": 26,
    "start_time": "2022-01-25T11:52:16.182Z"
   },
   {
    "duration": 8,
    "start_time": "2022-01-25T11:52:24.916Z"
   },
   {
    "duration": 6,
    "start_time": "2022-01-25T11:53:15.860Z"
   },
   {
    "duration": 12,
    "start_time": "2022-01-25T11:56:54.188Z"
   },
   {
    "duration": 34,
    "start_time": "2022-01-25T11:57:01.719Z"
   },
   {
    "duration": 12,
    "start_time": "2022-01-25T11:57:17.463Z"
   },
   {
    "duration": 5,
    "start_time": "2022-01-25T11:57:21.194Z"
   },
   {
    "duration": 262,
    "start_time": "2022-01-25T11:59:19.908Z"
   },
   {
    "duration": 218,
    "start_time": "2022-01-25T11:59:45.826Z"
   },
   {
    "duration": 5,
    "start_time": "2022-01-25T12:02:47.800Z"
   },
   {
    "duration": 492,
    "start_time": "2022-01-25T12:02:51.803Z"
   },
   {
    "duration": 547,
    "start_time": "2022-01-25T12:03:57.901Z"
   },
   {
    "duration": 9,
    "start_time": "2022-01-25T12:04:09.189Z"
   },
   {
    "duration": 9,
    "start_time": "2022-01-25T12:08:40.100Z"
   },
   {
    "duration": 8,
    "start_time": "2022-01-25T12:16:56.219Z"
   },
   {
    "duration": 91,
    "start_time": "2022-01-25T12:17:28.262Z"
   },
   {
    "duration": 7,
    "start_time": "2022-01-25T12:17:30.441Z"
   },
   {
    "duration": 84,
    "start_time": "2022-01-25T12:17:31.106Z"
   },
   {
    "duration": 10,
    "start_time": "2022-01-25T12:17:55.764Z"
   },
   {
    "duration": 214,
    "start_time": "2022-01-25T12:17:58.488Z"
   },
   {
    "duration": 205,
    "start_time": "2022-01-25T12:18:01.286Z"
   },
   {
    "duration": 4,
    "start_time": "2022-01-25T12:18:05.757Z"
   },
   {
    "duration": 8,
    "start_time": "2022-01-25T12:18:07.988Z"
   },
   {
    "duration": 8,
    "start_time": "2022-01-25T12:18:34.914Z"
   },
   {
    "duration": 9,
    "start_time": "2022-01-25T12:19:07.257Z"
   },
   {
    "duration": 7,
    "start_time": "2022-01-25T12:20:00.355Z"
   },
   {
    "duration": 4,
    "start_time": "2022-01-25T12:20:02.888Z"
   },
   {
    "duration": 8,
    "start_time": "2022-01-25T12:20:04.814Z"
   },
   {
    "duration": 8,
    "start_time": "2022-01-25T12:20:06.798Z"
   },
   {
    "duration": 9,
    "start_time": "2022-01-25T12:20:17.625Z"
   },
   {
    "duration": 7,
    "start_time": "2022-01-25T12:20:19.883Z"
   },
   {
    "duration": 3,
    "start_time": "2022-01-25T12:24:15.745Z"
   },
   {
    "duration": 58,
    "start_time": "2022-01-25T12:24:20.169Z"
   },
   {
    "duration": 13,
    "start_time": "2022-01-25T12:24:21.161Z"
   },
   {
    "duration": 20,
    "start_time": "2022-01-25T12:24:21.684Z"
   },
   {
    "duration": 5,
    "start_time": "2022-01-25T12:24:25.379Z"
   },
   {
    "duration": 10,
    "start_time": "2022-01-25T12:24:26.405Z"
   },
   {
    "duration": 18,
    "start_time": "2022-01-25T12:24:27.466Z"
   },
   {
    "duration": 16,
    "start_time": "2022-01-25T12:24:28.150Z"
   },
   {
    "duration": 24,
    "start_time": "2022-01-25T12:24:29.238Z"
   },
   {
    "duration": 27,
    "start_time": "2022-01-25T12:24:30.381Z"
   },
   {
    "duration": 280,
    "start_time": "2022-01-25T12:24:32.201Z"
   },
   {
    "duration": 17,
    "start_time": "2022-01-25T12:24:33.545Z"
   },
   {
    "duration": 250,
    "start_time": "2022-01-25T12:24:34.242Z"
   },
   {
    "duration": 447,
    "start_time": "2022-01-25T12:24:34.803Z"
   },
   {
    "duration": 33,
    "start_time": "2022-01-25T12:24:35.657Z"
   },
   {
    "duration": 33,
    "start_time": "2022-01-25T12:24:37.262Z"
   },
   {
    "duration": 10,
    "start_time": "2022-01-25T12:24:37.934Z"
   },
   {
    "duration": 40,
    "start_time": "2022-01-25T12:24:38.740Z"
   },
   {
    "duration": 383,
    "start_time": "2022-01-25T12:24:39.193Z"
   },
   {
    "duration": 503,
    "start_time": "2022-01-25T12:24:46.952Z"
   },
   {
    "duration": 20,
    "start_time": "2022-01-25T12:24:49.714Z"
   },
   {
    "duration": 996,
    "start_time": "2022-01-25T12:24:50.361Z"
   },
   {
    "duration": 7,
    "start_time": "2022-01-25T12:24:55.214Z"
   },
   {
    "duration": 308,
    "start_time": "2022-01-25T12:24:57.630Z"
   },
   {
    "duration": 4,
    "start_time": "2022-01-25T12:24:59.920Z"
   },
   {
    "duration": 50,
    "start_time": "2022-01-25T12:25:01.021Z"
   },
   {
    "duration": 49,
    "start_time": "2022-01-25T12:25:02.310Z"
   },
   {
    "duration": 49,
    "start_time": "2022-01-25T12:25:03.596Z"
   },
   {
    "duration": 7,
    "start_time": "2022-01-25T12:25:08.737Z"
   },
   {
    "duration": 4,
    "start_time": "2022-01-25T12:25:09.801Z"
   },
   {
    "duration": 11,
    "start_time": "2022-01-25T12:25:11.049Z"
   },
   {
    "duration": 10,
    "start_time": "2022-01-25T12:25:12.310Z"
   },
   {
    "duration": 11,
    "start_time": "2022-01-25T12:25:13.830Z"
   },
   {
    "duration": 9,
    "start_time": "2022-01-25T12:25:14.714Z"
   },
   {
    "duration": 4,
    "start_time": "2022-01-25T13:21:33.308Z"
   },
   {
    "duration": 679,
    "start_time": "2022-01-25T13:21:36.220Z"
   },
   {
    "duration": 78,
    "start_time": "2022-01-25T13:22:10.400Z"
   },
   {
    "duration": 5,
    "start_time": "2022-01-25T13:22:25.173Z"
   },
   {
    "duration": 780,
    "start_time": "2022-01-25T13:22:27.605Z"
   },
   {
    "duration": 91,
    "start_time": "2022-01-25T13:24:20.672Z"
   },
   {
    "duration": 6,
    "start_time": "2022-01-25T13:24:29.296Z"
   },
   {
    "duration": 680,
    "start_time": "2022-01-25T13:24:30.787Z"
   },
   {
    "duration": 4,
    "start_time": "2022-01-25T13:24:44.621Z"
   },
   {
    "duration": 632,
    "start_time": "2022-01-25T13:24:45.733Z"
   },
   {
    "duration": 5,
    "start_time": "2022-01-25T13:25:01.645Z"
   },
   {
    "duration": 826,
    "start_time": "2022-01-25T13:25:04.415Z"
   },
   {
    "duration": 84,
    "start_time": "2022-01-25T13:26:07.255Z"
   },
   {
    "duration": 285,
    "start_time": "2022-01-25T13:26:24.819Z"
   },
   {
    "duration": 303,
    "start_time": "2022-01-25T13:26:37.011Z"
   },
   {
    "duration": 5,
    "start_time": "2022-01-25T13:26:47.981Z"
   },
   {
    "duration": 621,
    "start_time": "2022-01-25T13:26:49.373Z"
   },
   {
    "duration": 5,
    "start_time": "2022-01-25T13:27:54.638Z"
   },
   {
    "duration": 633,
    "start_time": "2022-01-25T13:27:55.788Z"
   },
   {
    "duration": 6598,
    "start_time": "2022-01-25T13:28:04.781Z"
   },
   {
    "duration": 5,
    "start_time": "2022-01-25T13:28:53.990Z"
   },
   {
    "duration": 621,
    "start_time": "2022-01-25T13:28:56.075Z"
   },
   {
    "duration": 721,
    "start_time": "2022-01-25T13:29:03.251Z"
   },
   {
    "duration": 642,
    "start_time": "2022-01-25T13:29:22.313Z"
   },
   {
    "duration": 427,
    "start_time": "2022-01-25T15:30:09.533Z"
   },
   {
    "duration": 269,
    "start_time": "2022-01-25T15:30:23.777Z"
   },
   {
    "duration": 418,
    "start_time": "2022-01-25T15:30:37.634Z"
   },
   {
    "duration": 506,
    "start_time": "2022-01-25T15:30:57.092Z"
   },
   {
    "duration": -71,
    "start_time": "2022-01-25T15:31:17.233Z"
   },
   {
    "duration": 417,
    "start_time": "2022-01-25T15:31:21.662Z"
   },
   {
    "duration": 4,
    "start_time": "2022-01-25T15:55:43.020Z"
   },
   {
    "duration": 5,
    "start_time": "2022-01-25T15:55:57.373Z"
   },
   {
    "duration": 22,
    "start_time": "2022-01-25T16:00:42.492Z"
   },
   {
    "duration": 15,
    "start_time": "2022-01-25T16:13:30.152Z"
   },
   {
    "duration": 23,
    "start_time": "2022-01-25T16:29:33.634Z"
   },
   {
    "duration": 6225,
    "start_time": "2022-01-25T17:48:49.883Z"
   },
   {
    "duration": 6026,
    "start_time": "2022-01-25T17:49:01.759Z"
   },
   {
    "duration": 6441,
    "start_time": "2022-01-25T17:49:35.740Z"
   },
   {
    "duration": 4,
    "start_time": "2022-01-25T17:49:51.542Z"
   },
   {
    "duration": 72,
    "start_time": "2022-01-25T17:49:53.930Z"
   },
   {
    "duration": 12,
    "start_time": "2022-01-25T17:49:54.775Z"
   },
   {
    "duration": 15,
    "start_time": "2022-01-25T17:49:55.206Z"
   },
   {
    "duration": 4,
    "start_time": "2022-01-25T17:49:57.814Z"
   },
   {
    "duration": 9,
    "start_time": "2022-01-25T17:49:58.548Z"
   },
   {
    "duration": 6531,
    "start_time": "2022-01-25T17:49:59.409Z"
   },
   {
    "duration": 23,
    "start_time": "2022-01-25T17:50:18.302Z"
   },
   {
    "duration": 28,
    "start_time": "2022-01-25T17:50:56.541Z"
   },
   {
    "duration": 23,
    "start_time": "2022-01-25T17:51:39.131Z"
   },
   {
    "duration": 26,
    "start_time": "2022-01-25T17:52:24.493Z"
   },
   {
    "duration": 25,
    "start_time": "2022-01-25T17:52:32.996Z"
   },
   {
    "duration": 36,
    "start_time": "2022-01-25T17:52:42.966Z"
   },
   {
    "duration": 33,
    "start_time": "2022-01-25T17:52:52.918Z"
   },
   {
    "duration": 26,
    "start_time": "2022-01-25T17:53:30.403Z"
   },
   {
    "duration": 32,
    "start_time": "2022-01-25T17:54:07.030Z"
   },
   {
    "duration": 1067,
    "start_time": "2022-01-25T18:13:12.947Z"
   },
   {
    "duration": 57,
    "start_time": "2022-01-25T18:13:14.911Z"
   },
   {
    "duration": 12,
    "start_time": "2022-01-25T18:13:15.882Z"
   },
   {
    "duration": 17,
    "start_time": "2022-01-25T18:13:16.544Z"
   },
   {
    "duration": 4,
    "start_time": "2022-01-25T18:13:20.575Z"
   },
   {
    "duration": 11,
    "start_time": "2022-01-25T18:13:21.118Z"
   },
   {
    "duration": 26,
    "start_time": "2022-01-25T18:14:01.737Z"
   },
   {
    "duration": 267,
    "start_time": "2022-01-25T18:26:59.748Z"
   },
   {
    "duration": 249,
    "start_time": "2022-01-25T18:27:19.879Z"
   },
   {
    "duration": 229,
    "start_time": "2022-01-25T18:28:58.579Z"
   },
   {
    "duration": 230,
    "start_time": "2022-01-25T18:29:05.877Z"
   },
   {
    "duration": 278,
    "start_time": "2022-01-25T18:29:36.488Z"
   },
   {
    "duration": 388,
    "start_time": "2022-01-26T05:52:23.897Z"
   },
   {
    "duration": 1027,
    "start_time": "2022-01-26T05:52:37.358Z"
   },
   {
    "duration": 48,
    "start_time": "2022-01-26T05:52:38.387Z"
   },
   {
    "duration": 9,
    "start_time": "2022-01-26T05:52:39.075Z"
   },
   {
    "duration": 12,
    "start_time": "2022-01-26T05:52:39.450Z"
   },
   {
    "duration": 4,
    "start_time": "2022-01-26T05:52:41.913Z"
   },
   {
    "duration": 8,
    "start_time": "2022-01-26T05:52:42.392Z"
   },
   {
    "duration": 13,
    "start_time": "2022-01-26T05:52:43.479Z"
   },
   {
    "duration": 12,
    "start_time": "2022-01-26T05:52:44.347Z"
   },
   {
    "duration": 12,
    "start_time": "2022-01-26T05:52:45.931Z"
   },
   {
    "duration": 22,
    "start_time": "2022-01-26T05:52:48.151Z"
   },
   {
    "duration": 206,
    "start_time": "2022-01-26T05:52:50.291Z"
   },
   {
    "duration": 13,
    "start_time": "2022-01-26T05:52:52.387Z"
   },
   {
    "duration": 190,
    "start_time": "2022-01-26T05:52:53.678Z"
   },
   {
    "duration": 262,
    "start_time": "2022-01-26T05:59:36.213Z"
   },
   {
    "duration": 111,
    "start_time": "2022-01-26T06:07:00.289Z"
   },
   {
    "duration": 112,
    "start_time": "2022-01-26T06:08:14.283Z"
   },
   {
    "duration": 26,
    "start_time": "2022-01-26T06:08:47.858Z"
   },
   {
    "duration": 255,
    "start_time": "2022-01-26T06:18:15.290Z"
   },
   {
    "duration": 18,
    "start_time": "2022-01-26T06:20:22.434Z"
   },
   {
    "duration": 290,
    "start_time": "2022-01-26T06:28:33.715Z"
   },
   {
    "duration": 354,
    "start_time": "2022-01-26T09:08:12.814Z"
   },
   {
    "duration": 11,
    "start_time": "2022-01-26T09:36:37.603Z"
   },
   {
    "duration": 11,
    "start_time": "2022-01-26T09:40:24.683Z"
   },
   {
    "duration": 10,
    "start_time": "2022-01-26T09:42:56.365Z"
   },
   {
    "duration": 9,
    "start_time": "2022-01-26T09:44:03.525Z"
   },
   {
    "duration": 458,
    "start_time": "2022-01-26T09:44:43.583Z"
   },
   {
    "duration": 117,
    "start_time": "2022-01-26T09:52:05.272Z"
   },
   {
    "duration": 122,
    "start_time": "2022-01-26T09:52:23.047Z"
   },
   {
    "duration": 579,
    "start_time": "2022-01-26T09:52:29.185Z"
   },
   {
    "duration": 624,
    "start_time": "2022-01-26T09:53:29.912Z"
   },
   {
    "duration": 5,
    "start_time": "2022-01-26T09:53:51.453Z"
   },
   {
    "duration": 565,
    "start_time": "2022-01-26T10:13:45.980Z"
   },
   {
    "duration": 599,
    "start_time": "2022-01-26T10:13:50.537Z"
   },
   {
    "duration": 237,
    "start_time": "2022-01-26T10:34:25.297Z"
   },
   {
    "duration": 248,
    "start_time": "2022-01-26T10:37:20.527Z"
   },
   {
    "duration": 4,
    "start_time": "2022-01-26T11:48:15.322Z"
   },
   {
    "duration": 618,
    "start_time": "2022-01-26T11:48:18.487Z"
   },
   {
    "duration": 529,
    "start_time": "2022-01-26T11:48:27.104Z"
   },
   {
    "duration": 836,
    "start_time": "2022-01-26T11:54:04.856Z"
   },
   {
    "duration": 4,
    "start_time": "2022-01-26T11:54:16.675Z"
   },
   {
    "duration": 615,
    "start_time": "2022-01-26T11:54:19.085Z"
   },
   {
    "duration": 514,
    "start_time": "2022-01-26T11:55:34.801Z"
   },
   {
    "duration": 582,
    "start_time": "2022-01-26T11:56:25.698Z"
   },
   {
    "duration": 108,
    "start_time": "2022-01-26T11:56:35.982Z"
   },
   {
    "duration": 103,
    "start_time": "2022-01-26T11:56:39.389Z"
   },
   {
    "duration": 115,
    "start_time": "2022-01-26T11:56:43.289Z"
   },
   {
    "duration": 508,
    "start_time": "2022-01-26T11:56:46.609Z"
   },
   {
    "duration": 501,
    "start_time": "2022-01-26T11:57:08.648Z"
   },
   {
    "duration": 585,
    "start_time": "2022-01-26T11:58:50.504Z"
   },
   {
    "duration": 522,
    "start_time": "2022-01-26T11:58:57.772Z"
   },
   {
    "duration": 603,
    "start_time": "2022-01-26T11:59:11.534Z"
   },
   {
    "duration": 5,
    "start_time": "2022-01-26T13:18:17.814Z"
   },
   {
    "duration": 5,
    "start_time": "2022-01-26T13:23:09.464Z"
   },
   {
    "duration": 855,
    "start_time": "2022-01-26T13:23:15.038Z"
   },
   {
    "duration": 5,
    "start_time": "2022-01-26T13:23:45.124Z"
   },
   {
    "duration": 511,
    "start_time": "2022-01-26T13:23:46.668Z"
   },
   {
    "duration": 80,
    "start_time": "2022-01-26T13:26:01.550Z"
   },
   {
    "duration": 526,
    "start_time": "2022-01-26T13:26:01.870Z"
   },
   {
    "duration": 514,
    "start_time": "2022-01-26T13:26:14.275Z"
   },
   {
    "duration": 521,
    "start_time": "2022-01-26T13:26:32.517Z"
   },
   {
    "duration": 5,
    "start_time": "2022-01-26T13:27:42.575Z"
   },
   {
    "duration": 585,
    "start_time": "2022-01-26T13:43:22.657Z"
   },
   {
    "duration": 525,
    "start_time": "2022-01-26T13:43:51.409Z"
   },
   {
    "duration": 528,
    "start_time": "2022-01-26T13:54:57.405Z"
   },
   {
    "duration": 527,
    "start_time": "2022-01-26T13:55:45.034Z"
   },
   {
    "duration": 594,
    "start_time": "2022-01-26T13:55:54.500Z"
   },
   {
    "duration": 6,
    "start_time": "2022-01-26T14:10:07.661Z"
   },
   {
    "duration": 4,
    "start_time": "2022-01-26T14:10:16.002Z"
   },
   {
    "duration": 1060,
    "start_time": "2022-01-26T15:13:04.338Z"
   },
   {
    "duration": 48,
    "start_time": "2022-01-26T15:13:05.939Z"
   },
   {
    "duration": 10,
    "start_time": "2022-01-26T15:13:06.690Z"
   },
   {
    "duration": 13,
    "start_time": "2022-01-26T15:13:07.695Z"
   },
   {
    "duration": 4,
    "start_time": "2022-01-26T15:13:22.558Z"
   },
   {
    "duration": 9,
    "start_time": "2022-01-26T15:13:24.051Z"
   },
   {
    "duration": 14,
    "start_time": "2022-01-26T15:13:40.757Z"
   },
   {
    "duration": 12,
    "start_time": "2022-01-26T15:13:44.138Z"
   },
   {
    "duration": 12,
    "start_time": "2022-01-26T15:14:09.771Z"
   },
   {
    "duration": 25,
    "start_time": "2022-01-26T15:14:25.988Z"
   },
   {
    "duration": 189,
    "start_time": "2022-01-26T15:14:41.008Z"
   },
   {
    "duration": 13,
    "start_time": "2022-01-26T15:15:30.204Z"
   },
   {
    "duration": 14,
    "start_time": "2022-01-26T15:16:37.219Z"
   },
   {
    "duration": 207,
    "start_time": "2022-01-26T15:16:49.849Z"
   },
   {
    "duration": 198,
    "start_time": "2022-01-26T15:17:11.655Z"
   },
   {
    "duration": 268,
    "start_time": "2022-01-26T15:18:01.412Z"
   },
   {
    "duration": 26,
    "start_time": "2022-01-26T15:19:50.077Z"
   },
   {
    "duration": 18,
    "start_time": "2022-01-26T15:20:17.556Z"
   },
   {
    "duration": 8,
    "start_time": "2022-01-26T15:20:18.392Z"
   },
   {
    "duration": 295,
    "start_time": "2022-01-26T15:26:06.981Z"
   },
   {
    "duration": 372,
    "start_time": "2022-01-26T15:26:09.546Z"
   },
   {
    "duration": 443,
    "start_time": "2022-01-26T15:28:41.397Z"
   },
   {
    "duration": 326,
    "start_time": "2022-01-26T15:28:49.042Z"
   },
   {
    "duration": 8,
    "start_time": "2022-01-26T15:28:56.055Z"
   },
   {
    "duration": 617,
    "start_time": "2022-01-26T15:28:57.629Z"
   },
   {
    "duration": 327,
    "start_time": "2022-01-26T15:28:58.303Z"
   },
   {
    "duration": 320,
    "start_time": "2022-01-26T15:29:06.449Z"
   },
   {
    "duration": 330,
    "start_time": "2022-01-26T15:30:49.239Z"
   },
   {
    "duration": 5,
    "start_time": "2022-01-26T15:31:06.896Z"
   },
   {
    "duration": 313,
    "start_time": "2022-01-26T15:31:52.836Z"
   },
   {
    "duration": 5,
    "start_time": "2022-01-26T15:32:50.372Z"
   },
   {
    "duration": 506,
    "start_time": "2022-01-26T15:32:55.892Z"
   },
   {
    "duration": 510,
    "start_time": "2022-01-26T15:33:25.419Z"
   },
   {
    "duration": 565,
    "start_time": "2022-01-26T15:33:44.687Z"
   },
   {
    "duration": 6,
    "start_time": "2022-01-26T15:33:47.539Z"
   },
   {
    "duration": 4,
    "start_time": "2022-01-26T15:33:49.198Z"
   },
   {
    "duration": 6,
    "start_time": "2022-01-26T15:33:50.350Z"
   },
   {
    "duration": 6,
    "start_time": "2022-01-26T15:33:51.434Z"
   },
   {
    "duration": 6,
    "start_time": "2022-01-26T15:34:02.402Z"
   },
   {
    "duration": 7,
    "start_time": "2022-01-26T15:34:03.309Z"
   },
   {
    "duration": 3,
    "start_time": "2022-01-26T15:34:42.209Z"
   },
   {
    "duration": 47,
    "start_time": "2022-01-26T15:34:46.605Z"
   },
   {
    "duration": 9,
    "start_time": "2022-01-26T15:34:47.766Z"
   },
   {
    "duration": 14,
    "start_time": "2022-01-26T15:34:48.147Z"
   },
   {
    "duration": 5,
    "start_time": "2022-01-26T15:34:50.071Z"
   },
   {
    "duration": 9,
    "start_time": "2022-01-26T15:34:50.442Z"
   },
   {
    "duration": 13,
    "start_time": "2022-01-26T15:34:51.693Z"
   },
   {
    "duration": 13,
    "start_time": "2022-01-26T15:34:52.532Z"
   },
   {
    "duration": 13,
    "start_time": "2022-01-26T15:34:53.656Z"
   },
   {
    "duration": 19,
    "start_time": "2022-01-26T15:34:55.067Z"
   },
   {
    "duration": 191,
    "start_time": "2022-01-26T15:34:56.606Z"
   },
   {
    "duration": 14,
    "start_time": "2022-01-26T15:34:58.669Z"
   },
   {
    "duration": 263,
    "start_time": "2022-01-26T15:34:59.516Z"
   },
   {
    "duration": 264,
    "start_time": "2022-01-26T15:35:00.307Z"
   },
   {
    "duration": 26,
    "start_time": "2022-01-26T15:35:01.855Z"
   },
   {
    "duration": 19,
    "start_time": "2022-01-26T15:35:03.746Z"
   },
   {
    "duration": 8,
    "start_time": "2022-01-26T15:35:04.376Z"
   },
   {
    "duration": 21,
    "start_time": "2022-01-26T15:35:05.989Z"
   },
   {
    "duration": 289,
    "start_time": "2022-01-26T15:35:06.620Z"
   },
   {
    "duration": 446,
    "start_time": "2022-01-26T15:35:08.461Z"
   },
   {
    "duration": 8,
    "start_time": "2022-01-26T15:35:11.380Z"
   },
   {
    "duration": 648,
    "start_time": "2022-01-26T15:35:12.384Z"
   },
   {
    "duration": 6,
    "start_time": "2022-01-26T15:35:13.360Z"
   },
   {
    "duration": 237,
    "start_time": "2022-01-26T15:35:17.183Z"
   },
   {
    "duration": 5,
    "start_time": "2022-01-26T15:35:19.182Z"
   },
   {
    "duration": 509,
    "start_time": "2022-01-26T15:35:20.951Z"
   },
   {
    "duration": 579,
    "start_time": "2022-01-26T15:35:22.576Z"
   },
   {
    "duration": 533,
    "start_time": "2022-01-26T15:35:25.825Z"
   },
   {
    "duration": 6,
    "start_time": "2022-01-26T15:35:29.701Z"
   },
   {
    "duration": 3,
    "start_time": "2022-01-26T15:35:30.677Z"
   },
   {
    "duration": 7,
    "start_time": "2022-01-26T15:35:31.527Z"
   },
   {
    "duration": 6,
    "start_time": "2022-01-26T15:35:32.527Z"
   },
   {
    "duration": 10,
    "start_time": "2022-01-26T15:35:34.368Z"
   },
   {
    "duration": 9,
    "start_time": "2022-01-26T15:35:35.673Z"
   },
   {
    "duration": 1092,
    "start_time": "2022-02-04T08:08:39.109Z"
   },
   {
    "duration": 53,
    "start_time": "2022-02-04T08:08:40.204Z"
   },
   {
    "duration": 10,
    "start_time": "2022-02-04T08:08:40.260Z"
   },
   {
    "duration": 16,
    "start_time": "2022-02-04T08:08:40.272Z"
   },
   {
    "duration": 4,
    "start_time": "2022-02-04T08:08:40.299Z"
   },
   {
    "duration": 11,
    "start_time": "2022-02-04T08:08:40.304Z"
   },
   {
    "duration": 15,
    "start_time": "2022-02-04T08:08:40.316Z"
   },
   {
    "duration": 13,
    "start_time": "2022-02-04T08:08:40.334Z"
   },
   {
    "duration": 49,
    "start_time": "2022-02-04T08:08:40.349Z"
   },
   {
    "duration": 23,
    "start_time": "2022-02-04T08:08:40.400Z"
   },
   {
    "duration": 263,
    "start_time": "2022-02-04T08:08:40.425Z"
   },
   {
    "duration": 17,
    "start_time": "2022-02-04T08:08:40.698Z"
   },
   {
    "duration": 261,
    "start_time": "2022-02-04T08:08:40.717Z"
   },
   {
    "duration": 348,
    "start_time": "2022-02-04T08:08:40.979Z"
   },
   {
    "duration": 30,
    "start_time": "2022-02-04T08:08:41.329Z"
   },
   {
    "duration": 40,
    "start_time": "2022-02-04T08:08:41.361Z"
   },
   {
    "duration": 9,
    "start_time": "2022-02-04T08:08:41.402Z"
   },
   {
    "duration": 31,
    "start_time": "2022-02-04T08:08:41.413Z"
   },
   {
    "duration": 397,
    "start_time": "2022-02-04T08:08:41.446Z"
   },
   {
    "duration": 478,
    "start_time": "2022-02-04T08:08:41.844Z"
   },
   {
    "duration": 9,
    "start_time": "2022-02-04T08:08:42.323Z"
   },
   {
    "duration": 721,
    "start_time": "2022-02-04T08:08:42.334Z"
   },
   {
    "duration": 5,
    "start_time": "2022-02-04T08:08:43.059Z"
   },
   {
    "duration": 318,
    "start_time": "2022-02-04T08:08:43.066Z"
   },
   {
    "duration": 80,
    "start_time": "2022-02-04T08:08:43.386Z"
   },
   {
    "duration": 687,
    "start_time": "2022-02-04T08:08:43.468Z"
   },
   {
    "duration": 687,
    "start_time": "2022-02-04T08:08:44.158Z"
   },
   {
    "duration": 693,
    "start_time": "2022-02-04T08:08:44.846Z"
   },
   {
    "duration": 6,
    "start_time": "2022-02-04T08:08:45.541Z"
   },
   {
    "duration": 9,
    "start_time": "2022-02-04T08:08:45.549Z"
   },
   {
    "duration": 13,
    "start_time": "2022-02-04T08:08:45.560Z"
   },
   {
    "duration": 8,
    "start_time": "2022-02-04T08:08:45.575Z"
   },
   {
    "duration": 8,
    "start_time": "2022-02-04T08:08:45.599Z"
   },
   {
    "duration": 12,
    "start_time": "2022-02-04T08:08:45.608Z"
   },
   {
    "duration": 8,
    "start_time": "2022-02-04T08:20:19.274Z"
   },
   {
    "duration": 1048,
    "start_time": "2022-02-04T11:55:06.659Z"
   },
   {
    "duration": 52,
    "start_time": "2022-02-04T11:55:08.663Z"
   },
   {
    "duration": 11,
    "start_time": "2022-02-04T11:55:09.061Z"
   },
   {
    "duration": 15,
    "start_time": "2022-02-04T11:55:09.459Z"
   },
   {
    "duration": 5,
    "start_time": "2022-02-04T11:55:11.804Z"
   },
   {
    "duration": 9,
    "start_time": "2022-02-04T11:55:12.740Z"
   },
   {
    "duration": 16,
    "start_time": "2022-02-04T11:55:13.995Z"
   },
   {
    "duration": 13,
    "start_time": "2022-02-04T11:55:17.246Z"
   },
   {
    "duration": 14,
    "start_time": "2022-02-04T11:55:17.416Z"
   },
   {
    "duration": 23,
    "start_time": "2022-02-04T11:55:18.854Z"
   },
   {
    "duration": 233,
    "start_time": "2022-02-04T11:55:21.618Z"
   },
   {
    "duration": 16,
    "start_time": "2022-02-04T11:55:23.644Z"
   },
   {
    "duration": 232,
    "start_time": "2022-02-04T11:55:24.463Z"
   },
   {
    "duration": 320,
    "start_time": "2022-02-04T11:55:25.776Z"
   },
   {
    "duration": 29,
    "start_time": "2022-02-04T11:55:26.971Z"
   },
   {
    "duration": 20,
    "start_time": "2022-02-04T11:55:29.196Z"
   },
   {
    "duration": 8,
    "start_time": "2022-02-04T11:55:30.313Z"
   },
   {
    "duration": 25,
    "start_time": "2022-02-04T11:55:32.705Z"
   },
   {
    "duration": 339,
    "start_time": "2022-02-04T11:55:36.156Z"
   },
   {
    "duration": 442,
    "start_time": "2022-02-04T11:55:40.803Z"
   },
   {
    "duration": 9,
    "start_time": "2022-02-04T11:55:48.195Z"
   },
   {
    "duration": 683,
    "start_time": "2022-02-04T11:55:50.182Z"
   },
   {
    "duration": 5,
    "start_time": "2022-02-04T11:55:57.508Z"
   },
   {
    "duration": 9,
    "start_time": "2022-02-04T11:56:00.422Z"
   },
   {
    "duration": 9,
    "start_time": "2022-02-04T11:56:49.982Z"
   },
   {
    "duration": 313,
    "start_time": "2022-02-04T11:57:51.173Z"
   },
   {
    "duration": 739,
    "start_time": "2022-02-04T12:01:17.533Z"
   },
   {
    "duration": 127,
    "start_time": "2022-02-04T12:03:00.267Z"
   },
   {
    "duration": 681,
    "start_time": "2022-02-04T12:03:10.289Z"
   },
   {
    "duration": 6,
    "start_time": "2022-02-04T12:05:09.140Z"
   },
   {
    "duration": 77,
    "start_time": "2022-02-04T12:05:32.831Z"
   },
   {
    "duration": 72,
    "start_time": "2022-02-04T12:05:45.666Z"
   },
   {
    "duration": 72,
    "start_time": "2022-02-04T12:05:53.070Z"
   },
   {
    "duration": 674,
    "start_time": "2022-02-04T12:06:02.490Z"
   },
   {
    "duration": 694,
    "start_time": "2022-02-04T12:07:58.972Z"
   },
   {
    "duration": 624,
    "start_time": "2022-02-04T12:08:32.050Z"
   },
   {
    "duration": 6,
    "start_time": "2022-02-04T12:11:29.582Z"
   },
   {
    "duration": 528,
    "start_time": "2022-02-04T12:11:31.103Z"
   },
   {
    "duration": 6,
    "start_time": "2022-02-04T12:11:51.183Z"
   },
   {
    "duration": 544,
    "start_time": "2022-02-04T12:11:54.553Z"
   },
   {
    "duration": 7,
    "start_time": "2022-02-04T12:16:04.733Z"
   },
   {
    "duration": 773,
    "start_time": "2022-02-04T12:16:05.478Z"
   },
   {
    "duration": 664,
    "start_time": "2022-02-04T12:16:15.318Z"
   },
   {
    "duration": 683,
    "start_time": "2022-02-04T12:17:57.588Z"
   },
   {
    "duration": 686,
    "start_time": "2022-02-04T12:18:16.375Z"
   },
   {
    "duration": 6,
    "start_time": "2022-02-04T12:19:46.388Z"
   },
   {
    "duration": 424,
    "start_time": "2022-02-04T12:19:48.651Z"
   },
   {
    "duration": 5,
    "start_time": "2022-02-04T12:20:56.550Z"
   },
   {
    "duration": 432,
    "start_time": "2022-02-04T12:20:58.659Z"
   },
   {
    "duration": 6,
    "start_time": "2022-02-04T12:22:15.185Z"
   },
   {
    "duration": 684,
    "start_time": "2022-02-04T12:22:15.966Z"
   },
   {
    "duration": 707,
    "start_time": "2022-02-04T12:22:26.077Z"
   },
   {
    "duration": 196,
    "start_time": "2022-02-04T12:24:33.390Z"
   },
   {
    "duration": 650,
    "start_time": "2022-02-04T12:24:39.114Z"
   },
   {
    "duration": 73,
    "start_time": "2022-02-04T12:25:10.999Z"
   },
   {
    "duration": 475,
    "start_time": "2022-02-04T12:25:13.323Z"
   },
   {
    "duration": 7,
    "start_time": "2022-02-04T12:25:36.378Z"
   },
   {
    "duration": 415,
    "start_time": "2022-02-04T12:25:37.002Z"
   },
   {
    "duration": 6,
    "start_time": "2022-02-04T12:25:47.820Z"
   },
   {
    "duration": 399,
    "start_time": "2022-02-04T12:25:49.515Z"
   },
   {
    "duration": 9,
    "start_time": "2022-02-04T12:27:26.344Z"
   },
   {
    "duration": 694,
    "start_time": "2022-02-04T12:27:27.003Z"
   },
   {
    "duration": 706,
    "start_time": "2022-02-04T12:27:39.454Z"
   },
   {
    "duration": 6,
    "start_time": "2022-02-04T12:28:31.314Z"
   },
   {
    "duration": 677,
    "start_time": "2022-02-04T12:28:32.823Z"
   },
   {
    "duration": 630,
    "start_time": "2022-02-04T12:28:40.845Z"
   },
   {
    "duration": 694,
    "start_time": "2022-02-04T12:28:45.265Z"
   },
   {
    "duration": 738,
    "start_time": "2022-02-04T12:28:54.217Z"
   },
   {
    "duration": 648,
    "start_time": "2022-02-04T12:29:00.728Z"
   },
   {
    "duration": 6,
    "start_time": "2022-02-04T12:29:48.109Z"
   },
   {
    "duration": 705,
    "start_time": "2022-02-04T12:29:48.902Z"
   },
   {
    "duration": 680,
    "start_time": "2022-02-04T12:29:58.893Z"
   },
   {
    "duration": 640,
    "start_time": "2022-02-04T12:30:10.359Z"
   },
   {
    "duration": 6,
    "start_time": "2022-02-04T12:32:28.600Z"
   },
   {
    "duration": 699,
    "start_time": "2022-02-04T12:32:29.979Z"
   },
   {
    "duration": 68,
    "start_time": "2022-02-04T12:32:55.755Z"
   },
   {
    "duration": 712,
    "start_time": "2022-02-04T12:32:56.816Z"
   },
   {
    "duration": 617,
    "start_time": "2022-02-04T12:33:04.654Z"
   },
   {
    "duration": 672,
    "start_time": "2022-02-04T12:33:18.504Z"
   },
   {
    "duration": 6,
    "start_time": "2022-02-04T12:34:35.814Z"
   },
   {
    "duration": 657,
    "start_time": "2022-02-04T12:34:36.433Z"
   },
   {
    "duration": 640,
    "start_time": "2022-02-04T12:34:43.337Z"
   },
   {
    "duration": 775,
    "start_time": "2022-02-04T12:34:44.382Z"
   },
   {
    "duration": 6,
    "start_time": "2022-02-04T12:36:28.793Z"
   },
   {
    "duration": 716,
    "start_time": "2022-02-04T12:36:30.096Z"
   },
   {
    "duration": 632,
    "start_time": "2022-02-04T12:36:40.343Z"
   },
   {
    "duration": 643,
    "start_time": "2022-02-04T12:36:47.732Z"
   },
   {
    "duration": 295,
    "start_time": "2022-02-04T12:53:30.606Z"
   },
   {
    "duration": 6,
    "start_time": "2022-02-04T12:53:33.596Z"
   },
   {
    "duration": 610,
    "start_time": "2022-02-04T12:53:43.237Z"
   },
   {
    "duration": 670,
    "start_time": "2022-02-04T12:53:46.204Z"
   },
   {
    "duration": 612,
    "start_time": "2022-02-04T12:54:20.293Z"
   },
   {
    "duration": 55,
    "start_time": "2022-02-04T12:59:11.634Z"
   },
   {
    "duration": 6,
    "start_time": "2022-02-04T13:20:18.553Z"
   },
   {
    "duration": 4,
    "start_time": "2022-02-04T13:20:37.501Z"
   },
   {
    "duration": 613,
    "start_time": "2022-02-04T13:20:48.964Z"
   },
   {
    "duration": 5,
    "start_time": "2022-02-04T13:21:39.596Z"
   },
   {
    "duration": 689,
    "start_time": "2022-02-04T13:21:41.948Z"
   },
   {
    "duration": 1076,
    "start_time": "2022-02-04T13:22:00.317Z"
   },
   {
    "duration": 58,
    "start_time": "2022-02-04T13:22:02.129Z"
   },
   {
    "duration": 10,
    "start_time": "2022-02-04T13:22:02.778Z"
   },
   {
    "duration": 14,
    "start_time": "2022-02-04T13:22:03.078Z"
   },
   {
    "duration": 4,
    "start_time": "2022-02-04T13:22:04.978Z"
   },
   {
    "duration": 10,
    "start_time": "2022-02-04T13:22:05.583Z"
   },
   {
    "duration": 15,
    "start_time": "2022-02-04T13:22:07.799Z"
   },
   {
    "duration": 14,
    "start_time": "2022-02-04T13:22:09.160Z"
   },
   {
    "duration": 14,
    "start_time": "2022-02-04T13:22:10.838Z"
   },
   {
    "duration": 25,
    "start_time": "2022-02-04T13:22:12.505Z"
   },
   {
    "duration": 230,
    "start_time": "2022-02-04T13:22:15.541Z"
   },
   {
    "duration": 16,
    "start_time": "2022-02-04T13:22:17.619Z"
   },
   {
    "duration": 232,
    "start_time": "2022-02-04T13:22:18.397Z"
   },
   {
    "duration": 313,
    "start_time": "2022-02-04T13:22:19.856Z"
   },
   {
    "duration": 30,
    "start_time": "2022-02-04T13:22:21.298Z"
   },
   {
    "duration": 23,
    "start_time": "2022-02-04T13:22:24.252Z"
   },
   {
    "duration": 9,
    "start_time": "2022-02-04T13:22:25.886Z"
   },
   {
    "duration": 25,
    "start_time": "2022-02-04T13:22:27.546Z"
   },
   {
    "duration": 349,
    "start_time": "2022-02-04T13:22:28.067Z"
   },
   {
    "duration": 453,
    "start_time": "2022-02-04T13:22:29.555Z"
   },
   {
    "duration": 6,
    "start_time": "2022-02-04T13:22:31.817Z"
   },
   {
    "duration": 710,
    "start_time": "2022-02-04T13:22:32.108Z"
   },
   {
    "duration": 760,
    "start_time": "2022-02-04T13:22:34.412Z"
   },
   {
    "duration": 686,
    "start_time": "2022-02-04T13:22:35.670Z"
   },
   {
    "duration": 291,
    "start_time": "2022-02-04T13:22:39.504Z"
   },
   {
    "duration": 6,
    "start_time": "2022-02-04T13:22:41.553Z"
   },
   {
    "duration": 619,
    "start_time": "2022-02-04T13:22:42.780Z"
   },
   {
    "duration": 628,
    "start_time": "2022-02-04T13:22:44.653Z"
   },
   {
    "duration": 4,
    "start_time": "2022-02-04T13:22:46.989Z"
   },
   {
    "duration": 658,
    "start_time": "2022-02-04T13:22:58.773Z"
   },
   {
    "duration": 735,
    "start_time": "2022-02-04T13:38:31.149Z"
   },
   {
    "duration": 3,
    "start_time": "2022-02-04T13:39:03.681Z"
   },
   {
    "duration": 445,
    "start_time": "2022-02-04T13:39:19.605Z"
   },
   {
    "duration": 435,
    "start_time": "2022-02-04T13:39:36.382Z"
   },
   {
    "duration": 4,
    "start_time": "2022-02-04T13:43:37.903Z"
   },
   {
    "duration": 3,
    "start_time": "2022-02-04T13:43:44.313Z"
   },
   {
    "duration": 3,
    "start_time": "2022-02-04T13:43:45.735Z"
   },
   {
    "duration": 422,
    "start_time": "2022-02-04T13:43:52.815Z"
   },
   {
    "duration": 1027,
    "start_time": "2022-02-04T13:44:26.462Z"
   },
   {
    "duration": 3,
    "start_time": "2022-02-04T13:44:28.927Z"
   },
   {
    "duration": 62,
    "start_time": "2022-02-04T13:44:31.072Z"
   },
   {
    "duration": 11,
    "start_time": "2022-02-04T13:44:31.934Z"
   },
   {
    "duration": 14,
    "start_time": "2022-02-04T13:44:32.348Z"
   },
   {
    "duration": 4,
    "start_time": "2022-02-04T13:44:34.096Z"
   },
   {
    "duration": 10,
    "start_time": "2022-02-04T13:44:34.734Z"
   },
   {
    "duration": 15,
    "start_time": "2022-02-04T13:44:36.209Z"
   },
   {
    "duration": 12,
    "start_time": "2022-02-04T13:44:37.293Z"
   },
   {
    "duration": 14,
    "start_time": "2022-02-04T13:44:38.721Z"
   },
   {
    "duration": 23,
    "start_time": "2022-02-04T13:44:40.035Z"
   },
   {
    "duration": 223,
    "start_time": "2022-02-04T13:44:41.889Z"
   },
   {
    "duration": 15,
    "start_time": "2022-02-04T13:44:44.251Z"
   },
   {
    "duration": 233,
    "start_time": "2022-02-04T13:44:45.421Z"
   },
   {
    "duration": 316,
    "start_time": "2022-02-04T13:44:48.550Z"
   },
   {
    "duration": 30,
    "start_time": "2022-02-04T13:44:50.010Z"
   },
   {
    "duration": 23,
    "start_time": "2022-02-04T13:44:52.564Z"
   },
   {
    "duration": 9,
    "start_time": "2022-02-04T13:44:53.719Z"
   },
   {
    "duration": 26,
    "start_time": "2022-02-04T13:44:55.688Z"
   },
   {
    "duration": 353,
    "start_time": "2022-02-04T13:44:56.371Z"
   },
   {
    "duration": 459,
    "start_time": "2022-02-04T13:44:59.809Z"
   },
   {
    "duration": 4,
    "start_time": "2022-02-04T13:46:48.903Z"
   },
   {
    "duration": 3,
    "start_time": "2022-02-04T13:46:51.526Z"
   },
   {
    "duration": 3,
    "start_time": "2022-02-04T13:46:53.441Z"
   },
   {
    "duration": 3,
    "start_time": "2022-02-04T13:46:54.734Z"
   },
   {
    "duration": 435,
    "start_time": "2022-02-04T13:47:04.452Z"
   },
   {
    "duration": 5,
    "start_time": "2022-02-04T13:47:30.435Z"
   },
   {
    "duration": 4,
    "start_time": "2022-02-04T13:50:39.977Z"
   },
   {
    "duration": 3,
    "start_time": "2022-02-04T13:51:23.054Z"
   },
   {
    "duration": 1064,
    "start_time": "2022-02-04T13:52:07.791Z"
   },
   {
    "duration": 59,
    "start_time": "2022-02-04T13:52:10.014Z"
   },
   {
    "duration": 10,
    "start_time": "2022-02-04T13:52:10.878Z"
   },
   {
    "duration": 15,
    "start_time": "2022-02-04T13:52:11.381Z"
   },
   {
    "duration": 5,
    "start_time": "2022-02-04T13:52:13.626Z"
   },
   {
    "duration": 9,
    "start_time": "2022-02-04T13:52:14.114Z"
   },
   {
    "duration": 15,
    "start_time": "2022-02-04T13:52:15.201Z"
   },
   {
    "duration": 14,
    "start_time": "2022-02-04T13:52:16.026Z"
   },
   {
    "duration": 13,
    "start_time": "2022-02-04T13:52:17.405Z"
   },
   {
    "duration": 23,
    "start_time": "2022-02-04T13:52:18.894Z"
   },
   {
    "duration": 232,
    "start_time": "2022-02-04T13:52:20.588Z"
   },
   {
    "duration": 15,
    "start_time": "2022-02-04T13:52:22.091Z"
   },
   {
    "duration": 229,
    "start_time": "2022-02-04T13:52:22.696Z"
   },
   {
    "duration": 317,
    "start_time": "2022-02-04T13:52:24.044Z"
   },
   {
    "duration": 29,
    "start_time": "2022-02-04T13:52:24.871Z"
   },
   {
    "duration": 21,
    "start_time": "2022-02-04T13:52:26.619Z"
   },
   {
    "duration": 9,
    "start_time": "2022-02-04T13:52:27.569Z"
   },
   {
    "duration": 26,
    "start_time": "2022-02-04T13:52:29.379Z"
   },
   {
    "duration": 354,
    "start_time": "2022-02-04T13:52:29.899Z"
   },
   {
    "duration": 428,
    "start_time": "2022-02-04T13:52:32.402Z"
   },
   {
    "duration": 6,
    "start_time": "2022-02-04T13:52:39.350Z"
   },
   {
    "duration": 654,
    "start_time": "2022-02-04T15:47:51.564Z"
   },
   {
    "duration": 774,
    "start_time": "2022-02-04T15:47:55.090Z"
   },
   {
    "duration": 651,
    "start_time": "2022-02-04T15:47:56.824Z"
   },
   {
    "duration": 286,
    "start_time": "2022-02-04T15:48:04.499Z"
   },
   {
    "duration": 6,
    "start_time": "2022-02-04T15:48:09.012Z"
   },
   {
    "duration": 616,
    "start_time": "2022-02-04T15:48:11.343Z"
   },
   {
    "duration": 605,
    "start_time": "2022-02-04T15:48:13.627Z"
   },
   {
    "duration": 3,
    "start_time": "2022-02-04T15:48:16.440Z"
   },
   {
    "duration": 686,
    "start_time": "2022-02-04T15:48:30.617Z"
   },
   {
    "duration": 4,
    "start_time": "2022-02-04T15:52:32.596Z"
   },
   {
    "duration": 636,
    "start_time": "2022-02-04T15:52:33.110Z"
   },
   {
    "duration": 1055,
    "start_time": "2022-02-04T15:55:12.433Z"
   },
   {
    "duration": 59,
    "start_time": "2022-02-04T15:55:14.621Z"
   },
   {
    "duration": 12,
    "start_time": "2022-02-04T15:55:15.305Z"
   },
   {
    "duration": 16,
    "start_time": "2022-02-04T15:55:17.550Z"
   },
   {
    "duration": 4,
    "start_time": "2022-02-04T15:55:17.732Z"
   },
   {
    "duration": 9,
    "start_time": "2022-02-04T15:55:18.205Z"
   },
   {
    "duration": 16,
    "start_time": "2022-02-04T15:55:19.842Z"
   },
   {
    "duration": 13,
    "start_time": "2022-02-04T15:55:20.944Z"
   },
   {
    "duration": 14,
    "start_time": "2022-02-04T15:55:24.104Z"
   },
   {
    "duration": 23,
    "start_time": "2022-02-04T15:55:25.703Z"
   },
   {
    "duration": 228,
    "start_time": "2022-02-04T15:55:27.494Z"
   },
   {
    "duration": 16,
    "start_time": "2022-02-04T15:55:29.494Z"
   },
   {
    "duration": 232,
    "start_time": "2022-02-04T15:55:30.325Z"
   },
   {
    "duration": 310,
    "start_time": "2022-02-04T15:55:31.621Z"
   },
   {
    "duration": 28,
    "start_time": "2022-02-04T15:55:33.745Z"
   },
   {
    "duration": 21,
    "start_time": "2022-02-04T15:55:36.035Z"
   },
   {
    "duration": 8,
    "start_time": "2022-02-04T15:55:36.912Z"
   },
   {
    "duration": 23,
    "start_time": "2022-02-04T15:55:38.705Z"
   },
   {
    "duration": 336,
    "start_time": "2022-02-04T15:55:39.271Z"
   },
   {
    "duration": 400,
    "start_time": "2022-02-04T15:55:41.476Z"
   },
   {
    "duration": 6,
    "start_time": "2022-02-04T15:55:45.490Z"
   },
   {
    "duration": 682,
    "start_time": "2022-02-04T15:55:46.500Z"
   },
   {
    "duration": 711,
    "start_time": "2022-02-04T15:55:48.754Z"
   },
   {
    "duration": 696,
    "start_time": "2022-02-04T15:55:50.277Z"
   },
   {
    "duration": 275,
    "start_time": "2022-02-04T15:55:54.794Z"
   },
   {
    "duration": 9,
    "start_time": "2022-02-04T15:55:57.488Z"
   },
   {
    "duration": 640,
    "start_time": "2022-02-04T15:55:59.480Z"
   },
   {
    "duration": 617,
    "start_time": "2022-02-04T15:56:01.798Z"
   },
   {
    "duration": 4,
    "start_time": "2022-02-04T15:56:05.954Z"
   },
   {
    "duration": 686,
    "start_time": "2022-02-04T15:56:06.976Z"
   },
   {
    "duration": 6,
    "start_time": "2022-02-04T15:56:11.294Z"
   },
   {
    "duration": 3,
    "start_time": "2022-02-04T15:56:12.437Z"
   },
   {
    "duration": 7,
    "start_time": "2022-02-04T15:56:13.522Z"
   },
   {
    "duration": 7,
    "start_time": "2022-02-04T15:56:14.517Z"
   },
   {
    "duration": 7,
    "start_time": "2022-02-04T15:56:16.573Z"
   },
   {
    "duration": 7,
    "start_time": "2022-02-04T15:56:17.665Z"
   }
  ],
  "kernelspec": {
   "display_name": "Python 3 (ipykernel)",
   "language": "python",
   "name": "python3"
  },
  "language_info": {
   "codemirror_mode": {
    "name": "ipython",
    "version": 3
   },
   "file_extension": ".py",
   "mimetype": "text/x-python",
   "name": "python",
   "nbconvert_exporter": "python",
   "pygments_lexer": "ipython3",
   "version": "3.9.12"
  },
  "toc": {
   "base_numbering": 1,
   "nav_menu": {
    "height": "373px",
    "width": "435px"
   },
   "number_sections": true,
   "sideBar": true,
   "skip_h1_title": true,
   "title_cell": "Содержание",
   "title_sidebar": "Contents",
   "toc_cell": true,
   "toc_position": {
    "height": "calc(100% - 180px)",
    "left": "10px",
    "top": "150px",
    "width": "255.594px"
   },
   "toc_section_display": true,
   "toc_window_display": true
  }
 },
 "nbformat": 4,
 "nbformat_minor": 2
}
