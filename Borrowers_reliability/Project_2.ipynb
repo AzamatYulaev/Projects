{
 "cells": [
  {
   "cell_type": "markdown",
   "metadata": {},
   "source": [
    "# Исследование надёжности заёмщиков\n",
    "\n",
    "Заказчик — кредитный отдел банка. Нужно разобраться, влияет ли семейное положение и количество детей клиента на факт погашения кредита в срок. Входные данные от банка — статистика о платёжеспособности клиентов.\n",
    "\n",
    "Результаты исследования будут учтены при построении модели **кредитного скоринга** — специальной системы, которая оценивает способность потенциального заёмщика вернуть кредит банку."
   ]
  },
  {
   "cell_type": "markdown",
   "metadata": {},
   "source": [
    "## Откройте файл с данными и изучите общую информацию"
   ]
  },
  {
   "cell_type": "code",
   "execution_count": 1,
   "metadata": {},
   "outputs": [],
   "source": [
    "import pandas as pd\n",
    "import numpy as np\n",
    "from pymystem3 import Mystem\n",
    "from collections import Counter"
   ]
  },
  {
   "cell_type": "code",
   "execution_count": 2,
   "metadata": {},
   "outputs": [
    {
     "data": {
      "text/html": [
       "<div>\n",
       "<style scoped>\n",
       "    .dataframe tbody tr th:only-of-type {\n",
       "        vertical-align: middle;\n",
       "    }\n",
       "\n",
       "    .dataframe tbody tr th {\n",
       "        vertical-align: top;\n",
       "    }\n",
       "\n",
       "    .dataframe thead th {\n",
       "        text-align: right;\n",
       "    }\n",
       "</style>\n",
       "<table border=\"1\" class=\"dataframe\">\n",
       "  <thead>\n",
       "    <tr style=\"text-align: right;\">\n",
       "      <th></th>\n",
       "      <th>children</th>\n",
       "      <th>days_employed</th>\n",
       "      <th>dob_years</th>\n",
       "      <th>education</th>\n",
       "      <th>education_id</th>\n",
       "      <th>family_status</th>\n",
       "      <th>family_status_id</th>\n",
       "      <th>gender</th>\n",
       "      <th>income_type</th>\n",
       "      <th>debt</th>\n",
       "      <th>total_income</th>\n",
       "      <th>purpose</th>\n",
       "    </tr>\n",
       "  </thead>\n",
       "  <tbody>\n",
       "    <tr>\n",
       "      <th>0</th>\n",
       "      <td>1</td>\n",
       "      <td>-8437.673028</td>\n",
       "      <td>42</td>\n",
       "      <td>высшее</td>\n",
       "      <td>0</td>\n",
       "      <td>женат / замужем</td>\n",
       "      <td>0</td>\n",
       "      <td>F</td>\n",
       "      <td>сотрудник</td>\n",
       "      <td>0</td>\n",
       "      <td>253875.639453</td>\n",
       "      <td>покупка жилья</td>\n",
       "    </tr>\n",
       "    <tr>\n",
       "      <th>1</th>\n",
       "      <td>1</td>\n",
       "      <td>-4024.803754</td>\n",
       "      <td>36</td>\n",
       "      <td>среднее</td>\n",
       "      <td>1</td>\n",
       "      <td>женат / замужем</td>\n",
       "      <td>0</td>\n",
       "      <td>F</td>\n",
       "      <td>сотрудник</td>\n",
       "      <td>0</td>\n",
       "      <td>112080.014102</td>\n",
       "      <td>приобретение автомобиля</td>\n",
       "    </tr>\n",
       "    <tr>\n",
       "      <th>2</th>\n",
       "      <td>0</td>\n",
       "      <td>-5623.422610</td>\n",
       "      <td>33</td>\n",
       "      <td>Среднее</td>\n",
       "      <td>1</td>\n",
       "      <td>женат / замужем</td>\n",
       "      <td>0</td>\n",
       "      <td>M</td>\n",
       "      <td>сотрудник</td>\n",
       "      <td>0</td>\n",
       "      <td>145885.952297</td>\n",
       "      <td>покупка жилья</td>\n",
       "    </tr>\n",
       "    <tr>\n",
       "      <th>3</th>\n",
       "      <td>3</td>\n",
       "      <td>-4124.747207</td>\n",
       "      <td>32</td>\n",
       "      <td>среднее</td>\n",
       "      <td>1</td>\n",
       "      <td>женат / замужем</td>\n",
       "      <td>0</td>\n",
       "      <td>M</td>\n",
       "      <td>сотрудник</td>\n",
       "      <td>0</td>\n",
       "      <td>267628.550329</td>\n",
       "      <td>дополнительное образование</td>\n",
       "    </tr>\n",
       "    <tr>\n",
       "      <th>4</th>\n",
       "      <td>0</td>\n",
       "      <td>340266.072047</td>\n",
       "      <td>53</td>\n",
       "      <td>среднее</td>\n",
       "      <td>1</td>\n",
       "      <td>гражданский брак</td>\n",
       "      <td>1</td>\n",
       "      <td>F</td>\n",
       "      <td>пенсионер</td>\n",
       "      <td>0</td>\n",
       "      <td>158616.077870</td>\n",
       "      <td>сыграть свадьбу</td>\n",
       "    </tr>\n",
       "    <tr>\n",
       "      <th>5</th>\n",
       "      <td>0</td>\n",
       "      <td>-926.185831</td>\n",
       "      <td>27</td>\n",
       "      <td>высшее</td>\n",
       "      <td>0</td>\n",
       "      <td>гражданский брак</td>\n",
       "      <td>1</td>\n",
       "      <td>M</td>\n",
       "      <td>компаньон</td>\n",
       "      <td>0</td>\n",
       "      <td>255763.565419</td>\n",
       "      <td>покупка жилья</td>\n",
       "    </tr>\n",
       "    <tr>\n",
       "      <th>6</th>\n",
       "      <td>0</td>\n",
       "      <td>-2879.202052</td>\n",
       "      <td>43</td>\n",
       "      <td>высшее</td>\n",
       "      <td>0</td>\n",
       "      <td>женат / замужем</td>\n",
       "      <td>0</td>\n",
       "      <td>F</td>\n",
       "      <td>компаньон</td>\n",
       "      <td>0</td>\n",
       "      <td>240525.971920</td>\n",
       "      <td>операции с жильем</td>\n",
       "    </tr>\n",
       "    <tr>\n",
       "      <th>7</th>\n",
       "      <td>0</td>\n",
       "      <td>-152.779569</td>\n",
       "      <td>50</td>\n",
       "      <td>СРЕДНЕЕ</td>\n",
       "      <td>1</td>\n",
       "      <td>женат / замужем</td>\n",
       "      <td>0</td>\n",
       "      <td>M</td>\n",
       "      <td>сотрудник</td>\n",
       "      <td>0</td>\n",
       "      <td>135823.934197</td>\n",
       "      <td>образование</td>\n",
       "    </tr>\n",
       "    <tr>\n",
       "      <th>8</th>\n",
       "      <td>2</td>\n",
       "      <td>-6929.865299</td>\n",
       "      <td>35</td>\n",
       "      <td>ВЫСШЕЕ</td>\n",
       "      <td>0</td>\n",
       "      <td>гражданский брак</td>\n",
       "      <td>1</td>\n",
       "      <td>F</td>\n",
       "      <td>сотрудник</td>\n",
       "      <td>0</td>\n",
       "      <td>95856.832424</td>\n",
       "      <td>на проведение свадьбы</td>\n",
       "    </tr>\n",
       "    <tr>\n",
       "      <th>9</th>\n",
       "      <td>0</td>\n",
       "      <td>-2188.756445</td>\n",
       "      <td>41</td>\n",
       "      <td>среднее</td>\n",
       "      <td>1</td>\n",
       "      <td>женат / замужем</td>\n",
       "      <td>0</td>\n",
       "      <td>M</td>\n",
       "      <td>сотрудник</td>\n",
       "      <td>0</td>\n",
       "      <td>144425.938277</td>\n",
       "      <td>покупка жилья для семьи</td>\n",
       "    </tr>\n",
       "  </tbody>\n",
       "</table>\n",
       "</div>"
      ],
      "text/plain": [
       "   children  days_employed  dob_years education  education_id  \\\n",
       "0         1   -8437.673028         42    высшее             0   \n",
       "1         1   -4024.803754         36   среднее             1   \n",
       "2         0   -5623.422610         33   Среднее             1   \n",
       "3         3   -4124.747207         32   среднее             1   \n",
       "4         0  340266.072047         53   среднее             1   \n",
       "5         0    -926.185831         27    высшее             0   \n",
       "6         0   -2879.202052         43    высшее             0   \n",
       "7         0    -152.779569         50   СРЕДНЕЕ             1   \n",
       "8         2   -6929.865299         35    ВЫСШЕЕ             0   \n",
       "9         0   -2188.756445         41   среднее             1   \n",
       "\n",
       "      family_status  family_status_id gender income_type  debt   total_income  \\\n",
       "0   женат / замужем                 0      F   сотрудник     0  253875.639453   \n",
       "1   женат / замужем                 0      F   сотрудник     0  112080.014102   \n",
       "2   женат / замужем                 0      M   сотрудник     0  145885.952297   \n",
       "3   женат / замужем                 0      M   сотрудник     0  267628.550329   \n",
       "4  гражданский брак                 1      F   пенсионер     0  158616.077870   \n",
       "5  гражданский брак                 1      M   компаньон     0  255763.565419   \n",
       "6   женат / замужем                 0      F   компаньон     0  240525.971920   \n",
       "7   женат / замужем                 0      M   сотрудник     0  135823.934197   \n",
       "8  гражданский брак                 1      F   сотрудник     0   95856.832424   \n",
       "9   женат / замужем                 0      M   сотрудник     0  144425.938277   \n",
       "\n",
       "                      purpose  \n",
       "0               покупка жилья  \n",
       "1     приобретение автомобиля  \n",
       "2               покупка жилья  \n",
       "3  дополнительное образование  \n",
       "4             сыграть свадьбу  \n",
       "5               покупка жилья  \n",
       "6           операции с жильем  \n",
       "7                 образование  \n",
       "8       на проведение свадьбы  \n",
       "9     покупка жилья для семьи  "
      ]
     },
     "execution_count": 2,
     "metadata": {},
     "output_type": "execute_result"
    }
   ],
   "source": [
    "data = pd.read_csv('/datasets/data.csv')\n",
    "data.head(10)"
   ]
  },
  {
   "cell_type": "code",
   "execution_count": 3,
   "metadata": {},
   "outputs": [
    {
     "name": "stdout",
     "output_type": "stream",
     "text": [
      "<class 'pandas.core.frame.DataFrame'>\n",
      "RangeIndex: 21525 entries, 0 to 21524\n",
      "Data columns (total 12 columns):\n",
      " #   Column            Non-Null Count  Dtype  \n",
      "---  ------            --------------  -----  \n",
      " 0   children          21525 non-null  int64  \n",
      " 1   days_employed     19351 non-null  float64\n",
      " 2   dob_years         21525 non-null  int64  \n",
      " 3   education         21525 non-null  object \n",
      " 4   education_id      21525 non-null  int64  \n",
      " 5   family_status     21525 non-null  object \n",
      " 6   family_status_id  21525 non-null  int64  \n",
      " 7   gender            21525 non-null  object \n",
      " 8   income_type       21525 non-null  object \n",
      " 9   debt              21525 non-null  int64  \n",
      " 10  total_income      19351 non-null  float64\n",
      " 11  purpose           21525 non-null  object \n",
      "dtypes: float64(2), int64(5), object(5)\n",
      "memory usage: 2.0+ MB\n"
     ]
    }
   ],
   "source": [
    "data.info()"
   ]
  },
  {
   "cell_type": "code",
   "execution_count": 4,
   "metadata": {},
   "outputs": [
    {
     "name": "stdout",
     "output_type": "stream",
     "text": [
      "Уникальные значения в колонке: children\n",
      "[ 1  0  3  2 -1  4 20  5]\n",
      "\n",
      "Уникальные значения в колонке: days_employed\n",
      "[-8437.67302776 -4024.80375385 -5623.42261023 ... -2113.3468877\n",
      " -3112.4817052  -1984.50758853]\n",
      "\n",
      "Уникальные значения в колонке: dob_years\n",
      "[42 36 33 32 53 27 43 50 35 41 40 65 54 56 26 48 24 21 57 67 28 63 62 47\n",
      " 34 68 25 31 30 20 49 37 45 61 64 44 52 46 23 38 39 51  0 59 29 60 55 58\n",
      " 71 22 73 66 69 19 72 70 74 75]\n",
      "\n",
      "Уникальные значения в колонке: education\n",
      "['высшее' 'среднее' 'Среднее' 'СРЕДНЕЕ' 'ВЫСШЕЕ' 'неоконченное высшее'\n",
      " 'начальное' 'Высшее' 'НЕОКОНЧЕННОЕ ВЫСШЕЕ' 'Неоконченное высшее'\n",
      " 'НАЧАЛЬНОЕ' 'Начальное' 'Ученая степень' 'УЧЕНАЯ СТЕПЕНЬ'\n",
      " 'ученая степень']\n",
      "\n",
      "Уникальные значения в колонке: education_id\n",
      "[0 1 2 3 4]\n",
      "\n",
      "Уникальные значения в колонке: family_status\n",
      "['женат / замужем' 'гражданский брак' 'вдовец / вдова' 'в разводе'\n",
      " 'Не женат / не замужем']\n",
      "\n",
      "Уникальные значения в колонке: family_status_id\n",
      "[0 1 2 3 4]\n",
      "\n",
      "Уникальные значения в колонке: gender\n",
      "['F' 'M' 'XNA']\n",
      "\n",
      "Уникальные значения в колонке: income_type\n",
      "['сотрудник' 'пенсионер' 'компаньон' 'госслужащий' 'безработный'\n",
      " 'предприниматель' 'студент' 'в декрете']\n",
      "\n",
      "Уникальные значения в колонке: debt\n",
      "[0 1]\n",
      "\n",
      "Уникальные значения в колонке: total_income\n",
      "[253875.6394526  112080.01410244 145885.95229686 ...  89672.56115303\n",
      " 244093.05050043  82047.41889948]\n",
      "\n",
      "Уникальные значения в колонке: purpose\n",
      "['покупка жилья' 'приобретение автомобиля' 'дополнительное образование'\n",
      " 'сыграть свадьбу' 'операции с жильем' 'образование'\n",
      " 'на проведение свадьбы' 'покупка жилья для семьи' 'покупка недвижимости'\n",
      " 'покупка коммерческой недвижимости' 'покупка жилой недвижимости'\n",
      " 'строительство собственной недвижимости' 'недвижимость'\n",
      " 'строительство недвижимости' 'на покупку подержанного автомобиля'\n",
      " 'на покупку своего автомобиля' 'операции с коммерческой недвижимостью'\n",
      " 'строительство жилой недвижимости' 'жилье'\n",
      " 'операции со своей недвижимостью' 'автомобили' 'заняться образованием'\n",
      " 'сделка с подержанным автомобилем' 'получение образования' 'автомобиль'\n",
      " 'свадьба' 'получение дополнительного образования' 'покупка своего жилья'\n",
      " 'операции с недвижимостью' 'получение высшего образования'\n",
      " 'свой автомобиль' 'сделка с автомобилем' 'профильное образование'\n",
      " 'высшее образование' 'покупка жилья для сдачи' 'на покупку автомобиля'\n",
      " 'ремонт жилью' 'заняться высшим образованием']\n",
      "\n"
     ]
    }
   ],
   "source": [
    "# Создание цикла для определения уникальных значений каждого столбца, чтобы увидеть все возможные значения.\n",
    "for column in data.columns:\n",
    "    print('Уникальные значения в колонке:',column)\n",
    "    print(data[column].unique())\n",
    "    print()"
   ]
  },
  {
   "cell_type": "code",
   "execution_count": 5,
   "metadata": {},
   "outputs": [
    {
     "name": "stdout",
     "output_type": "stream",
     "text": [
      "Количество строк, где детей 20: children            76\n",
      "days_employed       67\n",
      "dob_years           76\n",
      "education           76\n",
      "education_id        76\n",
      "family_status       76\n",
      "family_status_id    76\n",
      "gender              76\n",
      "income_type         76\n",
      "debt                76\n",
      "total_income        67\n",
      "purpose             76\n",
      "dtype: int64\n",
      "Количество строк, где детей -1: children            47\n",
      "days_employed       44\n",
      "dob_years           47\n",
      "education           47\n",
      "education_id        47\n",
      "family_status       47\n",
      "family_status_id    47\n",
      "gender              47\n",
      "income_type         47\n",
      "debt                47\n",
      "total_income        44\n",
      "purpose             47\n",
      "dtype: int64\n"
     ]
    }
   ],
   "source": [
    "# Определение количества аномальных значений в столбце children\n",
    "print('Количество строк, где детей 20:',data[data['children'] == 20].count())\n",
    "print('Количество строк, где детей -1:',data[data['children'] == -1].count())"
   ]
  },
  {
   "cell_type": "code",
   "execution_count": 6,
   "metadata": {},
   "outputs": [
    {
     "data": {
      "text/html": [
       "<div>\n",
       "<style scoped>\n",
       "    .dataframe tbody tr th:only-of-type {\n",
       "        vertical-align: middle;\n",
       "    }\n",
       "\n",
       "    .dataframe tbody tr th {\n",
       "        vertical-align: top;\n",
       "    }\n",
       "\n",
       "    .dataframe thead th {\n",
       "        text-align: right;\n",
       "    }\n",
       "</style>\n",
       "<table border=\"1\" class=\"dataframe\">\n",
       "  <thead>\n",
       "    <tr style=\"text-align: right;\">\n",
       "      <th></th>\n",
       "      <th>children</th>\n",
       "      <th>days_employed</th>\n",
       "      <th>dob_years</th>\n",
       "      <th>education</th>\n",
       "      <th>education_id</th>\n",
       "      <th>family_status</th>\n",
       "      <th>family_status_id</th>\n",
       "      <th>gender</th>\n",
       "      <th>income_type</th>\n",
       "      <th>debt</th>\n",
       "      <th>total_income</th>\n",
       "      <th>purpose</th>\n",
       "    </tr>\n",
       "  </thead>\n",
       "  <tbody>\n",
       "    <tr>\n",
       "      <th>10701</th>\n",
       "      <td>0</td>\n",
       "      <td>-2358.600502</td>\n",
       "      <td>24</td>\n",
       "      <td>неоконченное высшее</td>\n",
       "      <td>2</td>\n",
       "      <td>гражданский брак</td>\n",
       "      <td>1</td>\n",
       "      <td>XNA</td>\n",
       "      <td>компаньон</td>\n",
       "      <td>0</td>\n",
       "      <td>203905.157261</td>\n",
       "      <td>покупка недвижимости</td>\n",
       "    </tr>\n",
       "  </tbody>\n",
       "</table>\n",
       "</div>"
      ],
      "text/plain": [
       "       children  days_employed  dob_years            education  education_id  \\\n",
       "10701         0   -2358.600502         24  неоконченное высшее             2   \n",
       "\n",
       "          family_status  family_status_id gender income_type  debt  \\\n",
       "10701  гражданский брак                 1    XNA   компаньон     0   \n",
       "\n",
       "        total_income               purpose  \n",
       "10701  203905.157261  покупка недвижимости  "
      ]
     },
     "execution_count": 6,
     "metadata": {},
     "output_type": "execute_result"
    }
   ],
   "source": [
    "#Строка  со странным полом 'XNA'\n",
    "data[data['gender'] == 'XNA']"
   ]
  },
  {
   "cell_type": "code",
   "execution_count": 7,
   "metadata": {},
   "outputs": [
    {
     "data": {
      "text/plain": [
       "children            101\n",
       "days_employed        91\n",
       "dob_years           101\n",
       "education           101\n",
       "education_id        101\n",
       "family_status       101\n",
       "family_status_id    101\n",
       "gender              101\n",
       "income_type         101\n",
       "debt                101\n",
       "total_income         91\n",
       "purpose             101\n",
       "dtype: int64"
      ]
     },
     "execution_count": 7,
     "metadata": {},
     "output_type": "execute_result"
    }
   ],
   "source": [
    "#Подсчет количества строк с нулевым значением возраста\n",
    "data[data['dob_years'] == 0].count()"
   ]
  },
  {
   "cell_type": "markdown",
   "metadata": {},
   "source": [
    "**Вывод**\n",
    "\n",
    "В таблице двенадцать столбцов. Тип данных в столбцах — `object`,`int64`, `float64`.\n",
    "\n",
    "Согласно документации к данным:\n",
    "* `children` — количество детей в семье;\n",
    "* `days_employed` — общий трудовой стаж в днях;  \n",
    "* `dob_years` — возраст клиента в годах;\n",
    "* `education` — уровень образования клиента;\n",
    "* `education_id` — идентификатор уровня образования;\n",
    "* `family_status` — семейное положение;\n",
    "* `gender` — пол клиента;\n",
    "* `income_type` — тип занятости;\n",
    "* `debt` — имел ли задолженность по возврату кредитов;\n",
    "* `total_income` — идентификатор семейного положения;\n",
    "* `purpose` — цель получения кредита.\n",
    "\n",
    "Количество значений в столбцах различается - есть пропущенные значения.\n",
    "В семи колонках есть над чем поработать:\n",
    "1. `children` - отрицательное значение -1, повторяющееся 47; значение 20, потворяющееся 76 раз.\n",
    "2. `days_employed` - пропуски, отрицательные значения, и аномально высокие значения, например стаж 340000 дней(930 лет)!!\n",
    "3. `dob_years` - 0 лет 101 человеку.\n",
    "4. `education` - проблема с регистром.\n",
    "5. `gender` - один человек с неизвестным полом (оставлю его/ее как есть).\n",
    "6. `total_income` — пропуски.\n",
    "7. `purpose` - много совпадающих по смыслу значений, такие как 'покупка жилья', 'покупка жилья для семьи', 'покупка жилой недвижимости' и т.д."
   ]
  },
  {
   "cell_type": "markdown",
   "metadata": {},
   "source": [
    "## Предобработка данных"
   ]
  },
  {
   "cell_type": "markdown",
   "metadata": {},
   "source": [
    "### Обработка пропусков и ошибочных значений\n"
   ]
  },
  {
   "cell_type": "markdown",
   "metadata": {},
   "source": [
    "В столбце `children` `-1` повторяется 47 раз, и `20` повторяется 76 раз.\n",
    "Учитывая количество повторений, минус скорее всего означает тире. А ноль вполне мог случайно набираться, т.к. на клавиатуре он стоит рядом с двойкой."
   ]
  },
  {
   "cell_type": "code",
   "execution_count": 8,
   "metadata": {},
   "outputs": [],
   "source": [
    "# Преобразование отрицательных значений в положительные в столбце children\n",
    "data['children'] = data['children'].apply(abs)"
   ]
  },
  {
   "cell_type": "code",
   "execution_count": 9,
   "metadata": {},
   "outputs": [
    {
     "data": {
      "text/plain": [
       "array([1., 0., 3., 2., 4., 5.])"
      ]
     },
     "execution_count": 9,
     "metadata": {},
     "output_type": "execute_result"
    }
   ],
   "source": [
    "# преобразование 20 в 2\n",
    "data.loc[data['children'] == 20, 'children'] = data.loc[data['children'] == 20, 'children']/10\n",
    "data['children'].unique()\n",
    "# на выходе получили тип float, чуть позже преобразуем  в int"
   ]
  },
  {
   "cell_type": "markdown",
   "metadata": {},
   "source": [
    "В столбце `days_employed` отрицательные значения скорее всего появились из-за неправильного ввода данных  и минус, просто-напросто, означает тире.\n",
    "\n",
    "А вот высокие значения, например 340266, возможно исчисляются не в днях, а предположим в часах. \n",
    "Проверим максимальное значение стажа:"
   ]
  },
  {
   "cell_type": "code",
   "execution_count": 10,
   "metadata": {},
   "outputs": [
    {
     "name": "stdout",
     "output_type": "stream",
     "text": [
      "Максимальный стаж в годах: 45.8624886387363\n"
     ]
    }
   ],
   "source": [
    "print('Максимальный стаж в годах:',data['days_employed'].max()/24/365)"
   ]
  },
  {
   "cell_type": "markdown",
   "metadata": {},
   "source": [
    "Почти 46 лет стажа ого-го!! Но главное цифра вполне реальная. Исправляем значения в колонке `days_employed` с часов на дни:"
   ]
  },
  {
   "cell_type": "code",
   "execution_count": 11,
   "metadata": {},
   "outputs": [],
   "source": [
    "# преобразование отрицательных значений в положительные\n",
    "data['days_employed'] = data['days_employed'].apply(abs)\n",
    "# значения, которые больше 30000(чуть больше 82 лет) делим на 24 часа\n",
    "data.loc[data['days_employed'] >30000, 'days_employed'] = data.loc[data['days_employed'] >30000, 'days_employed'] / 24"
   ]
  },
  {
   "cell_type": "markdown",
   "metadata": {},
   "source": [
    "**Теперь перейдем к пропускам.**\n",
    "\n",
    "Eсть две колонки с пропусками NaN: `days_employed` и `total_income`.\n",
    "Более 2000 значений по доходу и стажу отсутствуют. Судя по огромному количеству ошибка имеет технический характер. Возможно данные были потеряны при обьединении и загрузке файлов. Нужно обратиться к разработчикам.\n",
    "\n",
    "Пустые значения стажа и дохода логичнее заполнить медианными значениями по категориям занятости.\n",
    "Для этого создадим функцию, где аргументом будет столбец.\n"
   ]
  },
  {
   "cell_type": "code",
   "execution_count": 12,
   "metadata": {
    "scrolled": true
   },
   "outputs": [],
   "source": [
    "# Функция для замены пропусков в колонках медианными значениеми по категориям занятости 'income_type'\n",
    "def replace_pass(column):\n",
    "    \n",
    "    print('пропусков до работы функции:', data[column].isna().sum())\n",
    "    # Цикл по категориям income_type\n",
    "    for income in data['income_type'].unique():\n",
    "        # Подсчет медианы для категории income_type\n",
    "        median = data.loc[data['income_type'] == income, column].median()\n",
    "        print(income,median)\n",
    "        # Замена NaN на медиану\n",
    "        data.loc[(data[column].isna())&(data['income_type'] == income), column] = median\n",
    "    \n",
    "    print('Пропусков после работы функции:', data[column].isna().sum())\n",
    "    \n",
    "    return"
   ]
  },
  {
   "cell_type": "markdown",
   "metadata": {},
   "source": [
    "Применим функцию к столбцу `days_employed`"
   ]
  },
  {
   "cell_type": "code",
   "execution_count": 13,
   "metadata": {},
   "outputs": [
    {
     "name": "stdout",
     "output_type": "stream",
     "text": [
      "пропусков до работы функции: 2174\n",
      "сотрудник 1574.2028211070854\n",
      "пенсионер 15217.221094405468\n",
      "компаньон 1547.3822226779334\n",
      "госслужащий 2689.3683533043886\n",
      "безработный 15267.235531008522\n",
      "предприниматель 520.8480834953765\n",
      "студент 578.7515535382181\n",
      "в декрете 3296.7599620220594\n",
      "Пропусков после работы функции: 0\n"
     ]
    }
   ],
   "source": [
    "replace_pass('days_employed')"
   ]
  },
  {
   "cell_type": "markdown",
   "metadata": {},
   "source": [
    "Применим функцию к столбцу `total_income`"
   ]
  },
  {
   "cell_type": "code",
   "execution_count": 14,
   "metadata": {},
   "outputs": [
    {
     "name": "stdout",
     "output_type": "stream",
     "text": [
      "пропусков до работы функции: 2174\n",
      "сотрудник 142594.39684740017\n",
      "пенсионер 118514.48641164352\n",
      "компаньон 172357.95096577113\n",
      "госслужащий 150447.9352830068\n",
      "безработный 131339.7516762103\n",
      "предприниматель 499163.1449470857\n",
      "студент 98201.62531401133\n",
      "в декрете 53829.13072905995\n",
      "Пропусков после работы функции: 0\n"
     ]
    }
   ],
   "source": [
    "replace_pass('total_income')"
   ]
  },
  {
   "cell_type": "markdown",
   "metadata": {},
   "source": [
    "В столбце `dob_years` 101 значение равно 0. Это тоже можно считать пропусками. Но характер данной ошибки скорее человеческий фактор.\n",
    "\n",
    "В данном случае можно заменить нули медианным значением по категориям занятости, как и выше. Единственная преграда: здесь нули, а не пропуски.\n",
    "\n",
    "Заменим нули на пропуски NaN - для это потребуется применить метод `replace()`. После используем функцию `replace_pass`, созданную выше."
   ]
  },
  {
   "cell_type": "code",
   "execution_count": 15,
   "metadata": {},
   "outputs": [
    {
     "name": "stdout",
     "output_type": "stream",
     "text": [
      "пропусков до работы функции: 101\n",
      "сотрудник 39.0\n",
      "пенсионер 60.0\n",
      "компаньон 39.0\n",
      "госслужащий 40.0\n",
      "безработный 38.0\n",
      "предприниматель 42.5\n",
      "студент 22.0\n",
      "в декрете 39.0\n",
      "Пропусков после работы функции: 0\n"
     ]
    }
   ],
   "source": [
    "data['dob_years'] = data['dob_years'].replace(0, np.nan)\n",
    "\n",
    "replace_pass('dob_years')"
   ]
  },
  {
   "cell_type": "code",
   "execution_count": 16,
   "metadata": {},
   "outputs": [
    {
     "name": "stdout",
     "output_type": "stream",
     "text": [
      "<class 'pandas.core.frame.DataFrame'>\n",
      "RangeIndex: 21525 entries, 0 to 21524\n",
      "Data columns (total 12 columns):\n",
      " #   Column            Non-Null Count  Dtype  \n",
      "---  ------            --------------  -----  \n",
      " 0   children          21525 non-null  float64\n",
      " 1   days_employed     21525 non-null  float64\n",
      " 2   dob_years         21525 non-null  float64\n",
      " 3   education         21525 non-null  object \n",
      " 4   education_id      21525 non-null  int64  \n",
      " 5   family_status     21525 non-null  object \n",
      " 6   family_status_id  21525 non-null  int64  \n",
      " 7   gender            21525 non-null  object \n",
      " 8   income_type       21525 non-null  object \n",
      " 9   debt              21525 non-null  int64  \n",
      " 10  total_income      21525 non-null  float64\n",
      " 11  purpose           21525 non-null  object \n",
      "dtypes: float64(4), int64(3), object(5)\n",
      "memory usage: 2.0+ MB\n"
     ]
    }
   ],
   "source": [
    "#Проверяем таблицу после обработки пропусков\n",
    "data.info()"
   ]
  },
  {
   "cell_type": "markdown",
   "metadata": {},
   "source": [
    "### Замена типа данных"
   ]
  },
  {
   "cell_type": "markdown",
   "metadata": {},
   "source": [
    "После обработки пропусков в столбцах `children` и `dob_years` изменился тип данных с int на float. Необходимо вернуть тип данных int обратно.\n",
    "\n",
    "`days_employed` указан в днях, зачем дробные значения дня не понятно. Поэтому преобразуем в целочисленный тип данных и этот столбец.\n",
    "\n",
    "`total_income` указан в рублях. 1/10000 копейки да и копейки мало повлияют на исследовние. Заменим на int."
   ]
  },
  {
   "cell_type": "code",
   "execution_count": 17,
   "metadata": {},
   "outputs": [
    {
     "name": "stdout",
     "output_type": "stream",
     "text": [
      "<class 'pandas.core.frame.DataFrame'>\n",
      "RangeIndex: 21525 entries, 0 to 21524\n",
      "Data columns (total 12 columns):\n",
      " #   Column            Non-Null Count  Dtype \n",
      "---  ------            --------------  ----- \n",
      " 0   children          21525 non-null  int64 \n",
      " 1   days_employed     21525 non-null  int64 \n",
      " 2   dob_years         21525 non-null  int64 \n",
      " 3   education         21525 non-null  object\n",
      " 4   education_id      21525 non-null  int64 \n",
      " 5   family_status     21525 non-null  object\n",
      " 6   family_status_id  21525 non-null  int64 \n",
      " 7   gender            21525 non-null  object\n",
      " 8   income_type       21525 non-null  object\n",
      " 9   debt              21525 non-null  int64 \n",
      " 10  total_income      21525 non-null  int64 \n",
      " 11  purpose           21525 non-null  object\n",
      "dtypes: int64(7), object(5)\n",
      "memory usage: 2.0+ MB\n"
     ]
    }
   ],
   "source": [
    "#Создание строки, с названиями столбцов\n",
    "columns = ['children', 'days_employed', 'dob_years', 'total_income'] \n",
    "#Цикл проходящийся по нужным столбцам и заменяющий тип данных с float на int, методом astype()\n",
    "for column in columns:\n",
    "    data[column] = data[column].astype('int')\n",
    "#Проверяем\n",
    "data.info()"
   ]
  },
  {
   "cell_type": "markdown",
   "metadata": {},
   "source": [
    "### Обработка дубликатов"
   ]
  },
  {
   "cell_type": "markdown",
   "metadata": {},
   "source": [
    "Для поиска дубликатов используем метод `duplicated()`, и  метод `sum()` для подсчета количества дубликатов.\n",
    "Однако, в `education` есть проблемы с регистром - это может помешать найти все дубликаты.\n",
    "Для удаления дубликатов используем метод `drop_dublicates()`, и метод `reset_index()` для обновления индексации.\n",
    "Проверим на практике:"
   ]
  },
  {
   "cell_type": "code",
   "execution_count": 18,
   "metadata": {},
   "outputs": [
    {
     "name": "stdout",
     "output_type": "stream",
     "text": [
      "До изменения регистра: 54\n",
      "После изменения регистра: 71\n",
      "После удаления дубликатов: 0\n"
     ]
    }
   ],
   "source": [
    "print('До изменения регистра:', data.duplicated().sum())\n",
    "data['education'] = data['education'].str.lower()\n",
    "print('После изменения регистра:', data.duplicated().sum())\n",
    "data = data.drop_duplicates().reset_index(drop=True)\n",
    "print('После удаления дубликатов:', data.duplicated().sum())"
   ]
  },
  {
   "cell_type": "markdown",
   "metadata": {},
   "source": [
    "Дубликатов немного - возможно кто-то оправлял заявку на кредит повторно."
   ]
  },
  {
   "cell_type": "markdown",
   "metadata": {},
   "source": [
    "### Лемматизация"
   ]
  },
  {
   "cell_type": "markdown",
   "metadata": {},
   "source": [
    "Столбец `purpose` имеет много совпадающих по смыслу значений, такие как 'покупка жилья', 'покупка жилья для семьи', 'покупка жилой недвижимости' и т.д.\n",
    "\n",
    "Здесь необходима лемматизация: приведем существительные в именительный падеж, глаголы в инфинитив. "
   ]
  },
  {
   "cell_type": "code",
   "execution_count": 19,
   "metadata": {},
   "outputs": [
    {
     "name": "stdout",
     "output_type": "stream",
     "text": [
      "['покупка', ' ', 'жилье', ' ', 'приобретение', ' ', 'автомобиль', ' ', 'дополнительный', ' ', 'образование', ' ', 'сыграть', ' ', 'свадьба', ' ', 'операция', ' ', 'с', ' ', 'жилье', ' ', 'образование', ' ', 'на', ' ', 'проведение', ' ', 'свадьба', ' ', 'покупка', ' ', 'жилье', ' ', 'для', ' ', 'семья', ' ', 'покупка', ' ', 'недвижимость', ' ', 'покупка', ' ', 'коммерческий', ' ', 'недвижимость', ' ', 'покупка', ' ', 'жилой', ' ', 'недвижимость', ' ', 'строительство', ' ', 'собственный', ' ', 'недвижимость', ' ', 'недвижимость', ' ', 'строительство', ' ', 'недвижимость', ' ', 'на', ' ', 'покупка', ' ', 'подержать', ' ', 'автомобиль', ' ', 'на', ' ', 'покупка', ' ', 'свой', ' ', 'автомобиль', ' ', 'операция', ' ', 'с', ' ', 'коммерческий', ' ', 'недвижимость', ' ', 'строительство', ' ', 'жилой', ' ', 'недвижимость', ' ', 'жилье', ' ', 'операция', ' ', 'со', ' ', 'свой', ' ', 'недвижимость', ' ', 'автомобиль', ' ', 'заниматься', ' ', 'образование', ' ', 'сделка', ' ', 'с', ' ', 'подержать', ' ', 'автомобиль', ' ', 'получение', ' ', 'образование', ' ', 'автомобиль', ' ', 'свадьба', ' ', 'получение', ' ', 'дополнительный', ' ', 'образование', ' ', 'покупка', ' ', 'свой', ' ', 'жилье', ' ', 'операция', ' ', 'с', ' ', 'недвижимость', ' ', 'получение', ' ', 'высокий', ' ', 'образование', ' ', 'свой', ' ', 'автомобиль', ' ', 'сделка', ' ', 'с', ' ', 'автомобиль', ' ', 'профильный', ' ', 'образование', ' ', 'высокий', ' ', 'образование', ' ', 'покупка', ' ', 'жилье', ' ', 'для', ' ', 'сдача', ' ', 'на', ' ', 'покупка', ' ', 'автомобиль', ' ', 'ремонт', ' ', 'жилье', ' ', 'заниматься', ' ', 'высокий', ' ', 'образование', '\\n']\n"
     ]
    }
   ],
   "source": [
    "m = Mystem()\n",
    "# Находим уникалльные значения в столбце purpose\n",
    "text = data['purpose'].unique()\n",
    "# склеиваем список в строку с помощью метода join() и лемматизируем строку\n",
    "lemmas = m.lemmatize(' '.join(text))\n",
    "print(lemmas)"
   ]
  },
  {
   "cell_type": "markdown",
   "metadata": {},
   "source": [
    "Подсчитаем количество упоминаний каждого слова в тексте с помощью контейнера `Counter` из модуля `collections`."
   ]
  },
  {
   "cell_type": "code",
   "execution_count": 20,
   "metadata": {},
   "outputs": [
    {
     "data": {
      "text/plain": [
       "Counter({'покупка': 10,\n",
       "         ' ': 96,\n",
       "         'жилье': 7,\n",
       "         'приобретение': 1,\n",
       "         'автомобиль': 9,\n",
       "         'дополнительный': 2,\n",
       "         'образование': 9,\n",
       "         'сыграть': 1,\n",
       "         'свадьба': 3,\n",
       "         'операция': 4,\n",
       "         'с': 5,\n",
       "         'на': 4,\n",
       "         'проведение': 1,\n",
       "         'для': 2,\n",
       "         'семья': 1,\n",
       "         'недвижимость': 10,\n",
       "         'коммерческий': 2,\n",
       "         'жилой': 2,\n",
       "         'строительство': 3,\n",
       "         'собственный': 1,\n",
       "         'подержать': 2,\n",
       "         'свой': 4,\n",
       "         'со': 1,\n",
       "         'заниматься': 2,\n",
       "         'сделка': 2,\n",
       "         'получение': 3,\n",
       "         'высокий': 3,\n",
       "         'профильный': 1,\n",
       "         'сдача': 1,\n",
       "         'ремонт': 1,\n",
       "         '\\n': 1})"
      ]
     },
     "execution_count": 20,
     "metadata": {},
     "output_type": "execute_result"
    }
   ],
   "source": [
    "Counter(lemmas)"
   ]
  },
  {
   "cell_type": "markdown",
   "metadata": {},
   "source": [
    "Итак, выделим самые частые существительные, отвечающие на смысл цели:\n",
    "\n",
    "    1. жилье, недвижимость\n",
    "    2. автомобиль\n",
    "    3. образование\n",
    "    4. свадьба\n",
    "    \n",
    "Напишем функцию, которая лемматизирует каждую ячейку столбца `purpose` и заменяет ее на обобщенную версию категории."
   ]
  },
  {
   "cell_type": "code",
   "execution_count": 21,
   "metadata": {},
   "outputs": [
    {
     "data": {
      "text/html": [
       "<div>\n",
       "<style scoped>\n",
       "    .dataframe tbody tr th:only-of-type {\n",
       "        vertical-align: middle;\n",
       "    }\n",
       "\n",
       "    .dataframe tbody tr th {\n",
       "        vertical-align: top;\n",
       "    }\n",
       "\n",
       "    .dataframe thead th {\n",
       "        text-align: right;\n",
       "    }\n",
       "</style>\n",
       "<table border=\"1\" class=\"dataframe\">\n",
       "  <thead>\n",
       "    <tr style=\"text-align: right;\">\n",
       "      <th></th>\n",
       "      <th>children</th>\n",
       "      <th>days_employed</th>\n",
       "      <th>dob_years</th>\n",
       "      <th>education</th>\n",
       "      <th>education_id</th>\n",
       "      <th>family_status</th>\n",
       "      <th>family_status_id</th>\n",
       "      <th>gender</th>\n",
       "      <th>income_type</th>\n",
       "      <th>debt</th>\n",
       "      <th>total_income</th>\n",
       "      <th>purpose</th>\n",
       "    </tr>\n",
       "  </thead>\n",
       "  <tbody>\n",
       "    <tr>\n",
       "      <th>0</th>\n",
       "      <td>1</td>\n",
       "      <td>8437</td>\n",
       "      <td>42</td>\n",
       "      <td>высшее</td>\n",
       "      <td>0</td>\n",
       "      <td>женат / замужем</td>\n",
       "      <td>0</td>\n",
       "      <td>F</td>\n",
       "      <td>сотрудник</td>\n",
       "      <td>0</td>\n",
       "      <td>253875</td>\n",
       "      <td>недвижимость</td>\n",
       "    </tr>\n",
       "    <tr>\n",
       "      <th>1</th>\n",
       "      <td>1</td>\n",
       "      <td>4024</td>\n",
       "      <td>36</td>\n",
       "      <td>среднее</td>\n",
       "      <td>1</td>\n",
       "      <td>женат / замужем</td>\n",
       "      <td>0</td>\n",
       "      <td>F</td>\n",
       "      <td>сотрудник</td>\n",
       "      <td>0</td>\n",
       "      <td>112080</td>\n",
       "      <td>автомобиль</td>\n",
       "    </tr>\n",
       "    <tr>\n",
       "      <th>2</th>\n",
       "      <td>0</td>\n",
       "      <td>5623</td>\n",
       "      <td>33</td>\n",
       "      <td>среднее</td>\n",
       "      <td>1</td>\n",
       "      <td>женат / замужем</td>\n",
       "      <td>0</td>\n",
       "      <td>M</td>\n",
       "      <td>сотрудник</td>\n",
       "      <td>0</td>\n",
       "      <td>145885</td>\n",
       "      <td>недвижимость</td>\n",
       "    </tr>\n",
       "    <tr>\n",
       "      <th>3</th>\n",
       "      <td>3</td>\n",
       "      <td>4124</td>\n",
       "      <td>32</td>\n",
       "      <td>среднее</td>\n",
       "      <td>1</td>\n",
       "      <td>женат / замужем</td>\n",
       "      <td>0</td>\n",
       "      <td>M</td>\n",
       "      <td>сотрудник</td>\n",
       "      <td>0</td>\n",
       "      <td>267628</td>\n",
       "      <td>образование</td>\n",
       "    </tr>\n",
       "    <tr>\n",
       "      <th>4</th>\n",
       "      <td>0</td>\n",
       "      <td>14177</td>\n",
       "      <td>53</td>\n",
       "      <td>среднее</td>\n",
       "      <td>1</td>\n",
       "      <td>гражданский брак</td>\n",
       "      <td>1</td>\n",
       "      <td>F</td>\n",
       "      <td>пенсионер</td>\n",
       "      <td>0</td>\n",
       "      <td>158616</td>\n",
       "      <td>свадьба</td>\n",
       "    </tr>\n",
       "    <tr>\n",
       "      <th>5</th>\n",
       "      <td>0</td>\n",
       "      <td>926</td>\n",
       "      <td>27</td>\n",
       "      <td>высшее</td>\n",
       "      <td>0</td>\n",
       "      <td>гражданский брак</td>\n",
       "      <td>1</td>\n",
       "      <td>M</td>\n",
       "      <td>компаньон</td>\n",
       "      <td>0</td>\n",
       "      <td>255763</td>\n",
       "      <td>недвижимость</td>\n",
       "    </tr>\n",
       "    <tr>\n",
       "      <th>6</th>\n",
       "      <td>0</td>\n",
       "      <td>2879</td>\n",
       "      <td>43</td>\n",
       "      <td>высшее</td>\n",
       "      <td>0</td>\n",
       "      <td>женат / замужем</td>\n",
       "      <td>0</td>\n",
       "      <td>F</td>\n",
       "      <td>компаньон</td>\n",
       "      <td>0</td>\n",
       "      <td>240525</td>\n",
       "      <td>недвижимость</td>\n",
       "    </tr>\n",
       "    <tr>\n",
       "      <th>7</th>\n",
       "      <td>0</td>\n",
       "      <td>152</td>\n",
       "      <td>50</td>\n",
       "      <td>среднее</td>\n",
       "      <td>1</td>\n",
       "      <td>женат / замужем</td>\n",
       "      <td>0</td>\n",
       "      <td>M</td>\n",
       "      <td>сотрудник</td>\n",
       "      <td>0</td>\n",
       "      <td>135823</td>\n",
       "      <td>образование</td>\n",
       "    </tr>\n",
       "    <tr>\n",
       "      <th>8</th>\n",
       "      <td>2</td>\n",
       "      <td>6929</td>\n",
       "      <td>35</td>\n",
       "      <td>высшее</td>\n",
       "      <td>0</td>\n",
       "      <td>гражданский брак</td>\n",
       "      <td>1</td>\n",
       "      <td>F</td>\n",
       "      <td>сотрудник</td>\n",
       "      <td>0</td>\n",
       "      <td>95856</td>\n",
       "      <td>свадьба</td>\n",
       "    </tr>\n",
       "    <tr>\n",
       "      <th>9</th>\n",
       "      <td>0</td>\n",
       "      <td>2188</td>\n",
       "      <td>41</td>\n",
       "      <td>среднее</td>\n",
       "      <td>1</td>\n",
       "      <td>женат / замужем</td>\n",
       "      <td>0</td>\n",
       "      <td>M</td>\n",
       "      <td>сотрудник</td>\n",
       "      <td>0</td>\n",
       "      <td>144425</td>\n",
       "      <td>недвижимость</td>\n",
       "    </tr>\n",
       "  </tbody>\n",
       "</table>\n",
       "</div>"
      ],
      "text/plain": [
       "   children  days_employed  dob_years education  education_id  \\\n",
       "0         1           8437         42    высшее             0   \n",
       "1         1           4024         36   среднее             1   \n",
       "2         0           5623         33   среднее             1   \n",
       "3         3           4124         32   среднее             1   \n",
       "4         0          14177         53   среднее             1   \n",
       "5         0            926         27    высшее             0   \n",
       "6         0           2879         43    высшее             0   \n",
       "7         0            152         50   среднее             1   \n",
       "8         2           6929         35    высшее             0   \n",
       "9         0           2188         41   среднее             1   \n",
       "\n",
       "      family_status  family_status_id gender income_type  debt  total_income  \\\n",
       "0   женат / замужем                 0      F   сотрудник     0        253875   \n",
       "1   женат / замужем                 0      F   сотрудник     0        112080   \n",
       "2   женат / замужем                 0      M   сотрудник     0        145885   \n",
       "3   женат / замужем                 0      M   сотрудник     0        267628   \n",
       "4  гражданский брак                 1      F   пенсионер     0        158616   \n",
       "5  гражданский брак                 1      M   компаньон     0        255763   \n",
       "6   женат / замужем                 0      F   компаньон     0        240525   \n",
       "7   женат / замужем                 0      M   сотрудник     0        135823   \n",
       "8  гражданский брак                 1      F   сотрудник     0         95856   \n",
       "9   женат / замужем                 0      M   сотрудник     0        144425   \n",
       "\n",
       "        purpose  \n",
       "0  недвижимость  \n",
       "1    автомобиль  \n",
       "2  недвижимость  \n",
       "3   образование  \n",
       "4       свадьба  \n",
       "5  недвижимость  \n",
       "6  недвижимость  \n",
       "7   образование  \n",
       "8       свадьба  \n",
       "9  недвижимость  "
      ]
     },
     "execution_count": 21,
     "metadata": {},
     "output_type": "execute_result"
    }
   ],
   "source": [
    "def category_purpose(row):\n",
    "    #Лемматизируем ячейку\n",
    "    purpose = row['purpose']\n",
    "    lemmas = ' '.join(m.lemmatize(purpose))\n",
    "    \n",
    "    #условия после которых функция возвращает обобщенную версию категории\n",
    "    if ('жилье' in lemmas) or ('недвижимость' in lemmas):\n",
    "        return 'недвижимость'\n",
    "    if 'автомобиль' in lemmas:\n",
    "        return 'автомобиль'\n",
    "    if 'образование' in lemmas:\n",
    "        return 'образование'\n",
    "    if 'свадьба' in lemmas:\n",
    "        return 'свадьба'\n",
    "    return 'цель не определена'\n",
    "\n",
    "# Метод apply() применяем к датафрейму data;\n",
    "# По умолчанию Pandas передаёт в функцию category_purpose() столбец.\n",
    "# Чтобы на вход в функцию отправлялись строки, нужно указать параметр axis = 1 метода apply().\n",
    "data['purpose'] = data.apply(category_purpose, axis=1)\n",
    "data.head(10)"
   ]
  },
  {
   "cell_type": "markdown",
   "metadata": {},
   "source": [
    "### Категоризация данных"
   ]
  },
  {
   "cell_type": "markdown",
   "metadata": {},
   "source": [
    "Для того, чтобы ответить на вопрос зависимости дохода и возврата кредита в срок,\n",
    "осталось категоризовать один столбец `total_income`.\n",
    "Остальные столбцы приведены в порядок.\n",
    "\n",
    "Для начала оценим данные `total_income`: выявим максимум, минимум, среднее и медиану."
   ]
  },
  {
   "cell_type": "code",
   "execution_count": 22,
   "metadata": {},
   "outputs": [
    {
     "name": "stdout",
     "output_type": "stream",
     "text": [
      "Максимальный доход: 2265604\n",
      "Минимальный доход: 20667\n",
      "Средне-арифметическое значение дохода: 165319.57229421087\n",
      "Медианное значение дохода 142594.0\n"
     ]
    }
   ],
   "source": [
    "print('Максимальный доход:',data['total_income'].max())\n",
    "print('Минимальный доход:',data['total_income'].min())\n",
    "print('Средне-арифметическое значение дохода:',data['total_income'].mean())\n",
    "print('Медианное значение дохода',data['total_income'].median())"
   ]
  },
  {
   "cell_type": "markdown",
   "metadata": {},
   "source": [
    "### По этим даным разобьем категории(достаточно условно):\n",
    "   * низкий уровень дохода: до 100к,\n",
    "   * средний уровень дохода: 100-200к,\n",
    "   * высокий уровень дохода: 200-500к,\n",
    "   * очень высокий уровень дохода : свыше 500к.\n",
    "   \n",
    "Напишем функцию категоризации по уровню дохода:"
   ]
  },
  {
   "cell_type": "code",
   "execution_count": 23,
   "metadata": {},
   "outputs": [
    {
     "data": {
      "text/plain": [
       "средний уровень дохода          11924\n",
       "высокий уровень дохода           4845\n",
       "низкий уровень дохода            4463\n",
       "очень высокий уровень дохода      222\n",
       "Name: total_income_group, dtype: int64"
      ]
     },
     "execution_count": 23,
     "metadata": {},
     "output_type": "execute_result"
    }
   ],
   "source": [
    "def total_income_group(row):\n",
    "    total_income = row['total_income']\n",
    "    \n",
    "    # Условия при которых функция возвращает нужную категорию\n",
    "    if total_income < 100000:\n",
    "        return 'низкий уровень дохода'\n",
    "    if total_income < 200000:\n",
    "        return 'средний уровень дохода'\n",
    "    if total_income < 500000:\n",
    "        return 'высокий уровень дохода'\n",
    "    \n",
    "    return 'очень высокий уровень дохода'\n",
    "\n",
    "# Метод apply() применяем к датафрейму data;\n",
    "# По умолчанию Pandas передаёт в функцию total_income_group() столбец.\n",
    "# Чтобы на вход в функцию отправлялись строки, нужно указать параметр axis = 1 метода apply().\n",
    "data['total_income_group'] = data.apply(total_income_group, axis=1)\n",
    "# подсчет количетсва человек в категории методом value_counts()\n",
    "data['total_income_group'].value_counts()"
   ]
  },
  {
   "cell_type": "markdown",
   "metadata": {},
   "source": [
    "Получилось вполне реалистично: богатых ~1% от общего количества,  бедных ~21%."
   ]
  },
  {
   "cell_type": "markdown",
   "metadata": {},
   "source": [
    "## Вопросы"
   ]
  },
  {
   "cell_type": "markdown",
   "metadata": {},
   "source": [
    "**- Есть ли зависимость между наличием детей и возвратом кредита в срок?**"
   ]
  },
  {
   "cell_type": "markdown",
   "metadata": {},
   "source": [
    "Чтобы ответить на этот и другие вопросы: создадим функцию с аргументом названия столбца, которая создает сводную таблицу.\n",
    "\n",
    "В таблице будет видно категории введенного столбца, количество невозвращенных кредитов в этой категории, общее количество категории, процент невозвращенных кредитов."
   ]
  },
  {
   "cell_type": "code",
   "execution_count": 24,
   "metadata": {},
   "outputs": [],
   "source": [
    "def report(category):\n",
    "    #создание сводной таблицы методом pivot_table()\n",
    "    pt = data.pivot_table(index = [category], values = ['debt'], aggfunc = ['sum','count','mean'])\n",
    "    #колонки в сводной таблице\n",
    "    pt.columns = ['debt','total','%']\n",
    "    #сортировка по столбцу total по убыванию методом sort_values()\n",
    "    pt = pt.sort_values(by = 'total', ascending = False)\n",
    "    #преобразование значения в столбце '%' методом округления round() и умножения на 100 \n",
    "    pt['%'] = pt['%'].round(4)*100\n",
    "    return pt\n"
   ]
  },
  {
   "cell_type": "code",
   "execution_count": 25,
   "metadata": {},
   "outputs": [
    {
     "data": {
      "text/html": [
       "<div>\n",
       "<style scoped>\n",
       "    .dataframe tbody tr th:only-of-type {\n",
       "        vertical-align: middle;\n",
       "    }\n",
       "\n",
       "    .dataframe tbody tr th {\n",
       "        vertical-align: top;\n",
       "    }\n",
       "\n",
       "    .dataframe thead th {\n",
       "        text-align: right;\n",
       "    }\n",
       "</style>\n",
       "<table border=\"1\" class=\"dataframe\">\n",
       "  <thead>\n",
       "    <tr style=\"text-align: right;\">\n",
       "      <th></th>\n",
       "      <th>debt</th>\n",
       "      <th>total</th>\n",
       "      <th>%</th>\n",
       "    </tr>\n",
       "    <tr>\n",
       "      <th>children</th>\n",
       "      <th></th>\n",
       "      <th></th>\n",
       "      <th></th>\n",
       "    </tr>\n",
       "  </thead>\n",
       "  <tbody>\n",
       "    <tr>\n",
       "      <th>0</th>\n",
       "      <td>1063</td>\n",
       "      <td>14091</td>\n",
       "      <td>7.54</td>\n",
       "    </tr>\n",
       "    <tr>\n",
       "      <th>1</th>\n",
       "      <td>445</td>\n",
       "      <td>4855</td>\n",
       "      <td>9.17</td>\n",
       "    </tr>\n",
       "    <tr>\n",
       "      <th>2</th>\n",
       "      <td>202</td>\n",
       "      <td>2128</td>\n",
       "      <td>9.49</td>\n",
       "    </tr>\n",
       "    <tr>\n",
       "      <th>3</th>\n",
       "      <td>27</td>\n",
       "      <td>330</td>\n",
       "      <td>8.18</td>\n",
       "    </tr>\n",
       "    <tr>\n",
       "      <th>4</th>\n",
       "      <td>4</td>\n",
       "      <td>41</td>\n",
       "      <td>9.76</td>\n",
       "    </tr>\n",
       "    <tr>\n",
       "      <th>5</th>\n",
       "      <td>0</td>\n",
       "      <td>9</td>\n",
       "      <td>0.00</td>\n",
       "    </tr>\n",
       "  </tbody>\n",
       "</table>\n",
       "</div>"
      ],
      "text/plain": [
       "          debt  total     %\n",
       "children                   \n",
       "0         1063  14091  7.54\n",
       "1          445   4855  9.17\n",
       "2          202   2128  9.49\n",
       "3           27    330  8.18\n",
       "4            4     41  9.76\n",
       "5            0      9  0.00"
      ]
     },
     "execution_count": 25,
     "metadata": {},
     "output_type": "execute_result"
    }
   ],
   "source": [
    "report('children')"
   ]
  },
  {
   "cell_type": "markdown",
   "metadata": {},
   "source": [
    "**Вывод**"
   ]
  },
  {
   "cell_type": "markdown",
   "metadata": {},
   "source": [
    "* Зависимость есть. Люди у которых совсем нет детей реже имеют просрочку.\n",
    "* Чем больше детей, тем меньше возвращают кредиты. \n",
    "* Исключение - в семье три ребенка, но данных в этой категории мало."
   ]
  },
  {
   "cell_type": "markdown",
   "metadata": {},
   "source": [
    "**- Есть ли зависимость между семейным положением и возвратом кредита в срок?**"
   ]
  },
  {
   "cell_type": "code",
   "execution_count": 26,
   "metadata": {},
   "outputs": [
    {
     "data": {
      "text/html": [
       "<div>\n",
       "<style scoped>\n",
       "    .dataframe tbody tr th:only-of-type {\n",
       "        vertical-align: middle;\n",
       "    }\n",
       "\n",
       "    .dataframe tbody tr th {\n",
       "        vertical-align: top;\n",
       "    }\n",
       "\n",
       "    .dataframe thead th {\n",
       "        text-align: right;\n",
       "    }\n",
       "</style>\n",
       "<table border=\"1\" class=\"dataframe\">\n",
       "  <thead>\n",
       "    <tr style=\"text-align: right;\">\n",
       "      <th></th>\n",
       "      <th>debt</th>\n",
       "      <th>total</th>\n",
       "      <th>%</th>\n",
       "    </tr>\n",
       "    <tr>\n",
       "      <th>family_status</th>\n",
       "      <th></th>\n",
       "      <th></th>\n",
       "      <th></th>\n",
       "    </tr>\n",
       "  </thead>\n",
       "  <tbody>\n",
       "    <tr>\n",
       "      <th>женат / замужем</th>\n",
       "      <td>931</td>\n",
       "      <td>12339</td>\n",
       "      <td>7.55</td>\n",
       "    </tr>\n",
       "    <tr>\n",
       "      <th>гражданский брак</th>\n",
       "      <td>388</td>\n",
       "      <td>4151</td>\n",
       "      <td>9.35</td>\n",
       "    </tr>\n",
       "    <tr>\n",
       "      <th>Не женат / не замужем</th>\n",
       "      <td>274</td>\n",
       "      <td>2810</td>\n",
       "      <td>9.75</td>\n",
       "    </tr>\n",
       "    <tr>\n",
       "      <th>в разводе</th>\n",
       "      <td>85</td>\n",
       "      <td>1195</td>\n",
       "      <td>7.11</td>\n",
       "    </tr>\n",
       "    <tr>\n",
       "      <th>вдовец / вдова</th>\n",
       "      <td>63</td>\n",
       "      <td>959</td>\n",
       "      <td>6.57</td>\n",
       "    </tr>\n",
       "  </tbody>\n",
       "</table>\n",
       "</div>"
      ],
      "text/plain": [
       "                       debt  total     %\n",
       "family_status                           \n",
       "женат / замужем         931  12339  7.55\n",
       "гражданский брак        388   4151  9.35\n",
       "Не женат / не замужем   274   2810  9.75\n",
       "в разводе                85   1195  7.11\n",
       "вдовец / вдова           63    959  6.57"
      ]
     },
     "execution_count": 26,
     "metadata": {},
     "output_type": "execute_result"
    }
   ],
   "source": [
    "report('family_status')"
   ]
  },
  {
   "cell_type": "markdown",
   "metadata": {},
   "source": [
    "**Вывод**"
   ]
  },
  {
   "cell_type": "markdown",
   "metadata": {},
   "source": [
    "* Связанные законным браком, люди больше отдают кредиты, нежели, живущие в гражданском браке.\n",
    "* Не женатые/ не замужние люди хуже отдают кредиты, чем в разводе/вдовцы/вдовы.\n",
    "* Зависимость есть: люди которые связаны законным браком, или были связаны законным браком отдают кредиты лучше,чем остальные."
   ]
  },
  {
   "cell_type": "markdown",
   "metadata": {},
   "source": [
    "**- Есть ли зависимость между уровнем дохода и возвратом кредита в срок?**"
   ]
  },
  {
   "cell_type": "code",
   "execution_count": 27,
   "metadata": {},
   "outputs": [
    {
     "data": {
      "text/html": [
       "<div>\n",
       "<style scoped>\n",
       "    .dataframe tbody tr th:only-of-type {\n",
       "        vertical-align: middle;\n",
       "    }\n",
       "\n",
       "    .dataframe tbody tr th {\n",
       "        vertical-align: top;\n",
       "    }\n",
       "\n",
       "    .dataframe thead th {\n",
       "        text-align: right;\n",
       "    }\n",
       "</style>\n",
       "<table border=\"1\" class=\"dataframe\">\n",
       "  <thead>\n",
       "    <tr style=\"text-align: right;\">\n",
       "      <th></th>\n",
       "      <th>debt</th>\n",
       "      <th>total</th>\n",
       "      <th>%</th>\n",
       "    </tr>\n",
       "    <tr>\n",
       "      <th>total_income_group</th>\n",
       "      <th></th>\n",
       "      <th></th>\n",
       "      <th></th>\n",
       "    </tr>\n",
       "  </thead>\n",
       "  <tbody>\n",
       "    <tr>\n",
       "      <th>средний уровень дохода</th>\n",
       "      <td>1029</td>\n",
       "      <td>11924</td>\n",
       "      <td>8.63</td>\n",
       "    </tr>\n",
       "    <tr>\n",
       "      <th>высокий уровень дохода</th>\n",
       "      <td>344</td>\n",
       "      <td>4845</td>\n",
       "      <td>7.10</td>\n",
       "    </tr>\n",
       "    <tr>\n",
       "      <th>низкий уровень дохода</th>\n",
       "      <td>354</td>\n",
       "      <td>4463</td>\n",
       "      <td>7.93</td>\n",
       "    </tr>\n",
       "    <tr>\n",
       "      <th>очень высокий уровень дохода</th>\n",
       "      <td>14</td>\n",
       "      <td>222</td>\n",
       "      <td>6.31</td>\n",
       "    </tr>\n",
       "  </tbody>\n",
       "</table>\n",
       "</div>"
      ],
      "text/plain": [
       "                              debt  total     %\n",
       "total_income_group                             \n",
       "средний уровень дохода        1029  11924  8.63\n",
       "высокий уровень дохода         344   4845  7.10\n",
       "низкий уровень дохода          354   4463  7.93\n",
       "очень высокий уровень дохода    14    222  6.31"
      ]
     },
     "execution_count": 27,
     "metadata": {},
     "output_type": "execute_result"
    }
   ],
   "source": [
    "report('total_income_group')"
   ]
  },
  {
   "cell_type": "markdown",
   "metadata": {},
   "source": [
    "**Вывод**"
   ]
  },
  {
   "cell_type": "markdown",
   "metadata": {},
   "source": [
    "* Завимость почти прямая: чем больше доход тем меньше невозвратов. \n",
    "* Категории 'средний' и 'низкий' близки по невозвратам."
   ]
  },
  {
   "cell_type": "markdown",
   "metadata": {},
   "source": [
    "**- Как разные цели кредита влияют на его возврат в срок?**"
   ]
  },
  {
   "cell_type": "code",
   "execution_count": 28,
   "metadata": {},
   "outputs": [
    {
     "data": {
      "text/html": [
       "<div>\n",
       "<style scoped>\n",
       "    .dataframe tbody tr th:only-of-type {\n",
       "        vertical-align: middle;\n",
       "    }\n",
       "\n",
       "    .dataframe tbody tr th {\n",
       "        vertical-align: top;\n",
       "    }\n",
       "\n",
       "    .dataframe thead th {\n",
       "        text-align: right;\n",
       "    }\n",
       "</style>\n",
       "<table border=\"1\" class=\"dataframe\">\n",
       "  <thead>\n",
       "    <tr style=\"text-align: right;\">\n",
       "      <th></th>\n",
       "      <th>debt</th>\n",
       "      <th>total</th>\n",
       "      <th>%</th>\n",
       "    </tr>\n",
       "    <tr>\n",
       "      <th>purpose</th>\n",
       "      <th></th>\n",
       "      <th></th>\n",
       "      <th></th>\n",
       "    </tr>\n",
       "  </thead>\n",
       "  <tbody>\n",
       "    <tr>\n",
       "      <th>недвижимость</th>\n",
       "      <td>782</td>\n",
       "      <td>10811</td>\n",
       "      <td>7.23</td>\n",
       "    </tr>\n",
       "    <tr>\n",
       "      <th>автомобиль</th>\n",
       "      <td>403</td>\n",
       "      <td>4306</td>\n",
       "      <td>9.36</td>\n",
       "    </tr>\n",
       "    <tr>\n",
       "      <th>образование</th>\n",
       "      <td>370</td>\n",
       "      <td>4013</td>\n",
       "      <td>9.22</td>\n",
       "    </tr>\n",
       "    <tr>\n",
       "      <th>свадьба</th>\n",
       "      <td>186</td>\n",
       "      <td>2324</td>\n",
       "      <td>8.00</td>\n",
       "    </tr>\n",
       "  </tbody>\n",
       "</table>\n",
       "</div>"
      ],
      "text/plain": [
       "              debt  total     %\n",
       "purpose                        \n",
       "недвижимость   782  10811  7.23\n",
       "автомобиль     403   4306  9.36\n",
       "образование    370   4013  9.22\n",
       "свадьба        186   2324  8.00"
      ]
     },
     "execution_count": 28,
     "metadata": {},
     "output_type": "execute_result"
    }
   ],
   "source": [
    "report('purpose')"
   ]
  },
  {
   "cell_type": "markdown",
   "metadata": {},
   "source": [
    "**Вывод**"
   ]
  },
  {
   "cell_type": "markdown",
   "metadata": {},
   "source": [
    "* При покупке недвижимости самый высокий процент возвращения.\n",
    "* Менее надежные заемщики, покупающие автомобиль или оплачивающие образование.\n",
    "* Решившие сыграть свадьбу, где-то посередине."
   ]
  },
  {
   "cell_type": "markdown",
   "metadata": {},
   "source": [
    "## Общий вывод"
   ]
  },
  {
   "cell_type": "markdown",
   "metadata": {},
   "source": [
    "* При проведении исследования найдены прямые зависимости. \n",
    "* Можно обрисовать идеальных заемщиков: женатые/замужние или бывшие в законном браке, без детей, с высоким уровнем дохода, берущие кредит с целью купить недвижимость."
   ]
  }
 ],
 "metadata": {
  "ExecuteTimeLog": [
   {
    "duration": 1275,
    "start_time": "2021-12-07T03:47:20.630Z"
   },
   {
    "duration": 63,
    "start_time": "2021-12-07T03:47:38.765Z"
   },
   {
    "duration": 97,
    "start_time": "2021-12-07T03:48:03.241Z"
   },
   {
    "duration": 77,
    "start_time": "2021-12-07T03:50:38.122Z"
   },
   {
    "duration": 73,
    "start_time": "2021-12-07T03:52:38.100Z"
   },
   {
    "duration": 74,
    "start_time": "2021-12-07T03:56:51.228Z"
   },
   {
    "duration": 79,
    "start_time": "2021-12-07T03:57:06.082Z"
   },
   {
    "duration": 15,
    "start_time": "2021-12-07T03:57:21.621Z"
   },
   {
    "duration": 82,
    "start_time": "2021-12-07T04:17:01.628Z"
   },
   {
    "duration": 81,
    "start_time": "2021-12-07T04:21:51.896Z"
   },
   {
    "duration": 88,
    "start_time": "2021-12-07T04:26:08.992Z"
   },
   {
    "duration": 76,
    "start_time": "2021-12-07T04:31:22.074Z"
   },
   {
    "duration": 77,
    "start_time": "2021-12-07T05:08:48.203Z"
   },
   {
    "duration": 76,
    "start_time": "2021-12-07T05:09:11.675Z"
   },
   {
    "duration": 95,
    "start_time": "2021-12-07T13:38:26.288Z"
   },
   {
    "duration": 140,
    "start_time": "2021-12-07T13:48:00.843Z"
   },
   {
    "duration": 114,
    "start_time": "2021-12-07T13:59:04.477Z"
   },
   {
    "duration": 43,
    "start_time": "2021-12-07T15:17:44.762Z"
   },
   {
    "duration": 51,
    "start_time": "2021-12-07T15:25:06.767Z"
   },
   {
    "duration": 16,
    "start_time": "2021-12-07T15:57:08.010Z"
   },
   {
    "duration": 19,
    "start_time": "2021-12-07T15:58:05.320Z"
   },
   {
    "duration": 82,
    "start_time": "2021-12-08T11:25:14.557Z"
   },
   {
    "duration": 834,
    "start_time": "2021-12-08T11:25:23.625Z"
   },
   {
    "duration": 18,
    "start_time": "2021-12-08T11:25:25.129Z"
   },
   {
    "duration": 36,
    "start_time": "2021-12-08T11:25:25.689Z"
   },
   {
    "duration": 18,
    "start_time": "2021-12-08T11:25:26.542Z"
   },
   {
    "duration": 19,
    "start_time": "2021-12-08T11:25:27.444Z"
   },
   {
    "duration": 11,
    "start_time": "2021-12-08T11:25:28.290Z"
   },
   {
    "duration": 174,
    "start_time": "2021-12-08T11:25:32.769Z"
   },
   {
    "duration": 238,
    "start_time": "2021-12-08T11:25:54.718Z"
   },
   {
    "duration": 979,
    "start_time": "2021-12-08T11:28:30.569Z"
   },
   {
    "duration": 291,
    "start_time": "2021-12-08T11:35:35.811Z"
   },
   {
    "duration": 843,
    "start_time": "2021-12-08T15:13:18.893Z"
   },
   {
    "duration": 16,
    "start_time": "2021-12-08T15:13:20.129Z"
   },
   {
    "duration": 28,
    "start_time": "2021-12-08T15:13:21.405Z"
   },
   {
    "duration": 14,
    "start_time": "2021-12-08T15:13:22.205Z"
   },
   {
    "duration": 21,
    "start_time": "2021-12-08T15:13:22.687Z"
   },
   {
    "duration": 14,
    "start_time": "2021-12-08T15:13:23.260Z"
   },
   {
    "duration": 262,
    "start_time": "2021-12-08T15:13:26.745Z"
   },
   {
    "duration": 598,
    "start_time": "2021-12-08T15:15:21.792Z"
   },
   {
    "duration": 867,
    "start_time": "2021-12-08T15:22:13.267Z"
   },
   {
    "duration": 18,
    "start_time": "2021-12-08T15:22:14.137Z"
   },
   {
    "duration": 36,
    "start_time": "2021-12-08T15:22:14.169Z"
   },
   {
    "duration": 14,
    "start_time": "2021-12-08T15:22:14.435Z"
   },
   {
    "duration": 21,
    "start_time": "2021-12-08T15:22:14.804Z"
   },
   {
    "duration": 10,
    "start_time": "2021-12-08T15:22:15.371Z"
   },
   {
    "duration": 174,
    "start_time": "2021-12-08T15:22:17.181Z"
   },
   {
    "duration": 145,
    "start_time": "2021-12-08T15:23:17.904Z"
   },
   {
    "duration": 894,
    "start_time": "2021-12-08T15:23:31.030Z"
   },
   {
    "duration": 15,
    "start_time": "2021-12-08T15:23:31.926Z"
   },
   {
    "duration": 43,
    "start_time": "2021-12-08T15:23:31.945Z"
   },
   {
    "duration": 15,
    "start_time": "2021-12-08T15:23:31.992Z"
   },
   {
    "duration": 56,
    "start_time": "2021-12-08T15:23:32.011Z"
   },
   {
    "duration": 10,
    "start_time": "2021-12-08T15:23:32.071Z"
   },
   {
    "duration": 149,
    "start_time": "2021-12-08T15:23:34.072Z"
   },
   {
    "duration": 16,
    "start_time": "2021-12-08T15:23:34.494Z"
   },
   {
    "duration": 19,
    "start_time": "2021-12-08T15:23:36.189Z"
   },
   {
    "duration": 103,
    "start_time": "2021-12-08T15:23:39.888Z"
   },
   {
    "duration": 883,
    "start_time": "2021-12-08T15:41:52.476Z"
   },
   {
    "duration": 14,
    "start_time": "2021-12-08T15:41:53.362Z"
   },
   {
    "duration": 39,
    "start_time": "2021-12-08T15:41:53.379Z"
   },
   {
    "duration": 14,
    "start_time": "2021-12-08T15:41:53.421Z"
   },
   {
    "duration": 19,
    "start_time": "2021-12-08T15:41:53.665Z"
   },
   {
    "duration": 10,
    "start_time": "2021-12-08T15:41:54.037Z"
   },
   {
    "duration": 389,
    "start_time": "2021-12-08T15:41:56.642Z"
   },
   {
    "duration": 12,
    "start_time": "2021-12-08T15:42:21.464Z"
   },
   {
    "duration": 18,
    "start_time": "2021-12-08T15:42:28.398Z"
   },
   {
    "duration": 191,
    "start_time": "2021-12-08T15:43:37.324Z"
   },
   {
    "duration": 17,
    "start_time": "2021-12-08T15:44:15.897Z"
   },
   {
    "duration": 167,
    "start_time": "2021-12-08T15:44:23.932Z"
   },
   {
    "duration": 16,
    "start_time": "2021-12-08T15:44:25.946Z"
   },
   {
    "duration": 20,
    "start_time": "2021-12-08T15:44:38.880Z"
   },
   {
    "duration": 24,
    "start_time": "2021-12-08T15:45:34.592Z"
   },
   {
    "duration": 22,
    "start_time": "2021-12-08T15:45:56.081Z"
   },
   {
    "duration": 819,
    "start_time": "2021-12-08T15:47:36.309Z"
   },
   {
    "duration": 15,
    "start_time": "2021-12-08T15:47:37.131Z"
   },
   {
    "duration": 24,
    "start_time": "2021-12-08T15:47:37.269Z"
   },
   {
    "duration": 14,
    "start_time": "2021-12-08T15:47:37.734Z"
   },
   {
    "duration": 19,
    "start_time": "2021-12-08T15:47:38.176Z"
   },
   {
    "duration": 9,
    "start_time": "2021-12-08T15:47:38.638Z"
   },
   {
    "duration": 12,
    "start_time": "2021-12-08T15:47:40.434Z"
   },
   {
    "duration": 18,
    "start_time": "2021-12-08T15:47:40.790Z"
   },
   {
    "duration": 212,
    "start_time": "2021-12-08T15:47:41.636Z"
   },
   {
    "duration": 15,
    "start_time": "2021-12-08T15:47:42.033Z"
   },
   {
    "duration": 20,
    "start_time": "2021-12-08T15:47:47.986Z"
   },
   {
    "duration": 100,
    "start_time": "2021-12-08T15:47:50.771Z"
   },
   {
    "duration": 98,
    "start_time": "2021-12-08T15:53:29.140Z"
   },
   {
    "duration": 208,
    "start_time": "2021-12-08T15:53:52.334Z"
   },
   {
    "duration": 205,
    "start_time": "2021-12-08T15:54:19.903Z"
   },
   {
    "duration": 240,
    "start_time": "2021-12-08T15:54:45.014Z"
   },
   {
    "duration": 104,
    "start_time": "2021-12-08T15:56:58.951Z"
   },
   {
    "duration": 104,
    "start_time": "2021-12-08T15:57:13.751Z"
   },
   {
    "duration": 19,
    "start_time": "2021-12-08T15:57:24.980Z"
   },
   {
    "duration": 12,
    "start_time": "2021-12-08T17:05:14.046Z"
   },
   {
    "duration": 7,
    "start_time": "2021-12-08T17:05:26.245Z"
   },
   {
    "duration": 404,
    "start_time": "2021-12-08T17:05:46.021Z"
   },
   {
    "duration": 8,
    "start_time": "2021-12-08T17:06:02.132Z"
   },
   {
    "duration": 313,
    "start_time": "2021-12-08T17:15:29.374Z"
   },
   {
    "duration": 6,
    "start_time": "2021-12-08T17:16:41.615Z"
   },
   {
    "duration": 8,
    "start_time": "2021-12-08T17:16:54.455Z"
   },
   {
    "duration": 974,
    "start_time": "2021-12-08T17:19:25.219Z"
   },
   {
    "duration": 1024,
    "start_time": "2021-12-08T17:20:45.282Z"
   },
   {
    "duration": 1008,
    "start_time": "2021-12-08T17:20:55.376Z"
   },
   {
    "duration": 29,
    "start_time": "2021-12-08T18:02:43.850Z"
   },
   {
    "duration": 1073,
    "start_time": "2021-12-08T18:04:17.465Z"
   },
   {
    "duration": 991,
    "start_time": "2021-12-08T18:04:28.402Z"
   },
   {
    "duration": 5914,
    "start_time": "2021-12-08T18:15:12.777Z"
   },
   {
    "duration": 4122,
    "start_time": "2021-12-08T18:15:37.577Z"
   },
   {
    "duration": 861,
    "start_time": "2021-12-08T18:17:08.561Z"
   },
   {
    "duration": 18,
    "start_time": "2021-12-08T18:17:19.807Z"
   },
   {
    "duration": 27,
    "start_time": "2021-12-08T18:17:20.479Z"
   },
   {
    "duration": 14,
    "start_time": "2021-12-08T18:17:41.448Z"
   },
   {
    "duration": 18,
    "start_time": "2021-12-08T18:17:42.441Z"
   },
   {
    "duration": 10,
    "start_time": "2021-12-08T18:17:43.588Z"
   },
   {
    "duration": 11,
    "start_time": "2021-12-08T18:17:48.294Z"
   },
   {
    "duration": 20,
    "start_time": "2021-12-08T18:17:48.889Z"
   },
   {
    "duration": 221,
    "start_time": "2021-12-08T18:17:51.019Z"
   },
   {
    "duration": 15,
    "start_time": "2021-12-08T18:17:53.592Z"
   },
   {
    "duration": 20,
    "start_time": "2021-12-08T18:17:56.019Z"
   },
   {
    "duration": 98,
    "start_time": "2021-12-08T18:17:58.077Z"
   },
   {
    "duration": 5866,
    "start_time": "2021-12-08T18:18:04.048Z"
   },
   {
    "duration": 79,
    "start_time": "2021-12-08T18:25:00.456Z"
   },
   {
    "duration": 17,
    "start_time": "2021-12-08T18:25:00.647Z"
   },
   {
    "duration": 26,
    "start_time": "2021-12-08T18:25:00.824Z"
   },
   {
    "duration": 16,
    "start_time": "2021-12-08T18:25:01.003Z"
   },
   {
    "duration": 19,
    "start_time": "2021-12-08T18:25:01.184Z"
   },
   {
    "duration": 11,
    "start_time": "2021-12-08T18:25:01.374Z"
   },
   {
    "duration": 12,
    "start_time": "2021-12-08T18:25:02.524Z"
   },
   {
    "duration": 15,
    "start_time": "2021-12-08T18:25:02.745Z"
   },
   {
    "duration": 222,
    "start_time": "2021-12-08T18:25:03.114Z"
   },
   {
    "duration": 28,
    "start_time": "2021-12-08T18:25:03.343Z"
   },
   {
    "duration": 19,
    "start_time": "2021-12-08T18:25:04.428Z"
   },
   {
    "duration": 95,
    "start_time": "2021-12-08T18:25:05.529Z"
   },
   {
    "duration": 5942,
    "start_time": "2021-12-08T18:25:07.589Z"
   },
   {
    "duration": 866,
    "start_time": "2021-12-09T04:14:49.501Z"
   },
   {
    "duration": 14,
    "start_time": "2021-12-09T04:14:50.370Z"
   },
   {
    "duration": 24,
    "start_time": "2021-12-09T04:14:50.387Z"
   },
   {
    "duration": 26,
    "start_time": "2021-12-09T04:14:50.433Z"
   },
   {
    "duration": 18,
    "start_time": "2021-12-09T04:14:50.750Z"
   },
   {
    "duration": 13,
    "start_time": "2021-12-09T04:14:51.054Z"
   },
   {
    "duration": 12,
    "start_time": "2021-12-09T04:14:52.568Z"
   },
   {
    "duration": 20,
    "start_time": "2021-12-09T04:14:52.757Z"
   },
   {
    "duration": 203,
    "start_time": "2021-12-09T04:14:53.128Z"
   },
   {
    "duration": 14,
    "start_time": "2021-12-09T04:14:53.562Z"
   },
   {
    "duration": 20,
    "start_time": "2021-12-09T04:14:54.945Z"
   },
   {
    "duration": 85,
    "start_time": "2021-12-09T04:14:56.556Z"
   },
   {
    "duration": 6193,
    "start_time": "2021-12-09T04:14:59.169Z"
   },
   {
    "duration": 380,
    "start_time": "2021-12-09T04:15:10.087Z"
   },
   {
    "duration": 15,
    "start_time": "2021-12-09T04:24:19.004Z"
   },
   {
    "duration": 15,
    "start_time": "2021-12-09T04:24:36.143Z"
   },
   {
    "duration": 12,
    "start_time": "2021-12-09T04:24:54.281Z"
   },
   {
    "duration": 13,
    "start_time": "2021-12-09T04:25:10.465Z"
   },
   {
    "duration": 17,
    "start_time": "2021-12-09T04:25:17.625Z"
   },
   {
    "duration": 12,
    "start_time": "2021-12-09T04:25:45.229Z"
   },
   {
    "duration": 13,
    "start_time": "2021-12-09T04:25:56.184Z"
   },
   {
    "duration": 7,
    "start_time": "2021-12-09T05:29:01.960Z"
   },
   {
    "duration": 9,
    "start_time": "2021-12-09T05:29:25.253Z"
   },
   {
    "duration": 821,
    "start_time": "2021-12-09T05:37:26.511Z"
   },
   {
    "duration": 14,
    "start_time": "2021-12-09T05:37:27.336Z"
   },
   {
    "duration": 24,
    "start_time": "2021-12-09T05:37:27.374Z"
   },
   {
    "duration": 14,
    "start_time": "2021-12-09T05:37:27.639Z"
   },
   {
    "duration": 20,
    "start_time": "2021-12-09T05:37:28.023Z"
   },
   {
    "duration": 10,
    "start_time": "2021-12-09T05:37:28.274Z"
   },
   {
    "duration": 11,
    "start_time": "2021-12-09T05:37:29.395Z"
   },
   {
    "duration": 20,
    "start_time": "2021-12-09T05:37:29.582Z"
   },
   {
    "duration": 215,
    "start_time": "2021-12-09T05:37:30.116Z"
   },
   {
    "duration": 15,
    "start_time": "2021-12-09T05:37:30.576Z"
   },
   {
    "duration": 20,
    "start_time": "2021-12-09T05:37:31.784Z"
   },
   {
    "duration": 86,
    "start_time": "2021-12-09T05:37:33.630Z"
   },
   {
    "duration": 6226,
    "start_time": "2021-12-09T05:37:36.092Z"
   },
   {
    "duration": 9,
    "start_time": "2021-12-09T05:37:45.032Z"
   },
   {
    "duration": 373,
    "start_time": "2021-12-09T05:37:47.047Z"
   },
   {
    "duration": 641,
    "start_time": "2021-12-09T05:38:36.072Z"
   },
   {
    "duration": 383,
    "start_time": "2021-12-09T06:09:44.726Z"
   },
   {
    "duration": 167,
    "start_time": "2021-12-09T06:23:21.952Z"
   },
   {
    "duration": 128,
    "start_time": "2021-12-09T06:23:30.812Z"
   },
   {
    "duration": 502,
    "start_time": "2021-12-09T06:24:31.919Z"
   },
   {
    "duration": 1878,
    "start_time": "2021-12-09T06:27:32.534Z"
   },
   {
    "duration": 937,
    "start_time": "2021-12-09T06:27:58.905Z"
   },
   {
    "duration": 16,
    "start_time": "2021-12-09T06:27:59.844Z"
   },
   {
    "duration": 29,
    "start_time": "2021-12-09T06:27:59.992Z"
   },
   {
    "duration": 15,
    "start_time": "2021-12-09T06:28:00.672Z"
   },
   {
    "duration": 19,
    "start_time": "2021-12-09T06:28:00.902Z"
   },
   {
    "duration": 10,
    "start_time": "2021-12-09T06:28:01.125Z"
   },
   {
    "duration": 12,
    "start_time": "2021-12-09T06:28:02.280Z"
   },
   {
    "duration": 22,
    "start_time": "2021-12-09T06:28:02.584Z"
   },
   {
    "duration": 223,
    "start_time": "2021-12-09T06:28:02.941Z"
   },
   {
    "duration": 13,
    "start_time": "2021-12-09T06:28:03.167Z"
   },
   {
    "duration": 21,
    "start_time": "2021-12-09T06:28:04.072Z"
   },
   {
    "duration": 105,
    "start_time": "2021-12-09T06:28:04.945Z"
   },
   {
    "duration": 6484,
    "start_time": "2021-12-09T06:28:07.024Z"
   },
   {
    "duration": 8,
    "start_time": "2021-12-09T06:28:16.537Z"
   },
   {
    "duration": 374,
    "start_time": "2021-12-09T06:28:18.397Z"
   },
   {
    "duration": 2613,
    "start_time": "2021-12-09T06:28:23.033Z"
   },
   {
    "duration": 24,
    "start_time": "2021-12-09T06:35:05.460Z"
   },
   {
    "duration": 3918,
    "start_time": "2021-12-09T06:37:55.008Z"
   },
   {
    "duration": 960,
    "start_time": "2021-12-09T06:38:21.154Z"
   },
   {
    "duration": 1053,
    "start_time": "2021-12-09T06:40:41.058Z"
   },
   {
    "duration": 17,
    "start_time": "2021-12-09T06:40:42.114Z"
   },
   {
    "duration": 42,
    "start_time": "2021-12-09T06:40:42.135Z"
   },
   {
    "duration": 13,
    "start_time": "2021-12-09T06:40:42.180Z"
   },
   {
    "duration": 18,
    "start_time": "2021-12-09T06:40:42.196Z"
   },
   {
    "duration": 46,
    "start_time": "2021-12-09T06:40:42.216Z"
   },
   {
    "duration": 11,
    "start_time": "2021-12-09T06:40:43.259Z"
   },
   {
    "duration": 19,
    "start_time": "2021-12-09T06:40:43.457Z"
   },
   {
    "duration": 196,
    "start_time": "2021-12-09T06:40:43.845Z"
   },
   {
    "duration": 26,
    "start_time": "2021-12-09T06:40:44.044Z"
   },
   {
    "duration": 20,
    "start_time": "2021-12-09T06:40:45.082Z"
   },
   {
    "duration": 96,
    "start_time": "2021-12-09T06:40:46.156Z"
   },
   {
    "duration": 7171,
    "start_time": "2021-12-09T06:40:47.210Z"
   },
   {
    "duration": 9,
    "start_time": "2021-12-09T06:40:57.590Z"
   },
   {
    "duration": 373,
    "start_time": "2021-12-09T06:40:57.864Z"
   },
   {
    "duration": 43,
    "start_time": "2021-12-09T06:41:04.710Z"
   },
   {
    "duration": 39,
    "start_time": "2021-12-09T06:41:59.857Z"
   },
   {
    "duration": 198,
    "start_time": "2021-12-09T06:43:49.956Z"
   },
   {
    "duration": 128,
    "start_time": "2021-12-09T06:44:27.677Z"
   },
   {
    "duration": 159,
    "start_time": "2021-12-09T06:44:41.033Z"
   },
   {
    "duration": 40,
    "start_time": "2021-12-09T06:44:47.065Z"
   },
   {
    "duration": 42,
    "start_time": "2021-12-09T06:50:29.609Z"
   },
   {
    "duration": 174,
    "start_time": "2021-12-09T06:51:08.242Z"
   },
   {
    "duration": 128,
    "start_time": "2021-12-09T06:51:24.581Z"
   },
   {
    "duration": 49,
    "start_time": "2021-12-09T06:53:29.429Z"
   },
   {
    "duration": 514,
    "start_time": "2021-12-09T06:53:41.875Z"
   },
   {
    "duration": 51,
    "start_time": "2021-12-09T06:53:49.994Z"
   },
   {
    "duration": 129,
    "start_time": "2021-12-09T06:55:15.066Z"
   },
   {
    "duration": 41,
    "start_time": "2021-12-09T06:55:28.511Z"
   },
   {
    "duration": 44,
    "start_time": "2021-12-09T06:55:35.064Z"
   },
   {
    "duration": 438,
    "start_time": "2021-12-09T07:01:59.887Z"
   },
   {
    "duration": 451,
    "start_time": "2021-12-09T07:02:46.081Z"
   },
   {
    "duration": 464,
    "start_time": "2021-12-09T07:04:04.393Z"
   },
   {
    "duration": 429,
    "start_time": "2021-12-09T07:06:22.800Z"
   },
   {
    "duration": 409,
    "start_time": "2021-12-09T07:07:08.069Z"
   },
   {
    "duration": 915,
    "start_time": "2021-12-09T07:09:48.861Z"
   },
   {
    "duration": 14,
    "start_time": "2021-12-09T07:09:49.779Z"
   },
   {
    "duration": 25,
    "start_time": "2021-12-09T07:09:49.796Z"
   },
   {
    "duration": 44,
    "start_time": "2021-12-09T07:09:49.825Z"
   },
   {
    "duration": 19,
    "start_time": "2021-12-09T07:09:49.872Z"
   },
   {
    "duration": 10,
    "start_time": "2021-12-09T07:09:49.935Z"
   },
   {
    "duration": 12,
    "start_time": "2021-12-09T07:09:50.886Z"
   },
   {
    "duration": 21,
    "start_time": "2021-12-09T07:09:51.057Z"
   },
   {
    "duration": 194,
    "start_time": "2021-12-09T07:09:51.382Z"
   },
   {
    "duration": 18,
    "start_time": "2021-12-09T07:09:51.579Z"
   },
   {
    "duration": 23,
    "start_time": "2021-12-09T07:09:52.147Z"
   },
   {
    "duration": 86,
    "start_time": "2021-12-09T07:09:53.638Z"
   },
   {
    "duration": 6004,
    "start_time": "2021-12-09T07:09:54.532Z"
   },
   {
    "duration": 10,
    "start_time": "2021-12-09T07:10:02.190Z"
   },
   {
    "duration": 386,
    "start_time": "2021-12-09T07:10:03.492Z"
   },
   {
    "duration": 45,
    "start_time": "2021-12-09T07:10:08.071Z"
   },
   {
    "duration": 632,
    "start_time": "2021-12-09T07:10:13.780Z"
   },
   {
    "duration": 40,
    "start_time": "2021-12-09T07:16:29.757Z"
   },
   {
    "duration": 54,
    "start_time": "2021-12-09T07:16:55.476Z"
   },
   {
    "duration": 57,
    "start_time": "2021-12-09T07:17:36.431Z"
   },
   {
    "duration": 55,
    "start_time": "2021-12-09T07:17:53.134Z"
   },
   {
    "duration": 56,
    "start_time": "2021-12-09T07:18:14.604Z"
   },
   {
    "duration": 137,
    "start_time": "2021-12-09T10:28:40.946Z"
   },
   {
    "duration": 41,
    "start_time": "2021-12-09T10:28:59.332Z"
   },
   {
    "duration": 439,
    "start_time": "2021-12-09T10:30:45.813Z"
   },
   {
    "duration": 44,
    "start_time": "2021-12-09T10:31:38.493Z"
   },
   {
    "duration": 46,
    "start_time": "2021-12-09T10:32:26.122Z"
   },
   {
    "duration": 788,
    "start_time": "2021-12-09T10:33:48.223Z"
   },
   {
    "duration": 46,
    "start_time": "2021-12-09T10:34:04.437Z"
   },
   {
    "duration": 45,
    "start_time": "2021-12-09T10:34:44.340Z"
   },
   {
    "duration": 172,
    "start_time": "2021-12-09T10:38:18.398Z"
   },
   {
    "duration": 9,
    "start_time": "2021-12-09T10:38:43.468Z"
   },
   {
    "duration": 404,
    "start_time": "2021-12-09T10:47:12.938Z"
   },
   {
    "duration": 142,
    "start_time": "2021-12-09T10:47:30.421Z"
   },
   {
    "duration": 146,
    "start_time": "2021-12-09T10:47:49.011Z"
   },
   {
    "duration": 170,
    "start_time": "2021-12-09T10:48:05.032Z"
   },
   {
    "duration": 10,
    "start_time": "2021-12-09T10:48:09.249Z"
   },
   {
    "duration": 10,
    "start_time": "2021-12-09T10:48:16.559Z"
   },
   {
    "duration": 10,
    "start_time": "2021-12-09T10:48:24.869Z"
   },
   {
    "duration": 222,
    "start_time": "2021-12-09T10:49:04.556Z"
   },
   {
    "duration": 199,
    "start_time": "2021-12-09T10:49:36.714Z"
   },
   {
    "duration": 842,
    "start_time": "2021-12-09T13:44:08.082Z"
   },
   {
    "duration": 9,
    "start_time": "2021-12-09T16:11:13.083Z"
   },
   {
    "duration": 125,
    "start_time": "2021-12-09T16:13:29.157Z"
   },
   {
    "duration": 6,
    "start_time": "2021-12-09T16:13:36.516Z"
   },
   {
    "duration": 146,
    "start_time": "2021-12-09T16:41:59.417Z"
   },
   {
    "duration": 100,
    "start_time": "2021-12-09T16:52:41.086Z"
   },
   {
    "duration": 16,
    "start_time": "2021-12-09T16:52:41.933Z"
   },
   {
    "duration": 25,
    "start_time": "2021-12-09T16:52:42.148Z"
   },
   {
    "duration": 15,
    "start_time": "2021-12-09T16:52:42.344Z"
   },
   {
    "duration": 28,
    "start_time": "2021-12-09T16:52:42.571Z"
   },
   {
    "duration": 14,
    "start_time": "2021-12-09T16:52:42.761Z"
   },
   {
    "duration": 10,
    "start_time": "2021-12-09T16:52:44.351Z"
   },
   {
    "duration": 21,
    "start_time": "2021-12-09T16:52:44.544Z"
   },
   {
    "duration": 7,
    "start_time": "2021-12-09T16:52:45.001Z"
   },
   {
    "duration": 17,
    "start_time": "2021-12-09T16:52:45.452Z"
   },
   {
    "duration": 242,
    "start_time": "2021-12-09T16:52:45.842Z"
   },
   {
    "duration": 14,
    "start_time": "2021-12-09T16:52:46.088Z"
   },
   {
    "duration": 22,
    "start_time": "2021-12-09T16:52:47.205Z"
   },
   {
    "duration": 95,
    "start_time": "2021-12-09T16:52:48.228Z"
   },
   {
    "duration": 6818,
    "start_time": "2021-12-09T16:52:49.472Z"
   },
   {
    "duration": 12,
    "start_time": "2021-12-09T16:52:57.905Z"
   },
   {
    "duration": 377,
    "start_time": "2021-12-09T16:52:58.199Z"
   },
   {
    "duration": 44,
    "start_time": "2021-12-09T16:53:04.876Z"
   },
   {
    "duration": 44,
    "start_time": "2021-12-09T16:53:07.517Z"
   },
   {
    "duration": 45,
    "start_time": "2021-12-09T16:53:10.337Z"
   },
   {
    "duration": 50,
    "start_time": "2021-12-09T16:53:11.929Z"
   },
   {
    "duration": 211,
    "start_time": "2021-12-10T03:09:20.552Z"
   },
   {
    "duration": 169,
    "start_time": "2021-12-10T03:09:52.824Z"
   },
   {
    "duration": 580,
    "start_time": "2021-12-10T03:10:14.934Z"
   },
   {
    "duration": 11,
    "start_time": "2021-12-10T03:10:15.516Z"
   },
   {
    "duration": 16,
    "start_time": "2021-12-10T03:10:15.529Z"
   },
   {
    "duration": 10,
    "start_time": "2021-12-10T03:10:15.781Z"
   },
   {
    "duration": 11,
    "start_time": "2021-12-10T03:10:16.014Z"
   },
   {
    "duration": 7,
    "start_time": "2021-12-10T03:10:16.288Z"
   },
   {
    "duration": 8,
    "start_time": "2021-12-10T03:10:17.904Z"
   },
   {
    "duration": 10,
    "start_time": "2021-12-10T03:10:18.136Z"
   },
   {
    "duration": 4,
    "start_time": "2021-12-10T03:10:18.716Z"
   },
   {
    "duration": 12,
    "start_time": "2021-12-10T03:10:19.340Z"
   },
   {
    "duration": 14,
    "start_time": "2021-12-10T03:10:20.815Z"
   },
   {
    "duration": 4,
    "start_time": "2021-12-10T03:36:02.780Z"
   },
   {
    "duration": 42,
    "start_time": "2021-12-10T03:36:09.540Z"
   },
   {
    "duration": 43,
    "start_time": "2021-12-10T03:36:10.503Z"
   },
   {
    "duration": 46,
    "start_time": "2021-12-10T03:36:13.258Z"
   },
   {
    "duration": 59,
    "start_time": "2021-12-10T03:38:49.788Z"
   },
   {
    "duration": 46,
    "start_time": "2021-12-10T03:53:06.807Z"
   },
   {
    "duration": 10,
    "start_time": "2021-12-10T03:55:31.280Z"
   },
   {
    "duration": 43,
    "start_time": "2021-12-10T03:59:43.838Z"
   },
   {
    "duration": 4473,
    "start_time": "2021-12-10T05:43:37.203Z"
   },
   {
    "duration": 5,
    "start_time": "2021-12-10T05:43:49.578Z"
   },
   {
    "duration": 60,
    "start_time": "2021-12-10T05:43:59.868Z"
   },
   {
    "duration": 12,
    "start_time": "2021-12-10T05:44:00.014Z"
   },
   {
    "duration": 17,
    "start_time": "2021-12-10T05:44:00.183Z"
   },
   {
    "duration": 9,
    "start_time": "2021-12-10T05:44:00.333Z"
   },
   {
    "duration": 12,
    "start_time": "2021-12-10T05:44:00.474Z"
   },
   {
    "duration": 8,
    "start_time": "2021-12-10T05:44:00.632Z"
   },
   {
    "duration": 8,
    "start_time": "2021-12-10T05:44:01.632Z"
   },
   {
    "duration": 10,
    "start_time": "2021-12-10T05:44:01.814Z"
   },
   {
    "duration": 4,
    "start_time": "2021-12-10T05:44:02.160Z"
   },
   {
    "duration": 11,
    "start_time": "2021-12-10T05:44:02.551Z"
   },
   {
    "duration": 4,
    "start_time": "2021-12-10T05:44:02.910Z"
   },
   {
    "duration": 44,
    "start_time": "2021-12-10T05:44:03.325Z"
   },
   {
    "duration": 42,
    "start_time": "2021-12-10T05:44:04.078Z"
   },
   {
    "duration": 49,
    "start_time": "2021-12-10T05:44:04.608Z"
   },
   {
    "duration": 11,
    "start_time": "2021-12-10T05:44:05.352Z"
   },
   {
    "duration": 15,
    "start_time": "2021-12-10T05:44:09.835Z"
   },
   {
    "duration": 56,
    "start_time": "2021-12-10T05:44:11.672Z"
   },
   {
    "duration": 6,
    "start_time": "2021-12-10T05:44:12.728Z"
   },
   {
    "duration": 185,
    "start_time": "2021-12-10T06:00:44.772Z"
   },
   {
    "duration": 59,
    "start_time": "2021-12-10T06:03:22.550Z"
   },
   {
    "duration": 17,
    "start_time": "2021-12-10T06:03:22.809Z"
   },
   {
    "duration": 18,
    "start_time": "2021-12-10T06:03:23.027Z"
   },
   {
    "duration": 10,
    "start_time": "2021-12-10T06:03:23.247Z"
   },
   {
    "duration": 12,
    "start_time": "2021-12-10T06:03:23.460Z"
   },
   {
    "duration": 7,
    "start_time": "2021-12-10T06:03:23.651Z"
   },
   {
    "duration": 8,
    "start_time": "2021-12-10T06:03:25.067Z"
   },
   {
    "duration": 10,
    "start_time": "2021-12-10T06:03:25.302Z"
   },
   {
    "duration": 4,
    "start_time": "2021-12-10T06:03:25.785Z"
   },
   {
    "duration": 11,
    "start_time": "2021-12-10T06:03:26.454Z"
   },
   {
    "duration": 5,
    "start_time": "2021-12-10T06:03:27.218Z"
   },
   {
    "duration": 46,
    "start_time": "2021-12-10T06:03:27.921Z"
   },
   {
    "duration": 42,
    "start_time": "2021-12-10T06:03:28.762Z"
   },
   {
    "duration": 46,
    "start_time": "2021-12-10T06:03:29.505Z"
   },
   {
    "duration": 10,
    "start_time": "2021-12-10T06:03:29.961Z"
   },
   {
    "duration": 15,
    "start_time": "2021-12-10T06:03:32.529Z"
   },
   {
    "duration": 54,
    "start_time": "2021-12-10T06:03:33.902Z"
   },
   {
    "duration": 185,
    "start_time": "2021-12-10T06:03:36.956Z"
   },
   {
    "duration": 189,
    "start_time": "2021-12-10T06:05:54.639Z"
   },
   {
    "duration": 187,
    "start_time": "2021-12-10T06:06:01.994Z"
   },
   {
    "duration": 3869,
    "start_time": "2021-12-10T06:07:48.442Z"
   },
   {
    "duration": 5,
    "start_time": "2021-12-10T06:10:55.311Z"
   },
   {
    "duration": 630,
    "start_time": "2021-12-10T06:11:13.119Z"
   },
   {
    "duration": 10,
    "start_time": "2021-12-10T06:11:13.751Z"
   },
   {
    "duration": 16,
    "start_time": "2021-12-10T06:11:13.762Z"
   },
   {
    "duration": 8,
    "start_time": "2021-12-10T06:11:13.791Z"
   },
   {
    "duration": 12,
    "start_time": "2021-12-10T06:11:13.896Z"
   },
   {
    "duration": 7,
    "start_time": "2021-12-10T06:11:14.066Z"
   },
   {
    "duration": 8,
    "start_time": "2021-12-10T06:11:15.032Z"
   },
   {
    "duration": 10,
    "start_time": "2021-12-10T06:11:15.225Z"
   },
   {
    "duration": 4,
    "start_time": "2021-12-10T06:11:15.559Z"
   },
   {
    "duration": 11,
    "start_time": "2021-12-10T06:11:15.895Z"
   },
   {
    "duration": 5,
    "start_time": "2021-12-10T06:11:16.218Z"
   },
   {
    "duration": 42,
    "start_time": "2021-12-10T06:11:16.544Z"
   },
   {
    "duration": 44,
    "start_time": "2021-12-10T06:11:16.883Z"
   },
   {
    "duration": 47,
    "start_time": "2021-12-10T06:11:17.235Z"
   },
   {
    "duration": 11,
    "start_time": "2021-12-10T06:11:17.403Z"
   },
   {
    "duration": 13,
    "start_time": "2021-12-10T06:11:18.557Z"
   },
   {
    "duration": 57,
    "start_time": "2021-12-10T06:11:19.937Z"
   },
   {
    "duration": 7,
    "start_time": "2021-12-10T06:11:22.532Z"
   },
   {
    "duration": 237,
    "start_time": "2021-12-10T06:12:06.697Z"
   },
   {
    "duration": 181,
    "start_time": "2021-12-10T06:12:14.471Z"
   },
   {
    "duration": 186,
    "start_time": "2021-12-10T06:12:27.529Z"
   },
   {
    "duration": 6,
    "start_time": "2021-12-10T06:14:41.120Z"
   },
   {
    "duration": 198,
    "start_time": "2021-12-10T06:16:43.321Z"
   },
   {
    "duration": 6,
    "start_time": "2021-12-10T06:19:13.422Z"
   },
   {
    "duration": 643,
    "start_time": "2021-12-10T06:19:33.974Z"
   },
   {
    "duration": 655,
    "start_time": "2021-12-10T06:19:45.752Z"
   },
   {
    "duration": 672,
    "start_time": "2021-12-10T06:21:02.212Z"
   },
   {
    "duration": 3,
    "start_time": "2021-12-10T06:22:31.519Z"
   },
   {
    "duration": 4,
    "start_time": "2021-12-10T06:22:50.660Z"
   },
   {
    "duration": 667,
    "start_time": "2021-12-10T06:23:04.217Z"
   },
   {
    "duration": 664,
    "start_time": "2021-12-10T06:23:29.558Z"
   },
   {
    "duration": 662,
    "start_time": "2021-12-10T06:26:02.564Z"
   },
   {
    "duration": 59,
    "start_time": "2021-12-10T06:28:54.664Z"
   },
   {
    "duration": 677,
    "start_time": "2021-12-10T06:36:45.095Z"
   },
   {
    "duration": 64,
    "start_time": "2021-12-10T06:41:42.954Z"
   },
   {
    "duration": 3256,
    "start_time": "2021-12-10T06:50:34.304Z"
   },
   {
    "duration": 95,
    "start_time": "2021-12-10T07:09:48.849Z"
   },
   {
    "duration": 219,
    "start_time": "2021-12-10T07:10:54.844Z"
   },
   {
    "duration": 216,
    "start_time": "2021-12-10T07:12:05.334Z"
   },
   {
    "duration": 179,
    "start_time": "2021-12-10T07:12:32.255Z"
   },
   {
    "duration": 29,
    "start_time": "2021-12-10T07:12:44.588Z"
   },
   {
    "duration": 28,
    "start_time": "2021-12-10T07:13:03.056Z"
   },
   {
    "duration": 30,
    "start_time": "2021-12-10T07:13:09.067Z"
   },
   {
    "duration": 228,
    "start_time": "2021-12-10T07:24:16.072Z"
   },
   {
    "duration": 62,
    "start_time": "2021-12-10T08:30:32.856Z"
   },
   {
    "duration": 4,
    "start_time": "2021-12-10T08:58:51.288Z"
   },
   {
    "duration": 653,
    "start_time": "2021-12-10T08:59:21.092Z"
   },
   {
    "duration": 10,
    "start_time": "2021-12-10T08:59:21.747Z"
   },
   {
    "duration": 18,
    "start_time": "2021-12-10T08:59:21.989Z"
   },
   {
    "duration": 10,
    "start_time": "2021-12-10T08:59:22.243Z"
   },
   {
    "duration": 12,
    "start_time": "2021-12-10T08:59:22.555Z"
   },
   {
    "duration": 7,
    "start_time": "2021-12-10T08:59:22.751Z"
   },
   {
    "duration": 9,
    "start_time": "2021-12-10T08:59:23.988Z"
   },
   {
    "duration": 10,
    "start_time": "2021-12-10T08:59:24.148Z"
   },
   {
    "duration": 4,
    "start_time": "2021-12-10T08:59:24.483Z"
   },
   {
    "duration": 11,
    "start_time": "2021-12-10T08:59:24.833Z"
   },
   {
    "duration": 4,
    "start_time": "2021-12-10T08:59:25.190Z"
   },
   {
    "duration": 44,
    "start_time": "2021-12-10T08:59:25.529Z"
   },
   {
    "duration": 43,
    "start_time": "2021-12-10T08:59:25.877Z"
   },
   {
    "duration": 51,
    "start_time": "2021-12-10T08:59:26.238Z"
   },
   {
    "duration": 11,
    "start_time": "2021-12-10T08:59:26.410Z"
   },
   {
    "duration": 16,
    "start_time": "2021-12-10T08:59:26.952Z"
   },
   {
    "duration": 59,
    "start_time": "2021-12-10T08:59:27.610Z"
   },
   {
    "duration": 656,
    "start_time": "2021-12-10T08:59:28.373Z"
   },
   {
    "duration": 5,
    "start_time": "2021-12-10T08:59:29.032Z"
   },
   {
    "duration": 3215,
    "start_time": "2021-12-10T08:59:29.937Z"
   },
   {
    "duration": 6,
    "start_time": "2021-12-10T08:59:33.154Z"
   },
   {
    "duration": 242,
    "start_time": "2021-12-10T08:59:33.162Z"
   },
   {
    "duration": 4,
    "start_time": "2021-12-10T08:59:36.045Z"
   },
   {
    "duration": 27,
    "start_time": "2021-12-10T08:59:38.325Z"
   },
   {
    "duration": 3,
    "start_time": "2021-12-10T09:12:33.832Z"
   },
   {
    "duration": 4,
    "start_time": "2021-12-10T09:13:15.925Z"
   },
   {
    "duration": 437,
    "start_time": "2021-12-10T09:13:16.741Z"
   },
   {
    "duration": 4,
    "start_time": "2021-12-10T09:13:57.964Z"
   },
   {
    "duration": 26,
    "start_time": "2021-12-10T09:13:59.035Z"
   },
   {
    "duration": 28,
    "start_time": "2021-12-10T09:17:52.864Z"
   },
   {
    "duration": 29,
    "start_time": "2021-12-10T09:18:00.320Z"
   },
   {
    "duration": 28,
    "start_time": "2021-12-10T09:18:27.857Z"
   },
   {
    "duration": 223,
    "start_time": "2021-12-10T09:38:12.415Z"
   },
   {
    "duration": 230,
    "start_time": "2021-12-10T09:38:23.193Z"
   },
   {
    "duration": 32,
    "start_time": "2021-12-10T09:38:40.012Z"
   },
   {
    "duration": 233,
    "start_time": "2021-12-10T09:39:01.177Z"
   },
   {
    "duration": 31,
    "start_time": "2021-12-10T09:39:07.645Z"
   },
   {
    "duration": 243,
    "start_time": "2021-12-10T09:40:30.104Z"
   },
   {
    "duration": 39,
    "start_time": "2021-12-10T09:40:45.595Z"
   },
   {
    "duration": 226,
    "start_time": "2021-12-10T09:41:05.602Z"
   },
   {
    "duration": 29,
    "start_time": "2021-12-10T09:41:24.200Z"
   },
   {
    "duration": 578,
    "start_time": "2021-12-10T21:15:52.949Z"
   },
   {
    "duration": 10,
    "start_time": "2021-12-10T21:15:53.529Z"
   },
   {
    "duration": 16,
    "start_time": "2021-12-10T21:15:53.542Z"
   },
   {
    "duration": 33,
    "start_time": "2021-12-10T21:15:53.559Z"
   },
   {
    "duration": 11,
    "start_time": "2021-12-10T21:15:53.594Z"
   },
   {
    "duration": 8,
    "start_time": "2021-12-10T21:15:53.607Z"
   },
   {
    "duration": 8,
    "start_time": "2021-12-10T21:15:53.616Z"
   },
   {
    "duration": 11,
    "start_time": "2021-12-10T21:15:53.626Z"
   },
   {
    "duration": 3,
    "start_time": "2021-12-10T21:15:53.639Z"
   },
   {
    "duration": 10,
    "start_time": "2021-12-10T21:15:53.644Z"
   },
   {
    "duration": 38,
    "start_time": "2021-12-10T21:15:53.655Z"
   },
   {
    "duration": 49,
    "start_time": "2021-12-10T21:15:53.694Z"
   },
   {
    "duration": 64,
    "start_time": "2021-12-10T21:15:53.744Z"
   },
   {
    "duration": 47,
    "start_time": "2021-12-10T21:15:53.810Z"
   },
   {
    "duration": 10,
    "start_time": "2021-12-10T21:15:53.859Z"
   },
   {
    "duration": 14,
    "start_time": "2021-12-10T21:15:53.891Z"
   },
   {
    "duration": 58,
    "start_time": "2021-12-10T21:15:53.907Z"
   },
   {
    "duration": 698,
    "start_time": "2021-12-10T21:15:53.967Z"
   },
   {
    "duration": 6,
    "start_time": "2021-12-10T21:15:54.666Z"
   },
   {
    "duration": 3609,
    "start_time": "2021-12-10T21:15:54.673Z"
   },
   {
    "duration": 7,
    "start_time": "2021-12-10T21:15:58.292Z"
   },
   {
    "duration": 232,
    "start_time": "2021-12-10T21:15:58.300Z"
   },
   {
    "duration": 4,
    "start_time": "2021-12-10T21:15:58.535Z"
   },
   {
    "duration": 33,
    "start_time": "2021-12-10T21:15:58.540Z"
   },
   {
    "duration": 39,
    "start_time": "2021-12-10T21:15:58.574Z"
   },
   {
    "duration": 28,
    "start_time": "2021-12-10T21:15:58.614Z"
   },
   {
    "duration": 48,
    "start_time": "2021-12-10T21:15:58.644Z"
   },
   {
    "duration": 160,
    "start_time": "2021-12-10T21:35:11.265Z"
   },
   {
    "duration": 57,
    "start_time": "2021-12-10T21:56:22.329Z"
   },
   {
    "duration": 640,
    "start_time": "2021-12-10T23:13:36.267Z"
   },
   {
    "duration": 10,
    "start_time": "2021-12-10T23:13:36.909Z"
   },
   {
    "duration": 19,
    "start_time": "2021-12-10T23:13:36.924Z"
   },
   {
    "duration": 10,
    "start_time": "2021-12-10T23:13:36.945Z"
   },
   {
    "duration": 46,
    "start_time": "2021-12-10T23:13:36.956Z"
   },
   {
    "duration": 8,
    "start_time": "2021-12-10T23:13:37.004Z"
   },
   {
    "duration": 8,
    "start_time": "2021-12-10T23:13:37.014Z"
   },
   {
    "duration": 10,
    "start_time": "2021-12-10T23:13:37.024Z"
   },
   {
    "duration": 4,
    "start_time": "2021-12-10T23:13:37.035Z"
   },
   {
    "duration": 10,
    "start_time": "2021-12-10T23:13:37.041Z"
   },
   {
    "duration": 40,
    "start_time": "2021-12-10T23:13:37.053Z"
   },
   {
    "duration": 50,
    "start_time": "2021-12-10T23:13:37.095Z"
   },
   {
    "duration": 63,
    "start_time": "2021-12-10T23:13:37.147Z"
   },
   {
    "duration": 47,
    "start_time": "2021-12-10T23:13:37.212Z"
   },
   {
    "duration": 31,
    "start_time": "2021-12-10T23:13:37.261Z"
   },
   {
    "duration": 15,
    "start_time": "2021-12-10T23:13:37.293Z"
   },
   {
    "duration": 86,
    "start_time": "2021-12-10T23:13:37.309Z"
   },
   {
    "duration": 677,
    "start_time": "2021-12-10T23:13:37.396Z"
   },
   {
    "duration": 4,
    "start_time": "2021-12-10T23:13:38.075Z"
   },
   {
    "duration": 3335,
    "start_time": "2021-12-10T23:13:38.081Z"
   },
   {
    "duration": 7,
    "start_time": "2021-12-10T23:13:41.417Z"
   },
   {
    "duration": 235,
    "start_time": "2021-12-10T23:13:41.427Z"
   },
   {
    "duration": 3,
    "start_time": "2021-12-10T23:13:41.664Z"
   },
   {
    "duration": 40,
    "start_time": "2021-12-10T23:13:41.669Z"
   },
   {
    "duration": 27,
    "start_time": "2021-12-10T23:13:41.711Z"
   },
   {
    "duration": 29,
    "start_time": "2021-12-10T23:13:41.740Z"
   },
   {
    "duration": 47,
    "start_time": "2021-12-10T23:13:41.770Z"
   },
   {
    "duration": 227,
    "start_time": "2021-12-11T08:25:06.692Z"
   },
   {
    "duration": 326,
    "start_time": "2021-12-11T08:27:02.716Z"
   },
   {
    "duration": 65,
    "start_time": "2021-12-11T08:27:03.782Z"
   },
   {
    "duration": 13,
    "start_time": "2021-12-11T08:27:04.752Z"
   },
   {
    "duration": 16,
    "start_time": "2021-12-11T08:27:05.467Z"
   },
   {
    "duration": 9,
    "start_time": "2021-12-11T08:27:11.262Z"
   },
   {
    "duration": 10,
    "start_time": "2021-12-11T08:27:12.151Z"
   },
   {
    "duration": 7,
    "start_time": "2021-12-11T08:27:12.672Z"
   },
   {
    "duration": 8,
    "start_time": "2021-12-11T08:27:15.235Z"
   },
   {
    "duration": 12,
    "start_time": "2021-12-11T08:27:15.671Z"
   },
   {
    "duration": 3,
    "start_time": "2021-12-11T08:27:18.254Z"
   },
   {
    "duration": 11,
    "start_time": "2021-12-11T08:27:18.838Z"
   },
   {
    "duration": 3,
    "start_time": "2021-12-11T08:27:19.699Z"
   },
   {
    "duration": 42,
    "start_time": "2021-12-11T08:27:20.633Z"
   },
   {
    "duration": 41,
    "start_time": "2021-12-11T08:27:21.173Z"
   },
   {
    "duration": 45,
    "start_time": "2021-12-11T08:27:21.874Z"
   },
   {
    "duration": 10,
    "start_time": "2021-12-11T08:27:22.718Z"
   },
   {
    "duration": 13,
    "start_time": "2021-12-11T08:27:23.545Z"
   },
   {
    "duration": 52,
    "start_time": "2021-12-11T08:27:24.546Z"
   },
   {
    "duration": 588,
    "start_time": "2021-12-11T08:27:26.678Z"
   },
   {
    "duration": 5,
    "start_time": "2021-12-11T08:27:28.136Z"
   },
   {
    "duration": 3277,
    "start_time": "2021-12-11T08:27:31.758Z"
   },
   {
    "duration": 6,
    "start_time": "2021-12-11T08:27:35.037Z"
   },
   {
    "duration": 225,
    "start_time": "2021-12-11T08:27:35.044Z"
   },
   {
    "duration": 4,
    "start_time": "2021-12-11T08:27:42.401Z"
   },
   {
    "duration": 29,
    "start_time": "2021-12-11T08:27:43.130Z"
   },
   {
    "duration": 26,
    "start_time": "2021-12-11T08:27:46.931Z"
   },
   {
    "duration": 26,
    "start_time": "2021-12-11T08:27:48.168Z"
   },
   {
    "duration": 26,
    "start_time": "2021-12-11T08:27:49.257Z"
   },
   {
    "duration": 11,
    "start_time": "2021-12-11T08:29:53.386Z"
   },
   {
    "duration": 674,
    "start_time": "2021-12-11T11:31:36.335Z"
   },
   {
    "duration": 86,
    "start_time": "2021-12-11T11:31:37.011Z"
   },
   {
    "duration": 17,
    "start_time": "2021-12-11T11:31:37.282Z"
   },
   {
    "duration": 21,
    "start_time": "2021-12-11T11:31:37.747Z"
   },
   {
    "duration": 11,
    "start_time": "2021-12-11T11:31:38.515Z"
   },
   {
    "duration": 17,
    "start_time": "2021-12-11T11:31:39.218Z"
   },
   {
    "duration": 10,
    "start_time": "2021-12-11T11:31:39.616Z"
   },
   {
    "duration": 12,
    "start_time": "2021-12-11T11:31:42.008Z"
   },
   {
    "duration": 13,
    "start_time": "2021-12-11T11:31:42.419Z"
   },
   {
    "duration": 4,
    "start_time": "2021-12-11T11:31:43.988Z"
   },
   {
    "duration": 10,
    "start_time": "2021-12-11T11:31:44.471Z"
   },
   {
    "duration": 3,
    "start_time": "2021-12-11T11:31:45.746Z"
   },
   {
    "duration": 40,
    "start_time": "2021-12-11T11:31:47.103Z"
   },
   {
    "duration": 39,
    "start_time": "2021-12-11T11:31:47.683Z"
   },
   {
    "duration": 42,
    "start_time": "2021-12-11T11:31:48.277Z"
   },
   {
    "duration": 9,
    "start_time": "2021-12-11T11:31:49.642Z"
   },
   {
    "duration": 13,
    "start_time": "2021-12-11T11:31:50.616Z"
   },
   {
    "duration": 53,
    "start_time": "2021-12-11T11:31:51.613Z"
   },
   {
    "duration": 607,
    "start_time": "2021-12-11T11:31:52.933Z"
   },
   {
    "duration": 5,
    "start_time": "2021-12-11T11:31:53.644Z"
   },
   {
    "duration": 3270,
    "start_time": "2021-12-11T11:31:54.896Z"
   },
   {
    "duration": 7,
    "start_time": "2021-12-11T11:31:58.168Z"
   },
   {
    "duration": 220,
    "start_time": "2021-12-11T11:31:58.188Z"
   },
   {
    "duration": 4,
    "start_time": "2021-12-11T11:32:13.346Z"
   },
   {
    "duration": 25,
    "start_time": "2021-12-11T11:32:14.541Z"
   },
   {
    "duration": 25,
    "start_time": "2021-12-11T11:32:17.900Z"
   },
   {
    "duration": 26,
    "start_time": "2021-12-11T11:32:19.257Z"
   },
   {
    "duration": 25,
    "start_time": "2021-12-11T11:32:19.966Z"
   },
   {
    "duration": 650,
    "start_time": "2022-06-15T17:33:47.444Z"
   },
   {
    "duration": 214,
    "start_time": "2022-06-15T17:33:48.097Z"
   },
   {
    "duration": 27,
    "start_time": "2022-06-15T17:33:48.313Z"
   },
   {
    "duration": 46,
    "start_time": "2022-06-15T17:33:48.343Z"
   },
   {
    "duration": 16,
    "start_time": "2022-06-15T17:33:48.392Z"
   },
   {
    "duration": 21,
    "start_time": "2022-06-15T17:33:48.411Z"
   },
   {
    "duration": 46,
    "start_time": "2022-06-15T17:33:48.435Z"
   },
   {
    "duration": 15,
    "start_time": "2022-06-15T17:33:48.485Z"
   },
   {
    "duration": 16,
    "start_time": "2022-06-15T17:33:48.502Z"
   },
   {
    "duration": 7,
    "start_time": "2022-06-15T17:33:48.523Z"
   },
   {
    "duration": 20,
    "start_time": "2022-06-15T17:33:48.532Z"
   },
   {
    "duration": 31,
    "start_time": "2022-06-15T17:33:48.554Z"
   },
   {
    "duration": 90,
    "start_time": "2022-06-15T17:33:48.587Z"
   },
   {
    "duration": 68,
    "start_time": "2022-06-15T17:33:48.687Z"
   },
   {
    "duration": 93,
    "start_time": "2022-06-15T17:33:48.757Z"
   },
   {
    "duration": 45,
    "start_time": "2022-06-15T17:33:48.852Z"
   },
   {
    "duration": 39,
    "start_time": "2022-06-15T17:33:48.899Z"
   },
   {
    "duration": 128,
    "start_time": "2022-06-15T17:33:48.943Z"
   },
   {
    "duration": 1680,
    "start_time": "2022-06-15T17:33:49.075Z"
   },
   {
    "duration": 12,
    "start_time": "2022-06-15T17:33:50.761Z"
   },
   {
    "duration": 6007,
    "start_time": "2022-06-15T17:33:50.780Z"
   },
   {
    "duration": 14,
    "start_time": "2022-06-15T17:33:56.794Z"
   },
   {
    "duration": 251,
    "start_time": "2022-06-15T17:33:56.811Z"
   },
   {
    "duration": 5,
    "start_time": "2022-06-15T17:33:57.067Z"
   },
   {
    "duration": 79,
    "start_time": "2022-06-15T17:33:57.077Z"
   },
   {
    "duration": 63,
    "start_time": "2022-06-15T17:33:57.162Z"
   },
   {
    "duration": 66,
    "start_time": "2022-06-15T17:33:57.227Z"
   },
   {
    "duration": 36,
    "start_time": "2022-06-15T17:33:57.298Z"
   }
  ],
  "kernelspec": {
   "display_name": "Python 3 (ipykernel)",
   "language": "python",
   "name": "python3"
  },
  "language_info": {
   "codemirror_mode": {
    "name": "ipython",
    "version": 3
   },
   "file_extension": ".py",
   "mimetype": "text/x-python",
   "name": "python",
   "nbconvert_exporter": "python",
   "pygments_lexer": "ipython3",
   "version": "3.9.12"
  },
  "toc": {
   "base_numbering": 1,
   "nav_menu": {},
   "number_sections": true,
   "sideBar": true,
   "skip_h1_title": true,
   "title_cell": "Table of Contents",
   "title_sidebar": "Contents",
   "toc_cell": false,
   "toc_position": {},
   "toc_section_display": true,
   "toc_window_display": true
  }
 },
 "nbformat": 4,
 "nbformat_minor": 2
}
